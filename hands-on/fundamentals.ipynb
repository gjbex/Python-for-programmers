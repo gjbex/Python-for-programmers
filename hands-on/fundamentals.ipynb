{
 "cells": [
  {
   "cell_type": "markdown",
   "id": "476ea28d-cb75-4ebf-9b50-359adf1879c3",
   "metadata": {},
   "source": [
    "## Generating data"
   ]
  },
  {
   "cell_type": "markdown",
   "id": "6ff74021-98f7-4ddb-9896-cccefeb153bd",
   "metadata": {},
   "source": [
    "Consider the following data file."
   ]
  },
  {
   "cell_type": "code",
   "execution_count": 1,
   "id": "d00ca0af-79b9-4dff-8e75-fcd5c813ce95",
   "metadata": {},
   "outputs": [
    {
     "name": "stdout",
     "output_type": "stream",
     "text": [
      "case dim temperature\n",
      "1 1 -0.5\n",
      "2 1 0.0\n",
      "3 1 0.5\n",
      "4 2 -0.5\n",
      "5 2 0.0\n",
      "6 2 0.5\n",
      "7 3 -0.5\n",
      "8 3 0.0\n",
      "9 3 0.5\n"
     ]
    }
   ],
   "source": [
    "%cat data/measurement.txt"
   ]
  },
  {
   "cell_type": "markdown",
   "id": "248de700-e060-4f5c-ab5a-98a921ffd577",
   "metadata": {},
   "source": [
    "Write Python code that generates this output in the notebook."
   ]
  },
  {
   "cell_type": "code",
   "execution_count": 2,
   "id": "2bcaf532-15bc-4cd7-b1c3-36b7716b4c34",
   "metadata": {
    "scrolled": true
   },
   "outputs": [
    {
     "name": "stdout",
     "output_type": "stream",
     "text": [
      "case dim temperature\n",
      "1 1 -0.5\n",
      "2 1 0.0\n",
      "3 1 0.5\n",
      "4 2 -0.5\n",
      "5 2 0.0\n",
      "6 2 0.5\n",
      "7 3 -0.5\n",
      "8 3 0.0\n",
      "9 3 0.5\n"
     ]
    }
   ],
   "source": [
    "print('case dim temperature')\n",
    "case = 0\n",
    "for dim in range(1, 4):\n",
    "    for temperature in [-0.5, 0.0, 0.5]:\n",
    "        case += 1\n",
    "        print(f'{case} {dim} {temperature}')"
   ]
  },
  {
   "cell_type": "markdown",
   "id": "f3b9be50-cc9b-4a8e-b60b-d72f26db7d1b",
   "metadata": {},
   "source": [
    "## Lists"
   ]
  },
  {
   "cell_type": "markdown",
   "id": "382dca4f-1082-468f-8517-03a0c20e0527",
   "metadata": {},
   "source": [
    "Start from the following list of two elements, the strings `'a'` and `'b'`."
   ]
  },
  {
   "cell_type": "code",
   "execution_count": 3,
   "id": "a3d86b17-8214-4dd9-a591-cb433bb324df",
   "metadata": {},
   "outputs": [],
   "source": [
    "l = ['a', 'b']"
   ]
  },
  {
   "cell_type": "markdown",
   "id": "ab144be5-a7f4-4b81-a00f-7eb2371e9984",
   "metadata": {},
   "source": [
    "Find the length of the list."
   ]
  },
  {
   "cell_type": "code",
   "execution_count": 4,
   "id": "aa2b535c-0caa-4107-931a-5e20e76c0a00",
   "metadata": {},
   "outputs": [
    {
     "data": {
      "text/plain": [
       "2"
      ]
     },
     "execution_count": 4,
     "metadata": {},
     "output_type": "execute_result"
    }
   ],
   "source": [
    "len(l)"
   ]
  },
  {
   "cell_type": "markdown",
   "id": "5a00ebb7-22f3-461f-99dc-ac971e20a580",
   "metadata": {},
   "source": [
    "Append a new element `'c'` to the list."
   ]
  },
  {
   "cell_type": "code",
   "execution_count": 5,
   "id": "0085b98a-0b5d-4698-8617-2bc858b61e17",
   "metadata": {},
   "outputs": [],
   "source": [
    "l.append('c')"
   ]
  },
  {
   "cell_type": "markdown",
   "id": "2db571e2-6ac3-4a0e-91ca-659bbcde294c",
   "metadata": {},
   "source": [
    "Remove the last element of the list."
   ]
  },
  {
   "cell_type": "code",
   "execution_count": 6,
   "id": "2eca8fa5-107e-473f-a5ea-20fcfb87272c",
   "metadata": {},
   "outputs": [
    {
     "data": {
      "text/plain": [
       "'c'"
      ]
     },
     "execution_count": 6,
     "metadata": {},
     "output_type": "execute_result"
    }
   ],
   "source": [
    "l.pop()"
   ]
  },
  {
   "cell_type": "markdown",
   "id": "c7c57ae6-7d7a-4519-a12a-cff657234dfc",
   "metadata": {},
   "source": [
    "Insert `'c'` at index 1 of the list."
   ]
  },
  {
   "cell_type": "code",
   "execution_count": 7,
   "id": "cf64811f-c86d-4a68-9a7c-765ad79db5bf",
   "metadata": {},
   "outputs": [
    {
     "data": {
      "text/plain": [
       "['a', 'c', 'b']"
      ]
     },
     "execution_count": 7,
     "metadata": {},
     "output_type": "execute_result"
    }
   ],
   "source": [
    "l.insert(1, 'c')\n",
    "l"
   ]
  },
  {
   "cell_type": "markdown",
   "id": "b8d6ec27-4f10-41b6-8c5c-0cd791c60177",
   "metadata": {},
   "source": [
    "Remove the element at index 1 from the list."
   ]
  },
  {
   "cell_type": "code",
   "execution_count": 8,
   "id": "1befd12b-bf37-4e8d-8f0f-30d9d9c5bb25",
   "metadata": {},
   "outputs": [
    {
     "data": {
      "text/plain": [
       "['a', 'b']"
      ]
     },
     "execution_count": 8,
     "metadata": {},
     "output_type": "execute_result"
    }
   ],
   "source": [
    "l.pop(1)\n",
    "l"
   ]
  },
  {
   "cell_type": "markdown",
   "id": "6380b172-b297-4e98-86bc-32611accb966",
   "metadata": {},
   "source": [
    "Extend the list with the list `['c', 'd']]`."
   ]
  },
  {
   "cell_type": "code",
   "execution_count": 9,
   "id": "97245c4b-5966-4e8b-b72b-b093a3c4c63d",
   "metadata": {},
   "outputs": [
    {
     "data": {
      "text/plain": [
       "['a', 'b', 'c', 'd']"
      ]
     },
     "execution_count": 9,
     "metadata": {},
     "output_type": "execute_result"
    }
   ],
   "source": [
    "l.extend(['c', 'd'])\n",
    "l"
   ]
  },
  {
   "cell_type": "code",
   "execution_count": 10,
   "id": "cbb88015-bb94-4244-9a84-e57b9653723a",
   "metadata": {},
   "outputs": [],
   "source": [
    "assert l == ['a', 'b', 'c', 'd'], f'got {l}'"
   ]
  },
  {
   "cell_type": "markdown",
   "id": "c57430a7-eea5-4fdd-88f1-abdb86f62861",
   "metadata": {},
   "source": [
    "Get the first element of the list."
   ]
  },
  {
   "cell_type": "code",
   "execution_count": 11,
   "id": "e08b395a-a6fb-4234-8356-2574a6d5d995",
   "metadata": {},
   "outputs": [
    {
     "data": {
      "text/plain": [
       "'a'"
      ]
     },
     "execution_count": 11,
     "metadata": {},
     "output_type": "execute_result"
    }
   ],
   "source": [
    "v = l[0]\n",
    "v"
   ]
  },
  {
   "cell_type": "code",
   "execution_count": 12,
   "id": "73d00a2f-4983-4573-ab9f-23bef2b6ef8b",
   "metadata": {},
   "outputs": [],
   "source": [
    "assert v == 'a', f'got {v}'"
   ]
  },
  {
   "cell_type": "markdown",
   "id": "347f84f8-d1bb-4453-ae98-4a4c8573b5f1",
   "metadata": {},
   "source": [
    "Get the second element of the list."
   ]
  },
  {
   "cell_type": "code",
   "execution_count": 13,
   "id": "cb95b65c-2736-454e-9fe7-417d0f931a53",
   "metadata": {},
   "outputs": [
    {
     "data": {
      "text/plain": [
       "'b'"
      ]
     },
     "execution_count": 13,
     "metadata": {},
     "output_type": "execute_result"
    }
   ],
   "source": [
    "l[1]"
   ]
  },
  {
   "cell_type": "markdown",
   "id": "81f50945-9e39-48fe-a000-6e317f119f9f",
   "metadata": {},
   "source": [
    "Get the last element of the list."
   ]
  },
  {
   "cell_type": "code",
   "execution_count": 14,
   "id": "6d426937-2733-4826-8bce-2e8f1ad4fae7",
   "metadata": {},
   "outputs": [
    {
     "data": {
      "text/plain": [
       "'d'"
      ]
     },
     "execution_count": 14,
     "metadata": {},
     "output_type": "execute_result"
    }
   ],
   "source": [
    "v = l[-1]\n",
    "v"
   ]
  },
  {
   "cell_type": "code",
   "execution_count": 15,
   "id": "573dd1f7-4438-4452-9c9e-966be22690c6",
   "metadata": {},
   "outputs": [],
   "source": [
    "assert v == 'd', f'got {v}'"
   ]
  },
  {
   "cell_type": "markdown",
   "id": "96ea5d9c-a51a-4a03-bf9d-b05b3bb315a2",
   "metadata": {},
   "source": [
    "Get the one before last element."
   ]
  },
  {
   "cell_type": "code",
   "execution_count": 16,
   "id": "27895fbd-a0b1-4820-8bb8-73450a528ae3",
   "metadata": {},
   "outputs": [
    {
     "data": {
      "text/plain": [
       "'c'"
      ]
     },
     "execution_count": 16,
     "metadata": {},
     "output_type": "execute_result"
    }
   ],
   "source": [
    "v = l[-2]\n",
    "v"
   ]
  },
  {
   "cell_type": "code",
   "execution_count": 17,
   "id": "4652f2d6-9e93-4d9a-8873-155bc45286e6",
   "metadata": {},
   "outputs": [],
   "source": [
    "assert v == 'c', f'got {v}'"
   ]
  },
  {
   "cell_type": "markdown",
   "id": "b9bdf75d-9b47-4488-940c-29ddfb3d7599",
   "metadata": {},
   "source": [
    "Replace the third wlement by `'?'`."
   ]
  },
  {
   "cell_type": "code",
   "execution_count": 18,
   "id": "179cf6c4-407d-4fd5-9ded-0e38529c3315",
   "metadata": {},
   "outputs": [],
   "source": [
    "l[2] = '?'"
   ]
  },
  {
   "cell_type": "code",
   "execution_count": 19,
   "id": "006d23ed-bba6-4d51-bc7b-91156fbdfd06",
   "metadata": {},
   "outputs": [],
   "source": [
    "assert l == ['a', 'b', '?', 'd'], f'got {l}'"
   ]
  },
  {
   "cell_type": "markdown",
   "id": "806f87a2-deb8-47e8-8480-f071f3b50daa",
   "metadata": {},
   "source": [
    "Create a list with the elements 1 to 5."
   ]
  },
  {
   "cell_type": "code",
   "execution_count": 20,
   "id": "f5850308-1d99-42c8-aed5-f5855d156c6d",
   "metadata": {},
   "outputs": [
    {
     "data": {
      "text/plain": [
       "[1, 2, 3, 4, 5]"
      ]
     },
     "execution_count": 20,
     "metadata": {},
     "output_type": "execute_result"
    }
   ],
   "source": [
    "numbers = list(range(1, 6))\n",
    "numbers"
   ]
  },
  {
   "cell_type": "markdown",
   "id": "7ab13a81-552b-49e9-b962-47b64def42b6",
   "metadata": {},
   "source": [
    "Create a list that contains the third up to and including the fourth element of that list."
   ]
  },
  {
   "cell_type": "code",
   "execution_count": 21,
   "id": "35144f4c-8d06-4911-baf7-56693fd029a8",
   "metadata": {},
   "outputs": [
    {
     "data": {
      "text/plain": [
       "[3, 4]"
      ]
     },
     "execution_count": 21,
     "metadata": {},
     "output_type": "execute_result"
    }
   ],
   "source": [
    "sub_list = numbers[2:4]\n",
    "sub_list"
   ]
  },
  {
   "cell_type": "code",
   "execution_count": 22,
   "id": "724c9b55-50b1-4dee-a4f7-e5c10a47acf4",
   "metadata": {},
   "outputs": [],
   "source": [
    "assert sub_list == [3, 4], f'got {sublist}'"
   ]
  },
  {
   "cell_type": "markdown",
   "id": "cb1759d1-d63d-40e8-a880-40e2f10d3e8a",
   "metadata": {},
   "source": [
    "Create a sublist that constains the first three elements of the list."
   ]
  },
  {
   "cell_type": "code",
   "execution_count": 23,
   "id": "f1260453-30b9-4c1b-8a9b-1e2ce4453b14",
   "metadata": {},
   "outputs": [
    {
     "data": {
      "text/plain": [
       "[1, 2, 3]"
      ]
     },
     "execution_count": 23,
     "metadata": {},
     "output_type": "execute_result"
    }
   ],
   "source": [
    "sub_list = numbers[:3]\n",
    "sub_list"
   ]
  },
  {
   "cell_type": "code",
   "execution_count": 24,
   "id": "ed83b03e-7686-4f3c-9e35-22a8ad29f97e",
   "metadata": {},
   "outputs": [],
   "source": [
    "assert sub_list == [1, 2, 3], f'got {sublist}'"
   ]
  },
  {
   "cell_type": "markdown",
   "id": "5fba7fbc-172a-4493-959f-baba98c5cfbc",
   "metadata": {},
   "source": [
    "Create a sublist that contains all elements of the list, starting from the third."
   ]
  },
  {
   "cell_type": "code",
   "execution_count": 25,
   "id": "15d6fa47-8f54-4592-b9e4-20e243f2df93",
   "metadata": {},
   "outputs": [
    {
     "data": {
      "text/plain": [
       "[3, 4, 5]"
      ]
     },
     "execution_count": 25,
     "metadata": {},
     "output_type": "execute_result"
    }
   ],
   "source": [
    "sub_list = numbers[2:]\n",
    "sub_list"
   ]
  },
  {
   "cell_type": "code",
   "execution_count": 26,
   "id": "9a71424f-0af4-499e-ab50-2b3c0c90943c",
   "metadata": {},
   "outputs": [],
   "source": [
    "assert sub_list == [3, 4, 5]"
   ]
  },
  {
   "cell_type": "markdown",
   "id": "2dbbd062-2ea6-4891-aea0-88e9ebd3e2b7",
   "metadata": {},
   "source": [
    "Create a sublist that contains every second element of the original list."
   ]
  },
  {
   "cell_type": "code",
   "execution_count": 27,
   "id": "3a073438-224d-41d8-bdbb-e419ab6208bf",
   "metadata": {},
   "outputs": [
    {
     "data": {
      "text/plain": [
       "[1, 3, 5]"
      ]
     },
     "execution_count": 27,
     "metadata": {},
     "output_type": "execute_result"
    }
   ],
   "source": [
    "sub_list = numbers[::2]\n",
    "sub_list"
   ]
  },
  {
   "cell_type": "code",
   "execution_count": 28,
   "id": "a8af30e8-2d78-4cf0-9cfa-2ccb8816b76e",
   "metadata": {},
   "outputs": [],
   "source": [
    "assert sub_list == [1, 3, 5], f'got {sublist}'"
   ]
  },
  {
   "cell_type": "markdown",
   "id": "c96626cf-3104-47b6-87ec-9b5e147c848a",
   "metadata": {},
   "source": [
    "Create a sublist with the last up to the third element of the original list."
   ]
  },
  {
   "cell_type": "code",
   "execution_count": 29,
   "id": "26e5bfc9-3c65-4f88-bd31-7a0bf03d5331",
   "metadata": {},
   "outputs": [
    {
     "data": {
      "text/plain": [
       "[5, 4, 3]"
      ]
     },
     "execution_count": 29,
     "metadata": {},
     "output_type": "execute_result"
    }
   ],
   "source": [
    "sub_list = numbers[-1:-1 - 3:-1]\n",
    "sub_list"
   ]
  },
  {
   "cell_type": "code",
   "execution_count": 30,
   "id": "ff16c17d-964a-4a9a-8f1f-9d127e84e859",
   "metadata": {},
   "outputs": [],
   "source": [
    "assert sub_list == [5, 4, 3], f'got {sublist}'"
   ]
  },
  {
   "cell_type": "markdown",
   "id": "b813bf4b-70b7-4978-b38c-05e2f3b3d88c",
   "metadata": {},
   "source": [
    "Create a list that is the reverse of the original list."
   ]
  },
  {
   "cell_type": "code",
   "execution_count": 31,
   "id": "349bda70-d65b-444f-b068-882703dbf61e",
   "metadata": {},
   "outputs": [
    {
     "data": {
      "text/plain": [
       "[5, 4, 3, 2, 1]"
      ]
     },
     "execution_count": 31,
     "metadata": {},
     "output_type": "execute_result"
    }
   ],
   "source": [
    "reversed_numbers = numbers[::-1]\n",
    "reversed_numbers"
   ]
  },
  {
   "cell_type": "code",
   "execution_count": 32,
   "id": "75464e80-3046-4d8a-ab8b-32d5f0d8e209",
   "metadata": {},
   "outputs": [],
   "source": [
    "assert list(reversed(numbers)) == reversed_numbers, f'got {reversed_numbers}'"
   ]
  },
  {
   "cell_type": "markdown",
   "id": "2df4126c-d0be-4354-9972-27d2335c6a5a",
   "metadata": {},
   "source": [
    "Assign `'a'`, `'b'`, '`c`' to the first, third and last element of the list."
   ]
  },
  {
   "cell_type": "code",
   "execution_count": 33,
   "id": "28d50c8a-64f6-4f75-b82b-316dae2e7265",
   "metadata": {},
   "outputs": [],
   "source": [
    "numbers[::2] = 'a', 'b', 'c'"
   ]
  },
  {
   "cell_type": "code",
   "execution_count": 34,
   "id": "c87fb75f-88f6-4432-b782-a0c3d9759a28",
   "metadata": {},
   "outputs": [],
   "source": [
    "assert numbers == ['a', 2, 'b', 4, 'c'], f'got {numbers}'"
   ]
  },
  {
   "cell_type": "markdown",
   "id": "4a46303f-67ca-45d7-a67d-11abd83a5f23",
   "metadata": {},
   "source": [
    "## List comprehensions"
   ]
  },
  {
   "cell_type": "markdown",
   "id": "2f246ba8-4dc3-499d-89f0-3711f9a86c56",
   "metadata": {},
   "source": [
    "Create a list using a comprehension with the elements -1.5, -1.0, ..., 1.0, 1.5."
   ]
  },
  {
   "cell_type": "code",
   "execution_count": 35,
   "id": "d5c6bf9a-af30-498d-a0aa-8648762a0f87",
   "metadata": {},
   "outputs": [],
   "source": [
    "numbers = [0.5*x for x in range(-3, 4)]"
   ]
  },
  {
   "cell_type": "code",
   "execution_count": 36,
   "id": "45463aba-d6f3-40f1-8d80-f2044839bfc5",
   "metadata": {},
   "outputs": [],
   "source": [
    "assert numbers == [-1.5, -1.0, -0.5, 0.0, 0.5, 1.0, 1.5], f'got {numbers}'"
   ]
  },
  {
   "cell_type": "markdown",
   "id": "66c4b6d9-190d-44d0-aa17-dbefcc9d915f",
   "metadata": {},
   "source": [
    "## String formatting"
   ]
  },
  {
   "cell_type": "markdown",
   "id": "658bb654-f15b-4bf7-9bb1-89cb1deedd0b",
   "metadata": {},
   "source": [
    "Print the value of $\\pi$ with 3 digits after the decimal dot."
   ]
  },
  {
   "cell_type": "code",
   "execution_count": 37,
   "id": "d350ffc5-cfe3-4dbe-be0b-26ecfac3a8b9",
   "metadata": {},
   "outputs": [],
   "source": [
    "import math"
   ]
  },
  {
   "cell_type": "code",
   "execution_count": 38,
   "id": "8a77f9e7-cde6-4a6d-9cc0-fe0f97cb2d92",
   "metadata": {},
   "outputs": [
    {
     "name": "stdout",
     "output_type": "stream",
     "text": [
      "3.142\n"
     ]
    }
   ],
   "source": [
    "print(f'{math.pi:.3f}')"
   ]
  },
  {
   "cell_type": "markdown",
   "id": "101e719d-eb86-4723-acfe-b71002f9dee4",
   "metadata": {},
   "source": [
    "Print a two-column table, columns seperated by tabs.  The first column shows the numbers from 0 to 10 as floating point values with one digit (always 0 in this case) and their square root to a precision of 5 digits after the decimal dot.  For bonus points, ensure that the values are aligned on the decimal dot."
   ]
  },
  {
   "cell_type": "code",
   "execution_count": 39,
   "id": "5cd6d1dc-10e4-4b60-a792-f61262db1533",
   "metadata": {},
   "outputs": [
    {
     "name": "stdout",
     "output_type": "stream",
     "text": [
      " 0.0\t   0.00000\n",
      " 1.0\t   1.00000\n",
      " 2.0\t   1.41421\n",
      " 3.0\t   1.73205\n",
      " 4.0\t   2.00000\n",
      " 5.0\t   2.23607\n",
      " 6.0\t   2.44949\n",
      " 7.0\t   2.64575\n",
      " 8.0\t   2.82843\n",
      " 9.0\t   3.00000\n",
      "10.0\t   3.16228\n"
     ]
    }
   ],
   "source": [
    "for x in (float(x) for x in range(11)):\n",
    "    print(f'{x:>4.1f}\\t{math.sqrt(x):>10.5f}')"
   ]
  },
  {
   "cell_type": "markdown",
   "id": "97012fe7-5087-4edb-ace3-97e56b849b2b",
   "metadata": {},
   "source": [
    "## Modifying data"
   ]
  },
  {
   "cell_type": "markdown",
   "id": "8288c962-cfca-4d65-b630-96128cf115bf",
   "metadata": {},
   "source": [
    "Print the file `data/measurements.txt`, replacing negative values of the temperature by 0.  You should get something similar to the output below."
   ]
  },
  {
   "cell_type": "code",
   "execution_count": 40,
   "id": "b24c58ce-1f71-4dff-bc4b-0e710d777dd1",
   "metadata": {},
   "outputs": [
    {
     "name": "stdout",
     "output_type": "stream",
     "text": [
      "case dim temperature\n",
      "1 1 0.0000\n",
      "2 1 0.0000\n",
      "3 1 0.5000\n",
      "4 2 0.0000\n",
      "5 2 0.0000\n",
      "6 2 0.5000\n",
      "7 3 0.0000\n",
      "8 3 0.0000\n",
      "9 3 0.5000\n"
     ]
    }
   ],
   "source": [
    "%cat data/clipped_measurements.txt"
   ]
  },
  {
   "cell_type": "code",
   "execution_count": 41,
   "id": "180e73e9-6555-41ce-aacf-495a2e3c80bd",
   "metadata": {},
   "outputs": [
    {
     "name": "stdout",
     "output_type": "stream",
     "text": [
      "case dim temperature\n",
      "1 1 0.0000\n",
      "2 1 0.0000\n",
      "3 1 0.5000\n",
      "4 2 0.0000\n",
      "5 2 0.0000\n",
      "6 2 0.5000\n",
      "7 3 0.0000\n",
      "8 3 0.0000\n",
      "9 3 0.5000\n"
     ]
    }
   ],
   "source": [
    "with open('data/measurement.txt') as file:\n",
    "    print(file.readline().strip())\n",
    "    for line in file:\n",
    "        case, dim, temperature = (conversion(value) for value, conversion in zip(line.strip().split(), (int, int, float)))\n",
    "        if temperature < 0.0:\n",
    "            temperature = 0.0\n",
    "        print(f'{case} {dim} {temperature:.4f}')"
   ]
  },
  {
   "cell_type": "markdown",
   "id": "36710bd3-6848-4418-ae54-f4729422ca44",
   "metadata": {},
   "source": [
    "## Data types"
   ]
  },
  {
   "cell_type": "markdown",
   "id": "89afa070-5b96-4352-bc65-f6e8cfced86b",
   "metadata": {},
   "source": [
    "How many distinct values for 'dim' are in the file `data/measurements.txt`?  Also, print the values as a tab-separated list."
   ]
  },
  {
   "cell_type": "code",
   "execution_count": 42,
   "id": "18dc5e2c-346a-49ad-a83f-2cb11ebe9207",
   "metadata": {},
   "outputs": [
    {
     "name": "stdout",
     "output_type": "stream",
     "text": [
      "number dims: 3\n",
      "dims: 1\t2\t3\n"
     ]
    }
   ],
   "source": [
    "dims = set()\n",
    "with open('data/measurement.txt') as file:\n",
    "    _ = file.readline()\n",
    "    for line in file:\n",
    "        _, dim, _ = (conversion(value) for value, conversion in zip(line.strip().split(), (int, int, float)))\n",
    "        dims.add(dim)\n",
    "print(f'number dims: {len(dims)}')\n",
    "print(f'dims: {\"\\t\".join(str(dim) for dim in dims)}')"
   ]
  },
  {
   "cell_type": "markdown",
   "id": "f7410be5-5b4b-49a3-89a2-6cb019aa6b87",
   "metadata": {},
   "source": [
    "This was likely copy/paste, write a function `parse_line` that takes a line containing data, and returns the values on that line converted to the appropriate type."
   ]
  },
  {
   "cell_type": "code",
   "execution_count": 43,
   "id": "3b934e2e-bdd3-452c-b1e3-d25bd2a5bf77",
   "metadata": {},
   "outputs": [],
   "source": [
    "def parse_line(line: str) -> tuple[int, int, float]:\n",
    "    return tuple(conversion(value) for value, conversion in zip(line.strip().split(), (int, int, float)))"
   ]
  },
  {
   "cell_type": "markdown",
   "id": "80eea756-83a0-4d17-ba59-cdbabea94e3e",
   "metadata": {},
   "source": [
    "Use the function for the previous problem."
   ]
  },
  {
   "cell_type": "code",
   "execution_count": 44,
   "id": "da9f1867-acae-4f7b-80cd-0d89bf9f4c11",
   "metadata": {},
   "outputs": [
    {
     "name": "stdout",
     "output_type": "stream",
     "text": [
      "number dims: 3\n",
      "dims: 1\t2\t3\n"
     ]
    }
   ],
   "source": [
    "dims = set()\n",
    "with open('data/measurement.txt') as file:\n",
    "    _ = file.readline()\n",
    "    for line in file:\n",
    "        _, dim, _ = parse_line(line)\n",
    "        dims.add(dim)\n",
    "print(f'number dims: {len(dims)}')\n",
    "print(f'dims: {\"\\t\".join(str(dim) for dim in dims)}')"
   ]
  },
  {
   "cell_type": "markdown",
   "id": "609d7188-f9e0-421f-b393-1dd1949b8e2c",
   "metadata": {},
   "source": [
    "Define a named tuple to represent the output of the `parse_line` function."
   ]
  },
  {
   "cell_type": "code",
   "execution_count": 45,
   "id": "3c2d7d3e-7cc9-493c-adf3-6fe7b8b00b54",
   "metadata": {},
   "outputs": [],
   "source": [
    "import typing"
   ]
  },
  {
   "cell_type": "code",
   "execution_count": 46,
   "id": "4084ebdc-14eb-4d53-b69e-9eef4bb8af35",
   "metadata": {},
   "outputs": [],
   "source": [
    "class LineData(typing.NamedTuple):\n",
    "    case: int\n",
    "    dim: int\n",
    "    temperature: float"
   ]
  },
  {
   "cell_type": "code",
   "execution_count": 49,
   "id": "acc58c54-4b1d-4e4b-baa1-c928d009c9d7",
   "metadata": {},
   "outputs": [],
   "source": [
    "def parse_line(line: str) -> LineData:\n",
    "    values = line.strip().split()\n",
    "    conversions = (int, int, float)\n",
    "    return tuple(conversion(value) for value, conversion in zip(values, conversions))"
   ]
  },
  {
   "cell_type": "markdown",
   "id": "d9399508-449c-4483-9e2b-f83f587e896b",
   "metadata": {},
   "source": [
    "How many times does each dimension occur in the data?"
   ]
  },
  {
   "cell_type": "code",
   "execution_count": 50,
   "id": "631b7cd4-72cf-4471-b94e-cc3b08a224bd",
   "metadata": {},
   "outputs": [
    {
     "name": "stdout",
     "output_type": "stream",
     "text": [
      "1: 3\n",
      "2: 3\n",
      "3: 3\n"
     ]
    }
   ],
   "source": [
    "dim_count = {}\n",
    "with open('data/measurement.txt') as file:\n",
    "    _ = file.readline()\n",
    "    for line in file:\n",
    "        _, dim, _ = parse_line(line)\n",
    "        if dim not in dim_count:\n",
    "            dim_count[dim] = 0\n",
    "        dim_count[dim] += 1\n",
    "for dim, count in dim_count.items():\n",
    "    print(f'{dim}: {count}')"
   ]
  },
  {
   "cell_type": "code",
   "execution_count": null,
   "id": "4c54ae76-9994-4d8f-b848-86f6d259ad37",
   "metadata": {},
   "outputs": [],
   "source": []
  }
 ],
 "metadata": {
  "kernelspec": {
   "display_name": "Python 3 (ipykernel)",
   "language": "python",
   "name": "python3"
  },
  "language_info": {
   "codemirror_mode": {
    "name": "ipython",
    "version": 3
   },
   "file_extension": ".py",
   "mimetype": "text/x-python",
   "name": "python",
   "nbconvert_exporter": "python",
   "pygments_lexer": "ipython3",
   "version": "3.13.7"
  }
 },
 "nbformat": 4,
 "nbformat_minor": 5
}
