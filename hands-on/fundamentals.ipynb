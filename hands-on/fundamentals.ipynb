{
 "cells": [
  {
   "cell_type": "markdown",
   "id": "6ff74021-98f7-4ddb-9896-cccefeb153bd",
   "metadata": {},
   "source": [
    "Consider the following data file."
   ]
  },
  {
   "cell_type": "code",
   "execution_count": 2,
   "id": "d00ca0af-79b9-4dff-8e75-fcd5c813ce95",
   "metadata": {},
   "outputs": [
    {
     "name": "stdout",
     "output_type": "stream",
     "text": [
      "case condition temperature\n",
      "1 1 -0.5\n",
      "2 1 0.0\n",
      "3 1 0.5\n",
      "4 2 -0.5\n",
      "5 2 0.0\n",
      "6 2 0.5\n",
      "7 3 -0.5\n",
      "8 3 0.0\n",
      "9 3 0.5\n"
     ]
    }
   ],
   "source": [
    "%cat data/measurement.txt"
   ]
  },
  {
   "cell_type": "code",
   "execution_count": null,
   "id": "03a674c5-6b8a-4fb8-9c7f-37e6cc1b9cd5",
   "metadata": {},
   "outputs": [],
   "source": []
  }
 ],
 "metadata": {
  "kernelspec": {
   "display_name": "Python 3 (ipykernel)",
   "language": "python",
   "name": "python3"
  },
  "language_info": {
   "codemirror_mode": {
    "name": "ipython",
    "version": 3
   },
   "file_extension": ".py",
   "mimetype": "text/x-python",
   "name": "python",
   "nbconvert_exporter": "python",
   "pygments_lexer": "ipython3",
   "version": "3.13.7"
  }
 },
 "nbformat": 4,
 "nbformat_minor": 5
}
