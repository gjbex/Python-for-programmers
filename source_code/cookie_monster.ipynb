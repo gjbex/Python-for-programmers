{
 "cells": [
  {
   "cell_type": "markdown",
   "id": "86fae96b-e74a-4ca0-8260-6375394fe3eb",
   "metadata": {},
   "source": [
    "# Cookie monster"
   ]
  },
  {
   "cell_type": "markdown",
   "id": "9ad19e93-fd42-417b-9efa-66cfbd9b4e67",
   "metadata": {},
   "source": [
    "Consider Bob, he really likes cookies.  He wants to eat its way through piles of cookies.  He gets a maximum number of hours to eat all cookies.  Each hour, he eats from a single pile only.  Moreover, Bob wants to eat at his leasure, so he minimizes the number of cookies he eats per hour.  When time runs out, all cookies must be eaten.\n",
    "\n",
    "For example, suppose Bob gets 4 piles of cookies with 2, 3, 7 and 4 cookies each.\n",
    "\n",
    "* If he gets less than 4 hours, it is clear he can never eat all cookies, since he eats only from a single pile per hour.\n",
    "* If he gets 4 hours though, he can eat 1 pile per hour, so he should eat at least 7 cookies per hour since that is the number of cookies in the largest pile.\n",
    "* If he gets 5 hours, he can eat at a rate of 4 cookies per hour. He can spend 2 hours on the pile of 7 cookies, and 1 hour on each of the other 3 piles.\n",
    "* However, if he is allowed to eat during 6 hours, he still has to eat 4 cookies per hour.\n",
    "\n",
    "For 4 piles with 2, 3, 7, 4 cookies, the table below summarizes the rates as a function of the number of hours Bob gets to eat.\n",
    "\n",
    "| hours to eat | eating rate  |\n",
    "|--------------|--------------|\n",
    "| 1            | not possible |\n",
    "| 2            | not possible |\n",
    "| 3            | not possible |\n",
    "| 4            | 7            |\n",
    "| 5            | 4            |\n",
    "| 6            | 4            |\n",
    "| 7            | 3            |\n",
    "| 8            | 3            |\n",
    "| 9            | 2            |\n",
    "| 10           | 2            |\n",
    "| 11           | 2            |\n",
    "| 12           | 2            |\n",
    "| 13           | 2            |\n",
    "| 14           | 2            |\n",
    "| 15           | 2            |\n",
    "| 16           | 1            |\n",
    "| 17           | 2            |\n",
    "| ...          | ...          |"
   ]
  },
  {
   "cell_type": "markdown",
   "id": "49b354d5-5563-42f2-9b9f-a0c2a820f14d",
   "metadata": {},
   "source": [
    "## Test data"
   ]
  },
  {
   "cell_type": "markdown",
   "id": "8360b4d7-ef65-4611-b321-1bfae07dd87f",
   "metadata": {},
   "source": [
    "It is useful to have the example above as a testcase."
   ]
  },
  {
   "cell_type": "code",
   "execution_count": 1,
   "id": "88cd2574-8494-4e0b-8988-7850de01a592",
   "metadata": {},
   "outputs": [],
   "source": [
    "piles = [2, 4, 7, 3]\n",
    "expected_results = {\n",
    "    1: None,\n",
    "    2: None,\n",
    "    3: None,\n",
    "    4: 7,\n",
    "    5: 4,\n",
    "    6: 4,\n",
    "    7: 3,\n",
    "    8: 3,\n",
    "    9: 2,\n",
    "    10: 2,\n",
    "    11: 2,\n",
    "    12: 2,\n",
    "    13: 2,\n",
    "    14: 2,\n",
    "    15: 2,\n",
    "    16:1,\n",
    "    17: 1,\n",
    "}"
   ]
  },
  {
   "cell_type": "markdown",
   "id": "9669f43b-015e-40a5-a77c-984b05420b32",
   "metadata": {},
   "source": [
    "## Requirements"
   ]
  },
  {
   "cell_type": "code",
   "execution_count": 2,
   "id": "1ddf7109-ee09-4290-b130-83772e693d9d",
   "metadata": {},
   "outputs": [],
   "source": [
    "import math\n",
    "import random"
   ]
  },
  {
   "cell_type": "markdown",
   "id": "a1911616-1def-4e54-9391-f9e2086a120c",
   "metadata": {},
   "source": [
    "## Implementation"
   ]
  },
  {
   "cell_type": "markdown",
   "id": "e1815a39-626a-428f-83d0-82621670ce09",
   "metadata": {},
   "source": [
    "It is useful to have a function that computes the required number of hours, given the piles and a eating rate."
   ]
  },
  {
   "cell_type": "code",
   "execution_count": 3,
   "id": "98fb0895-8f0d-4508-9c66-b1d018411141",
   "metadata": {},
   "outputs": [],
   "source": [
    "def required_hours(piles, rate):\n",
    "    return sum(map(lambda x: math.ceil(x/rate), piles))"
   ]
  },
  {
   "cell_type": "markdown",
   "id": "19c07adb-9751-46b3-854d-e8998f023cbd",
   "metadata": {},
   "source": [
    "The minimum eating rate is 1, the maximum rate is the size of the largest pile of cookies.  The simplest approach is to do a linear search over all the values starting from the maximal value to the minimal value, stopping when the number of required hours at a rate is less than or equal to the specified maximum number of hours."
   ]
  },
  {
   "cell_type": "code",
   "execution_count": 4,
   "id": "0005545f-a7d8-4a7c-bf3f-978575c92c22",
   "metadata": {},
   "outputs": [],
   "source": [
    "def compute_min_eating_rate(piles, max_hours):\n",
    "    if len(piles) > max_hours:\n",
    "        raise ValueError(f'too many piles, at most {max_hours} can be eaten)')\n",
    "    else:\n",
    "        rate = max(piles)\n",
    "        while rate > 0 and required_hours(piles, rate) <= max_hours:\n",
    "            rate -= 1\n",
    "        return rate + 1"
   ]
  },
  {
   "cell_type": "code",
   "execution_count": 5,
   "id": "8ebded42-30cf-4add-9481-47f9fd180f87",
   "metadata": {},
   "outputs": [
    {
     "name": "stdout",
     "output_type": "stream",
     "text": [
      " 4: 7\n",
      " 5: 4\n",
      " 6: 4\n",
      " 7: 3\n",
      " 8: 3\n",
      " 9: 2\n",
      "10: 2\n",
      "11: 2\n",
      "12: 2\n",
      "13: 2\n",
      "14: 2\n",
      "15: 2\n",
      "16: 1\n",
      "17: 1\n"
     ]
    }
   ],
   "source": [
    "for max_hours in range(4, 18):\n",
    "    print(f'{max_hours:2d}: {compute_min_eating_rate(piles, max_hours)}')"
   ]
  },
  {
   "cell_type": "markdown",
   "id": "81bb944b-5023-4fc1-b852-1e8657c95164",
   "metadata": {},
   "source": [
    "It is useful to write a function to test the implementation, given the expected results."
   ]
  },
  {
   "cell_type": "code",
   "execution_count": 6,
   "id": "38cfde0d-5eac-4e82-82d5-f9deb96bbcbb",
   "metadata": {},
   "outputs": [],
   "source": [
    "def test_implementation(compute_min_eating_rate, expected_results, verbose=False):\n",
    "    for max_hours, expected_rate in expected_results.items():\n",
    "        if verbose:\n",
    "            print(f'max_hours = {max_hours}')\n",
    "        try:\n",
    "            assert(compute_min_eating_rate(piles, max_hours) == expected_rate)\n",
    "        except ValueError:\n",
    "            assert(expected_rate is None)                                                           "
   ]
  },
  {
   "cell_type": "code",
   "execution_count": 7,
   "id": "a3939115-e36e-4b0f-978a-a2b58be2cdd3",
   "metadata": {},
   "outputs": [],
   "source": [
    "test_implementation(compute_min_eating_rate, expected_results)"
   ]
  },
  {
   "cell_type": "markdown",
   "id": "4e7f595a-64c9-473f-a39b-7622a9e85648",
   "metadata": {},
   "source": [
    "## Optimization"
   ]
  },
  {
   "cell_type": "markdown",
   "id": "a342b7a2-c7b7-463c-96d3-0e5b4328867a",
   "metadata": {},
   "source": [
    "The efficiency can be improved by replacing the linear search by a bisection search."
   ]
  },
  {
   "cell_type": "code",
   "execution_count": 8,
   "id": "81d0c4ed-c1a9-43fc-a223-480d0242cd63",
   "metadata": {},
   "outputs": [],
   "source": [
    "def compute_min_eating_rate_bin_search(piles, max_hours):\n",
    "    if len(piles) > max_hours:\n",
    "        raise ValueError(f'too many piles, at most {max_hours} can be eaten)')\n",
    "    else:\n",
    "        min_rate, max_rate = 1, max(piles)\n",
    "        while min_rate < max_rate:\n",
    "            rate = (min_rate + max_rate)//2\n",
    "            if required_hours(piles, rate) > max_hours:\n",
    "                min_rate = rate + 1\n",
    "            else:\n",
    "                max_rate = rate\n",
    "        return min_rate"
   ]
  },
  {
   "cell_type": "code",
   "execution_count": 9,
   "id": "9918a10b-0552-4682-a9d3-84f97267d888",
   "metadata": {},
   "outputs": [],
   "source": [
    "test_implementation(compute_min_eating_rate_bin_search, expected_results)"
   ]
  },
  {
   "cell_type": "markdown",
   "id": "60e45eba-f50a-4dfe-887d-955de371d68f",
   "metadata": {},
   "source": [
    "## Benchmarking"
   ]
  },
  {
   "cell_type": "markdown",
   "id": "1e842d33-648d-478d-b1bf-3870f9e8800e",
   "metadata": {},
   "source": [
    "To explore the difference in performance between the two implementations, it is useful to have a larger number piles and maximum eating time."
   ]
  },
  {
   "cell_type": "code",
   "execution_count": 10,
   "id": "ab5986fc-d0ea-4fe6-ae9d-60aa0626dc05",
   "metadata": {},
   "outputs": [],
   "source": [
    "nr_piles = 500\n",
    "max_pile_size = 1_000\n",
    "max_hours = 2_000\n",
    "piles = random.choices(range(1, max_pile_size), k=nr_piles)"
   ]
  },
  {
   "cell_type": "code",
   "execution_count": 11,
   "id": "7df1b6f4-3f4b-44bb-ba67-c365364fdf88",
   "metadata": {},
   "outputs": [
    {
     "data": {
      "text/plain": [
       "142"
      ]
     },
     "execution_count": 11,
     "metadata": {},
     "output_type": "execute_result"
    }
   ],
   "source": [
    "compute_min_eating_rate(piles, max_hours)"
   ]
  },
  {
   "cell_type": "code",
   "execution_count": 12,
   "id": "5d0d9935-9787-43cb-a852-5d4ca00521e7",
   "metadata": {},
   "outputs": [
    {
     "name": "stdout",
     "output_type": "stream",
     "text": [
      "21 ms ± 427 µs per loop (mean ± std. dev. of 7 runs, 10 loops each)\n"
     ]
    }
   ],
   "source": [
    "%timeit compute_min_eating_rate(piles, max_hours)"
   ]
  },
  {
   "cell_type": "code",
   "execution_count": 13,
   "id": "e6f0757c-3798-4b30-8d38-36bb054a49ce",
   "metadata": {},
   "outputs": [
    {
     "name": "stdout",
     "output_type": "stream",
     "text": [
      "242 µs ± 3.73 µs per loop (mean ± std. dev. of 7 runs, 1,000 loops each)\n"
     ]
    }
   ],
   "source": [
    "%timeit compute_min_eating_rate_bin_search(piles, max_hours)"
   ]
  },
  {
   "cell_type": "markdown",
   "id": "47811b4e-3068-493c-81de-eeb780882b73",
   "metadata": {},
   "source": [
    "It is clear that the bisection search is faster than linear search."
   ]
  }
 ],
 "metadata": {
  "kernelspec": {
   "display_name": "Python 3 (ipykernel)",
   "language": "python",
   "name": "python3"
  },
  "language_info": {
   "codemirror_mode": {
    "name": "ipython",
    "version": 3
   },
   "file_extension": ".py",
   "mimetype": "text/x-python",
   "name": "python",
   "nbconvert_exporter": "python",
   "pygments_lexer": "ipython3",
   "version": "3.11.2"
  }
 },
 "nbformat": 4,
 "nbformat_minor": 5
}
