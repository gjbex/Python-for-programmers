{
 "cells": [
  {
   "cell_type": "markdown",
   "id": "1692f308-a3f1-4f45-a4ec-f439c055167b",
   "metadata": {},
   "source": [
    "The value of $\\pi$ can be computed using the following formula:\n",
    "$$\n",
    "    \\sum_{n=1}^{\\infty} \\frac{1}{n^2} = \\frac{\\pi^2}{6}\n",
    "$$"
   ]
  },
  {
   "cell_type": "code",
   "execution_count": 48,
   "id": "27168b3b-2d85-408a-bec6-c1cdf1784a9c",
   "metadata": {},
   "outputs": [],
   "source": [
    "import math\n",
    "import matplotlib.pyplot as plt"
   ]
  },
  {
   "cell_type": "code",
   "execution_count": 47,
   "id": "c1b46517-5947-4c6d-acac-ac22ea4ff67f",
   "metadata": {},
   "outputs": [],
   "source": [
    "def compute_pi_euler(max_n):\n",
    "    return math.sqrt(6.0*sum(map(lambda n: 1/n**2, range(1, max_n + 1))))"
   ]
  },
  {
   "cell_type": "code",
   "execution_count": 43,
   "id": "fc106b1f-0c40-4382-a449-f0ba6c077753",
   "metadata": {},
   "outputs": [
    {
     "name": "stdout",
     "output_type": "stream",
     "text": [
      "2.449489742783178\n",
      "3.141497173494886\n",
      "3.1415449103248125\n",
      "3.141560824031404\n",
      "3.1415687811528423\n",
      "3.141573555511514\n",
      "3.141576738453049\n",
      "3.14157901200023\n",
      "3.141580717170193\n",
      "3.141582043419173\n",
      "3.1415831044219322\n",
      "3.1415839725174632\n",
      "3.141584695932031\n",
      "3.1415853080532035\n",
      "3.1415858327293367\n",
      "3.1415862874492806\n",
      "3.1415866853297105\n",
      "3.141587036401049\n",
      "3.1415873484647534\n",
      "3.1415876276798795\n"
     ]
    }
   ],
   "source": [
    "for max_n in range(1, 200_000, 10_000):\n",
    "    print(compute_pi_euler(max_n))"
   ]
  },
  {
   "cell_type": "code",
   "execution_count": 58,
   "id": "3569db7f-5931-4374-83f0-00f2e19a8690",
   "metadata": {},
   "outputs": [
    {
     "data": {
      "image/png": "[encoded data removed]",
      "text/plain": [
       "<Figure size 640x480 with 1 Axes>"
      ]
     },
     "metadata": {},
     "output_type": "display_data"
    }
   ],
   "source": [
    "n_values = list(range(1, 200))\n",
    "plt.plot(n_values, [compute_pi_euler(n) for n in n_values], label=r'$\\pi$')\n",
    "plt.plot(n_values, [math.pi for _ in n_values],\n",
    "         label=r'$\\sqrt{6 \\sum_{n=1}^N \\frac{1}{n^2}}$')\n",
    "plt.xlabel(r'$N$');"
   ]
  },
  {
   "cell_type": "code",
   "execution_count": 52,
   "id": "91cb441e-e5b5-4c1a-84aa-506adc95bc57",
   "metadata": {},
   "outputs": [],
   "source": [
    "def assess_accuracy(func, max_order):\n",
    "    for order in range(1, max_order + 1):\n",
    "        n = 10**order\n",
    "        print(f'10^{order:02d} -> {abs(math.pi - func(n))/math.pi:.4e}')"
   ]
  },
  {
   "cell_type": "code",
   "execution_count": 45,
   "id": "7bf2b600-1438-4f16-8c00-fd72847079cb",
   "metadata": {},
   "outputs": [
    {
     "name": "stdout",
     "output_type": "stream",
     "text": [
      "10^01 2.9358e-02\n",
      "10^02 3.0291e-03\n",
      "10^03 3.0386e-04\n",
      "10^04 3.0395e-05\n",
      "10^05 3.0396e-06\n",
      "10^06 3.0396e-07\n",
      "10^07 3.0397e-08\n",
      "10^08 2.7398e-09\n",
      "10^09 2.7398e-09\n"
     ]
    }
   ],
   "source": [
    "assess_accuracy(compute_pi_euler, 9)"
   ]
  },
  {
   "cell_type": "markdown",
   "id": "75286453-f279-4c26-ad73-46e62c2aaf46",
   "metadata": {},
   "source": [
    "Note that the accuracy doesn't increase beyond $10^8$.  This is due to round-off errors introduced by adding very small values after large values.  This can be remedied by reversing the order in which the terms are added."
   ]
  },
  {
   "cell_type": "code",
   "execution_count": 42,
   "id": "e4f528e5-9686-4b68-9048-8a732d37c181",
   "metadata": {},
   "outputs": [],
   "source": [
    "def compute_pi_euler_down(max_n):\n",
    "    return math.sqrt(6.0*sum(map(lambda n: 1/n**2, range(max_n, 0, -1))))"
   ]
  },
  {
   "cell_type": "code",
   "execution_count": 46,
   "id": "ae87f789-9f59-489b-9215-ecf5065cdb59",
   "metadata": {},
   "outputs": [
    {
     "name": "stdout",
     "output_type": "stream",
     "text": [
      "10^01 2.9358e-02\n",
      "10^02 3.0291e-03\n",
      "10^03 3.0386e-04\n",
      "10^04 3.0395e-05\n",
      "10^05 3.0396e-06\n",
      "10^06 3.0396e-07\n",
      "10^07 3.0396e-08\n",
      "10^08 3.0396e-09\n",
      "10^09 3.0396e-10\n"
     ]
    }
   ],
   "source": [
    "assess_accuracy(compute_pi_euler_down, 9)"
   ]
  },
  {
   "cell_type": "markdown",
   "id": "decce6b3-e65f-44fb-a3e8-18b1b933c0a6",
   "metadata": {},
   "source": [
    "It is clear that this indeed improves accuracy."
   ]
  }
 ],
 "metadata": {
  "kernelspec": {
   "display_name": "Python 3 (ipykernel)",
   "language": "python",
   "name": "python3"
  },
  "language_info": {
   "codemirror_mode": {
    "name": "ipython",
    "version": 3
   },
   "file_extension": ".py",
   "mimetype": "text/x-python",
   "name": "python",
   "nbconvert_exporter": "python",
   "pygments_lexer": "ipython3",
   "version": "3.11.2"
  }
 },
 "nbformat": 4,
 "nbformat_minor": 5
}
