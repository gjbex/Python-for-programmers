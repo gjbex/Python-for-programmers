{
 "cells": [
  {
   "cell_type": "markdown",
   "id": "11361cbd",
   "metadata": {},
   "source": [
    "# Interval Trees"
   ]
  },
  {
   "cell_type": "code",
   "execution_count": null,
   "id": "ee000ace",
   "metadata": {},
   "outputs": [],
   "source": [
    "from intersection_tree import IntersectionTree"
   ]
  },
  {
   "cell_type": "code",
   "execution_count": null,
   "id": "dab11e40",
   "metadata": {},
   "outputs": [],
   "source": [
    "tree = IntersectionTree()\n",
    "tree.insert((1, 5))\n",
    "tree.insert((10, 15))\n",
    "tree.insert((12, 20))\n",
    "tree.search((14, 16))"
   ]
  }
 ],
 "metadata": {
  "kernelspec": {
   "display_name": "Python 3 (ipykernel)",
   "language": "python",
   "name": "python3"
  },
  "language_info": {
   "codemirror_mode": {
    "name": "ipython",
    "version": 3
   },
   "file_extension": ".py",
   "mimetype": "text/x-python",
   "name": "python",
   "nbconvert_exporter": "python",
   "pygments_lexer": "ipython3",
   "version": "3.12.10"
  }
 },
 "nbformat": 4,
 "nbformat_minor": 5
}
