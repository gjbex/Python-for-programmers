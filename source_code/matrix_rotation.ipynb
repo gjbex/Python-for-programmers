{
 "cells": [
  {
   "cell_type": "markdown",
   "id": "27dbb645-6d4e-4cc7-9330-8fe3121fb647",
   "metadata": {},
   "source": [
    "## Problem"
   ]
  },
  {
   "cell_type": "markdown",
   "id": "0d349ff6-d801-4aa1-a1e5-28c1e11d93e2",
   "metadata": {},
   "source": [
    "Rotate a matrix by 90 degrees, e.g.,\n",
    "$$\n",
    "    \\begin{array}{cccc}\n",
    "         1 &  2 &  3 &  4  \\\\\n",
    "         5 &  6 &  7 &  8  \\\\\n",
    "         9 & 10 & 11 & 12  \\\\\n",
    "        13 & 14 & 15 & 16\n",
    "    \\end{array}\n",
    "$$\n",
    "becomes\n",
    "$$\n",
    "    \\begin{array}{cccc}\n",
    "        13 &  9 &  5 &  1  \\\\\n",
    "        14 & 10 &  6 &  2  \\\\\n",
    "        15 & 11 &  7 &  3  \\\\\n",
    "        16 & 12 &  8 &  4\n",
    "    \\end{array}\n",
    "$$\n",
    "The rotation should happen in place, i.e., no auxiliary matrix can be used.\n",
    "\n",
    "Several implementation are possible."
   ]
  },
  {
   "cell_type": "markdown",
   "id": "7bf0f4b6-efa9-499e-8ae1-f59314779be3",
   "metadata": {},
   "source": [
    "## Helper functions"
   ]
  },
  {
   "cell_type": "markdown",
   "id": "439de6bc-18b3-4ff3-984b-48320695dc78",
   "metadata": {},
   "source": [
    "First, you can write a number of functions to help test and visualize the solutions:\n",
    "  * a function to create an $n \\times n$ array with integer elements from $1$ to $n^2$,\n",
    "  * a function to pretty-print such a matrix, and\n",
    "  * a function to print the original matrix, run an algorithm, and print the result."
   ]
  },
  {
   "cell_type": "code",
   "execution_count": 1,
   "id": "cd915094-8918-4e14-b0a9-6eeed21ba625",
   "metadata": {},
   "outputs": [],
   "source": [
    "def create_matrix(size):\n",
    "    return [list(range(1 + size*start, 1 + size*(start + 1))) for start in range(size)]"
   ]
  },
  {
   "cell_type": "code",
   "execution_count": 2,
   "id": "c7df783e-f7ff-4682-a48a-f5c4c54920fd",
   "metadata": {},
   "outputs": [],
   "source": [
    "def print_matrix(matrix):\n",
    "    print('\\n'.join(' '.join(f'{x:3d}' for x in row) for row in matrix))"
   ]
  },
  {
   "cell_type": "code",
   "execution_count": 3,
   "id": "b768d251-f76e-42e1-afd1-0fe9c3727935",
   "metadata": {},
   "outputs": [],
   "source": [
    "matrix4 = create_matrix(4)"
   ]
  },
  {
   "cell_type": "code",
   "execution_count": 4,
   "id": "06434979-1b41-414a-9701-2b176f36951d",
   "metadata": {},
   "outputs": [
    {
     "name": "stdout",
     "output_type": "stream",
     "text": [
      "  1   2   3   4\n",
      "  5   6   7   8\n",
      "  9  10  11  12\n",
      " 13  14  15  16\n"
     ]
    }
   ],
   "source": [
    "print_matrix(matrix4)"
   ]
  },
  {
   "cell_type": "code",
   "execution_count": 5,
   "id": "94c2aaca-0776-42c8-b27c-74b7517db3b7",
   "metadata": {},
   "outputs": [],
   "source": [
    "def test_rotation(size, rotator, is_numpy=False):\n",
    "    matrix = create_matrix(size)\n",
    "    if is_numpy:\n",
    "        matrix = np.array(matrix)\n",
    "    print_matrix(matrix)\n",
    "    matrix = rotator(matrix)\n",
    "    print()\n",
    "    print_matrix(matrix)"
   ]
  },
  {
   "cell_type": "markdown",
   "id": "9430d0b8-5493-4fce-bd8a-975e91bee147",
   "metadata": {},
   "source": [
    "Note that we make provisions for handling numpy arrays, although this will not be required for the pure Python solutions."
   ]
  },
  {
   "cell_type": "markdown",
   "id": "c1d40b47-3063-4683-9f1a-9cf630e2555d",
   "metadata": {
    "tags": []
   },
   "source": [
    "## Solution 1"
   ]
  },
  {
   "cell_type": "markdown",
   "id": "d99de412-3d37-4ced-a4cc-9267dff25e03",
   "metadata": {},
   "source": [
    "You can observe that if you first swap the elements above the diagonal with those below it, and subsequently exchange the first and last column, the second with the one but last, and so on, you will obtain the matrix rotated by 90 degrees."
   ]
  },
  {
   "cell_type": "code",
   "execution_count": 6,
   "id": "d3ce2789-2b09-4f25-b08a-56f2bdb9388b",
   "metadata": {},
   "outputs": [],
   "source": [
    "def inplace_rotate1(matrix):\n",
    "    n = len(matrix)\n",
    "    # flip matrix along diagonal\n",
    "    for i in range(n):\n",
    "        for j in range(i + 1, n):\n",
    "            matrix[i][j], matrix[j][i] = matrix[j][i], matrix[i][j]\n",
    "    # swap columns\n",
    "    for j in range(n//2):\n",
    "        for i in range(n):\n",
    "            matrix[i][j], matrix[i][n - j - 1] = matrix[i][n - j - 1], matrix[i][j]\n",
    "    return matrix"
   ]
  },
  {
   "cell_type": "markdown",
   "id": "38d4223c-b16f-4248-9981-59fd1b2d346b",
   "metadata": {},
   "source": [
    "Below you can test for a $4 \\times 4$ and a $5 \\times 5$ matrix."
   ]
  },
  {
   "cell_type": "code",
   "execution_count": 7,
   "id": "08d4f431-6ba8-4ef8-93c2-da666f86d096",
   "metadata": {},
   "outputs": [
    {
     "name": "stdout",
     "output_type": "stream",
     "text": [
      "  1   2   3   4\n",
      "  5   6   7   8\n",
      "  9  10  11  12\n",
      " 13  14  15  16\n",
      "\n",
      " 13   9   5   1\n",
      " 14  10   6   2\n",
      " 15  11   7   3\n",
      " 16  12   8   4\n"
     ]
    }
   ],
   "source": [
    "test_rotation(4, inplace_rotate1)"
   ]
  },
  {
   "cell_type": "code",
   "execution_count": 8,
   "id": "5f28431b-f0fb-4fb4-b24d-e3233c6dbca0",
   "metadata": {},
   "outputs": [
    {
     "name": "stdout",
     "output_type": "stream",
     "text": [
      "  1   2   3   4   5\n",
      "  6   7   8   9  10\n",
      " 11  12  13  14  15\n",
      " 16  17  18  19  20\n",
      " 21  22  23  24  25\n",
      "\n",
      " 21  16  11   6   1\n",
      " 22  17  12   7   2\n",
      " 23  18  13   8   3\n",
      " 24  19  14   9   4\n",
      " 25  20  15  10   5\n"
     ]
    }
   ],
   "source": [
    "test_rotation(5, inplace_rotate1)"
   ]
  },
  {
   "cell_type": "markdown",
   "id": "7ab659fb-5a58-4612-a81a-fb436a5b84d4",
   "metadata": {},
   "source": [
    "## Solution 2"
   ]
  },
  {
   "cell_type": "markdown",
   "id": "b20daa47-2093-4809-853b-da568561ce99",
   "metadata": {},
   "source": [
    "Given a lot of index fiddling, it is possible to obtain a faster algorithm by rotating quadrants of the matrix.  The first quadrant should go the the second, that should got to the third, and so on.  If $n$ is even, the quadrants are squares, otherwise the quadrants are rectangles."
   ]
  },
  {
   "cell_type": "code",
   "execution_count": 9,
   "id": "924fa8be-85f0-42bc-8fd0-9f355cce5068",
   "metadata": {
    "tags": []
   },
   "outputs": [],
   "source": [
    "def inplace_rotate2(matrix):\n",
    "    n = len(matrix)\n",
    "    for i in range((n + 1)//2):\n",
    "        for j in range(n//2):\n",
    "            matrix[i][j], matrix[n - j - 1][i], \\\n",
    "                matrix[n - i - 1][n - j - 1], matrix[j][n - i - 1] = \\\n",
    "                    matrix[n - j - 1][i], matrix[n - i - 1][n - j - 1], \\\n",
    "                        matrix[j][n - i - 1], matrix[i][j]\n",
    "    return matrix"
   ]
  },
  {
   "cell_type": "markdown",
   "id": "e9f5331d-f134-4e04-8a0e-8083f8884938",
   "metadata": {},
   "source": [
    "Again, you can test for a $4 \\times 4$ and a $5 \\times 5$ matrix."
   ]
  },
  {
   "cell_type": "code",
   "execution_count": 10,
   "id": "2a6c6a9e-bc3e-4994-ac45-c49b5705c270",
   "metadata": {},
   "outputs": [
    {
     "name": "stdout",
     "output_type": "stream",
     "text": [
      "  1   2   3   4\n",
      "  5   6   7   8\n",
      "  9  10  11  12\n",
      " 13  14  15  16\n",
      "\n",
      " 13   9   5   1\n",
      " 14  10   6   2\n",
      " 15  11   7   3\n",
      " 16  12   8   4\n"
     ]
    }
   ],
   "source": [
    "test_rotation(4, inplace_rotate2)"
   ]
  },
  {
   "cell_type": "code",
   "execution_count": 11,
   "id": "9a4a5608-4c62-431d-8921-f94b45c2ff6f",
   "metadata": {},
   "outputs": [
    {
     "name": "stdout",
     "output_type": "stream",
     "text": [
      "  1   2   3   4   5\n",
      "  6   7   8   9  10\n",
      " 11  12  13  14  15\n",
      " 16  17  18  19  20\n",
      " 21  22  23  24  25\n",
      "\n",
      " 21  16  11   6   1\n",
      " 22  17  12   7   2\n",
      " 23  18  13   8   3\n",
      " 24  19  14   9   4\n",
      " 25  20  15  10   5\n"
     ]
    }
   ],
   "source": [
    "test_rotation(5, inplace_rotate2)"
   ]
  },
  {
   "cell_type": "markdown",
   "id": "ae8436bf-64e8-418c-a950-42dfb286d1d3",
   "metadata": {},
   "source": [
    "## Solution 3"
   ]
  },
  {
   "cell_type": "markdown",
   "id": "c1a57496-1edc-4660-83b4-e1498e2f0041",
   "metadata": {},
   "source": [
    "Using numpy, the problem can trivially be solved since this library has a `rot90` function that implements this matrix transformation.  In order to have a clockwize rotation, we have to swap the default axes of the array."
   ]
  },
  {
   "cell_type": "code",
   "execution_count": 12,
   "id": "ab468868-90d2-4d7c-94fc-6c77e3318577",
   "metadata": {},
   "outputs": [],
   "source": [
    "import numpy as np"
   ]
  },
  {
   "cell_type": "code",
   "execution_count": 13,
   "id": "d0f8b4d2-9295-49cd-be64-680705ce6038",
   "metadata": {},
   "outputs": [],
   "source": [
    "def inplace_rotate3(matrix):\n",
    "    return np.rot90(matrix, axes=(1, 0))"
   ]
  },
  {
   "cell_type": "code",
   "execution_count": 14,
   "id": "2141838a-7309-49c0-ba80-92577d4f8e46",
   "metadata": {},
   "outputs": [
    {
     "name": "stdout",
     "output_type": "stream",
     "text": [
      "  1   2   3   4\n",
      "  5   6   7   8\n",
      "  9  10  11  12\n",
      " 13  14  15  16\n",
      "\n",
      " 13   9   5   1\n",
      " 14  10   6   2\n",
      " 15  11   7   3\n",
      " 16  12   8   4\n"
     ]
    }
   ],
   "source": [
    "test_rotation(4, inplace_rotate3, is_numpy=True)"
   ]
  },
  {
   "cell_type": "markdown",
   "id": "5770d1a4-6460-4ac7-825d-c81d5c8f3742",
   "metadata": {},
   "source": [
    "## Verification"
   ]
  },
  {
   "cell_type": "markdown",
   "id": "eb2632bd-179c-4544-80b2-2d7420ef8eac",
   "metadata": {},
   "source": [
    "To verify whether the three solutions yield the same resuls, you can comp"
   ]
  },
  {
   "cell_type": "code",
   "execution_count": 15,
   "id": "38a5f06e-e0d8-4c73-b78e-355a8538e613",
   "metadata": {},
   "outputs": [],
   "source": [
    "import itertools"
   ]
  },
  {
   "cell_type": "code",
   "execution_count": 16,
   "id": "08fdb0bc-1efe-4eac-907d-ddb2cac84f66",
   "metadata": {},
   "outputs": [],
   "source": [
    "for n in range(1, 10):\n",
    "    solutions = [rotator(create_matrix(n))\n",
    "                 for rotator in (inplace_rotate1, inplace_rotate2, inplace_rotate3)]\n",
    "    for m_a, m_b in itertools.pairwise(solutions):\n",
    "        assert(np.array_equal(m_a, m_b))"
   ]
  },
  {
   "cell_type": "markdown",
   "id": "e68e2e20-9979-4c26-9604-501fe0a848a2",
   "metadata": {},
   "source": [
    "## Performance"
   ]
  },
  {
   "cell_type": "markdown",
   "id": "290ecc3e-f9da-494a-b09f-d6f4d7497def",
   "metadata": {},
   "source": [
    "To compare the performance of the three solutions, you can create a large matrix, say $1,000 \\times 1,000$ and use `%timeit` to time the in-place rotations."
   ]
  },
  {
   "cell_type": "code",
   "execution_count": 17,
   "id": "da6a0ffd-bda0-41f0-9c17-08f91bf1e217",
   "metadata": {},
   "outputs": [],
   "source": [
    "n = 1_000"
   ]
  },
  {
   "cell_type": "code",
   "execution_count": 18,
   "id": "11d6019f-2cf9-45f5-93cc-ffd99a846d17",
   "metadata": {},
   "outputs": [],
   "source": [
    "matrix1000 = create_matrix(n)"
   ]
  },
  {
   "cell_type": "code",
   "execution_count": 19,
   "id": "a2170b08-3ad3-4123-87b2-db1e12b77a5e",
   "metadata": {},
   "outputs": [
    {
     "name": "stdout",
     "output_type": "stream",
     "text": [
      "107 ms ± 2.55 ms per loop (mean ± std. dev. of 7 runs, 10 loops each)\n"
     ]
    }
   ],
   "source": [
    "%timeit inplace_rotate1(matrix1000)"
   ]
  },
  {
   "cell_type": "code",
   "execution_count": 20,
   "id": "2204893b-0531-40c2-bc48-21b3455659be",
   "metadata": {},
   "outputs": [
    {
     "name": "stdout",
     "output_type": "stream",
     "text": [
      "77.6 ms ± 2.35 ms per loop (mean ± std. dev. of 7 runs, 10 loops each)\n"
     ]
    }
   ],
   "source": [
    "%timeit inplace_rotate2(matrix1000)"
   ]
  },
  {
   "cell_type": "code",
   "execution_count": 21,
   "id": "e905ab49-333c-4121-bd3a-49146713940a",
   "metadata": {},
   "outputs": [
    {
     "name": "stdout",
     "output_type": "stream",
     "text": [
      "35.6 ms ± 597 µs per loop (mean ± std. dev. of 7 runs, 10 loops each)\n"
     ]
    }
   ],
   "source": [
    "%timeit inplace_rotate3(matrix1000)"
   ]
  },
  {
   "cell_type": "markdown",
   "id": "204d7302-c4a7-447d-a8f7-6e8d4e6b7d73",
   "metadata": {},
   "source": [
    "The solution that uses numpy's `rot90` function more than twice as fast as the pure Python implementations.  However, if you use a numpy array as input, the difference is even more striking."
   ]
  },
  {
   "cell_type": "code",
   "execution_count": 22,
   "id": "919f5ad3-a77f-4b60-b79d-ef416d21cce5",
   "metadata": {},
   "outputs": [],
   "source": [
    "array1000 = np.arange(1, n**2 + 1).reshape(n, n)"
   ]
  },
  {
   "cell_type": "code",
   "execution_count": 23,
   "id": "bfbd3f1e-64d4-4d20-8ff8-bee93d9ce506",
   "metadata": {},
   "outputs": [
    {
     "name": "stdout",
     "output_type": "stream",
     "text": [
      "686 ms ± 5.09 ms per loop (mean ± std. dev. of 7 runs, 1 loop each)\n"
     ]
    }
   ],
   "source": [
    "%timeit inplace_rotate1(array1000)"
   ]
  },
  {
   "cell_type": "code",
   "execution_count": 24,
   "id": "afab97ff-e402-471f-9ee2-6160a6756006",
   "metadata": {},
   "outputs": [
    {
     "name": "stdout",
     "output_type": "stream",
     "text": [
      "402 ms ± 1.51 ms per loop (mean ± std. dev. of 7 runs, 1 loop each)\n"
     ]
    }
   ],
   "source": [
    "%timeit inplace_rotate2(array1000)"
   ]
  },
  {
   "cell_type": "code",
   "execution_count": 25,
   "id": "c259b704-92e5-4b2b-b860-e2bedb37a4bb",
   "metadata": {},
   "outputs": [
    {
     "name": "stdout",
     "output_type": "stream",
     "text": [
      "5.22 µs ± 34.3 ns per loop (mean ± std. dev. of 7 runs, 100,000 loops each)\n"
     ]
    }
   ],
   "source": [
    "%timeit inplace_rotate3(array1000)"
   ]
  },
  {
   "cell_type": "markdown",
   "id": "69b7a5ee-04b4-4e2f-aeb3-b0ab1c8f541c",
   "metadata": {},
   "source": [
    "As can be expected, applying the pure Python implementation on numpy arrays is terribly slow, while eliminating the conversion of a list of lists by providing a numpy arrays as input directly gives a very marked performance advantage."
   ]
  }
 ],
 "metadata": {
  "kernelspec": {
   "display_name": "Python 3 (ipykernel)",
   "language": "python",
   "name": "python3"
  },
  "language_info": {
   "codemirror_mode": {
    "name": "ipython",
    "version": 3
   },
   "file_extension": ".py",
   "mimetype": "text/x-python",
   "name": "python",
   "nbconvert_exporter": "python",
   "pygments_lexer": "ipython3",
   "version": "3.11.3"
  }
 },
 "nbformat": 4,
 "nbformat_minor": 5
}
