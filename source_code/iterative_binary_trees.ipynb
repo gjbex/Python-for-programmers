{
 "cells": [
  {
   "cell_type": "markdown",
   "id": "1c0c6517-2e0f-4eb5-9790-b802e5432075",
   "metadata": {},
   "source": [
    "## Requirements"
   ]
  },
  {
   "cell_type": "code",
   "execution_count": 2,
   "id": "28c54e41-9dd7-416f-aeb0-210e28512000",
   "metadata": {},
   "outputs": [],
   "source": [
    "from typing import Any, Callable, Self"
   ]
  },
  {
   "cell_type": "markdown",
   "id": "689a12ad-60bd-4c5f-bb94-1ed8b4149478",
   "metadata": {},
   "source": [
    "# Binary tree implementation"
   ]
  },
  {
   "cell_type": "markdown",
   "id": "6e66ce05-6c88-4f8e-83ae-c3272b02aab9",
   "metadata": {},
   "source": [
    "You can start by creating a class to represent the nodes in a binary tree.  These nodes can have a value of any type, and optionally, a left and a right child.  If a node has no left or right child, that is represented as `None`."
   ]
  },
  {
   "cell_type": "code",
   "execution_count": 3,
   "id": "66e76c02-8b13-4827-83a4-89de61080390",
   "metadata": {},
   "outputs": [],
   "source": [
    "class Node:\n",
    "    \n",
    "    value: Any\n",
    "    _left: Self | None\n",
    "    _right: Self | None\n",
    "    \n",
    "    def __init__(self: Self, value: Any) -> None:\n",
    "        self.value = value\n",
    "        self._left, self._right = None, None\n",
    "    \n",
    "    @property\n",
    "    def left(self: Self) -> Self:\n",
    "        return self._left\n",
    "    \n",
    "    def add_left(self: Self, child: Self) -> Self:\n",
    "        self._left = child\n",
    "        return self\n",
    "    \n",
    "    @property\n",
    "    def right(self: Self) -> Self:\n",
    "        return self._right\n",
    "    \n",
    "    def add_right(self: Self, child: Self) -> Self:\n",
    "        self._right = child\n",
    "        return self\n",
    "    \n",
    "    def to_string(self: Self, prefix: str='') -> str:\n",
    "        repr = f'{prefix}{self.value}\\n'\n",
    "        prefix += '  '\n",
    "        no_child_str = f'{prefix}None\\n'\n",
    "        repr += self.left.to_string(prefix) if self.left is not None else no_child_str\n",
    "        repr += self.right.to_string(prefix) if self.right is not None else no_child_str\n",
    "        return repr"
   ]
  },
  {
   "cell_type": "markdown",
   "id": "a24598d7-1ed9-4603-8356-2cf53b74f318",
   "metadata": {},
   "source": [
    "The `add_left` and `add_right` methods allow for a builder pattern type of tree creation as you will see below.\n",
    "\n",
    "Next, you can implement a class that represents trees."
   ]
  },
  {
   "cell_type": "code",
   "execution_count": 4,
   "id": "c0b35e8d-8188-403b-8c14-b44e3acd34f0",
   "metadata": {},
   "outputs": [],
   "source": [
    "class Tree:\n",
    "    \n",
    "    root: Node | None\n",
    "    \n",
    "    def __init__(self: Self, root: Node | None) -> None:\n",
    "        self.root = root\n",
    "        \n",
    "    def __repr__(self: Self) -> str:\n",
    "        return self.root.to_string() if self.root is not None else 'None'"
   ]
  },
  {
   "cell_type": "markdown",
   "id": "8e9e9920-bdb7-4be4-9acf-27adcba01121",
   "metadata": {},
   "source": [
    "Below you see the initialization of a tree, making clear why the `add_left` and `add_right` methods are convenient."
   ]
  },
  {
   "cell_type": "code",
   "execution_count": 5,
   "id": "6f04d37e-adf9-45a7-932d-50e71f486a29",
   "metadata": {},
   "outputs": [],
   "source": [
    "tree = Tree(\n",
    "    Node(1)\n",
    "      .add_left(Node(2))\n",
    "      .add_right(\n",
    "          Node(3)\n",
    "              .add_left(\n",
    "                  Node(4)\n",
    "                      .add_right(Node(5))\n",
    "                )\n",
    "              .add_right(Node(6))\n",
    "      )\n",
    ")"
   ]
  },
  {
   "cell_type": "markdown",
   "id": "786a2dc7-be72-450a-9837-147ab4365c8b",
   "metadata": {},
   "source": [
    "The `__repr__` method calls `Node` instances `to_string` method to visualize the tree structure."
   ]
  },
  {
   "cell_type": "code",
   "execution_count": 6,
   "id": "6fa7ca02-5153-41c3-8ec8-80855489b0dc",
   "metadata": {},
   "outputs": [
    {
     "name": "stdout",
     "output_type": "stream",
     "text": [
      "1\n",
      "  2\n",
      "    None\n",
      "    None\n",
      "  3\n",
      "    4\n",
      "      None\n",
      "      5\n",
      "        None\n",
      "        None\n",
      "    6\n",
      "      None\n",
      "      None\n",
      "\n"
     ]
    }
   ],
   "source": [
    "print(tree)"
   ]
  },
  {
   "cell_type": "markdown",
   "id": "42b97845-ad2d-4ed6-974d-1a65570a0f41",
   "metadata": {},
   "source": [
    "Now you can write a function to create a perfectly balanced binary tree with a specified depth for testing purposes.  If the depth of the tree is $d$, the tree will have $2^d - 1$ nodes."
   ]
  },
  {
   "cell_type": "code",
   "execution_count": 6,
   "id": "159ecf29-f4ad-4a77-9018-fdb1f8fd0572",
   "metadata": {},
   "outputs": [],
   "source": [
    "def create_balanced_tree(max_depth: int) -> Tree:\n",
    "    tree = Tree(None)\n",
    "    node_value = 0\n",
    "    if max_depth > 0:\n",
    "        node_value += 1\n",
    "        tree.root = Node(node_value)\n",
    "        nodes = [tree.root]\n",
    "        for depth in range(1, max_depth):\n",
    "            next_generation = []\n",
    "            for node in nodes:\n",
    "                node_value += 1\n",
    "                node.add_left(Node(node_value))\n",
    "                next_generation.append(node.left)\n",
    "                node_value += 1\n",
    "                node.add_right(Node(node_value))\n",
    "                next_generation.append(node.right)\n",
    "            nodes = next_generation\n",
    "    return tree"
   ]
  },
  {
   "cell_type": "code",
   "execution_count": 10,
   "id": "8072cd17-007b-4d41-90e0-ea5846aad00e",
   "metadata": {},
   "outputs": [
    {
     "data": {
      "text/plain": [
       "1\n",
       "  2\n",
       "    None\n",
       "    None\n",
       "  3\n",
       "    None\n",
       "    None"
      ]
     },
     "execution_count": 10,
     "metadata": {},
     "output_type": "execute_result"
    }
   ],
   "source": [
    "create_balanced_tree(2)"
   ]
  },
  {
   "cell_type": "markdown",
   "id": "98e12d96-f6e1-4ce8-883f-f4578ace59df",
   "metadata": {},
   "source": [
    "# Tree traversal"
   ]
  },
  {
   "cell_type": "markdown",
   "id": "b880564f-4b1a-418e-830b-2418f4ddbe10",
   "metadata": {},
   "source": [
    "The most intuitive way to traverse a tree is by using recursion.  However, you can also implement this using iteration only."
   ]
  },
  {
   "cell_type": "markdown",
   "id": "453cb1be-3976-4915-ac3a-a2f75fd5aaed",
   "metadata": {},
   "source": [
    "## Recursive traversal"
   ]
  },
  {
   "cell_type": "markdown",
   "id": "68133b92-a5a5-488a-952d-b8c2496d44e5",
   "metadata": {},
   "source": [
    "You can write a function that applies a function to each node of a tree."
   ]
  },
  {
   "cell_type": "code",
   "execution_count": 7,
   "id": "9a077016-2d19-412e-a2fd-ae02b896c11c",
   "metadata": {},
   "outputs": [],
   "source": [
    "def recursive_traversal(tree: Tree, func: Callable) -> Any | None:\n",
    "    if tree.root is not None:\n",
    "        def recurse(node: Node | None) -> Callable | None:\n",
    "            if node is not None:\n",
    "                func(node)\n",
    "                recurse(node.left)\n",
    "                recurse(node.right)\n",
    "            return func.result() if hasattr(func, 'result') else None\n",
    "    return recurse(tree.root)"
   ]
  },
  {
   "cell_type": "markdown",
   "id": "23d28a95-12eb-44cc-a74b-ae266e203aa5",
   "metadata": {},
   "source": [
    "### Node value sum"
   ]
  },
  {
   "cell_type": "markdown",
   "id": "8c265cbf-0f9b-4253-b296-80f84b083b72",
   "metadata": {},
   "source": [
    "Using a higher-order function you can use this to compute the sum of the value of all the nodes."
   ]
  },
  {
   "cell_type": "code",
   "execution_count": 8,
   "id": "172b247b-1d99-478b-9afe-8f3b335e2232",
   "metadata": {},
   "outputs": [],
   "source": [
    "class Sum:\n",
    "    \n",
    "    def __init__(self: Self):\n",
    "        self._result = 0\n",
    "        \n",
    "    def __call__(self: Self, node: Node) -> None:\n",
    "        self._result += node.value\n",
    "        \n",
    "    def result(self: Self) -> int:\n",
    "        return self._result"
   ]
  },
  {
   "cell_type": "code",
   "execution_count": 29,
   "id": "9fdd1c97-8376-4262-b68b-82e9380daee1",
   "metadata": {},
   "outputs": [
    {
     "data": {
      "text/plain": [
       "6"
      ]
     },
     "execution_count": 29,
     "metadata": {},
     "output_type": "execute_result"
    }
   ],
   "source": [
    "recursive_traversal(create_balanced_tree(2), Sum())"
   ]
  },
  {
   "cell_type": "code",
   "execution_count": 9,
   "id": "7eb1c8ed-da77-4524-b7ec-c8c57bdf51c4",
   "metadata": {},
   "outputs": [
    {
     "data": {
      "text/plain": [
       "523776"
      ]
     },
     "execution_count": 9,
     "metadata": {},
     "output_type": "execute_result"
    }
   ],
   "source": [
    "recursive_traversal(create_balanced_tree(10), Sum())"
   ]
  },
  {
   "cell_type": "markdown",
   "id": "f6ec47e8-ad45-4ef4-93cc-8075b4b93477",
   "metadata": {},
   "source": [
    "The sum of the node values is $\\sum_{i=1{^{2^d - 1} i$, so for $d = 10$:"
   ]
  },
  {
   "cell_type": "code",
   "execution_count": 39,
   "id": "4478aa3c-0538-4566-975c-3a61e21568e4",
   "metadata": {},
   "outputs": [
    {
     "data": {
      "text/plain": [
       "523776"
      ]
     },
     "execution_count": 39,
     "metadata": {},
     "output_type": "execute_result"
    }
   ],
   "source": [
    "sum(range(1, 2**10))"
   ]
  },
  {
   "cell_type": "markdown",
   "id": "968dcfba-eb7e-40e7-81eb-091fae1790cb",
   "metadata": {},
   "source": [
    "The result is indeed correct."
   ]
  },
  {
   "cell_type": "markdown",
   "id": "f4513ea2-91c5-4111-bb95-b5ac41b06c9d",
   "metadata": {},
   "source": [
    "### Node value transformation"
   ]
  },
  {
   "cell_type": "markdown",
   "id": "757f7827-c049-4f89-84c5-bf5dc798dd59",
   "metadata": {},
   "source": [
    "You can use the implementation of `recursive_traaversal` as well to do node transformations, i.e., multiplying the value of each node by 2."
   ]
  },
  {
   "cell_type": "code",
   "execution_count": 41,
   "id": "fb720d20-1dcf-4e62-9465-887855b8ab42",
   "metadata": {},
   "outputs": [
    {
     "data": {
      "text/plain": [
       "1\n",
       "  2\n",
       "    4\n",
       "      None\n",
       "      None\n",
       "    5\n",
       "      None\n",
       "      None\n",
       "  3\n",
       "    6\n",
       "      None\n",
       "      None\n",
       "    7\n",
       "      None\n",
       "      None"
      ]
     },
     "execution_count": 41,
     "metadata": {},
     "output_type": "execute_result"
    }
   ],
   "source": [
    "tree = create_balanced_tree(3)\n",
    "tree"
   ]
  },
  {
   "cell_type": "code",
   "execution_count": 10,
   "id": "aee612d2-f10a-4231-a52e-17923812dc39",
   "metadata": {},
   "outputs": [],
   "source": [
    "def times_2(node):\n",
    "    node.value *= 2"
   ]
  },
  {
   "cell_type": "code",
   "execution_count": 43,
   "id": "29346fe5-9fa7-43c4-9918-99e3603fbbbd",
   "metadata": {},
   "outputs": [
    {
     "data": {
      "text/plain": [
       "2\n",
       "  4\n",
       "    8\n",
       "      None\n",
       "      None\n",
       "    10\n",
       "      None\n",
       "      None\n",
       "  6\n",
       "    12\n",
       "      None\n",
       "      None\n",
       "    14\n",
       "      None\n",
       "      None"
      ]
     },
     "execution_count": 43,
     "metadata": {},
     "output_type": "execute_result"
    }
   ],
   "source": [
    "recursive_traversal(tree, times_2)\n",
    "tree"
   ]
  },
  {
   "cell_type": "markdown",
   "id": "fa39307a-d748-4030-b333-aa5980e81ded",
   "metadata": {},
   "source": [
    "## Iterative implementation"
   ]
  },
  {
   "cell_type": "code",
   "execution_count": 11,
   "id": "3e515526-900b-4716-87e0-9925dbe9a8fb",
   "metadata": {},
   "outputs": [],
   "source": [
    "def iterative_traversal(tree: Tree, func: Callable) -> Any | None:\n",
    "    if tree.root is not None:\n",
    "        stack = [tree.root]\n",
    "        while stack:\n",
    "            node = stack.pop()\n",
    "            func(node)\n",
    "            if node.right is not None:\n",
    "                stack.append(node.right)\n",
    "            if node.left is not None:\n",
    "                stack.append(node.left)\n",
    "    return func.result() if hasattr(func, 'result') else None"
   ]
  },
  {
   "cell_type": "markdown",
   "id": "4c070b73-a2b5-4a6f-8734-92edbb5682cf",
   "metadata": {},
   "source": [
    "### Node value sum"
   ]
  },
  {
   "cell_type": "markdown",
   "id": "33506d89-67dd-4e30-aeb6-660dadd3c062",
   "metadata": {},
   "source": [
    "Using the `Sum` class defined above, you can again compute the sum of all node values."
   ]
  },
  {
   "cell_type": "code",
   "execution_count": 36,
   "id": "b348d206-3b83-47d9-a9a1-de388c8c3eca",
   "metadata": {},
   "outputs": [
    {
     "data": {
      "text/plain": [
       "6"
      ]
     },
     "execution_count": 36,
     "metadata": {},
     "output_type": "execute_result"
    }
   ],
   "source": [
    "iterative_traversal(create_balanced_tree(2), Sum())"
   ]
  },
  {
   "cell_type": "code",
   "execution_count": 37,
   "id": "6b35e4bf-f241-4eaf-8797-2ec45dd5c90e",
   "metadata": {},
   "outputs": [
    {
     "data": {
      "text/plain": [
       "523776"
      ]
     },
     "execution_count": 37,
     "metadata": {},
     "output_type": "execute_result"
    }
   ],
   "source": [
    "iterative_traversal(create_balanced_tree(10), Sum())"
   ]
  },
  {
   "cell_type": "markdown",
   "id": "b735e8d5-40e1-421e-861d-8b50de4d89f0",
   "metadata": {},
   "source": [
    "### Node value transoformations"
   ]
  },
  {
   "cell_type": "markdown",
   "id": "0b4b90b1-f359-4475-9fe9-111fcf2a5b8d",
   "metadata": {},
   "source": [
    "Again, just like for the recursive implemtation, the function `times_2` defined above can be used to multiply the value of each node by 2."
   ]
  },
  {
   "cell_type": "code",
   "execution_count": 44,
   "id": "08aa84c4-bb08-4cb4-b7ef-8caa53f62047",
   "metadata": {},
   "outputs": [
    {
     "data": {
      "text/plain": [
       "1\n",
       "  2\n",
       "    4\n",
       "      None\n",
       "      None\n",
       "    5\n",
       "      None\n",
       "      None\n",
       "  3\n",
       "    6\n",
       "      None\n",
       "      None\n",
       "    7\n",
       "      None\n",
       "      None"
      ]
     },
     "execution_count": 44,
     "metadata": {},
     "output_type": "execute_result"
    }
   ],
   "source": [
    "tree = create_balanced_tree(3)\n",
    "tree"
   ]
  },
  {
   "cell_type": "code",
   "execution_count": 45,
   "id": "c9d3edcb-630d-4012-b47a-af5780a9e000",
   "metadata": {},
   "outputs": [
    {
     "data": {
      "text/plain": [
       "2\n",
       "  4\n",
       "    8\n",
       "      None\n",
       "      None\n",
       "    10\n",
       "      None\n",
       "      None\n",
       "  6\n",
       "    12\n",
       "      None\n",
       "      None\n",
       "    14\n",
       "      None\n",
       "      None"
      ]
     },
     "execution_count": 45,
     "metadata": {},
     "output_type": "execute_result"
    }
   ],
   "source": [
    "iterative_traversal(tree, times_2)\n",
    "tree"
   ]
  },
  {
   "cell_type": "markdown",
   "id": "c01780e6-4ab3-4fa1-b3bf-1127b11d65fa",
   "metadata": {},
   "source": [
    "## Performance"
   ]
  },
  {
   "cell_type": "markdown",
   "id": "6127b916-982a-4827-8eb4-429148829aa2",
   "metadata": {},
   "source": [
    "To compare the performance of both impelementations, you can create a large tree."
   ]
  },
  {
   "cell_type": "code",
   "execution_count": 17,
   "id": "70e46fe1-cc2d-4dd1-92dd-193c1a5a4c9c",
   "metadata": {},
   "outputs": [],
   "source": [
    "large_tree = create_balanced_tree(20)"
   ]
  },
  {
   "cell_type": "code",
   "execution_count": 18,
   "id": "926a01a9-f0bf-48ec-9aca-a60a440abfe6",
   "metadata": {},
   "outputs": [
    {
     "name": "stdout",
     "output_type": "stream",
     "text": [
      "414 ms ± 9.94 ms per loop (mean ± std. dev. of 7 runs, 1 loop each)\n"
     ]
    }
   ],
   "source": [
    "%timeit recursive_traversal(large_tree, Sum())"
   ]
  },
  {
   "cell_type": "code",
   "execution_count": 19,
   "id": "aa4bd808-f735-4de3-90e2-ae00c676cf4a",
   "metadata": {},
   "outputs": [
    {
     "name": "stdout",
     "output_type": "stream",
     "text": [
      "249 ms ± 14.9 ms per loop (mean ± std. dev. of 7 runs, 1 loop each)\n"
     ]
    }
   ],
   "source": [
    "%timeit iterative_traversal(large_tree, Sum())"
   ]
  },
  {
   "cell_type": "markdown",
   "id": "9467e922-ed8a-4c8c-b033-ca79021821cc",
   "metadata": {},
   "source": [
    "It is clear that the iterative implementation outperforms the recursive implementation."
   ]
  },
  {
   "cell_type": "code",
   "execution_count": 20,
   "id": "15826e8d-55f4-4219-8161-c3d570f9b55d",
   "metadata": {},
   "outputs": [],
   "source": [
    "large_tree = create_balanced_tree(20)"
   ]
  },
  {
   "cell_type": "code",
   "execution_count": 21,
   "id": "79dc63ec-4c87-4a8f-b387-da8e57b31c46",
   "metadata": {},
   "outputs": [
    {
     "name": "stdout",
     "output_type": "stream",
     "text": [
      "271 ms ± 18 ms per loop (mean ± std. dev. of 7 runs, 1 loop each)\n"
     ]
    }
   ],
   "source": [
    "%timeit recursive_traversal(large_tree, times_2)"
   ]
  },
  {
   "cell_type": "code",
   "execution_count": 22,
   "id": "6b73e862-2bd7-4ebe-aa9c-cf8f58cec97b",
   "metadata": {},
   "outputs": [],
   "source": [
    "large_tree = create_balanced_tree(20)"
   ]
  },
  {
   "cell_type": "code",
   "execution_count": 23,
   "id": "5f186795-cd93-46a4-a45a-26f39e2892d4",
   "metadata": {},
   "outputs": [
    {
     "name": "stdout",
     "output_type": "stream",
     "text": [
      "197 ms ± 7.93 ms per loop (mean ± std. dev. of 7 runs, 1 loop each)\n"
     ]
    }
   ],
   "source": [
    "%timeit iterative_traversal(large_tree, times_2)"
   ]
  },
  {
   "cell_type": "markdown",
   "id": "6ef057d4-ea85-47ea-8dfc-cb1425154929",
   "metadata": {},
   "source": [
    "Also for this example, the iterative implementation is more efficient."
   ]
  },
  {
   "cell_type": "markdown",
   "id": "5ec7726f-b5f1-4a65-8558-0987e17c96dd",
   "metadata": {},
   "source": [
    "## Note"
   ]
  },
  {
   "cell_type": "markdown",
   "id": "dd539d1c-5634-4595-9f76-71355ab24c78",
   "metadata": {},
   "source": [
    "Although it might seem inefficient to use a list and `append` and `pop` to manage a stack, it is in fact quite efficient, and faster than pre-allocating a list and keeping track of the size of the stack separately."
   ]
  }
 ],
 "metadata": {
  "kernelspec": {
   "display_name": "Python 3 (ipykernel)",
   "language": "python",
   "name": "python3"
  },
  "language_info": {
   "codemirror_mode": {
    "name": "ipython",
    "version": 3
   },
   "file_extension": ".py",
   "mimetype": "text/x-python",
   "name": "python",
   "nbconvert_exporter": "python",
   "pygments_lexer": "ipython3",
   "version": "3.11.2"
  }
 },
 "nbformat": 4,
 "nbformat_minor": 5
}
