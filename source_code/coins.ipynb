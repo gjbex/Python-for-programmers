{
 "cells": [
  {
   "cell_type": "markdown",
   "id": "fc3d92f2-4bef-43fc-bb04-6982e2e97f8f",
   "metadata": {},
   "source": [
    "# Requirements"
   ]
  },
  {
   "cell_type": "code",
   "execution_count": 1,
   "id": "49cbc5f1-4572-4707-855c-16441fde7f13",
   "metadata": {},
   "outputs": [],
   "source": [
    "import functools"
   ]
  },
  {
   "cell_type": "markdown",
   "id": "bbfb799c-3fd0-48a0-820b-a6d70c39fadf",
   "metadata": {},
   "source": [
    "# Problem"
   ]
  },
  {
   "cell_type": "markdown",
   "id": "67a32c2f-e13f-4260-a255-783b3caabdda",
   "metadata": {},
   "source": [
    "Given a set of coin values $C$, e.g., $\\{1, 2, 5\\}$ and an amount of money $m$, find weights such that\n",
    "$$\n",
    "m = \\sum_{i} w_i c_i\n",
    "$$\n",
    "and the sum of weights $\\sum_i w_i$ is minimal.  Weights are positive integers."
   ]
  },
  {
   "cell_type": "markdown",
   "id": "64b0e69f-4e63-430c-bcee-c9dd1c690771",
   "metadata": {},
   "source": [
    "# Implementations"
   ]
  },
  {
   "cell_type": "markdown",
   "id": "4bab30c4-1fe6-47eb-9319-7e566f9a4a55",
   "metadata": {},
   "source": [
    "Various implementations are possible."
   ]
  },
  {
   "cell_type": "markdown",
   "id": "60af37c7-0865-4753-a97e-8ccefd50c898",
   "metadata": {},
   "source": [
    "## Greedy algorithms"
   ]
  },
  {
   "cell_type": "code",
   "execution_count": 2,
   "id": "006ad899-b916-4a57-a9b4-05107007c8ca",
   "metadata": {},
   "outputs": [],
   "source": [
    "def change_greedy(amount, input_coins):\n",
    "    coins = sorted(input_coins, reverse=True)\n",
    "    change = []\n",
    "    for coin in coins:\n",
    "        change.append(amount//coin)\n",
    "        amount %= coin\n",
    "    return dict(zip(coins, change))"
   ]
  },
  {
   "cell_type": "code",
   "execution_count": 3,
   "id": "4ce39264-0acb-4649-abde-9c3339964595",
   "metadata": {},
   "outputs": [
    {
     "data": {
      "text/plain": [
       "{5: 4, 2: 1, 1: 1}"
      ]
     },
     "execution_count": 3,
     "metadata": {},
     "output_type": "execute_result"
    }
   ],
   "source": [
    "change_greedy(23, [1, 2, 5])"
   ]
  },
  {
   "cell_type": "markdown",
   "id": "521df5c0-dfd3-43c7-8fc4-57e9cccf4499",
   "metadata": {},
   "source": [
    "This works, however, not for all sets of coins.  Consider, e.g., $\\{1, 3, 4\\}$ to give change for 6."
   ]
  },
  {
   "cell_type": "code",
   "execution_count": 4,
   "id": "fd2e20e1-2a00-4772-a590-035bb252516f",
   "metadata": {},
   "outputs": [
    {
     "data": {
      "text/plain": [
       "{4: 1, 3: 0, 1: 2}"
      ]
     },
     "execution_count": 4,
     "metadata": {},
     "output_type": "execute_result"
    }
   ],
   "source": [
    "change_greedy(6, [1, 3, 4])"
   ]
  },
  {
   "cell_type": "markdown",
   "id": "a9a19474-ae55-471b-b20d-7be03f15a90c",
   "metadata": {},
   "source": [
    "Although the change is correct, it is not minimal since you could use two coins of 3."
   ]
  },
  {
   "cell_type": "markdown",
   "id": "ffbcadca-ac69-4c57-abef-9e3199dc8d60",
   "metadata": {},
   "source": [
    "## Recursive algorithm"
   ]
  },
  {
   "cell_type": "code",
   "execution_count": 5,
   "id": "c99899e6-5216-4884-9c83-a398c7f187bc",
   "metadata": {},
   "outputs": [],
   "source": [
    "def change_recursive(amount, input_coins):\n",
    "    coins = sorted(input_coins, reverse=True)\n",
    "    def compute(amount, coins):\n",
    "        if len(coins) == 1:\n",
    "            return [amount//coins[0]]\n",
    "        best_change = [amount + 1]\n",
    "        for nr_coins in range(1 + amount//coins[0]):\n",
    "            change = [nr_coins]\n",
    "            remainder = amount - nr_coins*coins[0]\n",
    "            change.extend(compute(remainder, coins[1:]))\n",
    "            if sum(change) < sum(best_change):\n",
    "                best_change = change\n",
    "        return best_change\n",
    "    return dict(zip(coins, compute(amount, coins)))"
   ]
  },
  {
   "cell_type": "code",
   "execution_count": 6,
   "id": "140ac509-38ba-4f00-ab19-1b86bb260ea4",
   "metadata": {},
   "outputs": [
    {
     "data": {
      "text/plain": [
       "{5: 4, 2: 1, 1: 1}"
      ]
     },
     "execution_count": 6,
     "metadata": {},
     "output_type": "execute_result"
    }
   ],
   "source": [
    "change_recursive(23, [1, 2, 5])"
   ]
  },
  {
   "cell_type": "code",
   "execution_count": 7,
   "id": "1800a10b-0146-4f90-a6bc-388da234ff81",
   "metadata": {},
   "outputs": [
    {
     "data": {
      "text/plain": [
       "{4: 0, 3: 2, 1: 0}"
      ]
     },
     "execution_count": 7,
     "metadata": {},
     "output_type": "execute_result"
    }
   ],
   "source": [
    "change_recursive(6, [1, 3, 4])"
   ]
  },
  {
   "cell_type": "markdown",
   "id": "6235d105-bba7-467e-a122-af4735450e79",
   "metadata": {},
   "source": [
    "Although it is correct, it is extremely slow.  In fact, it is $O(2^m)$."
   ]
  },
  {
   "cell_type": "code",
   "execution_count": 8,
   "id": "7dc31147-2c2c-4c28-b243-b37116a64113",
   "metadata": {},
   "outputs": [
    {
     "name": "stdout",
     "output_type": "stream",
     "text": [
      "388 µs ± 4.22 µs per loop (mean ± std. dev. of 7 runs, 1000 loops each)\n"
     ]
    }
   ],
   "source": [
    "%timeit change_recursive(123, [1, 2, 5])"
   ]
  },
  {
   "cell_type": "code",
   "execution_count": 9,
   "id": "6370ae16-679b-4bfe-8224-7000a8eb8c50",
   "metadata": {},
   "outputs": [
    {
     "name": "stdout",
     "output_type": "stream",
     "text": [
      "39.3 ms ± 623 µs per loop (mean ± std. dev. of 7 runs, 10 loops each)\n"
     ]
    }
   ],
   "source": [
    "%timeit change_recursive(1_234, [1, 2, 5])"
   ]
  },
  {
   "cell_type": "code",
   "execution_count": 10,
   "id": "679e7170-a5a1-4f12-ab97-7ae9073578c1",
   "metadata": {},
   "outputs": [
    {
     "name": "stdout",
     "output_type": "stream",
     "text": [
      "765 ns ± 6.53 ns per loop (mean ± std. dev. of 7 runs, 1000000 loops each)\n"
     ]
    }
   ],
   "source": [
    "%timeit change_greedy(1_234, [1, 2, 5])"
   ]
  },
  {
   "cell_type": "markdown",
   "id": "448bdbfe-e926-41e3-9dc0-b62218e991a3",
   "metadata": {},
   "source": [
    "## Memoization"
   ]
  },
  {
   "cell_type": "markdown",
   "id": "967da07d-b1b8-43e1-aebf-27b000d8f93d",
   "metadata": {},
   "source": [
    "Typically, memoization can help solve this kind of performance problem.  We can use the `lrucache` from `functools`."
   ]
  },
  {
   "cell_type": "code",
   "execution_count": 11,
   "id": "89e9dc96-fe36-423c-bea6-64d8e8e44be9",
   "metadata": {},
   "outputs": [],
   "source": [
    "def change_memoized(amount, coins):\n",
    "    coins = tuple(sorted(coins, reverse=True))\n",
    "    @functools.lru_cache\n",
    "    def compute(amount, coins):\n",
    "        if len(coins) == 1:\n",
    "            return [amount//coins[0]]\n",
    "        best_change = [amount + 1]\n",
    "        for nr_coins in range(1 + amount//coins[0]):\n",
    "            change = [nr_coins]\n",
    "            remainder = amount - nr_coins*coins[0]\n",
    "            change.extend(compute(remainder, coins[1:]))\n",
    "            if sum(change) < sum(best_change):\n",
    "                best_change = change\n",
    "        return best_change\n",
    "    return dict(zip(coins, compute(amount, coins)))"
   ]
  },
  {
   "cell_type": "code",
   "execution_count": 12,
   "id": "bc9dc9de-93f4-4e20-8839-1bd5c17dfa36",
   "metadata": {},
   "outputs": [
    {
     "data": {
      "text/plain": [
       "{5: 4, 2: 1, 1: 1}"
      ]
     },
     "execution_count": 12,
     "metadata": {},
     "output_type": "execute_result"
    }
   ],
   "source": [
    "change_memoized(23, [1, 2, 5])"
   ]
  },
  {
   "cell_type": "markdown",
   "id": "bfdf99ab-249f-47fa-aa15-8b7233a5a726",
   "metadata": {},
   "source": [
    "However, it doesn't in this case, so a hand-tuned implementation would be required."
   ]
  },
  {
   "cell_type": "code",
   "execution_count": 13,
   "id": "b18cdb53-4e4c-4eb6-8d41-378c3f3007f8",
   "metadata": {},
   "outputs": [
    {
     "name": "stdout",
     "output_type": "stream",
     "text": [
      "38.8 ms ± 501 µs per loop (mean ± std. dev. of 7 runs, 10 loops each)\n"
     ]
    }
   ],
   "source": [
    "%timeit change_recursive(1_234, [1, 2, 5])"
   ]
  },
  {
   "cell_type": "code",
   "execution_count": 14,
   "id": "b1ee1282-5c42-47fa-b858-52bd3d5cb0d5",
   "metadata": {},
   "outputs": [
    {
     "name": "stdout",
     "output_type": "stream",
     "text": [
      "47.5 ms ± 1.36 ms per loop (mean ± std. dev. of 7 runs, 10 loops each)\n"
     ]
    }
   ],
   "source": [
    "%timeit change_memoized(1_234, [1, 2, 5])"
   ]
  },
  {
   "cell_type": "markdown",
   "id": "6cbc626e-ecb7-4494-9252-9632ca6d4ac2",
   "metadata": {},
   "source": [
    "## Dynamic progamming"
   ]
  },
  {
   "cell_type": "markdown",
   "id": "7f146698-2a59-4c9f-b5a1-48a9308645f7",
   "metadata": {},
   "source": [
    "For this type of problem, dynamic programming is a nice solution.  The complexity of this algorithm is $O(m|C|)$, so linear in $m$ rather than exponential."
   ]
  },
  {
   "cell_type": "code",
   "execution_count": 15,
   "id": "2bf8f8f2-647d-4db7-a9ec-2d54d4ae20d8",
   "metadata": {},
   "outputs": [],
   "source": [
    "def change_dynamic_programming(amount, input_coins):\n",
    "    coins = sorted(input_coins)\n",
    "    table = [list(range(amount + 1))]\n",
    "    for coin in coins[1:]:\n",
    "        if coin > amount:\n",
    "            break\n",
    "        row = table[-1][:coin]\n",
    "        row.append(1)\n",
    "        for value in range(coin + 1, amount + 1):\n",
    "            row.append(min(table[-1][value], 1 + row[value - coin]))\n",
    "        table.append(row)\n",
    "    change = {coin: 0 for coin in coins}\n",
    "    i, j = len(table) - 1, len(table[-1]) - 1\n",
    "    while table[i][j] > 0:\n",
    "        if i > 0 and table[i][j] == table[i - 1][j]:\n",
    "            i -= 1\n",
    "        elif j >= coins[i]:\n",
    "            change[coins[i]] += 1\n",
    "            j -= coins[i]\n",
    "    return change"
   ]
  },
  {
   "cell_type": "code",
   "execution_count": 16,
   "id": "1b08ab97-d918-45bb-90f4-6f348f2cfc0f",
   "metadata": {},
   "outputs": [
    {
     "data": {
      "text/plain": [
       "{1: 1, 2: 1, 5: 4}"
      ]
     },
     "execution_count": 16,
     "metadata": {},
     "output_type": "execute_result"
    }
   ],
   "source": [
    "change_dynamic_programming(23, [1, 2, 5])"
   ]
  },
  {
   "cell_type": "code",
   "execution_count": 17,
   "id": "ae91eebb-83b5-4b30-bc55-b6852ca74e48",
   "metadata": {},
   "outputs": [
    {
     "data": {
      "text/plain": [
       "{1: 0, 3: 2, 4: 0}"
      ]
     },
     "execution_count": 17,
     "metadata": {},
     "output_type": "execute_result"
    }
   ],
   "source": [
    "change_dynamic_programming(6, [1, 3, 4])"
   ]
  },
  {
   "cell_type": "code",
   "execution_count": 18,
   "id": "954962f8-f247-4732-8047-2d2dca59a786",
   "metadata": {},
   "outputs": [
    {
     "name": "stdout",
     "output_type": "stream",
     "text": [
      "38.3 ms ± 412 µs per loop (mean ± std. dev. of 7 runs, 10 loops each)\n"
     ]
    }
   ],
   "source": [
    "%timeit change_recursive(1_234, [1, 2, 5])"
   ]
  },
  {
   "cell_type": "code",
   "execution_count": 19,
   "id": "c7d36a56-4b10-4b5d-a608-9a9f02717874",
   "metadata": {},
   "outputs": [
    {
     "name": "stdout",
     "output_type": "stream",
     "text": [
      "563 µs ± 4.12 µs per loop (mean ± std. dev. of 7 runs, 1000 loops each)\n"
     ]
    }
   ],
   "source": [
    "%timeit change_dynamic_programming(1_234, [1, 2, 5])"
   ]
  },
  {
   "cell_type": "code",
   "execution_count": 20,
   "id": "6c08e74b-753b-4639-a64c-cd8c33c853f0",
   "metadata": {},
   "outputs": [
    {
     "name": "stdout",
     "output_type": "stream",
     "text": [
      "761 ns ± 9.45 ns per loop (mean ± std. dev. of 7 runs, 1000000 loops each)\n"
     ]
    }
   ],
   "source": [
    "%timeit change_greedy(1_234, [1, 2, 5])"
   ]
  },
  {
   "cell_type": "markdown",
   "id": "624fae83-27dd-42df-8c33-cad87b962040",
   "metadata": {},
   "source": [
    "Dynamic programming is of course slower than the greedy algorithm, but it produces the correct result for weird coinage."
   ]
  },
  {
   "cell_type": "markdown",
   "id": "84c1f481-3aca-4771-9568-6216ded149eb",
   "metadata": {},
   "source": [
    "# Verification"
   ]
  },
  {
   "cell_type": "markdown",
   "id": "f247d14e-cd54-4a74-9de0-ca935d0886de",
   "metadata": {},
   "source": [
    "For the coinage $\\{1, 2, 5\\}$ all three algoritmns should produce the same result."
   ]
  },
  {
   "cell_type": "code",
   "execution_count": 21,
   "id": "62b04e7f-d5c0-4025-953c-0ac299c54c8e",
   "metadata": {},
   "outputs": [
    {
     "name": "stdout",
     "output_type": "stream",
     "text": [
      "0 failures\n"
     ]
    }
   ],
   "source": [
    "coins = [1, 2, 5]\n",
    "failures = 0\n",
    "for amount in range(1, 25):\n",
    "    target = change_greedy(amount, coins)\n",
    "    for func in (change_recursive, change_memoized, change_dynamic_programming):\n",
    "        if func(amount, coins) != target:\n",
    "            print(f'failure for {amount} using {func.name}')\n",
    "            failures += 1\n",
    "print(f'{failures} failures')"
   ]
  },
  {
   "cell_type": "markdown",
   "id": "85ee4a40-d717-48e1-9c1f-484c6eddde50",
   "metadata": {},
   "source": [
    "Of course, dynamic programming and the recursive algorithm should yield the same result."
   ]
  },
  {
   "cell_type": "code",
   "execution_count": 22,
   "id": "d76b3108-251c-4bc4-bb04-297f85380c51",
   "metadata": {},
   "outputs": [
    {
     "name": "stdout",
     "output_type": "stream",
     "text": [
      "0 failures\n"
     ]
    }
   ],
   "source": [
    "coins = [1, 3, 4]\n",
    "failures = 0\n",
    "for amount in range(1, 101):\n",
    "    if change_recursive(amount, coins) != change_dynamic_programming(amount, coins):\n",
    "        print(amount)\n",
    "        failures += 1\n",
    "print(f'{failures} failures')"
   ]
  },
  {
   "cell_type": "markdown",
   "id": "ae653861-3e40-4a70-9216-2e9e08c323be",
   "metadata": {},
   "source": [
    "Out of curiosity, lets see how often dynamic programming deviates from the greedy algorithm."
   ]
  },
  {
   "cell_type": "code",
   "execution_count": 23,
   "id": "1ff9e5a6-df1b-4cef-b03e-6df633d2ee10",
   "metadata": {},
   "outputs": [
    {
     "name": "stdout",
     "output_type": "stream",
     "text": [
      "6\n",
      "9\n",
      "10\n",
      "13\n",
      "14\n",
      "17\n",
      "18\n",
      "21\n",
      "22\n",
      "25\n",
      "26\n",
      "29\n",
      "30\n",
      "33\n",
      "34\n",
      "37\n",
      "38\n",
      "41\n",
      "42\n",
      "45\n",
      "46\n",
      "49\n",
      "50\n",
      "53\n",
      "54\n",
      "57\n",
      "58\n",
      "61\n",
      "62\n",
      "65\n",
      "66\n",
      "69\n",
      "70\n",
      "73\n",
      "74\n",
      "77\n",
      "78\n",
      "81\n",
      "82\n",
      "85\n",
      "86\n",
      "89\n",
      "90\n",
      "93\n",
      "94\n",
      "97\n",
      "98\n",
      "47 failures\n"
     ]
    }
   ],
   "source": [
    "coins = [1, 3, 4]\n",
    "failures = 0\n",
    "for amount in range(1, 101):\n",
    "    if change_greedy(amount, coins) != change_dynamic_programming(amount, coins):\n",
    "        print(amount)\n",
    "        failures += 1\n",
    "print(f'{failures} failures')"
   ]
  }
 ],
 "metadata": {
  "kernelspec": {
   "display_name": "Python 3 (ipykernel)",
   "language": "python",
   "name": "python3"
  },
  "language_info": {
   "codemirror_mode": {
    "name": "ipython",
    "version": 3
   },
   "file_extension": ".py",
   "mimetype": "text/x-python",
   "name": "python",
   "nbconvert_exporter": "python",
   "pygments_lexer": "ipython3",
   "version": "3.9.7"
  }
 },
 "nbformat": 4,
 "nbformat_minor": 5
}
