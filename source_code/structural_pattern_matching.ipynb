{
 "cells": [
  {
   "cell_type": "markdown",
   "id": "c35a72d7-06f8-4dc0-97d8-b48a670cdefa",
   "metadata": {},
   "source": [
    "# Requirements"
   ]
  },
  {
   "cell_type": "code",
   "execution_count": 20,
   "id": "21660f53-c34b-49ce-ae30-89bc1ed276b1",
   "metadata": {},
   "outputs": [],
   "source": [
    "from dataclasses import dataclass\n",
    "import math\n",
    "import operator\n",
    "import re\n",
    "import sys\n",
    "from types import SimpleNamespace"
   ]
  },
  {
   "cell_type": "markdown",
   "id": "f79158c1-2c0e-4aed-b8a5-667bf804a6b4",
   "metadata": {},
   "source": [
    "# Problem setting"
   ]
  },
  {
   "cell_type": "markdown",
   "id": "e3224001-1f4c-4b78-a84a-d87a6a531bb5",
   "metadata": {},
   "source": [
    "Structural pattern matching is a very powerful feature that has the potential to make intricate code much easier to write, read and maintain."
   ]
  },
  {
   "cell_type": "markdown",
   "id": "5dff0786-2990-41f8-8676-ae8b9c78c6c2",
   "metadata": {},
   "source": [
    "# Simple example: RPN calculator"
   ]
  },
  {
   "cell_type": "markdown",
   "id": "ebb80a7e-30ae-4863-8146-9b63178802c7",
   "metadata": {},
   "source": [
    "Consider the example of an evaluator for arithmetic expressions in reverse Polish notation.  It evalues expressions such as `('+', ('*', 3, 7), 3)` (equivalent to `3*7 + 5`), and raises an exception if an expression can't be matched."
   ]
  },
  {
   "cell_type": "code",
   "execution_count": 2,
   "id": "9190635a-9e51-4931-ba26-76bca14d8fe8",
   "metadata": {
    "tags": []
   },
   "outputs": [],
   "source": [
    "class RpnEvaluator:\n",
    "    \n",
    "    def __init__(self):\n",
    "        self._ops = {\n",
    "            '+': operator.add,\n",
    "            '-': operator.sub,\n",
    "            '*': operator.mul,\n",
    "            '/': operator.truediv,\n",
    "            '^': operator.pow,\n",
    "        }\n",
    "        self._funcs = {\n",
    "            'sqrt': math.sqrt,\n",
    "        }\n",
    "        \n",
    "    def is_operator(self, op):\n",
    "        return op in self._ops\n",
    "    \n",
    "    def is_function(self, func):\n",
    "        return func in self._funcs\n",
    "    \n",
    "    def eval(self, expr):\n",
    "        match expr:\n",
    "            case (func, arg) if self.is_function(func):\n",
    "                return self._funcs[func](self.eval(arg))\n",
    "            case (op, lhs, rhs) if self.is_operator(op):\n",
    "                return self._ops[op](self.eval(lhs), self.eval(rhs))\n",
    "            case value if isinstance(value, int) or isinstance(value, float):\n",
    "                return float(value)\n",
    "            case _:\n",
    "                raise ValueError(f'{expr} can not be matched')"
   ]
  },
  {
   "cell_type": "markdown",
   "id": "6a6b1506-3dd6-42a4-a0fb-04f890e9255f",
   "metadata": {},
   "source": [
    "For convenience, we use the functions defined in the `operator` module, it would of course be possible to implement this using lambda functions as well."
   ]
  },
  {
   "cell_type": "markdown",
   "id": "9ac36414-082b-4bfe-93d9-402557cb9e90",
   "metadata": {},
   "source": [
    "Now you can instantiate an evaluator."
   ]
  },
  {
   "cell_type": "code",
   "execution_count": 3,
   "id": "5b54a1f1-36a0-4a29-a72f-ad074f865ad0",
   "metadata": {},
   "outputs": [],
   "source": [
    "evaluator = RpnEvaluator()"
   ]
  },
  {
   "cell_type": "markdown",
   "id": "6b2fe41a-6d56-40b2-a4fe-baa8a640f732",
   "metadata": {},
   "source": [
    "## Examples"
   ]
  },
  {
   "cell_type": "code",
   "execution_count": 4,
   "id": "2d5db383-8c7f-4a2c-abf8-da88fcfff012",
   "metadata": {},
   "outputs": [
    {
     "data": {
      "text/plain": [
       "24.0"
      ]
     },
     "execution_count": 4,
     "metadata": {},
     "output_type": "execute_result"
    }
   ],
   "source": [
    "evaluator.eval(('+', ('*', 3, 7), 3))"
   ]
  },
  {
   "cell_type": "code",
   "execution_count": 5,
   "id": "ef443bba-35bc-419c-bc54-d3f42f60753f",
   "metadata": {},
   "outputs": [
    {
     "data": {
      "text/plain": [
       "5.000000000000001"
      ]
     },
     "execution_count": 5,
     "metadata": {},
     "output_type": "execute_result"
    }
   ],
   "source": [
    "evaluator.eval(('*', ('sqrt', 5), ('sqrt', 5)))"
   ]
  },
  {
   "cell_type": "code",
   "execution_count": 6,
   "id": "fff43b46-c127-4f28-81f3-da391b435775",
   "metadata": {},
   "outputs": [
    {
     "data": {
      "text/plain": [
       "8.0"
      ]
     },
     "execution_count": 6,
     "metadata": {},
     "output_type": "execute_result"
    }
   ],
   "source": [
    "evaluator.eval(('^', 2, 3))"
   ]
  },
  {
   "cell_type": "markdown",
   "id": "2003789b-d281-4a66-ad88-be0af5edbe1f",
   "metadata": {},
   "source": [
    "## Error handling"
   ]
  },
  {
   "cell_type": "markdown",
   "id": "ce51545e-37a3-42ee-b0a2-4a44adf5a325",
   "metadata": {},
   "source": [
    "When you try to evaluate an expression that contains errors, the matching fails."
   ]
  },
  {
   "cell_type": "code",
   "execution_count": 8,
   "id": "92abbd18-76fe-4b89-890e-b4da90cf5d27",
   "metadata": {},
   "outputs": [
    {
     "name": "stdout",
     "output_type": "stream",
     "text": [
      "a can not be matched\n"
     ]
    }
   ],
   "source": [
    "try:\n",
    "    evaluator.eval(('+', 'a', 5))\n",
    "except ValueError as e:\n",
    "    print(e)"
   ]
  },
  {
   "cell_type": "code",
   "execution_count": 9,
   "id": "1dbf56eb-5253-46b3-9781-3604857a0ca4",
   "metadata": {},
   "outputs": [
    {
     "name": "stdout",
     "output_type": "stream",
     "text": [
      "('**', 3, 5) can not be matched\n"
     ]
    }
   ],
   "source": [
    "try:\n",
    "    evaluator.eval(('**', 3, 5))\n",
    "except ValueError as e:\n",
    "    print(e)"
   ]
  },
  {
   "cell_type": "code",
   "execution_count": 10,
   "id": "c5eb5e3a-344e-42fd-83b3-63cd7fdc034b",
   "metadata": {},
   "outputs": [
    {
     "name": "stdout",
     "output_type": "stream",
     "text": [
      "('+', 3) can not be matched\n"
     ]
    }
   ],
   "source": [
    "try:\n",
    "    evaluator.eval(('+', 3))\n",
    "except ValueError as e:\n",
    "    print(e)"
   ]
  },
  {
   "cell_type": "markdown",
   "id": "733aa703-2081-4a0d-9817-5ef7ac1e480e",
   "metadata": {},
   "source": [
    "# Matching regular expressions"
   ]
  },
  {
   "cell_type": "markdown",
   "id": "a9997bba-bec0-4924-9898-56158041e995",
   "metadata": {},
   "source": [
    "There is no direct support for matching regular expressions using Python's `match` statement.  However, `match` relies on `__eq__`, so defining a class that implements that will do the trick."
   ]
  },
  {
   "cell_type": "code",
   "execution_count": 14,
   "id": "48b27187-3a69-4f18-8a18-565c68b9e06c",
   "metadata": {},
   "outputs": [],
   "source": [
    "@dataclass\n",
    "class ReEqual(str):\n",
    "    \n",
    "    text: str\n",
    "    match: re.Match = None\n",
    "    \n",
    "    def __eq__(self, pattern):\n",
    "        self.match = re.search(pattern, self.text)\n",
    "        return self.match is not None"
   ]
  },
  {
   "cell_type": "code",
   "execution_count": 15,
   "id": "2b686267-c014-4687-b257-51b55fc28755",
   "metadata": {},
   "outputs": [
    {
     "data": {
      "text/plain": [
       "True"
      ]
     },
     "execution_count": 15,
     "metadata": {},
     "output_type": "execute_result"
    }
   ],
   "source": [
    "ReEqual('E5') == '^[A-H][1-8]$'"
   ]
  },
  {
   "cell_type": "code",
   "execution_count": 16,
   "id": "18ba1d8d-71dc-4408-95f7-0dc76e0e3894",
   "metadata": {},
   "outputs": [
    {
     "data": {
      "text/plain": [
       "False"
      ]
     },
     "execution_count": 16,
     "metadata": {},
     "output_type": "execute_result"
    }
   ],
   "source": [
    "ReEqual('E9') == '^[A-H][1-8]$'"
   ]
  },
  {
   "cell_type": "code",
   "execution_count": 19,
   "id": "a828f7b9-86e0-45ac-b8b8-177ad7a647a2",
   "metadata": {},
   "outputs": [
    {
     "name": "stdout",
     "output_type": "stream",
     "text": [
      "A3: mid field\n",
      "B1: white home row\n",
      "C8: black home row\n",
      "D7: black home row\n"
     ]
    },
    {
     "name": "stderr",
     "output_type": "stream",
     "text": [
      "A9: invalid position\n",
      "B11: invalid position\n",
      "AA5: invalid position\n"
     ]
    }
   ],
   "source": [
    "for pos in ('A3', 'B1', 'C8', 'D7', 'A9', 'B11', 'AA5'):\n",
    "    match ReEqual(pos):\n",
    "        case r'^[A-H][1-2]$':\n",
    "            print(f'{pos}: white home row')\n",
    "        case r'^[A-H][7-8]$':\n",
    "            print(f'{pos}: black home row')\n",
    "        case r'^[A-H][1-8]$':\n",
    "            print(f'{pos}: mid field')\n",
    "        case _:\n",
    "            print(f'{pos}: invalid position', file=sys.stderr)"
   ]
  },
  {
   "cell_type": "markdown",
   "id": "030ed56d-4586-4466-88a2-8a4b469a84e1",
   "metadata": {},
   "source": [
    "## Alternative"
   ]
  },
  {
   "cell_type": "markdown",
   "id": "6fd3f7d1-a96f-4e1a-9040-a29bfa5c599e",
   "metadata": {},
   "source": [
    "An alternative approach would be to create a class that represents the pattern to match, rather then the string to match."
   ]
  },
  {
   "cell_type": "code",
   "execution_count": 35,
   "id": "c8ffc0d5-0d9c-493a-b6da-5f7439a1ac18",
   "metadata": {},
   "outputs": [],
   "source": [
    "@dataclass\n",
    "class ReMatcher:\n",
    "    pattern: str\n",
    "    \n",
    "    def __eq__(self, string):\n",
    "        return re.match(self.pattern, string) is not None"
   ]
  },
  {
   "cell_type": "code",
   "execution_count": 36,
   "id": "08207361-0851-40e6-8df7-cfd3155a5d90",
   "metadata": {},
   "outputs": [],
   "source": [
    "categories = SimpleNamespace(\n",
    "    white_home=ReMatcher('^[A-H][1-2]$'),\n",
    "    black_home=ReMatcher('^[A-H][7-8]$'),\n",
    "    midfield=ReMatcher('^[A-H][3-6]$'),\n",
    ")"
   ]
  },
  {
   "cell_type": "code",
   "execution_count": 38,
   "id": "8e2abaf3-981c-4153-b55a-e46c831c7d13",
   "metadata": {},
   "outputs": [
    {
     "name": "stdout",
     "output_type": "stream",
     "text": [
      "A3: mid field\n",
      "B1: white home row\n",
      "C8: black home row\n",
      "D7: black home row\n"
     ]
    },
    {
     "name": "stderr",
     "output_type": "stream",
     "text": [
      "A9: invalid position\n",
      "B11: invalid position\n",
      "AA5: invalid position\n"
     ]
    }
   ],
   "source": [
    "for pos in ('A3', 'B1', 'C8', 'D7', 'A9', 'B11', 'AA5'):\n",
    "    match pos:\n",
    "        case categories.white_home:\n",
    "            print(f'{pos}: white home row')\n",
    "        case categories.black_home:\n",
    "            print(f'{pos}: black home row')\n",
    "        case categories.midfield:\n",
    "            print(f'{pos}: mid field')\n",
    "        case _:\n",
    "            print(f'{pos}: invalid position', file=sys.stderr)"
   ]
  },
  {
   "cell_type": "markdown",
   "id": "9f0855bc-2c4a-4141-a824-403caa0147af",
   "metadata": {},
   "source": [
    "The `SimpleNamespace` is required because just using `fruit` or `vegetable` variables would capture the match."
   ]
  },
  {
   "cell_type": "markdown",
   "id": "dd4ca4e7-a1a3-4348-b436-83401f6785a9",
   "metadata": {},
   "source": [
    "# Set membership"
   ]
  },
  {
   "cell_type": "markdown",
   "id": "0163c55a-205e-422a-a902-0d0d1c518082",
   "metadata": {},
   "source": [
    "Just like for regular expressions, set membership is also not supported by Python's `match` statement, but a similar trick can be applied."
   ]
  },
  {
   "cell_type": "code",
   "execution_count": 29,
   "id": "8523937a-72c4-48f2-a2f8-470ec85882ee",
   "metadata": {},
   "outputs": [],
   "source": [
    "class SetEqual(set):\n",
    "    \n",
    "    def __eq__(self, text):\n",
    "        return text in self"
   ]
  },
  {
   "cell_type": "code",
   "execution_count": 30,
   "id": "6aab1082-8171-48d5-a8f4-e2525d8e50b6",
   "metadata": {},
   "outputs": [
    {
     "data": {
      "text/plain": [
       "True"
      ]
     },
     "execution_count": 30,
     "metadata": {},
     "output_type": "execute_result"
    }
   ],
   "source": [
    "SetEqual({'apple', 'pear', 'cherry'}) == 'apple'"
   ]
  },
  {
   "cell_type": "code",
   "execution_count": 31,
   "id": "7820ea33-cc1b-4784-a70d-382cce67a1ad",
   "metadata": {},
   "outputs": [
    {
     "data": {
      "text/plain": [
       "False"
      ]
     },
     "execution_count": 31,
     "metadata": {},
     "output_type": "execute_result"
    }
   ],
   "source": [
    "SetEqual({'apple', 'pear', 'cherry'}) == 'nut'"
   ]
  },
  {
   "cell_type": "code",
   "execution_count": 33,
   "id": "abac8b58-3597-4940-98ff-23aaa28f1764",
   "metadata": {},
   "outputs": [],
   "source": [
    "food = SimpleNamespace(\n",
    "    fruit=SetEqual({'apple', 'pear'}),\n",
    "    vegatable=SetEqual({'sprout', 'salad'}),\n",
    ")"
   ]
  },
  {
   "cell_type": "code",
   "execution_count": 34,
   "id": "f4d37a64-45c7-4122-9062-f65752e64188",
   "metadata": {},
   "outputs": [
    {
     "name": "stdout",
     "output_type": "stream",
     "text": [
      "apple is fruit\n",
      "sprout is vegetable\n",
      "salad is vegetable\n",
      "pear is fruit\n"
     ]
    },
    {
     "name": "stderr",
     "output_type": "stream",
     "text": [
      "nut is unknown\n",
      "parsnip is unknown\n"
     ]
    }
   ],
   "source": [
    "for stuff in ['apple', 'nut', 'sprout', 'salad', 'pear', 'parsnip']:\n",
    "    match stuff:\n",
    "        case food.fruit:\n",
    "            print(f'{stuff} is fruit')\n",
    "        case food.vegatable:\n",
    "            print(f'{stuff} is vegetable')\n",
    "        case _:\n",
    "            print(f'{stuff} is unknown', file=sys.stderr)"
   ]
  },
  {
   "cell_type": "markdown",
   "id": "f32d0a8e-e92f-44f0-85d2-02b2d610e9d1",
   "metadata": {},
   "source": [
    "The `SimpleNamespace` is required because just using `fruit` or `vegetable` variables would capture the match."
   ]
  },
  {
   "cell_type": "markdown",
   "id": "c263726d-89d8-4261-929e-a5e6f41253d3",
   "metadata": {},
   "source": [
    "# Matching types"
   ]
  },
  {
   "cell_type": "markdown",
   "id": "c0a0c684-8666-465b-a436-cbc5dedba77f",
   "metadata": {},
   "source": [
    "Again, matching against built-in types is not entirely straightforward, but it is supported by the `match` statements."
   ]
  },
  {
   "cell_type": "code",
   "execution_count": 40,
   "id": "10df7ce0-7743-4536-9181-7210d194d6ff",
   "metadata": {},
   "outputs": [
    {
     "name": "stdout",
     "output_type": "stream",
     "text": [
      "\"abc\" is a string\n",
      "3 is an integer\n",
      "\"\" is a string\n",
      "5.2 is a float\n",
      "-8 is an integer\n"
     ]
    },
    {
     "name": "stderr",
     "output_type": "stream",
     "text": [
      "no idea what {} is\n"
     ]
    }
   ],
   "source": [
    "for item in ('abc', 3, '', 5.2, -8, {}):\n",
    "    match item:\n",
    "        case str():\n",
    "            print(f'\"{item}\" is a string')\n",
    "        case int():\n",
    "            print(f'{item} is an integer')\n",
    "        case float():\n",
    "            print(f'{item} is a float')\n",
    "        case _:\n",
    "            print(f'no idea what {item} is', file=sys.stderr)"
   ]
  }
 ],
 "metadata": {
  "kernelspec": {
   "display_name": "Python 3 (ipykernel)",
   "language": "python",
   "name": "python3"
  },
  "language_info": {
   "codemirror_mode": {
    "name": "ipython",
    "version": 3
   },
   "file_extension": ".py",
   "mimetype": "text/x-python",
   "name": "python",
   "nbconvert_exporter": "python",
   "pygments_lexer": "ipython3",
   "version": "3.10.4"
  }
 },
 "nbformat": 4,
 "nbformat_minor": 5
}
