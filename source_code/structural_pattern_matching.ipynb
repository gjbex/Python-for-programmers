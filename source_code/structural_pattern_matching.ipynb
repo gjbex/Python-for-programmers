{
 "cells": [
  {
   "cell_type": "markdown",
   "id": "c35a72d7-06f8-4dc0-97d8-b48a670cdefa",
   "metadata": {},
   "source": [
    "# Requirements"
   ]
  },
  {
   "cell_type": "code",
   "execution_count": 18,
   "id": "21660f53-c34b-49ce-ae30-89bc1ed276b1",
   "metadata": {},
   "outputs": [],
   "source": [
    "import math\n",
    "import operator"
   ]
  },
  {
   "cell_type": "markdown",
   "id": "f79158c1-2c0e-4aed-b8a5-667bf804a6b4",
   "metadata": {},
   "source": [
    "# Problem setting"
   ]
  },
  {
   "cell_type": "markdown",
   "id": "1713d23d-5387-4197-b19f-f291a283a387",
   "metadata": {},
   "source": [
    "Structural pattern matching is a very powerful feature that has the potential to make intricate code much easier to write, read and maintain.\n",
    "\n",
    "Consider the example of an evaluator for arithmetic expressions in reverse Polish notation.  It evalues expressions such as `('+', ('*', 3, 7), 3)` (equivalent to `3*7 + 5`), and raises an exception if an expression can't be matched."
   ]
  },
  {
   "cell_type": "code",
   "execution_count": 80,
   "id": "9190635a-9e51-4931-ba26-76bca14d8fe8",
   "metadata": {
    "tags": []
   },
   "outputs": [],
   "source": [
    "class RpnEvaluator:\n",
    "    \n",
    "    def __init__(self):\n",
    "        self._ops = {\n",
    "            '+': operator.add,\n",
    "            '-': operator.sub,\n",
    "            '*': operator.mul,\n",
    "            '/': operator.truediv,\n",
    "            '^': operator.pow,\n",
    "        }\n",
    "        self._funcs = {\n",
    "            'sqrt': math.sqrt,\n",
    "        }\n",
    "        \n",
    "    def is_operator(self, op):\n",
    "        return op in self._ops\n",
    "    \n",
    "    def is_function(self, func):\n",
    "        return func in self._funcs\n",
    "    \n",
    "    def eval(self, expr):\n",
    "        match expr:\n",
    "            case (func, arg) if self.is_function(func):\n",
    "                return self._funcs[func](self.eval(arg))\n",
    "            case (op, lhs, rhs) if self.is_operator(op):\n",
    "                return self._ops[op](self.eval(lhs), self.eval(rhs))\n",
    "            case value if isinstance(value, int) or isinstance(value, float):\n",
    "                return float(value)\n",
    "            case _:\n",
    "                raise ValueError(f'{expr} can not be matched')"
   ]
  },
  {
   "cell_type": "code",
   "execution_count": 81,
   "id": "e8fc1363-2acf-4371-955e-d3641befb810",
   "metadata": {},
   "outputs": [],
   "source": [
    "evaluator = RpnEvaluator()"
   ]
  },
  {
   "cell_type": "code",
   "execution_count": 75,
   "id": "2d5db383-8c7f-4a2c-abf8-da88fcfff012",
   "metadata": {},
   "outputs": [
    {
     "data": {
      "text/plain": [
       "24.0"
      ]
     },
     "execution_count": 75,
     "metadata": {},
     "output_type": "execute_result"
    }
   ],
   "source": [
    "evaluator.eval(('+', ('*', 3, 7), 3))"
   ]
  },
  {
   "cell_type": "code",
   "execution_count": 67,
   "id": "ef443bba-35bc-419c-bc54-d3f42f60753f",
   "metadata": {},
   "outputs": [
    {
     "data": {
      "text/plain": [
       "5.000000000000001"
      ]
     },
     "execution_count": 67,
     "metadata": {},
     "output_type": "execute_result"
    }
   ],
   "source": [
    "evaluator.eval(('*', ('sqrt', 5), ('sqrt', 5)))"
   ]
  },
  {
   "cell_type": "code",
   "execution_count": 70,
   "id": "fff43b46-c127-4f28-81f3-da391b435775",
   "metadata": {},
   "outputs": [
    {
     "data": {
      "text/plain": [
       "8.0"
      ]
     },
     "execution_count": 70,
     "metadata": {},
     "output_type": "execute_result"
    }
   ],
   "source": [
    "evaluator.eval(('^', 2, 3))"
   ]
  },
  {
   "cell_type": "markdown",
   "id": "2003789b-d281-4a66-ad88-be0af5edbe1f",
   "metadata": {},
   "source": [
    "# Error handling"
   ]
  },
  {
   "cell_type": "markdown",
   "id": "ce51545e-37a3-42ee-b0a2-4a44adf5a325",
   "metadata": {},
   "source": [
    "When you try to evaluate an expression that contains errors, the matching fails."
   ]
  },
  {
   "cell_type": "code",
   "execution_count": 76,
   "id": "92abbd18-76fe-4b89-890e-b4da90cf5d27",
   "metadata": {},
   "outputs": [
    {
     "name": "stdout",
     "output_type": "stream",
     "text": [
      "a can not be matched\n"
     ]
    }
   ],
   "source": [
    "try:\n",
    "    evaluate(('+', 'a', 5))\n",
    "except ValueError as e:\n",
    "    print(e)"
   ]
  },
  {
   "cell_type": "code",
   "execution_count": 77,
   "id": "1dbf56eb-5253-46b3-9781-3604857a0ca4",
   "metadata": {},
   "outputs": [
    {
     "name": "stdout",
     "output_type": "stream",
     "text": [
      "('**', 3, 5) can not be matched\n"
     ]
    }
   ],
   "source": [
    "try:\n",
    "    evaluator.eval(('**', 3, 5))\n",
    "except ValueError as e:\n",
    "    print(e)"
   ]
  },
  {
   "cell_type": "code",
   "execution_count": 82,
   "id": "c5eb5e3a-344e-42fd-83b3-63cd7fdc034b",
   "metadata": {},
   "outputs": [
    {
     "name": "stdout",
     "output_type": "stream",
     "text": [
      "('+', 3) can not be matched\n"
     ]
    }
   ],
   "source": [
    "try:\n",
    "    evaluator.eval(('+', 3))\n",
    "except ValueError as e:\n",
    "    print(e)"
   ]
  }
 ],
 "metadata": {
  "kernelspec": {
   "display_name": "Python 3 (ipykernel)",
   "language": "python",
   "name": "python3"
  },
  "language_info": {
   "codemirror_mode": {
    "name": "ipython",
    "version": 3
   },
   "file_extension": ".py",
   "mimetype": "text/x-python",
   "name": "python",
   "nbconvert_exporter": "python",
   "pygments_lexer": "ipython3",
   "version": "3.10.0"
  }
 },
 "nbformat": 4,
 "nbformat_minor": 5
}
