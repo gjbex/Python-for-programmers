{
 "cells": [
  {
   "cell_type": "markdown",
   "id": "c7e3470f-f326-44ee-824a-e957688e3680",
   "metadata": {},
   "source": [
    "You would like to do some experiments with dice."
   ]
  },
  {
   "cell_type": "markdown",
   "id": "476016b8-9272-45a2-ba32-5a361c9152b9",
   "metadata": {},
   "source": [
    "## Requirements"
   ]
  },
  {
   "cell_type": "code",
   "execution_count": 1,
   "id": "2ac20b85-73c1-4d61-9af8-5f9314b5af62",
   "metadata": {},
   "outputs": [],
   "source": [
    "import collections\n",
    "import itertools\n",
    "import matplotlib.pyplot as plt\n",
    "%matplotlib inline\n",
    "import random"
   ]
  },
  {
   "cell_type": "markdown",
   "id": "94bd6e51-fa76-4ac8-8dfd-cc9c1d57a354",
   "metadata": {},
   "source": [
    "## Two dice"
   ]
  },
  {
   "cell_type": "markdown",
   "id": "be241b7f-fd01-4c6b-8a99-dd7db8ebdd34",
   "metadata": {},
   "source": [
    "When you throw two dice, what is the probability that the eyes will sum to 2, 3,..., 12?"
   ]
  },
  {
   "cell_type": "markdown",
   "id": "9b79d0ff-fb6e-4444-ac82-a09999d651f8",
   "metadata": {},
   "source": [
    "### Implementation"
   ]
  },
  {
   "cell_type": "markdown",
   "id": "c36b4eaf-eefd-42f2-84ca-ae8a1207bb43",
   "metadata": {},
   "source": [
    "The following function executes `nr_throws` independent throws with two fair dice and returns the sum of the eyes as a numpy array."
   ]
  },
  {
   "cell_type": "code",
   "execution_count": 2,
   "id": "62290a88-6e5b-4e93-8b82-bb33fbc0e55c",
   "metadata": {},
   "outputs": [
    {
     "data": {
      "text/plain": [
       "[4, 6, 5, 4, 3, 5, 3, 3, 1, 1]"
      ]
     },
     "execution_count": 2,
     "metadata": {},
     "output_type": "execute_result"
    }
   ],
   "source": [
    "random.choices(range(1, 6 + 1), k=10)"
   ]
  },
  {
   "cell_type": "code",
   "execution_count": null,
   "id": "cc008a57-3c6d-4f97-a1f0-fdd552b04b7e",
   "metadata": {},
   "outputs": [],
   "source": []
  },
  {
   "cell_type": "code",
   "execution_count": 3,
   "id": "47128a54-7ca8-44ee-abb6-963e5383ca47",
   "metadata": {},
   "outputs": [],
   "source": [
    "def throw_dice(nr_throws):\n",
    "    return list(map(sum,\n",
    "                    zip(random.choices(range(1, 6 + 1), k=nr_throws),\n",
    "                        random.choices(range(1, 6 + 1), k=nr_throws))))"
   ]
  },
  {
   "cell_type": "markdown",
   "id": "eda74362-376a-4008-a59c-4b671f0c493e",
   "metadata": {},
   "source": [
    "We generate data for 1,000 and 100,000 throws."
   ]
  },
  {
   "cell_type": "code",
   "execution_count": 4,
   "id": "ec00b082-22a2-478b-9388-ead42d0b6f59",
   "metadata": {},
   "outputs": [],
   "source": [
    "throws_1_000 = throw_dice(1_000)\n",
    "throws_100_000 = throw_dice(100_000)"
   ]
  },
  {
   "cell_type": "markdown",
   "id": "eba0c980-0975-424c-aa33-e5fd018cd1d0",
   "metadata": {},
   "source": [
    "We can now visualize the resulting distribution using Matplotlib's `hist` function.  We explicitely set the bins by specifying the boundaries.  Note that there are 11 bins, since we can throw any number between 2 and 12 inclusive using two dice.\n",
    "\n",
    "The data is normalized by the `hist` function when we set the argument `density` to `True`.  The subplots share the $y$-axis to make it easier to compare the results.  The ticks on the $x$-axis are set explicitly."
   ]
  },
  {
   "cell_type": "code",
   "execution_count": 6,
   "id": "960cc387-ba45-4c9e-960a-63013fbc34cf",
   "metadata": {},
   "outputs": [
    {
     "data": {
      "image/png": "[encoded data removed]",
      "text/plain": [
       "<Figure size 1000x500 with 2 Axes>"
      ]
     },
     "metadata": {},
     "output_type": "display_data"
    }
   ],
   "source": [
    "figure, axes = plt.subplots(1, 2, figsize=(10, 5), sharey=True)\n",
    "bins = [x + 0.5 for x in range(1, 13)]\n",
    "ticks = [float(x) for x in range(2, 13, 2)]\n",
    "for i, data in enumerate([throws_1_000, throws_100_000]):\n",
    "    axes[i].hist(data, bins=bins, density=True)\n",
    "    axes[i].set_xticks(ticks)\n",
    "figure.tight_layout()"
   ]
  },
  {
   "cell_type": "markdown",
   "id": "a04b757d-d693-4ab0-8be1-d45c2240da2b",
   "metadata": {},
   "source": [
    "## Sequences of dice rolls"
   ]
  },
  {
   "cell_type": "markdown",
   "id": "08159bd3-32ea-49fe-9b57-157dc913b7ec",
   "metadata": {},
   "source": [
    "When you roll a dice many times, what is the probability to roll two times the same eyes just after another, three times, four times and so on?\n",
    "\n",
    "First, we write a function to generate a sequence of dice rolls."
   ]
  },
  {
   "cell_type": "code",
   "execution_count": 7,
   "id": "3ca293c0-8f98-41d7-95aa-25466f649548",
   "metadata": {},
   "outputs": [],
   "source": [
    "def generate_rolls(nr_rolls):\n",
    "    return random.choices(range(1, 6 + 1), k=nr_rolls)"
   ]
  },
  {
   "cell_type": "code",
   "execution_count": 8,
   "id": "cfaabf1b-e373-4d88-8b51-f1d768e8e49f",
   "metadata": {},
   "outputs": [
    {
     "data": {
      "text/plain": [
       "[5, 3, 2, 1, 6, 3, 1, 1, 1, 5]"
      ]
     },
     "execution_count": 8,
     "metadata": {},
     "output_type": "execute_result"
    }
   ],
   "source": [
    "throws = generate_rolls(10)\n",
    "throws"
   ]
  },
  {
   "cell_type": "markdown",
   "id": "eff3060d-5fee-4585-b87d-564ae524135d",
   "metadata": {},
   "source": [
    "An easy approach is the use `itertools.groupby`, determine the length of the groups and tally those."
   ]
  },
  {
   "cell_type": "code",
   "execution_count": 9,
   "id": "602ec070-86d2-40df-8c66-0e6308bf6c14",
   "metadata": {},
   "outputs": [],
   "source": [
    "def count_repetitions(throws):\n",
    "    repetitions = collections.defaultdict(int)\n",
    "    for _, group in itertools.groupby(throws):\n",
    "        sequence_length = len(tuple(group))\n",
    "        repetitions[sequence_length] += 1\n",
    "    return repetitions"
   ]
  },
  {
   "cell_type": "code",
   "execution_count": 10,
   "id": "2c9ce07c-6e47-4396-a63f-1ae2b713ca11",
   "metadata": {},
   "outputs": [
    {
     "data": {
      "text/plain": [
       "defaultdict(int, {1: 7, 3: 1})"
      ]
     },
     "execution_count": 10,
     "metadata": {},
     "output_type": "execute_result"
    }
   ],
   "source": [
    "count_repetitions(throws)"
   ]
  },
  {
   "cell_type": "markdown",
   "id": "6075ed13-7000-4987-90aa-83e9fcdc5774",
   "metadata": {},
   "source": [
    "A second approach is to manually do the accounting.  This is potentially more error prone, and may or may not be faster than the `itertools` approach."
   ]
  },
  {
   "cell_type": "code",
   "execution_count": 11,
   "id": "d8d81eb5-f95e-418e-ab32-ab9cbd4c006f",
   "metadata": {},
   "outputs": [],
   "source": [
    "def count_repetitions_naive(throws):\n",
    "    repetitions = collections.defaultdict(int)\n",
    "    if len(throws) == 1:\n",
    "        repetitions[1] = 1\n",
    "    elif len(throws) > 1:\n",
    "        sequence_length = 1\n",
    "        previous_eyes = throws[0]\n",
    "        for eyes in throws[1:]:\n",
    "            if eyes == previous_eyes:\n",
    "                sequence_length += 1\n",
    "            else:\n",
    "                repetitions[sequence_length] += 1\n",
    "                previous_eyes = eyes\n",
    "                sequence_length = 1\n",
    "        else:\n",
    "            repetitions[sequence_length] += 1\n",
    "    return repetitions"
   ]
  },
  {
   "cell_type": "code",
   "execution_count": 12,
   "id": "405bdb84-c935-45d1-8919-c5365fa70796",
   "metadata": {},
   "outputs": [
    {
     "data": {
      "text/plain": [
       "defaultdict(int, {1: 7, 3: 1})"
      ]
     },
     "execution_count": 12,
     "metadata": {},
     "output_type": "execute_result"
    }
   ],
   "source": [
    "count_repetitions_naive(throws)"
   ]
  },
  {
   "cell_type": "markdown",
   "id": "335aef5c-096e-4129-b29f-72bd0ffe0729",
   "metadata": {},
   "source": [
    "The result is the same in both cases.\n",
    "\n",
    "However, it is good practice to test for a large number of sequences."
   ]
  },
  {
   "cell_type": "code",
   "execution_count": 13,
   "id": "d98c4775-64bc-4eb7-a349-e1a58b5e100f",
   "metadata": {},
   "outputs": [],
   "source": [
    "for _ in range(1_000):\n",
    "    nr_thorws = 1_000\n",
    "    throws = generate_rolls(nr_thorws)\n",
    "    counts = count_repetitions(throws)\n",
    "    counts_naive = count_repetitions_naive(throws)\n",
    "    assert counts_naive == counts, 'counts are not equal'"
   ]
  },
  {
   "cell_type": "markdown",
   "id": "817d068e-789f-497d-8d91-314da09241e5",
   "metadata": {},
   "source": [
    "Which implementation has the best performance?  We should test on a long sequence to obtain mainingful results."
   ]
  },
  {
   "cell_type": "code",
   "execution_count": 14,
   "id": "4634d006-2268-423f-a321-f912ba7e1139",
   "metadata": {},
   "outputs": [],
   "source": [
    "throws = generate_rolls(1_000_000)"
   ]
  },
  {
   "cell_type": "code",
   "execution_count": 15,
   "id": "9d69b1ac-bffe-41a0-81c3-25d174ec3eac",
   "metadata": {},
   "outputs": [
    {
     "name": "stdout",
     "output_type": "stream",
     "text": [
      "170 ms ± 9.03 ms per loop (mean ± std. dev. of 7 runs, 10 loops each)\n"
     ]
    }
   ],
   "source": [
    "%timeit count_repetitions(throws)"
   ]
  },
  {
   "cell_type": "code",
   "execution_count": 16,
   "id": "71581c5a-4192-4db4-b57f-bc0f69f09a38",
   "metadata": {},
   "outputs": [
    {
     "name": "stdout",
     "output_type": "stream",
     "text": [
      "55.1 ms ± 1.5 ms per loop (mean ± std. dev. of 7 runs, 10 loops each)\n"
     ]
    }
   ],
   "source": [
    "%timeit count_repetitions_naive(throws)"
   ]
  },
  {
   "cell_type": "markdown",
   "id": "c77ed710-c3bb-4152-a640-23fb840b365c",
   "metadata": {},
   "source": [
    "It is clear that for long sequences, the more naive implementation turns out to be the fastest.  We can check whether that is also true for short sequences."
   ]
  },
  {
   "cell_type": "code",
   "execution_count": 17,
   "id": "c32dffdf-a2c2-47c9-a22b-ade69ae74498",
   "metadata": {},
   "outputs": [],
   "source": [
    "throws = generate_rolls(50)"
   ]
  },
  {
   "cell_type": "code",
   "execution_count": 18,
   "id": "88986d5d-8f06-4ab9-82a3-f81e31e1f1b5",
   "metadata": {},
   "outputs": [
    {
     "name": "stdout",
     "output_type": "stream",
     "text": [
      "8.49 µs ± 434 ns per loop (mean ± std. dev. of 7 runs, 100,000 loops each)\n"
     ]
    }
   ],
   "source": [
    "%timeit count_repetitions(throws)"
   ]
  },
  {
   "cell_type": "code",
   "execution_count": 19,
   "id": "6c0b644f-71a4-4589-bd2a-e4eaac3ce084",
   "metadata": {},
   "outputs": [
    {
     "name": "stdout",
     "output_type": "stream",
     "text": [
      "3.41 µs ± 222 ns per loop (mean ± std. dev. of 7 runs, 100,000 loops each)\n"
     ]
    }
   ],
   "source": [
    "%timeit count_repetitions_naive(throws)"
   ]
  },
  {
   "cell_type": "markdown",
   "id": "5686dc96-1e36-4d35-80ea-4e8e82e3e6b8",
   "metadata": {},
   "source": [
    "Indeed, for short sequences the result is similar.\n",
    "\n",
    "What is the distribution of repetitions?  We need a long sequence to compute this."
   ]
  },
  {
   "cell_type": "code",
   "execution_count": 20,
   "id": "65872f27-7182-4341-aa41-ce70caee481e",
   "metadata": {},
   "outputs": [],
   "source": [
    "throws = generate_rolls(10_000_000)"
   ]
  },
  {
   "cell_type": "code",
   "execution_count": 21,
   "id": "ab7ceb8c-f669-4042-8db8-13116c38248b",
   "metadata": {},
   "outputs": [],
   "source": [
    "counts = count_repetitions_naive(throws)"
   ]
  },
  {
   "cell_type": "code",
   "execution_count": 22,
   "id": "5f9ece8c-aefd-4e09-adc3-ca88e692a504",
   "metadata": {},
   "outputs": [
    {
     "data": {
      "text/plain": [
       "defaultdict(int,\n",
       "            {1: 6946064,\n",
       "             2: 1156256,\n",
       "             3: 192761,\n",
       "             4: 32396,\n",
       "             5: 5413,\n",
       "             6: 875,\n",
       "             7: 135,\n",
       "             9: 7,\n",
       "             8: 28,\n",
       "             10: 1})"
      ]
     },
     "execution_count": 22,
     "metadata": {},
     "output_type": "execute_result"
    }
   ],
   "source": [
    "counts"
   ]
  },
  {
   "cell_type": "markdown",
   "id": "b7650af7-a35d-4dc4-8ad4-77d6d6c18e26",
   "metadata": {},
   "source": [
    "We can plot this as a bar chart with a logarithmic $y$-axis."
   ]
  },
  {
   "cell_type": "code",
   "execution_count": 23,
   "id": "43574e68-adaa-4025-9057-23771941ffcd",
   "metadata": {},
   "outputs": [
    {
     "data": {
      "image/png": "[encoded data removed]",
      "text/plain": [
       "<Figure size 640x480 with 1 Axes>"
      ]
     },
     "metadata": {},
     "output_type": "display_data"
    }
   ],
   "source": [
    "x = list(range(1, max(counts.keys()) + 1))\n",
    "y = [counts[i]/sum(counts.values()) for i in x]\n",
    "plt.bar(x, y)\n",
    "plt.yscale('log');"
   ]
  },
  {
   "cell_type": "markdown",
   "id": "e86b2a31-1342-4c04-9d43-2c45dba17dee",
   "metadata": {},
   "source": [
    "The probability decreases as expected with the length of the repetitions."
   ]
  }
 ],
 "metadata": {
  "kernelspec": {
   "display_name": "Python 3 (ipykernel)",
   "language": "python",
   "name": "python3"
  },
  "language_info": {
   "codemirror_mode": {
    "name": "ipython",
    "version": 3
   },
   "file_extension": ".py",
   "mimetype": "text/x-python",
   "name": "python",
   "nbconvert_exporter": "python",
   "pygments_lexer": "ipython3",
   "version": "3.11.2"
  }
 },
 "nbformat": 4,
 "nbformat_minor": 5
}
