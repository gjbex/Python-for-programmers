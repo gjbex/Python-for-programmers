{
 "cells": [
  {
   "cell_type": "markdown",
   "id": "c7e3470f-f326-44ee-824a-e957688e3680",
   "metadata": {},
   "source": [
    "We want to model throws with two dice and visualize the results."
   ]
  },
  {
   "cell_type": "markdown",
   "id": "476016b8-9272-45a2-ba32-5a361c9152b9",
   "metadata": {},
   "source": [
    "# Requirements"
   ]
  },
  {
   "cell_type": "code",
   "execution_count": 2,
   "id": "2ac20b85-73c1-4d61-9af8-5f9314b5af62",
   "metadata": {},
   "outputs": [],
   "source": [
    "import matplotlib.pyplot as plt\n",
    "%matplotlib inline\n",
    "import numpy as np"
   ]
  },
  {
   "cell_type": "markdown",
   "id": "9b79d0ff-fb6e-4444-ac82-a09999d651f8",
   "metadata": {},
   "source": [
    "# Implementation"
   ]
  },
  {
   "cell_type": "markdown",
   "id": "c36b4eaf-eefd-42f2-84ca-ae8a1207bb43",
   "metadata": {},
   "source": [
    "The following function executes `nr_throws` independent throws with two fair dice and returns the sum of the eyes as a numpy array."
   ]
  },
  {
   "cell_type": "code",
   "execution_count": 17,
   "id": "47128a54-7ca8-44ee-abb6-963e5383ca47",
   "metadata": {},
   "outputs": [],
   "source": [
    "def throw_dice(nr_throws):\n",
    "    return np.random.randint(1, 6 + 1, size=(nr_throws, )) + \\\n",
    "           np.random.randint(1, 6 + 1, size=(nr_throws, ))"
   ]
  },
  {
   "cell_type": "markdown",
   "id": "eda74362-376a-4008-a59c-4b671f0c493e",
   "metadata": {},
   "source": [
    "We generate data for 1,000 and 100,000 throws."
   ]
  },
  {
   "cell_type": "code",
   "execution_count": 18,
   "id": "ec00b082-22a2-478b-9388-ead42d0b6f59",
   "metadata": {},
   "outputs": [],
   "source": [
    "throws_1_000 = throw_dice(1_000)\n",
    "throws_100_000 = throw_dice(100_000)"
   ]
  },
  {
   "cell_type": "markdown",
   "id": "eba0c980-0975-424c-aa33-e5fd018cd1d0",
   "metadata": {},
   "source": [
    "We can now visualize the resulting distribution using Matplotlib's `hist` function.  We explicitely set the bins by specifying the boundaries.  Note that there are 11 bins, since we can throw any number between 2 and 12 inclusive using two dice.\n",
    "\n",
    "The data is normalized by the `hist` function when we set the argument `density` to `True`.  The subplots share the $y$-axis to make it easier to compare the results.  The ticks on the $x$-axis are set explicitly."
   ]
  },
  {
   "cell_type": "code",
   "execution_count": 35,
   "id": "960cc387-ba45-4c9e-960a-63013fbc34cf",
   "metadata": {},
   "outputs": [
    {
     "data": {
      "image/png": "[encoded data removed]",
      "text/plain": [
       "<Figure size 720x360 with 2 Axes>"
      ]
     },
     "metadata": {
      "needs_background": "light"
     },
     "output_type": "display_data"
    }
   ],
   "source": [
    "figure, axes = plt.subplots(1, 2, figsize=(10, 5), sharey=True)\n",
    "bins = np.arange(1.5, 13.0, 1.0)\n",
    "ticks = np.arange(2.0, 13.0, 2.0)\n",
    "for i, data in enumerate([throws_1_000, throws_100_000]):\n",
    "    axes[i].hist(data, bins=bins, density=True)\n",
    "    axes[i].set_xticks(ticks)\n",
    "figure.tight_layout()"
   ]
  }
 ],
 "metadata": {
  "kernelspec": {
   "display_name": "Python 3 (ipykernel)",
   "language": "python",
   "name": "python3"
  },
  "language_info": {
   "codemirror_mode": {
    "name": "ipython",
    "version": 3
   },
   "file_extension": ".py",
   "mimetype": "text/x-python",
   "name": "python",
   "nbconvert_exporter": "python",
   "pygments_lexer": "ipython3",
   "version": "3.9.7"
  }
 },
 "nbformat": 4,
 "nbformat_minor": 5
}
