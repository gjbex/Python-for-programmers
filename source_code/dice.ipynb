{
 "cells": [
  {
   "cell_type": "markdown",
   "id": "c7e3470f-f326-44ee-824a-e957688e3680",
   "metadata": {},
   "source": [
    "You would like to do some experiments with dice."
   ]
  },
  {
   "cell_type": "markdown",
   "id": "476016b8-9272-45a2-ba32-5a361c9152b9",
   "metadata": {},
   "source": [
    "## Requirements"
   ]
  },
  {
   "cell_type": "code",
   "execution_count": 1,
   "id": "2ac20b85-73c1-4d61-9af8-5f9314b5af62",
   "metadata": {},
   "outputs": [],
   "source": [
    "import collections\n",
    "import itertools\n",
    "import matplotlib.pyplot as plt\n",
    "%matplotlib inline\n",
    "import numpy as np"
   ]
  },
  {
   "cell_type": "markdown",
   "id": "94bd6e51-fa76-4ac8-8dfd-cc9c1d57a354",
   "metadata": {},
   "source": [
    "## Two dice"
   ]
  },
  {
   "cell_type": "markdown",
   "id": "be241b7f-fd01-4c6b-8a99-dd7db8ebdd34",
   "metadata": {},
   "source": [
    "When you throw two dice, what is the probability that the eyes will sum to 2, 3,..., 12?"
   ]
  },
  {
   "cell_type": "markdown",
   "id": "9b79d0ff-fb6e-4444-ac82-a09999d651f8",
   "metadata": {},
   "source": [
    "### Implementation"
   ]
  },
  {
   "cell_type": "markdown",
   "id": "c36b4eaf-eefd-42f2-84ca-ae8a1207bb43",
   "metadata": {},
   "source": [
    "The following function executes `nr_throws` independent throws with two fair dice and returns the sum of the eyes as a numpy array."
   ]
  },
  {
   "cell_type": "code",
   "execution_count": 17,
   "id": "47128a54-7ca8-44ee-abb6-963e5383ca47",
   "metadata": {},
   "outputs": [],
   "source": [
    "def throw_dice(nr_throws):\n",
    "    return np.random.randint(1, 6 + 1, size=(nr_throws, )) + \\\n",
    "           np.random.randint(1, 6 + 1, size=(nr_throws, ))"
   ]
  },
  {
   "cell_type": "markdown",
   "id": "eda74362-376a-4008-a59c-4b671f0c493e",
   "metadata": {},
   "source": [
    "We generate data for 1,000 and 100,000 throws."
   ]
  },
  {
   "cell_type": "code",
   "execution_count": 18,
   "id": "ec00b082-22a2-478b-9388-ead42d0b6f59",
   "metadata": {},
   "outputs": [],
   "source": [
    "throws_1_000 = throw_dice(1_000)\n",
    "throws_100_000 = throw_dice(100_000)"
   ]
  },
  {
   "cell_type": "markdown",
   "id": "eba0c980-0975-424c-aa33-e5fd018cd1d0",
   "metadata": {},
   "source": [
    "We can now visualize the resulting distribution using Matplotlib's `hist` function.  We explicitely set the bins by specifying the boundaries.  Note that there are 11 bins, since we can throw any number between 2 and 12 inclusive using two dice.\n",
    "\n",
    "The data is normalized by the `hist` function when we set the argument `density` to `True`.  The subplots share the $y$-axis to make it easier to compare the results.  The ticks on the $x$-axis are set explicitly."
   ]
  },
  {
   "cell_type": "code",
   "execution_count": 35,
   "id": "960cc387-ba45-4c9e-960a-63013fbc34cf",
   "metadata": {},
   "outputs": [
    {
     "data": {
      "image/png": "[encoded data removed]",
      "text/plain": [
       "<Figure size 720x360 with 2 Axes>"
      ]
     },
     "metadata": {
      "needs_background": "light"
     },
     "output_type": "display_data"
    }
   ],
   "source": [
    "figure, axes = plt.subplots(1, 2, figsize=(10, 5), sharey=True)\n",
    "bins = np.arange(1.5, 13.0, 1.0)\n",
    "ticks = np.arange(2.0, 13.0, 2.0)\n",
    "for i, data in enumerate([throws_1_000, throws_100_000]):\n",
    "    axes[i].hist(data, bins=bins, density=True)\n",
    "    axes[i].set_xticks(ticks)\n",
    "figure.tight_layout()"
   ]
  },
  {
   "cell_type": "markdown",
   "id": "a04b757d-d693-4ab0-8be1-d45c2240da2b",
   "metadata": {},
   "source": [
    "## Sequences of dice rolls"
   ]
  },
  {
   "cell_type": "markdown",
   "id": "08159bd3-32ea-49fe-9b57-157dc913b7ec",
   "metadata": {},
   "source": [
    "When you roll a dice many times, what is the probability to roll two times the same eyes just after another, three times, four times and so on?"
   ]
  },
  {
   "cell_type": "code",
   "execution_count": 2,
   "id": "0cbdab81-ec0a-4e21-a3fd-dff9b2be5641",
   "metadata": {},
   "outputs": [],
   "source": [
    "nr_thorws = 10\n",
    "throws = np.random.randint(1, 6 + 1, size=nr_thorws)"
   ]
  },
  {
   "cell_type": "code",
   "execution_count": 3,
   "id": "cfaabf1b-e373-4d88-8b51-f1d768e8e49f",
   "metadata": {},
   "outputs": [
    {
     "data": {
      "text/plain": [
       "array([5, 3, 3, 4, 6, 6, 4, 1, 2, 3])"
      ]
     },
     "execution_count": 3,
     "metadata": {},
     "output_type": "execute_result"
    }
   ],
   "source": [
    "throws"
   ]
  },
  {
   "cell_type": "code",
   "execution_count": 4,
   "id": "602ec070-86d2-40df-8c66-0e6308bf6c14",
   "metadata": {},
   "outputs": [],
   "source": [
    "def count_repetitions(throws):\n",
    "    repetitions = collections.defaultdict(int)\n",
    "    for _, group in itertools.groupby(throws):\n",
    "        sequence_length = len(tuple(group))\n",
    "        repetitions[sequence_length] += 1\n",
    "    return repetitions"
   ]
  },
  {
   "cell_type": "code",
   "execution_count": 5,
   "id": "2c9ce07c-6e47-4396-a63f-1ae2b713ca11",
   "metadata": {},
   "outputs": [
    {
     "data": {
      "text/plain": [
       "defaultdict(int, {1: 6, 2: 2})"
      ]
     },
     "execution_count": 5,
     "metadata": {},
     "output_type": "execute_result"
    }
   ],
   "source": [
    "count_repetitions(throws)"
   ]
  },
  {
   "cell_type": "code",
   "execution_count": 43,
   "id": "d8d81eb5-f95e-418e-ab32-ab9cbd4c006f",
   "metadata": {},
   "outputs": [],
   "source": [
    "def count_repetitions_naive(throws):\n",
    "    repetitions = collections.defaultdict(int)\n",
    "    sequence_length = 1\n",
    "    previous_eyes = throws[0]\n",
    "    for eyes in throws[1:]:\n",
    "        if eyes == previous_eyes:\n",
    "            sequence_length += 1\n",
    "        else:\n",
    "            repetitions[sequence_length] += 1\n",
    "            previous_eyes = eyes\n",
    "            sequence_length = 1\n",
    "    else:\n",
    "        repetitions[sequence_length] += 1\n",
    "    return repetitions"
   ]
  },
  {
   "cell_type": "code",
   "execution_count": 25,
   "id": "c834c8d3-4a61-45db-b35c-051eb85ab784",
   "metadata": {},
   "outputs": [
    {
     "data": {
      "text/plain": [
       "array([1, 1, 2, 4, 5, 5, 1, 1, 6, 6])"
      ]
     },
     "execution_count": 25,
     "metadata": {},
     "output_type": "execute_result"
    }
   ],
   "source": [
    "throws"
   ]
  },
  {
   "cell_type": "code",
   "execution_count": 33,
   "id": "405bdb84-c935-45d1-8919-c5365fa70796",
   "metadata": {},
   "outputs": [
    {
     "data": {
      "text/plain": [
       "defaultdict(int, {2: 1, 1: 8})"
      ]
     },
     "execution_count": 33,
     "metadata": {},
     "output_type": "execute_result"
    }
   ],
   "source": [
    "count_repetitions_naive(throws)"
   ]
  },
  {
   "cell_type": "code",
   "execution_count": 34,
   "id": "628458f5-8c2c-4482-a49e-7dc9f6726632",
   "metadata": {},
   "outputs": [
    {
     "data": {
      "text/plain": [
       "defaultdict(int, {2: 1, 1: 8})"
      ]
     },
     "execution_count": 34,
     "metadata": {},
     "output_type": "execute_result"
    }
   ],
   "source": [
    "count_repetitions(throws)"
   ]
  },
  {
   "cell_type": "code",
   "execution_count": 44,
   "id": "d98c4775-64bc-4eb7-a349-e1a58b5e100f",
   "metadata": {},
   "outputs": [],
   "source": [
    "for _ in range(1_000):\n",
    "    nr_thorws = 1_000\n",
    "    throws = np.random.randint(1, 6 + 1, size=nr_thorws)\n",
    "    counts = count_repetitions(throws)\n",
    "    counts_naive = count_repetitions_naive(throws)\n",
    "    assert counts_naive == counts, 'counts are not equal'"
   ]
  },
  {
   "cell_type": "code",
   "execution_count": 38,
   "id": "4634d006-2268-423f-a321-f912ba7e1139",
   "metadata": {},
   "outputs": [],
   "source": [
    "throws = np.random.randint(1, 6 + 1, size=1_000_000)"
   ]
  },
  {
   "cell_type": "code",
   "execution_count": 39,
   "id": "9d69b1ac-bffe-41a0-81c3-25d174ec3eac",
   "metadata": {},
   "outputs": [
    {
     "name": "stdout",
     "output_type": "stream",
     "text": [
      "210 ms ± 8.58 ms per loop (mean ± std. dev. of 7 runs, 1 loop each)\n"
     ]
    }
   ],
   "source": [
    "%timeit count_repetitions(throws)"
   ]
  },
  {
   "cell_type": "code",
   "execution_count": 40,
   "id": "71581c5a-4192-4db4-b57f-bc0f69f09a38",
   "metadata": {},
   "outputs": [
    {
     "name": "stdout",
     "output_type": "stream",
     "text": [
      "93.8 ms ± 2.42 ms per loop (mean ± std. dev. of 7 runs, 10 loops each)\n"
     ]
    }
   ],
   "source": [
    "%timeit count_repetitions_naive(throws)"
   ]
  },
  {
   "cell_type": "code",
   "execution_count": 45,
   "id": "1239ef65-9429-4099-b574-6b858ced674c",
   "metadata": {},
   "outputs": [],
   "source": [
    "throws = np.random.randint(1, 6 + 1, size=1_000_000)"
   ]
  },
  {
   "cell_type": "code",
   "execution_count": 46,
   "id": "46dd945f-d862-411e-9c0b-951a1726606d",
   "metadata": {},
   "outputs": [],
   "source": [
    "counts = count_repetitions_naive(throws)"
   ]
  },
  {
   "cell_type": "code",
   "execution_count": 47,
   "id": "5f9ece8c-aefd-4e09-adc3-ca88e692a504",
   "metadata": {},
   "outputs": [
    {
     "data": {
      "text/plain": [
       "defaultdict(int,\n",
       "            {2: 116010,\n",
       "             1: 694887,\n",
       "             4: 3190,\n",
       "             3: 19011,\n",
       "             5: 536,\n",
       "             7: 13,\n",
       "             6: 81,\n",
       "             8: 3,\n",
       "             9: 1,\n",
       "             10: 1})"
      ]
     },
     "execution_count": 47,
     "metadata": {},
     "output_type": "execute_result"
    }
   ],
   "source": [
    "counts"
   ]
  },
  {
   "cell_type": "code",
   "execution_count": 49,
   "id": "0d35680a-5134-4812-ace0-af35150e7ada",
   "metadata": {},
   "outputs": [
    {
     "data": {
      "text/plain": [
       "10"
      ]
     },
     "execution_count": 49,
     "metadata": {},
     "output_type": "execute_result"
    }
   ],
   "source": [
    "max(counts.keys())"
   ]
  },
  {
   "cell_type": "code",
   "execution_count": 54,
   "id": "43574e68-adaa-4025-9057-23771941ffcd",
   "metadata": {},
   "outputs": [
    {
     "data": {
      "image/png": "[encoded data removed]",
      "text/plain": [
       "<Figure size 640x480 with 1 Axes>"
      ]
     },
     "metadata": {},
     "output_type": "display_data"
    }
   ],
   "source": [
    "x = list(range(1, max(counts.keys()) + 1))\n",
    "y = [counts[i]/sum(counts.values()) for i in x]\n",
    "plt.bar(x, y)\n",
    "plt.yscale('log');"
   ]
  },
  {
   "cell_type": "code",
   "execution_count": null,
   "id": "ae049c97-d231-4a97-9735-a57d925328aa",
   "metadata": {},
   "outputs": [],
   "source": []
  }
 ],
 "metadata": {
  "kernelspec": {
   "display_name": "Python 3 (ipykernel)",
   "language": "python",
   "name": "python3"
  },
  "language_info": {
   "codemirror_mode": {
    "name": "ipython",
    "version": 3
   },
   "file_extension": ".py",
   "mimetype": "text/x-python",
   "name": "python",
   "nbconvert_exporter": "python",
   "pygments_lexer": "ipython3",
   "version": "3.11.2"
  }
 },
 "nbformat": 4,
 "nbformat_minor": 5
}
