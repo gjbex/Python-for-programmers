{
 "cells": [
  {
   "cell_type": "markdown",
   "id": "7ea52ac8-def9-4fa6-ad62-437fb876c85b",
   "metadata": {},
   "source": [
    "Some random programming exercises."
   ]
  },
  {
   "cell_type": "markdown",
   "id": "2eea84dc-48b1-4582-835f-ac084837f56d",
   "metadata": {},
   "source": [
    "## Contains digit\n",
    "\n",
    "Write a function that returns `True` if a given number contains a given digit, `False` otherwise."
   ]
  },
  {
   "cell_type": "code",
   "execution_count": 1,
   "id": "b3a54ce5-354e-4525-aa1e-f6fcb85f7fc1",
   "metadata": {},
   "outputs": [],
   "source": [
    "def has_digit(n, digit):\n",
    "    while n > 0:\n",
    "        if n % 10 == digit:\n",
    "            return True\n",
    "        n //= 10\n",
    "    return False"
   ]
  },
  {
   "cell_type": "markdown",
   "id": "2823f917-cd56-4e0f-bbaf-69bc6c59b339",
   "metadata": {},
   "source": [
    "Test the implmentation, taking edge cases into account."
   ]
  },
  {
   "cell_type": "code",
   "execution_count": 6,
   "id": "711c7090-69b5-42fe-b986-dc498f2ee6a3",
   "metadata": {},
   "outputs": [
    {
     "name": "stdout",
     "output_type": "stream",
     "text": [
      "34901 has digit 0\n",
      "34901 has digit 1\n",
      "no 2 in 34901\n",
      "34901 has digit 3\n",
      "34901 has digit 4\n",
      "no 5 in 34901\n",
      "no 6 in 34901\n",
      "no 7 in 34901\n",
      "no 8 in 34901\n",
      "34901 has digit 9\n"
     ]
    }
   ],
   "source": [
    "n = 34901\n",
    "for digit in range(10):\n",
    "    if has_digit(n, digit):\n",
    "        print(f'{n} has digit {digit}')\n",
    "    else:\n",
    "        print(f'no {digit} in {n}')"
   ]
  },
  {
   "cell_type": "code",
   "execution_count": 8,
   "id": "e6d1d4c6-480c-43ff-a422-87dd7090a205",
   "metadata": {},
   "outputs": [
    {
     "name": "stdout",
     "output_type": "stream",
     "text": [
      "no 0 in 3491\n",
      "3491 has digit 1\n",
      "no 2 in 3491\n",
      "3491 has digit 3\n",
      "3491 has digit 4\n",
      "no 5 in 3491\n",
      "no 6 in 3491\n",
      "no 7 in 3491\n",
      "no 8 in 3491\n",
      "3491 has digit 9\n"
     ]
    }
   ],
   "source": [
    "n = 3491\n",
    "for digit in range(10):\n",
    "    if has_digit(n, digit):\n",
    "        print(f'{n} has digit {digit}')\n",
    "    else:\n",
    "        print(f'no {digit} in {n}')"
   ]
  },
  {
   "cell_type": "code",
   "execution_count": 7,
   "id": "92538c32-190b-4e6f-bd96-6a4fef1ce54c",
   "metadata": {},
   "outputs": [
    {
     "data": {
      "text/plain": [
       "True"
      ]
     },
     "execution_count": 7,
     "metadata": {},
     "output_type": "execute_result"
    }
   ],
   "source": [
    "has_digit(210, 0)"
   ]
  },
  {
   "cell_type": "code",
   "execution_count": null,
   "id": "259a311a-edfc-4c82-9239-5162c797df72",
   "metadata": {},
   "outputs": [],
   "source": []
  }
 ],
 "metadata": {
  "kernelspec": {
   "display_name": "Python 3 (ipykernel)",
   "language": "python",
   "name": "python3"
  },
  "language_info": {
   "codemirror_mode": {
    "name": "ipython",
    "version": 3
   },
   "file_extension": ".py",
   "mimetype": "text/x-python",
   "name": "python",
   "nbconvert_exporter": "python",
   "pygments_lexer": "ipython3",
   "version": "3.10.4"
  }
 },
 "nbformat": 4,
 "nbformat_minor": 5
}
