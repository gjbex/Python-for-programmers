{
 "cells": [
  {
   "cell_type": "markdown",
   "id": "00fe85a2-6ebb-48ed-92bb-7e0d1adcd7d0",
   "metadata": {},
   "source": [
    "## Requirements"
   ]
  },
  {
   "cell_type": "code",
   "execution_count": 1,
   "id": "bbf04928-79bf-4c96-aeb4-a110c8033e88",
   "metadata": {},
   "outputs": [],
   "source": [
    "import copy\n",
    "import functools\n",
    "import itertools\n",
    "import matplotlib\n",
    "import matplotlib.pyplot"
   ]
  },
  {
   "cell_type": "markdown",
   "id": "3f550eaa-1550-4cc0-991a-4c6413cf1d52",
   "metadata": {},
   "source": [
    "## Problem setting"
   ]
  },
  {
   "cell_type": "markdown",
   "id": "5c986239-8bde-445f-a484-c2277b2a79dd",
   "metadata": {},
   "source": [
    "Decimal numbers are represented as binary numbers on computers.  Given an $N$-bit representation, each positive integer $n \\lt 2^N - 1$ can be written as a sum of powers of 2, i.e.,\n",
    "$$\n",
    "  n = \\sum_{i=0}^{N-1} b_i 2^i\n",
    "$$\n",
    "where $b_i \\in \\{0, 1\\}$ is the bit at position $i$.  Note that $b_0$ is the least, and $b_{N-1}$ the most siginficant bit.  The number in binary notation is:\n",
    "$$\n",
    "  b_{N-2}\\,b_{N-2}\\dots b_1\\,b_0\n",
    "$$\n",
    "For example, the decimal number 5 would be represented in 4-bit representation as $0101_2$.\n",
    "\n",
    "If you also want to present negative numbers, the most significant bit $b_{N-1}$ will denote the sign of the number, i.e., for positive integers, $b_{N-1} = 0$, while for negative numbers $b_{N-1} = 1$.  This implies that an $N$-bit representation can represent an integer $n$ only if $-2^{N-1} \\le n < 2^{N -1}$.\n",
    "\n",
    "The encoding used on modern hardware uses 2-complement representation.  For $0 \\le n < 2^{N-1}$, the econding is done as explained above, e.g., for $N = 4$, $7$ would be represted as $0111_2$.\n",
    "For $n = -2^{N-1}$ all bits are zero, except the  most significant one, e.g., for $N = 4$, $-8$ would be represented as $1000_2$.\n",
    "For $-2^{N - 1} < n < 0$, the following algorithm is used:\n",
    "* Encode $|n|$ in binary representation as before.\n",
    "* Take the 1-complement of the resulting encoding, i.e., $1 \\mapsto 0$ and $0 \\mapsto 1$.\n",
    "* Add 1 to the binary number, taking into account overflow.\n",
    "\n",
    "For example, for $N = 4$, consider $n = -6$.  The binary representation of $|-6|$ is $0110_2$.  The 1-complement is $1001_2$, and adding 1, i.e., $0001_2$ to that yields $1010_2$."
   ]
  },
  {
   "cell_type": "markdown",
   "id": "e3fcf1fb-7c7a-4d1c-a1d1-ba039448cc65",
   "metadata": {},
   "source": [
    "## Implementation"
   ]
  },
  {
   "cell_type": "markdown",
   "id": "bf165b85-37f4-4a34-b32a-6491375599b0",
   "metadata": {},
   "source": [
    "You can use a list to represent a binary number, e.g., `[0, 1, 1, 1]` would represent 7.  The first element of this list is the most significant bit, the last the least significant bit.  In 2-complement representation, the most significant bit represents the sign."
   ]
  },
  {
   "cell_type": "markdown",
   "id": "e38f333c-cb7e-4ebc-bc62-f86dd4058a85",
   "metadata": {},
   "source": [
    "It is convenient to have a function to convert a list of bits to a string."
   ]
  },
  {
   "cell_type": "code",
   "execution_count": 2,
   "id": "74df75fc-3b7a-4553-8a87-60ed27f1d966",
   "metadata": {},
   "outputs": [],
   "source": [
    "def binary2str(bits: list[int]) -> str:\n",
    "    '''Convert a binary representation to a string.\n",
    "    \n",
    "    Parameters\n",
    "    ----------\n",
    "    bits: list[int]\n",
    "        bit representation of an integer in 2-complement representation, most significant bit first.\n",
    "\n",
    "    Returns\n",
    "    -------\n",
    "    str\n",
    "        string representation of the binary number\n",
    "    '''\n",
    "    return ''.join(str(bit) for bit in bits)"
   ]
  },
  {
   "cell_type": "markdown",
   "id": "96d0fd9f-96ff-4f3e-9013-cceba93fcaf7",
   "metadata": {},
   "source": [
    "### Increment function"
   ]
  },
  {
   "cell_type": "markdown",
   "id": "7789bbd2-38be-41f6-a87f-ae5e49291fac",
   "metadata": {},
   "source": [
    "You need a function to increment a number in 2-complement representation by 1.  Care has to be taken that the carry is handled correctly.\n",
    "\n",
    "For $N = 3$, -4 is represented as $100_2$, so adding 1 to it should result in -3, or $101_2$.  The increment operator should yield the following sequence when applied to -4 for $N = 3$:\n",
    "$$\n",
    "  \\begin{array}{rcl}\n",
    "      100_2 \\; (-4) & \\mapsto & 101_2 \\; (-3) \\\\\n",
    "                 & \\mapsto & 110_2 \\; (-2) \\\\\n",
    "                 & \\mapsto & 111_2 \\; (-1) \\\\\n",
    "                 & \\mapsto & 000_2 \\; (0) \\\\\n",
    "                 & \\mapsto & 001_2 \\; (1) \\\\\n",
    "                 & \\mapsto & 010_2 \\; (2) \\\\\n",
    "                 & \\mapsto & 011_2 \\; (3) \\\\\n",
    "                 & \\mapsto & 100_2 \\; (-4) \\\\\n",
    "                 & \\mapsto & \\ldots\n",
    "  \\end{array}\n",
    "$$"
   ]
  },
  {
   "cell_type": "code",
   "execution_count": 3,
   "id": "2f4e6749-8932-4e38-a84f-681358a42c95",
   "metadata": {},
   "outputs": [],
   "source": [
    "def incr(bits: list[int]) -> None:\n",
    "    '''Increment a binary number in 2-complement representation by 1.\n",
    "    \n",
    "    Parameters\n",
    "    ----------\n",
    "    bits: list[int]\n",
    "        bit representation of an integer in 2-complement representation, most significant bit first.\n",
    "    '''\n",
    "    carry = 1\n",
    "    pos = -1\n",
    "    while carry == 1 and pos > -len(bits):\n",
    "        if bits[pos] == 1:\n",
    "            bits[pos] = 0\n",
    "        else:\n",
    "            bits[pos] = 1\n",
    "            carry = 0\n",
    "        pos -= 1\n",
    "    if carry:\n",
    "        bits[0] = 0 if bits[0] else 1"
   ]
  },
  {
   "cell_type": "markdown",
   "id": "7ed0ff27-7c4c-4e2a-999b-68b488ef2862",
   "metadata": {},
   "source": [
    "To check the result for $N = 3$, you can start at -8, and apply the increment function."
   ]
  },
  {
   "cell_type": "code",
   "execution_count": 4,
   "id": "86e511f5-88e4-4a22-9d06-072197f39edb",
   "metadata": {},
   "outputs": [
    {
     "name": "stdout",
     "output_type": "stream",
     "text": [
      "-4 -> 100\n",
      "-3 -> 101\n",
      "-2 -> 110\n",
      "-1 -> 111\n",
      " 0 -> 000\n",
      " 1 -> 001\n",
      " 2 -> 010\n",
      " 3 -> 011\n",
      " 4 -> 100\n",
      " 5 -> 101\n",
      " 6 -> 110\n",
      " 7 -> 111\n"
     ]
    }
   ],
   "source": [
    "N = 3\n",
    "bits = [1] + [0]*(N - 1)\n",
    "for n in range(-2**(N - 1), 2**N):\n",
    "    print(f'{n:2d} -> {binary2str(bits)}')\n",
    "    incr(bits)"
   ]
  },
  {
   "cell_type": "markdown",
   "id": "7a70d4ce-43f6-46de-8420-4d0d471c0a12",
   "metadata": {},
   "source": [
    "The implementation works correctly for -1, resulting in 0.  It also correctly overflows for 3, resulting in -4."
   ]
  },
  {
   "cell_type": "markdown",
   "id": "7cf7a5e7-8d67-49de-8762-39f1126df3ff",
   "metadata": {},
   "source": [
    "### One-complement"
   ]
  },
  {
   "cell_type": "markdown",
   "id": "c22dbc08-a082-4d6d-acdf-dbb2651705fa",
   "metadata": {},
   "source": [
    "The 1-complement operation simply flips all the bits, i.e., bits that are 0 are set to 1, and vice versa."
   ]
  },
  {
   "cell_type": "code",
   "execution_count": 5,
   "id": "d37836b5-0a17-40a3-86cc-d24a82fa0e27",
   "metadata": {},
   "outputs": [],
   "source": [
    "def one_complement(bits: list[int]) -> None:\n",
    "    '''Replace the bit representation by its 1-complement.\n",
    "    \n",
    "    Parameters\n",
    "    ----------\n",
    "    bits: list[int]\n",
    "        bit representation\n",
    "    '''\n",
    "    for i, bit in enumerate(bits):\n",
    "        bits[i] = 0 if bit else 1"
   ]
  },
  {
   "cell_type": "markdown",
   "id": "f6ca1734-301e-4277-a3ff-aaae50fca0b3",
   "metadata": {},
   "source": [
    "### Decimal to binary conversion"
   ]
  },
  {
   "cell_type": "markdown",
   "id": "d855378d-108e-4c56-98d5-91cd47b28919",
   "metadata": {},
   "source": [
    "With the functions you have defined so far, it is now easy to implement the decimal to binary conversion for a given $N$.  The function should check that the integer $n$ to convert is in the correct range, i.e., $-2^{N-1} \\le n < 2^{N-1}$, if not, it raises a `ValueError` expection."
   ]
  },
  {
   "cell_type": "code",
   "execution_count": 6,
   "id": "07cc65a5-5c7e-4d7a-928e-1debf3cfcb22",
   "metadata": {},
   "outputs": [],
   "source": [
    "def decimal2binary(n: int, nr_bits=8) -> list[int]:\n",
    "    '''Convert a decimal number to 2-complement binary representation.\n",
    "    \n",
    "    Parameters\n",
    "    ----------\n",
    "    n: int\n",
    "        decimal number to convert\n",
    "    nr_bits: int\n",
    "        number of bits in the representation (default is 8)\n",
    "    \n",
    "    Returns\n",
    "    -------\n",
    "    list[int]\n",
    "        bit representation of the number, most significant (sign) bit first, least significant bit last\n",
    "\n",
    "    Raises\n",
    "    ------\n",
    "    ValueError\n",
    "        if n is not in range\n",
    "    '''\n",
    "    if -2**(nr_bits - 1) <= n < 2**(nr_bits - 1):\n",
    "        bits = []\n",
    "        must_complement = n < 0 and n != -2**(nr_bits - 1)\n",
    "        n = abs(n)\n",
    "        while n:\n",
    "            bits.insert(0, n & 1)\n",
    "            n >>= 1\n",
    "        bits = [0]*(nr_bits - len(bits)) + bits\n",
    "        if must_complement:\n",
    "            one_complement(bits)\n",
    "            incr(bits)\n",
    "        return bits\n",
    "    else:\n",
    "        raise ValueError(f'integer {n} can not be encoding using {nr_bits} bits')"
   ]
  },
  {
   "cell_type": "markdown",
   "id": "91c08bd3-5b20-4b41-bc5f-e280c6d91175",
   "metadata": {},
   "source": [
    "This can be tested for $N = 3$."
   ]
  },
  {
   "cell_type": "code",
   "execution_count": 7,
   "id": "c8ede74f-4dda-4145-a22b-4efa475167db",
   "metadata": {},
   "outputs": [
    {
     "name": "stdout",
     "output_type": "stream",
     "text": [
      "-4 -> 100\n",
      "-3 -> 101\n",
      "-2 -> 110\n",
      "-1 -> 111\n",
      " 0 -> 000\n",
      " 1 -> 001\n",
      " 2 -> 010\n",
      " 3 -> 011\n"
     ]
    }
   ],
   "source": [
    "N = 3\n",
    "for n in range(-2**(N - 1), 2**(N - 1)):\n",
    "    bits = decimal2binary(n, nr_bits=N)\n",
    "    print(f'{n:2d} -> {binary2str(bits)}')"
   ]
  },
  {
   "cell_type": "markdown",
   "id": "73235b1f-86e8-4271-adbd-317dbc41df59",
   "metadata": {},
   "source": [
    "You should also check that for values of $n$ that are not in range, the expected exception is raised."
   ]
  },
  {
   "cell_type": "code",
   "execution_count": 8,
   "id": "2dfe9fd3-1496-453f-b1d9-a0360827633c",
   "metadata": {},
   "outputs": [
    {
     "name": "stdout",
     "output_type": "stream",
     "text": [
      "As expected: integer 4 can not be encoding using 3 bits\n"
     ]
    }
   ],
   "source": [
    "try:\n",
    "    N = 3\n",
    "    _ = decimal2binary(2**(N - 1), nr_bits=N)\n",
    "    assert false\n",
    "except ValueError as e:\n",
    "    print(f'As expected: {e}')"
   ]
  },
  {
   "cell_type": "code",
   "execution_count": 9,
   "id": "5a6f63b3-4a07-4e30-822b-420fa1683152",
   "metadata": {},
   "outputs": [
    {
     "name": "stdout",
     "output_type": "stream",
     "text": [
      "As expected: integer -5 can not be encoding using 3 bits\n"
     ]
    }
   ],
   "source": [
    "try:\n",
    "    N = 3\n",
    "    _ = decimal2binary(-2**(N - 1) - 1, nr_bits=N)\n",
    "    assert false\n",
    "except ValueError as e:\n",
    "    print(f'As expected: {e}')"
   ]
  },
  {
   "cell_type": "markdown",
   "id": "cccb1474-f38f-4ddf-b728-b6c2086dd856",
   "metadata": {},
   "source": [
    "### Binary to decimal conversion"
   ]
  },
  {
   "cell_type": "markdown",
   "id": "9a20318e-86e0-4654-950c-68592f54cfb2",
   "metadata": {},
   "source": [
    "You can now also easily write the inverse function, i.e., a function that converts a binary number in 2-complement representation to decimal representation."
   ]
  },
  {
   "cell_type": "code",
   "execution_count": 10,
   "id": "653ffc16-1bd6-4eb1-9e6d-8da8ecf12079",
   "metadata": {},
   "outputs": [],
   "source": [
    "def binary2decimal(bits: list[int]) -> int:\n",
    "    '''Convert a binary number in 2-complement representation to decimal.\n",
    "    \n",
    "    Parameters\n",
    "    ----------\n",
    "    bits: list[int]\n",
    "        bit representation of an integer in 2-complement representation, most significant bit first\n",
    "    \n",
    "    Returns\n",
    "    -------\n",
    "    int\n",
    "        decimal representation of the number\n",
    "    '''\n",
    "    # as bits is nnutable, and this algorithm is destructive, create a work copy of the argument first\n",
    "    bits = copy.copy(bits)\n",
    "    is_negative = bits[0] == 1\n",
    "    nr_bits = len(bits)\n",
    "    # the most significant bit only determines the sign,so pop it\n",
    "    _ = bits.pop(0)\n",
    "    if is_negative:\n",
    "        one_complement(bits)\n",
    "    n = 0\n",
    "    multiplier = 2**(nr_bits - 2)\n",
    "    for bit in bits:\n",
    "        if bit:\n",
    "            n += multiplier\n",
    "        multiplier >>= 1\n",
    "    return -(n + 1) if is_negative else n"
   ]
  },
  {
   "cell_type": "markdown",
   "id": "55ad5353-883e-4633-84ae-6e6791bbee55",
   "metadata": {},
   "source": [
    "Now you can verify everything works correctly by roundtripping, again for $N = 3$."
   ]
  },
  {
   "cell_type": "code",
   "execution_count": 11,
   "id": "3c3dd869-474b-479e-862b-cdc90fe556a1",
   "metadata": {},
   "outputs": [
    {
     "name": "stdout",
     "output_type": "stream",
     "text": [
      "-4 -> 100 -> -4\n",
      "-3 -> 101 -> -3\n",
      "-2 -> 110 -> -2\n",
      "-1 -> 111 -> -1\n",
      " 0 -> 000 ->  0\n",
      " 1 -> 001 ->  1\n",
      " 2 -> 010 ->  2\n",
      " 3 -> 011 ->  3\n"
     ]
    }
   ],
   "source": [
    "N = 3\n",
    "for n in range(-2**(N - 1), 2**(N - 1)):\n",
    "    bits = [bit for bit in decimal2binary(n, nr_bits=N)]\n",
    "    new_n = binary2decimal(bits)\n",
    "    print(f'{n:2d} -> {binary2str(bits)} -> {new_n:2d}')\n",
    "    assert n == new_n"
   ]
  },
  {
   "cell_type": "markdown",
   "id": "6a16bed1-043e-4d52-bc2e-2402853ceb05",
   "metadata": {},
   "source": [
    "Indeed, `decimal2binary(binary2decimal(n)) == n` for all values in range."
   ]
  },
  {
   "cell_type": "code",
   "execution_count": 12,
   "id": "86d05c7c-a906-4007-80e5-5bc07d771cc2",
   "metadata": {},
   "outputs": [
    {
     "name": "stdout",
     "output_type": "stream",
     "text": [
      "100 -> -4 -> 100\n",
      "101 -> -3 -> 101\n",
      "110 -> -2 -> 110\n",
      "111 -> -1 -> 111\n",
      "000 ->  0 -> 000\n",
      "001 ->  1 -> 001\n",
      "010 ->  2 -> 010\n",
      "011 ->  3 -> 011\n"
     ]
    }
   ],
   "source": [
    "N = 3\n",
    "bits = [1] + [0]*(N - 1)\n",
    "for n in range(2**N):\n",
    "    n = binary2decimal(bits)\n",
    "    new_bits = decimal2binary(n, nr_bits=N)\n",
    "    print(f'{binary2str(bits)} -> {n:2d} -> {binary2str(new_bits)}')\n",
    "    assert bits == new_bits\n",
    "    incr(bits)"
   ]
  },
  {
   "cell_type": "markdown",
   "id": "b4315d8c-5671-4d45-8f68-f3e4e1d6565b",
   "metadata": {},
   "source": [
    "The roundtrip also works in the other direction."
   ]
  },
  {
   "cell_type": "markdown",
   "id": "5796d06b-f09e-4a49-9215-c74432954345",
   "metadata": {},
   "source": [
    "### Addition"
   ]
  },
  {
   "cell_type": "markdown",
   "id": "d51bc4c3-d40a-49d3-9929-0dc39fc93f14",
   "metadata": {},
   "source": [
    "A major advantage of the 2-complement representation is that addition can use the same logic, regardless of the the sign of the operands."
   ]
  },
  {
   "cell_type": "code",
   "execution_count": 13,
   "id": "d4d9699b-60cf-4ded-89e3-ee0c8cfe47cf",
   "metadata": {},
   "outputs": [],
   "source": [
    "def add(bits1: list[int], bits2: list[int]) -> list[int]:\n",
    "    '''Add two numbers in 2-complement representation\n",
    "    \n",
    "    Parameters\n",
    "    ----------\n",
    "    bits1: list[int]\n",
    "        bit representation of the first integer in 2-complement representation, most significant bit first.\n",
    "    bits2: list[int]\n",
    "        bit representation of the second integer in 2-complement representation, most significant bit first.\n",
    "\n",
    "    Results\n",
    "    -------\n",
    "    list[int]\n",
    "        bit representation of the result in 2-complement representation, most significant bit first.\n",
    "\n",
    "    Raisss\n",
    "    ------\n",
    "    ValueError\n",
    "        if the bit representations don't have the same number of bits\n",
    "    '''\n",
    "    if len(bits1) != len(bits2):\n",
    "        raise ValueError(f'number of bits should be equal, but {len(bits1)} versus {len(bits2)}')\n",
    "    carry = 0\n",
    "    bits = []\n",
    "    for bit1, bit2 in zip(bits1[::-1], bits2[::-1]):\n",
    "        carry, bit = divmod(bit1 + bit2 + carry, 2)\n",
    "        bits.insert(0, bit)\n",
    "    return bits"
   ]
  },
  {
   "cell_type": "code",
   "execution_count": 14,
   "id": "162399ba-4a4f-475c-88cb-bdacaf2a7bf9",
   "metadata": {},
   "outputs": [
    {
     "name": "stdout",
     "output_type": "stream",
     "text": [
      "-4 (100) + -4 (100) =  0 (000)\n",
      "-4 (100) + -3 (101) =  1 (001)\n",
      "-4 (100) + -2 (110) =  2 (010)\n",
      "-4 (100) + -1 (111) =  3 (011)\n",
      "-4 (100) +  0 (000) = -4 (100)\n",
      "-4 (100) +  1 (001) = -3 (101)\n",
      "-4 (100) +  2 (010) = -2 (110)\n",
      "-4 (100) +  3 (011) = -1 (111)\n",
      "-3 (101) + -4 (100) =  1 (001)\n",
      "-3 (101) + -3 (101) =  2 (010)\n",
      "-3 (101) + -2 (110) =  3 (011)\n",
      "-3 (101) + -1 (111) = -4 (100)\n",
      "-3 (101) +  0 (000) = -3 (101)\n",
      "-3 (101) +  1 (001) = -2 (110)\n",
      "-3 (101) +  2 (010) = -1 (111)\n",
      "-3 (101) +  3 (011) =  0 (000)\n",
      "-2 (110) + -4 (100) =  2 (010)\n",
      "-2 (110) + -3 (101) =  3 (011)\n",
      "-2 (110) + -2 (110) = -4 (100)\n",
      "-2 (110) + -1 (111) = -3 (101)\n",
      "-2 (110) +  0 (000) = -2 (110)\n",
      "-2 (110) +  1 (001) = -1 (111)\n",
      "-2 (110) +  2 (010) =  0 (000)\n",
      "-2 (110) +  3 (011) =  1 (001)\n",
      "-1 (111) + -4 (100) =  3 (011)\n",
      "-1 (111) + -3 (101) = -4 (100)\n",
      "-1 (111) + -2 (110) = -3 (101)\n",
      "-1 (111) + -1 (111) = -2 (110)\n",
      "-1 (111) +  0 (000) = -1 (111)\n",
      "-1 (111) +  1 (001) =  0 (000)\n",
      "-1 (111) +  2 (010) =  1 (001)\n",
      "-1 (111) +  3 (011) =  2 (010)\n",
      " 0 (000) + -4 (100) = -4 (100)\n",
      " 0 (000) + -3 (101) = -3 (101)\n",
      " 0 (000) + -2 (110) = -2 (110)\n",
      " 0 (000) + -1 (111) = -1 (111)\n",
      " 0 (000) +  0 (000) =  0 (000)\n",
      " 0 (000) +  1 (001) =  1 (001)\n",
      " 0 (000) +  2 (010) =  2 (010)\n",
      " 0 (000) +  3 (011) =  3 (011)\n",
      " 1 (001) + -4 (100) = -3 (101)\n",
      " 1 (001) + -3 (101) = -2 (110)\n",
      " 1 (001) + -2 (110) = -1 (111)\n",
      " 1 (001) + -1 (111) =  0 (000)\n",
      " 1 (001) +  0 (000) =  1 (001)\n",
      " 1 (001) +  1 (001) =  2 (010)\n",
      " 1 (001) +  2 (010) =  3 (011)\n",
      " 1 (001) +  3 (011) = -4 (100)\n",
      " 2 (010) + -4 (100) = -2 (110)\n",
      " 2 (010) + -3 (101) = -1 (111)\n",
      " 2 (010) + -2 (110) =  0 (000)\n",
      " 2 (010) + -1 (111) =  1 (001)\n",
      " 2 (010) +  0 (000) =  2 (010)\n",
      " 2 (010) +  1 (001) =  3 (011)\n",
      " 2 (010) +  2 (010) = -4 (100)\n",
      " 2 (010) +  3 (011) = -3 (101)\n",
      " 3 (011) + -4 (100) = -1 (111)\n",
      " 3 (011) + -3 (101) =  0 (000)\n",
      " 3 (011) + -2 (110) =  1 (001)\n",
      " 3 (011) + -1 (111) =  2 (010)\n",
      " 3 (011) +  0 (000) =  3 (011)\n",
      " 3 (011) +  1 (001) = -4 (100)\n",
      " 3 (011) +  2 (010) = -3 (101)\n",
      " 3 (011) +  3 (011) = -2 (110)\n"
     ]
    }
   ],
   "source": [
    "N = 3\n",
    "for n1, n2 in itertools.product(range(-2**(N - 1), 2**(N - 1)), repeat=2):\n",
    "    bits1, bits2 = decimal2binary(n1, nr_bits=N), decimal2binary(n2, nr_bits=N)\n",
    "    bits = add(bits1, bits2)\n",
    "    n = binary2decimal(bits)\n",
    "    print(f'{n1:2d} ({binary2str(bits1)}) + {n2:2d} ({binary2str(bits2)}) = {n:2d} ({binary2str(bits)})')\n",
    "    s = (n1 + n2) % 2**N\n",
    "    s = s if s < 2**(N - 1) else s - 2**N\n",
    "    assert s == n"
   ]
  },
  {
   "cell_type": "markdown",
   "id": "f1f1722f-5fe7-429c-9c53-14f9a1985af5",
   "metadata": {},
   "source": [
    "The results can be visualized in a heatmap."
   ]
  },
  {
   "cell_type": "code",
   "execution_count": 15,
   "id": "910c7d55-1df8-4a0a-b699-31de7f6f53d8",
   "metadata": {},
   "outputs": [],
   "source": [
    "def visualize_addition(nr_bits: int) -> None:\n",
    "    '''Visualize the addition in a heatmap.\n",
    "    \n",
    "    Parameters\n",
    "    ----------\n",
    "    nr_bits: int\n",
    "        number of bits of the 2-complement representation of the operands and result\n",
    "    '''\n",
    "    # define a partial function for the givenvalue of nr_bits to avoid a lambda function in map\n",
    "    to_bits = functools.partial(decimal2binary, nr_bits=nr_bits)\n",
    "\n",
    "    # compute all the sums for operands in the range -2**(N - 1) to 2**(N - 1) - 1\n",
    "    operands = list(range(-2**(nr_bits - 1), 2**(nr_bits - 1)))\n",
    "    sums = []\n",
    "    for bits1 in map(to_bits, operands):\n",
    "        sums.append([])\n",
    "        for bits2 in map(to_bits, operands):\n",
    "            bits = add(bits1, bits2)\n",
    "            n = binary2decimal(bits)\n",
    "            sums[-1].append(n)\n",
    "\n",
    "    # set the stage\n",
    "    figure, axis = matplotlib.pyplot.subplots()\n",
    "\n",
    "    # get a discrete colom map based o coolwarm\n",
    "    cmap = matplotlib.pyplot.get_cmap('coolwarm', 2**nr_bits)\n",
    "\n",
    "    # compute the norm for the heatmap values and create the heatmap\n",
    "    norm = matplotlib.colors.BoundaryNorm([-(2**(nr_bits - 1) + 0.5) + i for i in range(2**nr_bits + 1)], cmap.N)\n",
    "    heatmap = axis.matshow(sums, cmap=cmap, norm=norm)\n",
    "\n",
    "    # set axis labels\n",
    "    _ = axis.set_xticks(range(2**nr_bits), labels=operands)\n",
    "    _ = axis.set_yticks(range(2**nr_bits), labels=operands)\n",
    "\n",
    "    # create the color bar\n",
    "    cbar = matplotlib.pyplot.colorbar(heatmap, ax=axis, ticks=range(-2**(nr_bits-1), 2**(nr_bits - 1)))\n",
    "    cbar.ax.yaxis.set_major_formatter(matplotlib.ticker.FormatStrFormatter('%3d'))\n",
    "\n",
    "    # show the values in the heatmap patches\n",
    "    for i in range(2**nr_bits):\n",
    "        for j in range(2**nr_bits):\n",
    "            axis.text(i, j, f'{sums[i][j]:2d}', ha='center', va='center')"
   ]
  },
  {
   "cell_type": "code",
   "execution_count": 16,
   "id": "a4a7c13d-56db-49ad-81df-34eac98b0216",
   "metadata": {},
   "outputs": [
    {
     "data": {
      "image/png": "[encoded data removed]",
      "text/plain": [
       "<Figure size 640x480 with 2 Axes>"
      ]
     },
     "metadata": {},
     "output_type": "display_data"
    }
   ],
   "source": [
    "visualize_addition(nr_bits=3)"
   ]
  },
  {
   "cell_type": "markdown",
   "id": "4d110620-f4dd-442c-89e7-cbd2f0bf6950",
   "metadata": {},
   "source": [
    "This representation shows the symmetry much better."
   ]
  },
  {
   "cell_type": "code",
   "execution_count": 17,
   "id": "b250adba-39c5-4b55-9224-f31b8841deb0",
   "metadata": {},
   "outputs": [
    {
     "data": {
      "image/png": "[encoded data removed]",
      "text/plain": [
       "<Figure size 640x480 with 2 Axes>"
      ]
     },
     "metadata": {},
     "output_type": "display_data"
    }
   ],
   "source": [
    "visualize_addition(nr_bits=2)"
   ]
  },
  {
   "cell_type": "code",
   "execution_count": 18,
   "id": "33749af3-d26b-434d-b7c1-aa7119e56fd4",
   "metadata": {},
   "outputs": [
    {
     "data": {
      "image/png": "[encoded data removed]",
      "text/plain": [
       "<Figure size 640x480 with 2 Axes>"
      ]
     },
     "metadata": {},
     "output_type": "display_data"
    }
   ],
   "source": [
    "visualize_addition(nr_bits=4)"
   ]
  },
  {
   "cell_type": "markdown",
   "id": "188143ca-4359-41f7-8903-035853eeab17",
   "metadata": {},
   "source": [
    "The pattern is similar for various bit representations."
   ]
  }
 ],
 "metadata": {
  "kernelspec": {
   "display_name": "Python 3 (ipykernel)",
   "language": "python",
   "name": "python3"
  },
  "language_info": {
   "codemirror_mode": {
    "name": "ipython",
    "version": 3
   },
   "file_extension": ".py",
   "mimetype": "text/x-python",
   "name": "python",
   "nbconvert_exporter": "python",
   "pygments_lexer": "ipython3",
   "version": "3.13.3"
  }
 },
 "nbformat": 4,
 "nbformat_minor": 5
}
