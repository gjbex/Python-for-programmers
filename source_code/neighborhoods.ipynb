{
 "cells": [
  {
   "cell_type": "markdown",
   "metadata": {},
   "source": [
    "# Problem setting"
   ]
  },
  {
   "cell_type": "markdown",
   "metadata": {},
   "source": [
    "## Game rules"
   ]
  },
  {
   "cell_type": "markdown",
   "metadata": {},
   "source": [
    "This \"game\" is played on a grid of squares.  The starting configuation is a single occupied square.  The probability for new squares depends on the number of neighboring occupied squares.  The probability for occupying a new square is 0 for squares without any occupied neighbors, for each neighbor an empty square has, the probability goes up by 1.\n",
    "\n",
    "That means that when there is a single square, each of its four neighbors has a 0.25 probability of being occupied.\n",
    "\n",
    "![probabilities](game.png)\n",
    "\n",
    "For the configuration above, the squares labeled with 1 to 7 are candiates to be a new occupied square.  Square 7 has two neighbors, so the probability to be picked is twice that of the squares 1 to 6 since those have a single neighbor each."
   ]
  },
  {
   "cell_type": "markdown",
   "metadata": {},
   "source": [
    "## Measure"
   ]
  },
  {
   "cell_type": "markdown",
   "metadata": {},
   "source": [
    "The measure of interest is the \"hairiness\", which is defined as the number of free edges devide by the number occupied squares.  In the configuration above, the three occupied squares have 8 edges, so the hairiness $H$ would be $8/3 \\approx 2.66667$."
   ]
  },
  {
   "cell_type": "markdown",
   "metadata": {},
   "source": [
    "# Representation"
   ]
  },
  {
   "cell_type": "markdown",
   "metadata": {},
   "source": [
    "We need to keep track of the squares that are currently occupied, and the squares are candidates to occupy in the next move.  The currently occupied squares can be represented by a set of tuples ($x$ and $y$ cooridnates).  The candidate squares can be stored in a list, where each square occurs as many times as it has an occupied neightbor.  The advantege of this representation of candidate squares as a list is that it is tirival to sample with the correct probabilities.\n",
    "\n",
    "For instance, in the example above, the occupied squares would be ${(0, 0), (1, 0), (1, 1)}$, while the list of candidate squares would be $[(1, 2), (2, 1), (2, 0), (1, -1), (0, -1), (-1, 0), (0, 1), (0, 1)]$.  Note that square 6 at $(0, 1)$ occurs twice, insce it has two neighbors.  Picking a random element from this list sample with the correct probability distribution.\n",
    "\n",
    "When a square is picked to be occupied, all of the copies in the list should be reovmed, and the square is added to the set of occupied squares.  All the neighbors of the new square should be added to the list of candidate squares, unless they are occupied already.\n",
    "\n",
    "If a square has coordinates $(x, y)$, its neighbors have coordinates $(x - 1, y)$, $(x + 1, y)$, $(x, y - 1)$ and $(x, y + 1)$."
   ]
  },
  {
   "cell_type": "markdown",
   "metadata": {},
   "source": [
    "## Board"
   ]
  },
  {
   "cell_type": "code",
   "execution_count": 1,
   "metadata": {},
   "outputs": [],
   "source": [
    "import matplotlib.pyplot as plt\n",
    "import numpy as np\n",
    "from operator import itemgetter\n",
    "import random\n",
    "%matplotlib inline"
   ]
  },
  {
   "cell_type": "markdown",
   "metadata": {},
   "source": [
    "First, we can write a function that returns the neighbors of a given square."
   ]
  },
  {
   "cell_type": "code",
   "execution_count": 2,
   "metadata": {},
   "outputs": [],
   "source": [
    "def get_neighbors(square):\n",
    "    return [(square[0] + direction[0], square[1] + direction[1])\n",
    "            for direction in [(-1, 0), (1, 0), (0, -1), (0, 1)]]"
   ]
  },
  {
   "cell_type": "markdown",
   "metadata": {},
   "source": [
    "We represent the board as a class.  The constructor creates a board with a snigle square occupied at $(0, 0)$.  It has a public move method that occupies a new square according to the rules.  There is a getter to retrieve the occupied squares as a frozen set."
   ]
  },
  {
   "cell_type": "code",
   "execution_count": 3,
   "metadata": {},
   "outputs": [],
   "source": [
    "class Board:\n",
    "    \n",
    "    def __init__(self):\n",
    "        self._occupied = set()\n",
    "        self._candidates = dict()\n",
    "        self._add_occupied((0, 0))\n",
    "        \n",
    "    def _add_occupied(self, new_square):\n",
    "        self._occupied.add(new_square)\n",
    "        self._add_neighbors(new_square)\n",
    "        \n",
    "    def _add_neighbors(self, square):\n",
    "        for neighbor in get_neighbors(square):\n",
    "            if neighbor not in self._occupied:\n",
    "                if neighbor not in self._candidates:\n",
    "                    self._candidates[neighbor] = 0\n",
    "                self._candidates[neighbor] += 1\n",
    "            \n",
    "    def move(self):\n",
    "        new_square = random.choices(list(self._candidates.keys()),\n",
    "                                    weights=list(self._candidates.values()))[0]\n",
    "        self._candidates.pop(new_square)\n",
    "        self._add_occupied(new_square)\n",
    "    \n",
    "    @property\n",
    "    def occupied(self):\n",
    "        return frozenset(self._occupied)\n",
    "    \n",
    "    @property\n",
    "    def candidates(self):\n",
    "        return self._candidates.copy()\n",
    "    \n",
    "    @property\n",
    "    def nr_squares(self):\n",
    "        return len(self._occupied)\n",
    "\n",
    "    @property\n",
    "    def nr_edges(self):\n",
    "        return sum(self._candidates.values())"
   ]
  },
  {
   "cell_type": "markdown",
   "metadata": {},
   "source": [
    "## Visualization"
   ]
  },
  {
   "cell_type": "markdown",
   "metadata": {},
   "source": [
    "We can define a function that converts a set of square coordinates to a 2D array for visualization."
   ]
  },
  {
   "cell_type": "code",
   "execution_count": 4,
   "metadata": {},
   "outputs": [],
   "source": [
    "def board_to_array(squares):\n",
    "    min_x = min(map(itemgetter(0), squares))\n",
    "    max_x = max(map(itemgetter(0), squares))\n",
    "    x_dim = max_x - min_x + 1\n",
    "    min_y = min(map(itemgetter(1), squares))\n",
    "    max_y = max(map(itemgetter(1), squares))\n",
    "    y_dim = max_y - min_y + 1\n",
    "    board = np.zeros((x_dim, y_dim), dtype=np.uint8)\n",
    "    for x, y in squares:\n",
    "        board[x - min_x, y - min_y] = 1\n",
    "    return board"
   ]
  },
  {
   "cell_type": "markdown",
   "metadata": {},
   "source": [
    "The function to visualize a board is then trivial to write using `imshow`."
   ]
  },
  {
   "cell_type": "code",
   "execution_count": 5,
   "metadata": {},
   "outputs": [],
   "source": [
    "def show_board(board):\n",
    "    _ = plt.imshow(board_to_array(board.occupied))"
   ]
  },
  {
   "cell_type": "markdown",
   "metadata": {},
   "source": [
    "# Results"
   ]
  },
  {
   "cell_type": "markdown",
   "metadata": {},
   "source": [
    "We can now visualize a board after 5,000 steps."
   ]
  },
  {
   "cell_type": "code",
   "execution_count": 6,
   "metadata": {},
   "outputs": [
    {
     "data": {
      "image/png": "[encoded data removed]",
      "text/plain": [
       "<Figure size 432x288 with 1 Axes>"
      ]
     },
     "metadata": {
      "needs_background": "light"
     },
     "output_type": "display_data"
    }
   ],
   "source": [
    "board = Board()\n",
    "for _ in range(50_000):\n",
    "    board.move()\n",
    "show_board(board)"
   ]
  },
  {
   "cell_type": "markdown",
   "metadata": {},
   "source": [
    "## Free edge distirubtion"
   ]
  },
  {
   "cell_type": "code",
   "execution_count": 7,
   "metadata": {},
   "outputs": [],
   "source": [
    "def plot_free_edge_distribution(board):\n",
    "    edges = board.candidates.values()\n",
    "    _ = plt.hist(edges, bins=[0.5, 1.5, 2.5, 3.5, 4.5], density=True)\n",
    "    _ = plt.xticks([1, 2, 3, 4])"
   ]
  },
  {
   "cell_type": "code",
   "execution_count": 8,
   "metadata": {},
   "outputs": [
    {
     "data": {
      "image/png": "[encoded data removed]",
      "text/plain": [
       "<Figure size 432x288 with 1 Axes>"
      ]
     },
     "metadata": {
      "needs_background": "light"
     },
     "output_type": "display_data"
    }
   ],
   "source": [
    "plot_free_edge_distribution(board)"
   ]
  },
  {
   "cell_type": "markdown",
   "metadata": {},
   "source": [
    "## Hairiness"
   ]
  },
  {
   "cell_type": "markdown",
   "metadata": {},
   "source": [
    "The hairiness function can now be defined with a set of squares as an argument."
   ]
  },
  {
   "cell_type": "code",
   "execution_count": 9,
   "metadata": {},
   "outputs": [],
   "source": [
    "def hairiness(board):\n",
    "    return board.nr_edges/board.nr_squares"
   ]
  },
  {
   "cell_type": "markdown",
   "metadata": {},
   "source": [
    "We can now write a function that plays the game for a number of time steps, and returns the hairiness as a function of time."
   ]
  },
  {
   "cell_type": "code",
   "execution_count": 10,
   "metadata": {},
   "outputs": [],
   "source": [
    "def simulate(t_max):\n",
    "    board = Board()\n",
    "    data = np.empty((t_max + 1, 2))\n",
    "    data[0, :] = 0, hairiness(board)\n",
    "    for t in range(1, t_max + 1):\n",
    "        board.move()\n",
    "        data[t, :] = t, hairiness(board)\n",
    "    return data"
   ]
  },
  {
   "cell_type": "markdown",
   "metadata": {},
   "source": [
    "Simulating over 5,000 time steps and plotting $H(t)$."
   ]
  },
  {
   "cell_type": "code",
   "execution_count": 11,
   "metadata": {},
   "outputs": [
    {
     "name": "stdout",
     "output_type": "stream",
     "text": [
      "CPU times: user 15.3 s, sys: 41.8 ms, total: 15.3 s\n",
      "Wall time: 15.7 s\n"
     ]
    }
   ],
   "source": [
    "%%time\n",
    "data = simulate(200_000)"
   ]
  },
  {
   "cell_type": "code",
   "execution_count": 12,
   "metadata": {},
   "outputs": [
    {
     "data": {
      "image/png": "[encoded data removed]",
      "text/plain": [
       "<Figure size 432x288 with 1 Axes>"
      ]
     },
     "metadata": {
      "needs_background": "light"
     },
     "output_type": "display_data"
    }
   ],
   "source": [
    "_ = plt.semilogy(data[:, 0], data[:, 1])\n",
    "_ = plt.xlabel('$t$')\n",
    "_ = plt.ylabel('$H(t)$')"
   ]
  }
 ],
 "metadata": {
  "kernelspec": {
   "display_name": "Python 3 (ipykernel)",
   "language": "python",
   "name": "python3"
  },
  "language_info": {
   "codemirror_mode": {
    "name": "ipython",
    "version": 3
   },
   "file_extension": ".py",
   "mimetype": "text/x-python",
   "name": "python",
   "nbconvert_exporter": "python",
   "pygments_lexer": "ipython3",
   "version": "3.10.4"
  },
  "toc-autonumbering": true
 },
 "nbformat": 4,
 "nbformat_minor": 4
}
