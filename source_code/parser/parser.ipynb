{
 "cells": [
  {
   "cell_type": "markdown",
   "id": "f9b85044-c01f-43f6-9e1e-75e7ee78cfcc",
   "metadata": {},
   "source": [
    "## Requirements"
   ]
  },
  {
   "cell_type": "code",
   "execution_count": 1,
   "id": "5386eaaf-2531-4c45-bf51-b5ee2e69636f",
   "metadata": {},
   "outputs": [],
   "source": [
    "import enum\n",
    "import re\n",
    "import typing\n",
    "import parser"
   ]
  },
  {
   "cell_type": "markdown",
   "id": "02c37f0f-d3cb-4b44-a29b-8f1608583e85",
   "metadata": {},
   "source": [
    "## Implementation"
   ]
  },
  {
   "cell_type": "markdown",
   "id": "b7c942f2-d76e-439b-88a4-72c8b55d655a",
   "metadata": {},
   "source": [
    "The parser is implemented in the module `parser.py`."
   ]
  },
  {
   "cell_type": "code",
   "execution_count": 4,
   "id": "addce2c6-9076-4805-99a3-94aee6673015",
   "metadata": {},
   "outputs": [
    {
     "data": {
      "text/plain": [
       "\u001b[38;5;66;03m#!/usr/bin/env python\u001b[39;00m\n",
       "\n",
       "\u001b[38;5;28;01mimport\u001b[39;00m enum\n",
       "\u001b[38;5;28;01mimport\u001b[39;00m re\n",
       "\u001b[38;5;28;01mimport\u001b[39;00m typing\n",
       "\n",
       "\n",
       "\u001b[38;5;28;01mclass\u001b[39;00m State(enum.Enum):\n",
       "    start = enum.auto()\n",
       "    in_block = enum.auto()\n",
       "    not_in_block = enum.auto()\n",
       "\n",
       "\n",
       "Item: typing.TypeAlias = str\n",
       "Block: typing.TypeAlias = list[Item]\n",
       "Blocks: typing.TypeAlias = dict[str, Block]\n",
       "\n",
       "\n",
       "\u001b[38;5;28;01mclass\u001b[39;00m Parser:\n",
       "\n",
       "    \u001b[38;5;28;01mdef\u001b[39;00m __init__(self):\n",
       "        self._state = State.start\n",
       "        self._comment_str = \u001b[33m'#'\u001b[39m\n",
       "        self._current_block_name = \u001b[38;5;28;01mNone\u001b[39;00m\n",
       "        self._block_begin_re = re.compile(\u001b[33mr'begin\\s+block\\s+(\\w+)\\s*$'\u001b[39m)\n",
       "        self._block_end_re = re.compile(\u001b[33mr'end\\s+block\\s+(\\w+)\\s*$'\u001b[39m)\n",
       "        self._item_re = re.compile(\u001b[33mr'item\\s+(\\w+)\\s*$'\u001b[39m)\n",
       "        self._blocks = \u001b[38;5;28;01mNone\u001b[39;00m\n",
       "\n",
       "    \u001b[38;5;28;01mdef\u001b[39;00m _is_comment(self, line: str) -> bool:\n",
       "        \u001b[38;5;28;01mreturn\u001b[39;00m line.startswith(self._comment_str)\n",
       "\n",
       "    \u001b[38;5;28;01mdef\u001b[39;00m _is_block_begin(self, line: str) -> bool:\n",
       "        match = self._block_begin_re.match(line)\n",
       "        \u001b[38;5;28;01mif\u001b[39;00m match:\n",
       "            self._previous_block_name = self._current_block_name\n",
       "            self._current_block_name = match.group(\u001b[32m1\u001b[39m)\n",
       "            self._current_block = []\n",
       "            \u001b[38;5;28;01mreturn\u001b[39;00m \u001b[38;5;28;01mTrue\u001b[39;00m\n",
       "        \u001b[38;5;28;01mreturn\u001b[39;00m \u001b[38;5;28;01mFalse\u001b[39;00m\n",
       "\n",
       "    \u001b[38;5;28;01mdef\u001b[39;00m _is_block_end(self, line: str) -> bool:\n",
       "        match = self._block_end_re.match(line)\n",
       "        \u001b[38;5;28;01mif\u001b[39;00m match:\n",
       "            \u001b[38;5;28;01mif\u001b[39;00m match.group(\u001b[32m1\u001b[39m) != self._current_block_name:\n",
       "                \u001b[38;5;28;01mraise\u001b[39;00m ValueError(f'block \"\"{self._current_block_name}\" is ended by \"{match.group(\u001b[32m1\u001b[39m)}\"')\n",
       "            self._blocks[self._current_block_name] = self._current_block\n",
       "            self._current_block_name = \u001b[38;5;28;01mNone\u001b[39;00m\n",
       "            self._current_block = \u001b[38;5;28;01mNone\u001b[39;00m\n",
       "            \u001b[38;5;28;01mreturn\u001b[39;00m \u001b[38;5;28;01mTrue\u001b[39;00m\n",
       "        \u001b[38;5;28;01mreturn\u001b[39;00m \u001b[38;5;28;01mFalse\u001b[39;00m\n",
       "\n",
       "    \u001b[38;5;28;01mdef\u001b[39;00m _is_item(self, line: str) -> bool:\n",
       "        match = self._item_re.match(line)\n",
       "        \u001b[38;5;28;01mif\u001b[39;00m match:\n",
       "            self._current_block.append(match.group(\u001b[32m1\u001b[39m))\n",
       "            \u001b[38;5;28;01mreturn\u001b[39;00m \u001b[38;5;28;01mTrue\u001b[39;00m\n",
       "        \u001b[38;5;28;01mreturn\u001b[39;00m \u001b[38;5;28;01mFalse\u001b[39;00m\n",
       "\n",
       "    \u001b[38;5;28;01mdef\u001b[39;00m parse(self, file_name: str) -> Blocks:\n",
       "        self._blocks = {}\n",
       "        line_nr: int = \u001b[32m0\u001b[39m\n",
       "        \u001b[38;5;28;01mwith\u001b[39;00m open(file_name) \u001b[38;5;28;01mas\u001b[39;00m file:\n",
       "            \u001b[38;5;28;01mfor\u001b[39;00m line \u001b[38;5;28;01min\u001b[39;00m file:\n",
       "                line_nr += \u001b[32m1\u001b[39m\n",
       "                line = line.strip()\n",
       "                \u001b[38;5;66;03m# skip comments and empty lines\u001b[39;00m\n",
       "                \u001b[38;5;28;01mif\u001b[39;00m \u001b[38;5;28;01mnot\u001b[39;00m line \u001b[38;5;28;01mor\u001b[39;00m self._is_comment(line):\n",
       "                    \u001b[38;5;28;01mcontinue\u001b[39;00m\n",
       "                match self._state:\n",
       "                    case State.start:\n",
       "                        \u001b[38;5;28;01mif\u001b[39;00m self._is_block_begin(line):\n",
       "                            self._state = State.in_block\n",
       "                        \u001b[38;5;28;01melse\u001b[39;00m:\n",
       "                            \u001b[38;5;28;01mraise\u001b[39;00m ValueError(f'line {line_nr}: expecting begin block, got \"{line}\"')\n",
       "                    case State.in_block:\n",
       "                        \u001b[38;5;28;01mif\u001b[39;00m self._is_item(line):\n",
       "                            \u001b[38;5;28;01mpass\u001b[39;00m\n",
       "                        \u001b[38;5;28;01melif\u001b[39;00m self._is_block_end(line):\n",
       "                            self._state = State.not_in_block\n",
       "                        \u001b[38;5;28;01melse\u001b[39;00m:\n",
       "                            \u001b[38;5;28;01mraise\u001b[39;00m ValueError(f'line {line_nr}: expected item or end block, got \"{line}\"')\n",
       "                    case State.not_in_block:\n",
       "                        \u001b[38;5;28;01mif\u001b[39;00m self._is_block_begin(line):\n",
       "                            self._state = State.in_block\n",
       "                        \u001b[38;5;28;01melse\u001b[39;00m:\n",
       "                            \u001b[38;5;28;01mraise\u001b[39;00m ValueError(f'line {line_nr}: expected begin block, got \"{line}\"')\n",
       "        \u001b[38;5;28;01mif\u001b[39;00m self._state \u001b[38;5;28;01mis\u001b[39;00m State.in_block:\n",
       "            \u001b[38;5;28;01mraise\u001b[39;00m ValueError(f'block \"{self._current_block_name}\" not ended at end of file')\n",
       "        \u001b[38;5;28;01mreturn\u001b[39;00m self._blocks\n"
      ]
     },
     "metadata": {},
     "output_type": "display_data"
    }
   ],
   "source": [
    "%pycat parser.py"
   ]
  },
  {
   "cell_type": "markdown",
   "id": "e8bea0a2-1ee5-4f8e-820c-322c53e31b8a",
   "metadata": {},
   "source": [
    "## Usage"
   ]
  },
  {
   "cell_type": "markdown",
   "id": "677d20a2-5ba8-4953-b61e-6dae7d302749",
   "metadata": {},
   "source": [
    "Create a new parser."
   ]
  },
  {
   "cell_type": "code",
   "execution_count": null,
   "id": "f343e9b0-af88-4645-b056-574ecc36c19f",
   "metadata": {},
   "outputs": [],
   "source": [
    "parser = parser.Parser()"
   ]
  },
  {
   "cell_type": "markdown",
   "id": "63c5b264-3ec2-49f0-a372-07e8a67afddd",
   "metadata": {},
   "source": [
    "Parse a file."
   ]
  },
  {
   "cell_type": "code",
   "execution_count": 3,
   "id": "9f58c28f-0d8c-4814-9151-ca2613a61a5c",
   "metadata": {},
   "outputs": [
    {
     "name": "stdout",
     "output_type": "stream",
     "text": [
      "begin block b1\n",
      "  item v1\n",
      "  item v2\n",
      "end block b1\n",
      "\n",
      "begin block b2\n",
      "  item v3\n",
      "  # comment on v4\n",
      "  item v4\n",
      "  item v5\n",
      "end block b2\n",
      "\n",
      "# comment on b3, empty block\n",
      "begin block b3\n",
      "end block b3"
     ]
    }
   ],
   "source": [
    "%cat data/valid_blcok_data.txt"
   ]
  },
  {
   "cell_type": "code",
   "execution_count": null,
   "id": "ed47544e-3696-4c84-80cf-16c61d096f68",
   "metadata": {},
   "outputs": [],
   "source": [
    "blocks = parser.parse('data/valid_blcok_data.txt')"
   ]
  },
  {
   "cell_type": "markdown",
   "id": "74037c87-fa8a-4a95-a3c8-7750dbb775f4",
   "metadata": {},
   "source": [
    "Check whether the parser worked as expected."
   ]
  },
  {
   "cell_type": "code",
   "execution_count": 2,
   "id": "a84ccbf1-7f33-486b-994a-5aef88ca8f4e",
   "metadata": {},
   "outputs": [],
   "source": [
    "assert len(blocks) == 3, f'3 blocks expected, got {len(blocks)}'\n",
    "assert set(blocks.keys()) == set(('b1', 'b2', 'b3')), f'unexpected block names {set(blocks.keys())}'\n",
    "for i, nr_items in enumerate((2, 3, 0)):\n",
    "    assert len(blocks[f'b{i + 1}']) == nr_items, 'expected {nr_items} for b{i + 1}'"
   ]
  },
  {
   "cell_type": "markdown",
   "id": "cf9bb37d-977d-46e4-bb08-35789fa5f9b1",
   "metadata": {},
   "source": [
    "See the `test_parser.py` file for more comprehensive tests."
   ]
  }
 ],
 "metadata": {
  "kernelspec": {
   "display_name": "Python 3 (ipykernel)",
   "language": "python",
   "name": "python3"
  },
  "language_info": {
   "codemirror_mode": {
    "name": "ipython",
    "version": 3
   },
   "file_extension": ".py",
   "mimetype": "text/x-python",
   "name": "python",
   "nbconvert_exporter": "python",
   "pygments_lexer": "ipython3",
   "version": "3.13.7"
  }
 },
 "nbformat": 4,
 "nbformat_minor": 5
}
