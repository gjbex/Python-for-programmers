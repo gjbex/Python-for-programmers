{
 "cells": [
  {
   "cell_type": "markdown",
   "id": "f9b85044-c01f-43f6-9e1e-75e7ee78cfcc",
   "metadata": {},
   "source": [
    "## Requirements"
   ]
  },
  {
   "cell_type": "code",
   "execution_count": 1,
   "id": "5386eaaf-2531-4c45-bf51-b5ee2e69636f",
   "metadata": {
    "execution": {
     "iopub.execute_input": "2025-09-23T08:42:26.972174Z",
     "iopub.status.busy": "2025-09-23T08:42:26.971633Z",
     "iopub.status.idle": "2025-09-23T08:42:27.005214Z",
     "shell.execute_reply": "2025-09-23T08:42:27.002621Z"
    }
   },
   "outputs": [],
   "source": [
    "import enum\n",
    "import re\n",
    "import typing\n",
    "import block_parser"
   ]
  },
  {
   "cell_type": "markdown",
   "id": "02c37f0f-d3cb-4b44-a29b-8f1608583e85",
   "metadata": {},
   "source": [
    "## Implementation"
   ]
  },
  {
   "cell_type": "markdown",
   "id": "b7c942f2-d76e-439b-88a4-72c8b55d655a",
   "metadata": {},
   "source": [
    "The parser is implemented in the module `block_parser.py`."
   ]
  },
  {
   "cell_type": "code",
   "execution_count": 2,
   "id": "addce2c6-9076-4805-99a3-94aee6673015",
   "metadata": {
    "execution": {
     "iopub.execute_input": "2025-09-23T08:42:27.012042Z",
     "iopub.status.busy": "2025-09-23T08:42:27.011538Z",
     "iopub.status.idle": "2025-09-23T08:42:27.026628Z",
     "shell.execute_reply": "2025-09-23T08:42:27.024050Z"
    }
   },
   "outputs": [],
   "source": [
    "%pycat block_parser.py"
   ]
  },
  {
   "cell_type": "markdown",
   "id": "e8bea0a2-1ee5-4f8e-820c-322c53e31b8a",
   "metadata": {},
   "source": [
    "## Usage"
   ]
  },
  {
   "cell_type": "markdown",
   "id": "677d20a2-5ba8-4953-b61e-6dae7d302749",
   "metadata": {},
   "source": [
    "Create a new parser."
   ]
  },
  {
   "cell_type": "code",
   "execution_count": 3,
   "id": "f343e9b0-af88-4645-b056-574ecc36c19f",
   "metadata": {
    "execution": {
     "iopub.execute_input": "2025-09-23T08:42:27.032732Z",
     "iopub.status.busy": "2025-09-23T08:42:27.032171Z",
     "iopub.status.idle": "2025-09-23T08:42:27.039822Z",
     "shell.execute_reply": "2025-09-23T08:42:27.038247Z"
    }
   },
   "outputs": [],
   "source": [
    "parser = block_parser.Parser()"
   ]
  },
  {
   "cell_type": "markdown",
   "id": "63c5b264-3ec2-49f0-a372-07e8a67afddd",
   "metadata": {},
   "source": [
    "Parse a file."
   ]
  },
  {
   "cell_type": "code",
   "execution_count": 4,
   "id": "9f58c28f-0d8c-4814-9151-ca2613a61a5c",
   "metadata": {
    "execution": {
     "iopub.execute_input": "2025-09-23T08:42:27.043466Z",
     "iopub.status.busy": "2025-09-23T08:42:27.043116Z",
     "iopub.status.idle": "2025-09-23T08:42:27.407459Z",
     "shell.execute_reply": "2025-09-23T08:42:27.405175Z"
    }
   },
   "outputs": [
    {
     "name": "stdout",
     "output_type": "stream",
     "text": [
      "begin block b1\r\n",
      "  item v1\r\n",
      "  item v2\r\n",
      "end block b1\r\n",
      "\r\n",
      "begin block b2\r\n",
      "  item v3\r\n",
      "  # comment on v4\r\n",
      "  item v4\r\n",
      "  item v5\r\n",
      "end block b2\r\n",
      "\r\n",
      "# comment on b3, empty block\r\n",
      "begin block b3\r\n",
      "end block b3"
     ]
    }
   ],
   "source": [
    "%cat data/valid_blcok_data.txt"
   ]
  },
  {
   "cell_type": "code",
   "execution_count": 5,
   "id": "ed47544e-3696-4c84-80cf-16c61d096f68",
   "metadata": {
    "execution": {
     "iopub.execute_input": "2025-09-23T08:42:27.415010Z",
     "iopub.status.busy": "2025-09-23T08:42:27.414235Z",
     "iopub.status.idle": "2025-09-23T08:42:27.424972Z",
     "shell.execute_reply": "2025-09-23T08:42:27.422271Z"
    }
   },
   "outputs": [],
   "source": [
    "blocks = parser.parse('data/valid_blcok_data.txt')"
   ]
  },
  {
   "cell_type": "markdown",
   "id": "74037c87-fa8a-4a95-a3c8-7750dbb775f4",
   "metadata": {},
   "source": [
    "Check whether the parser worked as expected."
   ]
  },
  {
   "cell_type": "code",
   "execution_count": 6,
   "id": "a84ccbf1-7f33-486b-994a-5aef88ca8f4e",
   "metadata": {
    "execution": {
     "iopub.execute_input": "2025-09-23T08:42:27.430782Z",
     "iopub.status.busy": "2025-09-23T08:42:27.430143Z",
     "iopub.status.idle": "2025-09-23T08:42:27.451346Z",
     "shell.execute_reply": "2025-09-23T08:42:27.449810Z"
    }
   },
   "outputs": [],
   "source": [
    "assert len(blocks) == 3, f'3 blocks expected, got {len(blocks)}'\n",
    "assert set(blocks.keys()) == set(('b1', 'b2', 'b3')), f'unexpected block names {set(blocks.keys())}'\n",
    "for i, nr_items in enumerate((2, 3, 0)):\n",
    "    assert len(blocks[f'b{i + 1}']) == nr_items, 'expected {nr_items} for b{i + 1}'"
   ]
  },
  {
   "cell_type": "markdown",
   "id": "cf9bb37d-977d-46e4-bb08-35789fa5f9b1",
   "metadata": {},
   "source": [
    "See the `test_parser.py` file for more comprehensive tests."
   ]
  }
 ],
 "metadata": {
  "kernelspec": {
   "display_name": "Python 3 (ipykernel)",
   "language": "python",
   "name": "python3"
  },
  "language_info": {
   "codemirror_mode": {
    "name": "ipython",
    "version": 3
   },
   "file_extension": ".py",
   "mimetype": "text/x-python",
   "name": "python",
   "nbconvert_exporter": "python",
   "pygments_lexer": "ipython3",
   "version": "3.13.7"
  }
 },
 "nbformat": 4,
 "nbformat_minor": 5
}
