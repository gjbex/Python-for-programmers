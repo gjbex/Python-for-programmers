{
 "cells": [
  {
   "cell_type": "code",
   "execution_count": 3,
   "id": "82480372-c0ad-440c-a076-5e8cc6666e48",
   "metadata": {},
   "outputs": [],
   "source": [
    "import itertools"
   ]
  },
  {
   "cell_type": "markdown",
   "id": "2e8c295a-92e9-4ee5-aefa-5ebe658ebc04",
   "metadata": {},
   "source": [
    "Although `itertools.chain` is very useful, it may not do what you intend when elements are strings. It also doesn't recurse beyond the first level."
   ]
  },
  {
   "cell_type": "code",
   "execution_count": 8,
   "id": "5f6e1c01-98e4-4093-984b-2f8b470c804b",
   "metadata": {},
   "outputs": [],
   "source": [
    "data = [('a', 'b'), 'c012', ('d', 'e490'), 'f', 'g', (1, (3, 7))]"
   ]
  },
  {
   "cell_type": "code",
   "execution_count": 9,
   "id": "96e0ea2e-28cc-438b-9e5d-e98edc521883",
   "metadata": {},
   "outputs": [
    {
     "name": "stdout",
     "output_type": "stream",
     "text": [
      "a\n",
      "b\n",
      "c\n",
      "0\n",
      "1\n",
      "2\n",
      "d\n",
      "e490\n",
      "f\n",
      "g\n",
      "1\n",
      "(3, 7)\n"
     ]
    }
   ],
   "source": [
    "for item in itertools.chain(*data):\n",
    "    print(item)"
   ]
  },
  {
   "cell_type": "markdown",
   "id": "308fe429-20ae-41b6-832d-ee840c1a1bb6",
   "metadata": {},
   "source": [
    "The following function may be more what you expect."
   ]
  },
  {
   "cell_type": "code",
   "execution_count": 10,
   "id": "b36d51df-47b6-48a6-b79e-778b5e88e17e",
   "metadata": {},
   "outputs": [],
   "source": [
    "def flatten(data, recurse=True):\n",
    "    for item in data:\n",
    "        if hasattr(item, '__iter__') and not isinstance(item, str):\n",
    "            for subitem in flatten(item) if recurse else item:\n",
    "                yield subitem\n",
    "        else:\n",
    "            yield item"
   ]
  },
  {
   "cell_type": "code",
   "execution_count": 11,
   "id": "64a64ff7-8b26-462a-b98b-c4c2c69b9014",
   "metadata": {},
   "outputs": [
    {
     "name": "stdout",
     "output_type": "stream",
     "text": [
      "a\n",
      "b\n",
      "c012\n",
      "d\n",
      "e490\n",
      "f\n",
      "g\n",
      "1\n",
      "3\n",
      "7\n"
     ]
    }
   ],
   "source": [
    "for item in flatten(data):\n",
    "    print(item)"
   ]
  },
  {
   "cell_type": "code",
   "execution_count": 12,
   "id": "bbb96b04-1e84-4c6d-bd8d-18638732f32e",
   "metadata": {},
   "outputs": [
    {
     "name": "stdout",
     "output_type": "stream",
     "text": [
      "a\n",
      "b\n",
      "c012\n",
      "d\n",
      "e490\n",
      "f\n",
      "g\n",
      "1\n",
      "(3, 7)\n"
     ]
    }
   ],
   "source": [
    "for item in flatten(data, recurse=False):\n",
    "    print(item)"
   ]
  }
 ],
 "metadata": {
  "kernelspec": {
   "display_name": "Python 3 (ipykernel)",
   "language": "python",
   "name": "python3"
  },
  "language_info": {
   "codemirror_mode": {
    "name": "ipython",
    "version": 3
   },
   "file_extension": ".py",
   "mimetype": "text/x-python",
   "name": "python",
   "nbconvert_exporter": "python",
   "pygments_lexer": "ipython3",
   "version": "3.11.3"
  }
 },
 "nbformat": 4,
 "nbformat_minor": 5
}
