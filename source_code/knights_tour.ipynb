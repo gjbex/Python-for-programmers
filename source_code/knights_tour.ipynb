{
 "cells": [
  {
   "cell_type": "markdown",
   "id": "7c5e2975-6547-4ed6-9f6e-8f13aa65843d",
   "metadata": {},
   "source": [
    "# Requirements"
   ]
  },
  {
   "cell_type": "code",
   "execution_count": 1,
   "id": "d51322fb-c8f6-4d9e-a378-1b3653b86ae4",
   "metadata": {},
   "outputs": [],
   "source": [
    "import math\n",
    "import sys"
   ]
  },
  {
   "cell_type": "markdown",
   "id": "c9d355ab-4965-405f-ac5d-5d9c2843f799",
   "metadata": {},
   "source": [
    "# Problem"
   ]
  },
  {
   "cell_type": "markdown",
   "id": "19e39cbf-13b3-4cd7-b497-252ac5d68ea0",
   "metadata": {},
   "source": [
    "We want to complete a knight's tour on a square board.  A knight's tour is a sequence of moves (like the knight in chess) on the board such that each position on the board is visited exactly once.\n",
    "\n",
    "The $1 \\times 1$ board is trivial, there is a single trivial tool.  It is immediately clear that there are no tours for $2 \\times 2$ and $3 \\times 3$ boards.  Maybe less trivial to see, there is also no tour for a $4 \\times 4$ board.  An example of a knight's tour on a $8 \\times 8$ board is given below:\n",
    "\n",
    "$$\n",
    "    \\begin{array}{cccccccc}\n",
    "        1 &  38 &  55 &  34 &   3 &  36 &  19 &  22 \\\\\n",
    "       54 &  47 &   2 &  37 &  20 &  23 &   4 &  17 \\\\\n",
    "       39 &  56 &  33 &  46 &  35 &  18 &  21 &  10 \\\\\n",
    "       48 &  53 &  40 &  57 &  24 &  11 &  16 &   5 \\\\\n",
    "       59 &  32 &  45 &  52 &  41 &  26 &   9 &  12 \\\\\n",
    "       44 &  49 &  58 &  25 &  62 &  15 &   6 &  27 \\\\\n",
    "       31 &  60 &  51 &  42 &  29 &   8 &  13 &  64 \\\\\n",
    "       50 &  43 &  30 &  61 &  14 &  63 &  28 &   7 \\\\\n",
    "    \\end{array}\n",
    "$$"
   ]
  },
  {
   "cell_type": "markdown",
   "id": "f39d8b7d-ab28-45e2-8593-ab95314efe9f",
   "metadata": {},
   "source": [
    "# Implementation"
   ]
  },
  {
   "cell_type": "markdown",
   "id": "2195bce2-960e-48f9-bb7e-9aa3d16622e9",
   "metadata": {},
   "source": [
    "We will use backtracking to solve this problem.  In order to keep track of the state, we define a class."
   ]
  },
  {
   "cell_type": "code",
   "execution_count": 2,
   "id": "b5f7086d-8c17-4fe4-aa43-bc314d3de69c",
   "metadata": {},
   "outputs": [],
   "source": [
    "class Options:\n",
    "    '''class to keep track of options to be checked in a backtracking\n",
    "    algorithm.\n",
    "    '''\n",
    "    \n",
    "    def __init__(self, options):\n",
    "        '''create a new object that represents the options at a choice point\n",
    "        \n",
    "        Parameters\n",
    "        ----------\n",
    "        options: iterable[value_type]\n",
    "            iterable that represents the potential options\n",
    "        '''\n",
    "        self._options = list(options)\n",
    "        self._current_idx = 0\n",
    "    \n",
    "    @property\n",
    "    def nr_options(self):\n",
    "        '''number of options\n",
    "        \n",
    "        Returns\n",
    "        -------\n",
    "        int\n",
    "            number of options that are available in total at this point\n",
    "        '''\n",
    "        return len(self._options)\n",
    "    \n",
    "    def has_option(self):\n",
    "        '''check whether a next option is still available\n",
    "        \n",
    "        Returns\n",
    "        -------\n",
    "        bool\n",
    "            True if more options are available, False otherwise\n",
    "        '''\n",
    "        return self._current_idx < self.nr_options\n",
    "    \n",
    "    @property\n",
    "    def current_option(self):\n",
    "        '''return the current option, and advance to the next option\n",
    "        \n",
    "        Returns\n",
    "        -------\n",
    "        value_type\n",
    "            current option value, and advance to next\n",
    "        Raises\n",
    "        ------\n",
    "        IndexError\n",
    "            raised if no more options are available\n",
    "        '''\n",
    "        if self.has_option():\n",
    "            option = self._options[self._current_idx]\n",
    "            self._current_idx += 1\n",
    "            return option\n",
    "        else:\n",
    "            raise IndexError(f'all options exhausted')\n",
    "    \n",
    "    def peek(self):\n",
    "        '''get the current option without advancing to the next\n",
    "        \n",
    "        Returns\n",
    "        -------\n",
    "        value_type\n",
    "            current option value\n",
    "        Raises\n",
    "        ------\n",
    "        IndexError\n",
    "            raised if either current_option hasn't been called yet, or no more options\n",
    "            are available\n",
    "        '''\n",
    "        if 0 <= self._current_idx - 1 < self.nr_options:\n",
    "            return self._options[self._current_idx - 1]\n",
    "        elif self._current_idx - 1 < 0:\n",
    "            raise IndexError('enumeration not initialized, first call current_option')\n",
    "        else:\n",
    "            raise IndexError('all options exhausted')\n",
    "\n",
    "    def __repr__(self):\n",
    "        '''compute string representation of the object\n",
    "        \n",
    "        Returns\n",
    "        -------\n",
    "        str\n",
    "            string representation of the object's state\n",
    "        '''\n",
    "        return f'{self._current_idx} -> {self._options}'"
   ]
  },
  {
   "cell_type": "markdown",
   "id": "af0649a8-83e9-45af-80b7-fd7414c40f18",
   "metadata": {},
   "source": [
    "The code below illustrates the use of such objects."
   ]
  },
  {
   "cell_type": "code",
   "execution_count": 3,
   "id": "2c92a116-623a-46c5-9e25-1dd3da7df04e",
   "metadata": {},
   "outputs": [
    {
     "name": "stdout",
     "output_type": "stream",
     "text": [
      "3 3\n",
      "5 5\n",
      "7 7\n"
     ]
    },
    {
     "data": {
      "text/plain": [
       "7"
      ]
     },
     "execution_count": 3,
     "metadata": {},
     "output_type": "execute_result"
    }
   ],
   "source": [
    "options = Options([3, 5, 7])\n",
    "while options.has_option():\n",
    "    print(options.current_option, end='')\n",
    "    print(f' {options.peek()}')\n",
    "options.peek()"
   ]
  },
  {
   "cell_type": "code",
   "execution_count": 4,
   "id": "76746553-0996-4e71-b119-2f3417ecf4e9",
   "metadata": {},
   "outputs": [
    {
     "data": {
      "text/plain": [
       "3 -> [3, 5, 7]"
      ]
     },
     "execution_count": 4,
     "metadata": {},
     "output_type": "execute_result"
    }
   ],
   "source": [
    "options"
   ]
  },
  {
   "cell_type": "markdown",
   "id": "e37bf8f8-f0ef-4311-961e-12c3a2ea1dcd",
   "metadata": {},
   "source": [
    "For better performance, precompute the moves that are legal on each position on the board, not taking into account occupancy.\n",
    "\n",
    "The positions of the board will be given by a single index ranging from $0$ to $n^2 - 1$, row-wise, i.e., for a $3 \\times 3$ board:\n",
    "\n",
    "$$\n",
    "    \\begin{array}{ccc}\n",
    "        0 & 1 & 2 \\\\\n",
    "        3 & 4 & 5 \\\\\n",
    "        6 & 7 & 8 \\\\\n",
    "    \\end{array}\n",
    "$$"
   ]
  },
  {
   "cell_type": "code",
   "execution_count": 5,
   "id": "31e73e9c-6f07-4033-a1c8-919db0086eaa",
   "metadata": {},
   "outputs": [],
   "source": [
    "def compute_all_moves(n):\n",
    "    '''compute the possible moves on each position of the board\n",
    "    \n",
    "    Parameters\n",
    "    ----------\n",
    "    n: int\n",
    "        dimension of the n-by-n board\n",
    "        \n",
    "    Returns\n",
    "    -------\n",
    "    list[list[int]]\n",
    "        a list that contains lists of board positions; board positions are number row-wise from\n",
    "        0 to n**2 - 1.\n",
    "    '''\n",
    "    deltas = [(-2, 1), (-1, 2), (1, 2), (2, 1), (2, -1), (1, -2), (-1, -2), (-2, -1)]\n",
    "    all_moves = []\n",
    "    for k in range(n**2):\n",
    "        all_moves.append([])\n",
    "        i, j = k//n, k % n\n",
    "        for delta_i, delta_j in deltas:\n",
    "            new_i, new_j = i + delta_i, j + delta_j\n",
    "            if 0 <= new_i < n and 0 <= new_j < n:\n",
    "                all_moves[-1].append(new_i*n + new_j)\n",
    "    return all_moves"
   ]
  },
  {
   "cell_type": "markdown",
   "id": "9f5a570d-874f-46af-8d19-c9185bf5c29d",
   "metadata": {},
   "source": [
    "For instance, for a $4 \\times 4$ board:"
   ]
  },
  {
   "cell_type": "code",
   "execution_count": 6,
   "id": "054cf04d-68fd-4313-9f26-adab9638774e",
   "metadata": {},
   "outputs": [
    {
     "data": {
      "text/plain": [
       "[[6, 9],\n",
       " [7, 10, 8],\n",
       " [11, 9, 4],\n",
       " [10, 5],\n",
       " [2, 10, 13],\n",
       " [3, 11, 14, 12],\n",
       " [15, 13, 8, 0],\n",
       " [14, 9, 1],\n",
       " [1, 6, 14],\n",
       " [2, 7, 15, 0],\n",
       " [3, 12, 4, 1],\n",
       " [13, 5, 2],\n",
       " [5, 10],\n",
       " [6, 11, 4],\n",
       " [7, 8, 5],\n",
       " [9, 6]]"
      ]
     },
     "execution_count": 6,
     "metadata": {},
     "output_type": "execute_result"
    }
   ],
   "source": [
    "compute_all_moves(4)"
   ]
  },
  {
   "cell_type": "markdown",
   "id": "cfe6d75b-bc9b-4076-ac29-3773f9eba1e1",
   "metadata": {},
   "source": [
    "To check this, we can write a visualization function."
   ]
  },
  {
   "cell_type": "code",
   "execution_count": 7,
   "id": "b3b71b27-b151-4c86-abc9-4a384acfd69e",
   "metadata": {},
   "outputs": [],
   "source": [
    "def visualize_option(all_moves, pos):\n",
    "    '''visualize the possible moves at a given position\n",
    "    \n",
    "    Parameters\n",
    "    ----------\n",
    "    all_moves: list[list[int]]\n",
    "        moves for each position\n",
    "    pos: int\n",
    "        position given as a number from 0 to n**2 - 1\n",
    "    '''\n",
    "    n = math.isqrt(len(all_moves))\n",
    "    for i in range(n):\n",
    "        for j in range(n):\n",
    "            k = i*n + j\n",
    "            if k == pos:\n",
    "                print('x', end='')\n",
    "            elif pos in all_moves[k]:\n",
    "                print('o', end='')\n",
    "            else:\n",
    "                print('-', end='')\n",
    "        print()"
   ]
  },
  {
   "cell_type": "code",
   "execution_count": 8,
   "id": "17aa6b55-6ee8-4bc3-b0b5-53f75d7c3d62",
   "metadata": {},
   "outputs": [
    {
     "name": "stdout",
     "output_type": "stream",
     "text": [
      "------\n",
      "--o-o-\n",
      "-o---o\n",
      "---x--\n",
      "-o---o\n",
      "--o-o-\n"
     ]
    }
   ],
   "source": [
    "visualize_option(compute_all_moves(6), 21)"
   ]
  },
  {
   "cell_type": "markdown",
   "id": "a17b3be1-c7ed-4770-8ac6-2702ca28e620",
   "metadata": {},
   "source": [
    "Given the symmetries of a $n \\times n$ chess board, only a quarter of the possible first moves needs to be checked.  These are the potential starting points for the tour(s)."
   ]
  },
  {
   "cell_type": "code",
   "execution_count": 9,
   "id": "a77275b8-4a6a-40a1-a881-6ae6db666892",
   "metadata": {},
   "outputs": [],
   "source": [
    "def compute_initial_moves(n):\n",
    "    '''compute the relevant initial moves, taking into account\n",
    "    the symmetry of the board\n",
    "    \n",
    "    Parameters\n",
    "    ----------\n",
    "    n: int\n",
    "        size of the n-by-n board\n",
    "    \n",
    "    Returns\n",
    "    -------\n",
    "    list[int]\n",
    "        positions to consider for the first move, i.e., the starting point of the\n",
    "        tour\n",
    "    '''\n",
    "    return [i*n + j for i in range(n//2 + n % 2)\n",
    "            for j in range(i, n//2 + n % 2)]"
   ]
  },
  {
   "cell_type": "markdown",
   "id": "1dd01416-6a18-41a3-be57-562295d76e3e",
   "metadata": {},
   "source": [
    "The initial positions for a $5 \\times 5$ board are shown below."
   ]
  },
  {
   "cell_type": "code",
   "execution_count": 10,
   "id": "7a3fb455-4f17-48b4-a975-339b7d3074a3",
   "metadata": {},
   "outputs": [
    {
     "data": {
      "text/plain": [
       "[0, 1, 2, 6, 7, 12]"
      ]
     },
     "execution_count": 10,
     "metadata": {},
     "output_type": "execute_result"
    }
   ],
   "source": [
    "compute_initial_moves(5)"
   ]
  },
  {
   "cell_type": "markdown",
   "id": "d1fb4dee-5ce3-40f2-a930-fec99a7d7b8f",
   "metadata": {},
   "source": [
    "A tour will be a list of positions on the board.  In order to visualize that, we can use the function below."
   ]
  },
  {
   "cell_type": "code",
   "execution_count": 11,
   "id": "0ccb1546-3cd9-4ef5-9ad7-f4b488508462",
   "metadata": {},
   "outputs": [],
   "source": [
    "def print_tour(tour):\n",
    "    '''visualize a tour on the board\n",
    "    \n",
    "    Parameters\n",
    "    ----------\n",
    "    tour: list[int]\n",
    "        the sequence of positions on the board\n",
    "    '''\n",
    "    n = math.isqrt(len(tour))\n",
    "    board = [[0]*n for _ in range(n)]\n",
    "    for i, pos in enumerate(tour):\n",
    "        board[pos//n][pos % n] = i + 1\n",
    "    for i in range(n):\n",
    "        print(' '.join(map(lambda x: f'{x:4d}', board[i])))"
   ]
  },
  {
   "cell_type": "code",
   "execution_count": 12,
   "id": "bccb2473-d18a-4824-b2da-f9acbcb46a87",
   "metadata": {},
   "outputs": [],
   "source": [
    "def find_tour(n):\n",
    "    '''find a knight's tour on an n-by-n board\n",
    "    \n",
    "    Parameters\n",
    "    ----------\n",
    "    n: int\n",
    "        size of the n-by-n board\n",
    "        \n",
    "    Returns\n",
    "    -------\n",
    "    list[int]\n",
    "        the sequence of positions on the board that form a valid knight's tour,\n",
    "        or an empty list if no tour can be found\n",
    "    '''\n",
    "    all_moves = compute_all_moves(n)\n",
    "    stack = [Options(compute_initial_moves(n))]\n",
    "    tour = []\n",
    "    while stack:\n",
    "        is_updated = False\n",
    "        while stack[-1].has_option():\n",
    "            new_pos = stack[-1].current_option\n",
    "            if new_pos not in tour:\n",
    "                tour.append(new_pos)\n",
    "                stack.append(Options(all_moves[new_pos]))\n",
    "                is_updated = True\n",
    "                break\n",
    "        if len(tour) == n**2:\n",
    "            return tour\n",
    "        if not is_updated:\n",
    "            stack.pop()\n",
    "            if tour:\n",
    "                tour.pop()\n",
    "    return tour"
   ]
  },
  {
   "cell_type": "markdown",
   "id": "dca5acf8-910a-4ecc-a4ab-172408e76b9d",
   "metadata": {},
   "source": [
    "Print a board with a knight's tour (if any) for board sizes $n \\in \\{1, \\ldots, 8\\}$:"
   ]
  },
  {
   "cell_type": "code",
   "execution_count": 13,
   "id": "7b9169b6-8d91-4dec-ad5d-a70284c41fc0",
   "metadata": {},
   "outputs": [
    {
     "name": "stdout",
     "output_type": "stream",
     "text": [
      "------ 1 ----------\n",
      "   1\n",
      "------ 2 ----------\n",
      "------ 3 ----------\n",
      "------ 4 ----------\n",
      "------ 5 ----------\n",
      "   1   20   17   12    3\n",
      "  16   11    2    7   18\n",
      "  21   24   19    4   13\n",
      "  10   15    6   23    8\n",
      "  25   22    9   14    5\n",
      "------ 6 ----------\n",
      "   1   28   33   20    3   26\n",
      "  34   19    2   27    8   13\n",
      "  29   32   21   12   25    4\n",
      "  18   35   30    7   14    9\n",
      "  31   22   11   16    5   24\n",
      "  36   17    6   23   10   15\n",
      "------ 7 ----------\n",
      "   1   28   37   24    3   26   17\n",
      "  36   39    2   27   18   11    4\n",
      "  29   42   23   38   25   16    9\n",
      "  40   35   30   19   10    5   12\n",
      "  43   22   41   32   15    8   47\n",
      "  34   31   20   45   48   13    6\n",
      "  21   44   33   14    7   46   49\n",
      "------ 8 ----------\n",
      "   1   38   55   34    3   36   19   22\n",
      "  54   47    2   37   20   23    4   17\n",
      "  39   56   33   46   35   18   21   10\n",
      "  48   53   40   57   24   11   16    5\n",
      "  59   32   45   52   41   26    9   12\n",
      "  44   49   58   25   62   15    6   27\n",
      "  31   60   51   42   29    8   13   64\n",
      "  50   43   30   61   14   63   28    7\n"
     ]
    }
   ],
   "source": [
    "for n in range(1, 9):\n",
    "    print(f'------ {n} ----------')\n",
    "    print_tour(find_tour(n))"
   ]
  },
  {
   "cell_type": "markdown",
   "id": "d402640b-6463-43cd-b7ef-cde15a0876fc",
   "metadata": {},
   "source": [
    "We can easily write a function to verify whether a given tour is a valid knight's tour."
   ]
  },
  {
   "cell_type": "code",
   "execution_count": 14,
   "id": "d3fb6016-9c7a-44be-baf2-bd77099f3c80",
   "metadata": {},
   "outputs": [],
   "source": [
    "def is_valid_knights_tour(tour, is_verbose=False):\n",
    "    '''check whether a given sequence of positions represents a valid\n",
    "    knight's tour\n",
    "    \n",
    "    Parameters\n",
    "    ----------\n",
    "    tour: list[int]\n",
    "        sequence of board positions\n",
    "    is_verbose: bool\n",
    "        if True, print the reason why the tour is not valid, default is False\n",
    "    \n",
    "    Returns\n",
    "    -------\n",
    "    bool\n",
    "        True if the sequence is a knight's tour, False otherwise\n",
    "    '''\n",
    "    if len(tour) == 0:\n",
    "        if is_verbose:\n",
    "            print(f'length 0 tour')\n",
    "        return False\n",
    "    n = math.isqrt(len(tour))\n",
    "    if len(tour) != n**2:\n",
    "        if is_verbose:\n",
    "            print(f'length of the tour does not fit on a squaure board {n}x{n}', file=sys.stderr)\n",
    "        return False\n",
    "    if len(set(tour)) != len(tour):\n",
    "        if is_verbose:\n",
    "            print(f'duplicate positions in tour')\n",
    "        return False\n",
    "    if min(tour) != 0 or max(tour) != n**2 - 1:\n",
    "        if is_verbose:\n",
    "            print(f'invalid positions in tour')\n",
    "    deltas = [(-2, 1), (-1, 2), (1, 2), (2, 1), (2, -1), (1, -2), (-1, -2), (-2, -1)]\n",
    "    for i, pos in enumerate(tour[1:]):\n",
    "        if all(tour[i] != ((pos//n + delta_i)*n + pos % n + delta_j) for delta_i, delta_j in deltas):\n",
    "            print(f'illegal move from {tour[i]} to {pos}')\n",
    "            return False\n",
    "    return True"
   ]
  },
  {
   "cell_type": "markdown",
   "id": "de7c86c1-43b7-4b41-a2e9-d94dadaef0d0",
   "metadata": {},
   "source": [
    "Check that an invalid sequence is not valid."
   ]
  },
  {
   "cell_type": "code",
   "execution_count": 15,
   "id": "464fba47-d52f-4d22-a02b-4acac9cf515b",
   "metadata": {},
   "outputs": [
    {
     "name": "stdout",
     "output_type": "stream",
     "text": [
      "illegal move from 0 to 1\n"
     ]
    },
    {
     "data": {
      "text/plain": [
       "False"
      ]
     },
     "execution_count": 15,
     "metadata": {},
     "output_type": "execute_result"
    }
   ],
   "source": [
    "is_valid_knights_tour(list(range(16)), True)"
   ]
  },
  {
   "cell_type": "markdown",
   "id": "bbe17029-dbaf-45fc-bea4-9cfa490e15c7",
   "metadata": {},
   "source": [
    "Check tours for $n \\in \\{1, \\ldots, 8\\}$."
   ]
  },
  {
   "cell_type": "code",
   "execution_count": 16,
   "id": "545d75f6-17d4-402f-a55c-869cde8b214a",
   "metadata": {},
   "outputs": [
    {
     "name": "stdout",
     "output_type": "stream",
     "text": [
      "------ 1 ----------\n",
      "True\n",
      "------ 2 ----------\n",
      "False\n",
      "------ 3 ----------\n",
      "False\n",
      "------ 4 ----------\n",
      "False\n",
      "------ 5 ----------\n",
      "True\n",
      "------ 6 ----------\n",
      "True\n",
      "------ 7 ----------\n",
      "True\n",
      "------ 8 ----------\n",
      "True\n"
     ]
    }
   ],
   "source": [
    "for n in range(1, 9):\n",
    "    print(f'------ {n} ----------')\n",
    "    tour = find_tour(n)\n",
    "    print(is_valid_knights_tour(tour))"
   ]
  },
  {
   "cell_type": "markdown",
   "id": "ef5767e0-5114-4b30-8878-80f0150cd583",
   "metadata": {},
   "source": [
    "# Performance"
   ]
  },
  {
   "cell_type": "code",
   "execution_count": 14,
   "id": "40a8b572-00bd-4e2d-b5f4-419820d8d650",
   "metadata": {},
   "outputs": [
    {
     "name": "stdout",
     "output_type": "stream",
     "text": [
      "68.9 µs ± 1.13 µs per loop (mean ± std. dev. of 7 runs, 10,000 loops each)\n"
     ]
    }
   ],
   "source": [
    "%timeit find_tour(5)"
   ]
  },
  {
   "cell_type": "code",
   "execution_count": 15,
   "id": "c36f323f-7f21-4a00-b526-72e5c7ccf8a8",
   "metadata": {},
   "outputs": [
    {
     "name": "stdout",
     "output_type": "stream",
     "text": [
      "10.3 ms ± 61.5 µs per loop (mean ± std. dev. of 7 runs, 100 loops each)\n"
     ]
    }
   ],
   "source": [
    "%timeit find_tour(6)"
   ]
  },
  {
   "cell_type": "code",
   "execution_count": 16,
   "id": "6cecf705-03ce-45fe-815e-15928a32c4dc",
   "metadata": {},
   "outputs": [
    {
     "name": "stdout",
     "output_type": "stream",
     "text": [
      "26.7 s ± 497 ms per loop (mean ± std. dev. of 7 runs, 1 loop each)\n"
     ]
    }
   ],
   "source": [
    "%timeit find_tour(7)"
   ]
  },
  {
   "cell_type": "code",
   "execution_count": 17,
   "id": "f216d2ec-29f3-4f6c-8f43-e7e57b509245",
   "metadata": {},
   "outputs": [
    {
     "name": "stdout",
     "output_type": "stream",
     "text": [
      "8.79 s ± 49.7 ms per loop (mean ± std. dev. of 7 runs, 1 loop each)\n"
     ]
    }
   ],
   "source": [
    "%timeit find_tour(8)"
   ]
  },
  {
   "cell_type": "markdown",
   "id": "c3693282-403e-4fa6-ba41-479774d8dbc3",
   "metadata": {},
   "source": [
    "The runtime increases rapidly."
   ]
  },
  {
   "cell_type": "markdown",
   "id": "b4b1938f-8e9e-43bb-a404-b7d2aa03084a",
   "metadata": {},
   "source": [
    "# Conclusions"
   ]
  },
  {
   "cell_type": "markdown",
   "id": "d3c41755-7754-4eb7-a0c9-9ad38b2aa24f",
   "metadata": {},
   "source": [
    "This implementation is reasonably fast.  In fact, it is much faster than the naive approach that woulld enumerate all permutations of the sequence $0, \\ldots, n^2 - 1$, and checking for each whether it represents a valid knight's tour."
   ]
  }
 ],
 "metadata": {
  "kernelspec": {
   "display_name": "Python 3 (ipykernel)",
   "language": "python",
   "name": "python3"
  },
  "language_info": {
   "codemirror_mode": {
    "name": "ipython",
    "version": 3
   },
   "file_extension": ".py",
   "mimetype": "text/x-python",
   "name": "python",
   "nbconvert_exporter": "python",
   "pygments_lexer": "ipython3",
   "version": "3.11.2"
  }
 },
 "nbformat": 4,
 "nbformat_minor": 5
}
