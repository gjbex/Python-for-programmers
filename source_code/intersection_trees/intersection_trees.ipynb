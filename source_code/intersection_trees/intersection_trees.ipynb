{
 "cells": [
  {
   "cell_type": "markdown",
   "id": "92c3b98e-9751-44df-996c-afa959b98951",
   "metadata": {},
   "source": [
    "## Requirements"
   ]
  },
  {
   "cell_type": "code",
   "execution_count": 1,
   "id": "645aab26-bc8e-47a0-8b51-ba51a5e02c35",
   "metadata": {},
   "outputs": [],
   "source": [
    "import matplotlib.pyplot as plt\n",
    "import random\n",
    "import timeit"
   ]
  },
  {
   "cell_type": "markdown",
   "id": "bcecd8b9-dfab-4d19-80c2-04225725db84",
   "metadata": {},
   "source": [
    "## Problem setting"
   ]
  },
  {
   "cell_type": "markdown",
   "id": "80442a02-6296-4464-9a87-0fd3345be810",
   "metadata": {},
   "source": [
    "Consider a database consisting of intervals over the positive integers, i.e., each element in the database is a half-open interval $d_i = [d_{i,s}, d_{i,e})$.  The database can be represented as $D = \\{d_i | i \\in [0, M)\\}$, so $|D| = M$.  Clearly, for each interval $d_i$, $d_{i,e} > d{i, s} + 1$.\n",
    "\n",
    "An intersection query is based on a query interval $q = [q_s, q_e)$ with $q_e > q_s + 1$; the query returns all intervals in $D$ that query interval intersects, i.e.,\n",
    "$$\n",
    "  \\{ d | d \\in D \\wedge q_s < d_e \\wedge d_s < q_e\\}\n",
    "$$\n",
    "\n",
    "Rather than querying for a single interval, $N$ intervals are queried, the set of query intervals is denoted by $Q$.  The result of such a query is given by\n",
    "$$\n",
    "  \\{(q, d) | (q, d) \\in Q \\times D \\wedge q_s < d_e \\wedge d_s < q_e\\}\n",
    "$$"
   ]
  },
  {
   "cell_type": "markdown",
   "id": "d144ae80-8361-45d5-8e74-086fc4a13f3d",
   "metadata": {},
   "source": [
    "## Database and queries"
   ]
  },
  {
   "cell_type": "markdown",
   "id": "b5915acd-1d7e-42c5-8ded-29461ba84142",
   "metadata": {},
   "source": [
    "Define some type aliases to give more structure to the code."
   ]
  },
  {
   "cell_type": "code",
   "execution_count": 2,
   "id": "b6329c2e-e990-4caf-b53d-7a064b526d5e",
   "metadata": {},
   "outputs": [
    {
     "data": {
      "text/plain": [
       "\u001b[33m'''\u001b[39m\n",
       "\u001b[33mNaive and very Pythonic implementation of interval intersection queries.\u001b[39m\n",
       "\u001b[33m'''\u001b[39m\n",
       "\n",
       "\u001b[38;5;28;01mimport\u001b[39;00m collections\n",
       "\u001b[38;5;28;01mimport\u001b[39;00m itertools\n",
       "\u001b[38;5;28;01mimport\u001b[39;00m random\n",
       "\u001b[38;5;28;01mimport\u001b[39;00m typing\n",
       "\n",
       "\n",
       "Interval = collections.namedtuple(\u001b[33m'Interval'\u001b[39m, (\u001b[33m's'\u001b[39m, \u001b[33m'e'\u001b[39m))\n",
       "Db: typing.TypeAlias = set[Interval]\n",
       "Queries: typing.TypeAlias = Db\n",
       "QueryResult: typing.TypeAlias = set[tuple[Interval, Interval]]\n",
       "\n",
       "\n",
       "\u001b[38;5;28;01mdef\u001b[39;00m generate_interval(max_end: int = \u001b[32m1_000_000_000\u001b[39m) -> Interval:\n",
       "    \u001b[33m'''Generate a half-open interval of at least length 1\u001b[39m\n",
       "\u001b[33m    \u001b[39m\n",
       "\u001b[33m    Parameters\u001b[39m\n",
       "\u001b[33m    ----------\u001b[39m\n",
       "\u001b[33m    max_end: int\u001b[39m\n",
       "\u001b[33m        largest end value of the interval, default value 1_000_000_000\u001b[39m\n",
       "\u001b[33m        \u001b[39m\n",
       "\u001b[33m    Returns\u001b[39m\n",
       "\u001b[33m    -------\u001b[39m\n",
       "\u001b[33m    Interval\u001b[39m\n",
       "\u001b[33m        Tuple (start, end) such that end - start > 1\u001b[39m\n",
       "\u001b[33m    '''\u001b[39m\n",
       "    start = random.randint(\u001b[32m0\u001b[39m, max_end - \u001b[32m2\u001b[39m)\n",
       "    end = random.randint(start + \u001b[32m2\u001b[39m, max_end)\n",
       "    \u001b[38;5;28;01mreturn\u001b[39;00m Interval(s=start, e=end)\n",
       "\n",
       "\n",
       "\u001b[38;5;28;01mdef\u001b[39;00m create_db(size: int = \u001b[32m1_000\u001b[39m, max_end: int = \u001b[32m1_000_000\u001b[39m) -> Db:\n",
       "    \u001b[33m'''Generate a database of intervals\u001b[39m\n",
       "\u001b[33m    \u001b[39m\n",
       "\u001b[33m    Parameters\u001b[39m\n",
       "\u001b[33m    ----------\u001b[39m\n",
       "\u001b[33m    size: int\u001b[39m\n",
       "\u001b[33m        number of intervals in the database, default value 1_000\u001b[39m\n",
       "\u001b[33m    max_end: int\u001b[39m\n",
       "\u001b[33m        largest end value of the interval, default value 1_000_000_000\u001b[39m\n",
       "\n",
       "\u001b[33m    Returns\u001b[39m\n",
       "\u001b[33m    -------\u001b[39m\n",
       "\u001b[33m    Db\u001b[39m\n",
       "\u001b[33m        a set of half-open intervals\u001b[39m\n",
       "\n",
       "\u001b[33m    Note\u001b[39m\n",
       "\u001b[33m    ----\u001b[39m\n",
       "\u001b[33m    The database may contain less than the specified number of intervals if the same interval is generated multiple times.\u001b[39m\n",
       "\u001b[33m    '''\u001b[39m\n",
       "    \u001b[38;5;28;01mreturn\u001b[39;00m {generate_interval(max_end) \u001b[38;5;28;01mfor\u001b[39;00m _ \u001b[38;5;28;01min\u001b[39;00m range(size)}\n",
       "\n",
       "\n",
       "\u001b[38;5;28;01mdef\u001b[39;00m create_queries(size: int = \u001b[32m1_000\u001b[39m, max_end: int = \u001b[32m1_000_000\u001b[39m) -> Queries:\n",
       "    \u001b[33m'''Generate query intervals\u001b[39m\n",
       "\u001b[33m    \u001b[39m\n",
       "\u001b[33m    Parameters\u001b[39m\n",
       "\u001b[33m    ----------\u001b[39m\n",
       "\u001b[33m    size: int\u001b[39m\n",
       "\u001b[33m        number of intervals in the query, default value 1_000\u001b[39m\n",
       "\u001b[33m    max_end: int\u001b[39m\n",
       "\u001b[33m        largest end value of the interval, default value 1_000_000_000\u001b[39m\n",
       "\n",
       "\u001b[33m    Returns\u001b[39m\n",
       "\u001b[33m    -------\u001b[39m\n",
       "\u001b[33m    Queries\u001b[39m\n",
       "\u001b[33m        a set of half-open intervals\u001b[39m\n",
       "\n",
       "\u001b[33m    Note\u001b[39m\n",
       "\u001b[33m    ----\u001b[39m\n",
       "\u001b[33m    The queries may contain less than the specified number of intervals if the same interval is generated multiple times.\u001b[39m\n",
       "\u001b[33m    '''\u001b[39m\n",
       "    \u001b[38;5;28;01mreturn\u001b[39;00m create_db(size=size, max_end=max_end)\n",
       "\n",
       "\n",
       "\u001b[38;5;28;01mdef\u001b[39;00m have_intersection(q: Interval, d: Interval) -> bool:\n",
       "    \u001b[33m'''Check whether two intervals intersect\u001b[39m\n",
       "\u001b[33m    \u001b[39m\n",
       "\u001b[33m    Parameters\u001b[39m\n",
       "\u001b[33m    ----------\u001b[39m\n",
       "\u001b[33m    q, d: Interval\u001b[39m\n",
       "\u001b[33m        intervals to check intersection for\u001b[39m\n",
       "\u001b[33m        \u001b[39m\n",
       "\u001b[33m    Returns\u001b[39m\n",
       "\u001b[33m    -------\u001b[39m\n",
       "\u001b[33m    bool\u001b[39m\n",
       "\u001b[33m        True if q and d intersect, False otherwise\u001b[39m\n",
       "\u001b[33m    '''\u001b[39m\n",
       "    \u001b[38;5;28;01mreturn\u001b[39;00m q.s < d.e \u001b[38;5;28;01mand\u001b[39;00m d.s < q.e\n",
       "\n",
       "\n",
       "\u001b[38;5;28;01mdef\u001b[39;00m execute_queries(queries: Queries, db: Db) -> QueryResult:\n",
       "    \u001b[33m'''Execute the query on the database\u001b[39m\n",
       "\n",
       "\u001b[33m    Parameters\u001b[39m\n",
       "\u001b[33m    ----------\u001b[39m\n",
       "\u001b[33m    queries: Queries\u001b[39m\n",
       "\u001b[33m        queries to be executed\u001b[39m\n",
       "\u001b[33m    db: Db\u001b[39m\n",
       "\u001b[33m        database to query\u001b[39m\n",
       "\n",
       "\u001b[33m    Returns\u001b[39m\n",
       "\u001b[33m    -------\u001b[39m\n",
       "\u001b[33m    QueryResult\u001b[39m\n",
       "\u001b[33m        set of tuples of query and database intervals that intersect\u001b[39m\n",
       "\u001b[33m    '''\u001b[39m\n",
       "    \u001b[38;5;28;01mreturn\u001b[39;00m {(q, d) \u001b[38;5;28;01mfor\u001b[39;00m q, d \u001b[38;5;28;01min\u001b[39;00m itertools.product(queries, db) \u001b[38;5;28;01mif\u001b[39;00m have_intersection(q, d)}\n"
      ]
     },
     "metadata": {},
     "output_type": "display_data"
    }
   ],
   "source": [
    "%pycat naive_pythonic_intersectionic_queries.py"
   ]
  },
  {
   "cell_type": "code",
   "execution_count": 3,
   "id": "c076ce2d-0076-42c6-9b80-89a458f12334",
   "metadata": {},
   "outputs": [],
   "source": [
    "import naive_pythonic_intersectionic_queries"
   ]
  },
  {
   "cell_type": "code",
   "execution_count": 4,
   "id": "1419982d-fd8e-4b8d-b12f-bbf9268d95b6",
   "metadata": {},
   "outputs": [
    {
     "data": {
      "text/plain": [
       "{Interval(s=9, e=64),\n",
       " Interval(s=18, e=37),\n",
       " Interval(s=20, e=42),\n",
       " Interval(s=26, e=28),\n",
       " Interval(s=26, e=86),\n",
       " Interval(s=30, e=76),\n",
       " Interval(s=46, e=80),\n",
       " Interval(s=66, e=91),\n",
       " Interval(s=67, e=91),\n",
       " Interval(s=83, e=87)}"
      ]
     },
     "execution_count": 4,
     "metadata": {},
     "output_type": "execute_result"
    }
   ],
   "source": [
    "naive_pythonic_intersectionic_queries.create_db(size=10, max_end=100)"
   ]
  },
  {
   "cell_type": "markdown",
   "id": "ec935ae3-d8a4-4389-9e5f-c9e057620479",
   "metadata": {},
   "source": [
    "For benchmarking, these parameters are used."
   ]
  },
  {
   "cell_type": "code",
   "execution_count": 5,
   "id": "8ed6f463-af75-45dc-8c7f-ad7b177d5796",
   "metadata": {},
   "outputs": [],
   "source": [
    "sizes = [2**i for i in range(7, 14)]\n",
    "nr_repeats = 5"
   ]
  },
  {
   "cell_type": "markdown",
   "id": "ba84c921-25ae-4d3d-aa1b-e390443ae414",
   "metadata": {},
   "source": [
    "## Naive approach"
   ]
  },
  {
   "cell_type": "markdown",
   "id": "a556f05b-1da7-4fab-ae9f-80207f948150",
   "metadata": {},
   "source": [
    "A very simple but naive approach is to check overlap of each query interval with every database interval resulting in $|Q| \\times |D|$ queries>"
   ]
  },
  {
   "cell_type": "code",
   "execution_count": 6,
   "id": "233edd36-9453-44e3-b7f7-dfedc2364ea6",
   "metadata": {},
   "outputs": [],
   "source": [
    "random.seed(1234)\n",
    "naive_pythonic_times = [\n",
    "    timeit.repeat(\n",
    "        stmt='naive_pythonic_intersectionic_queries.execute_queries(queries, db)',\n",
    "        setup=f'queries, db = naive_pythonic_intersectionic_queries.create_queries({size}), naive_pythonic_intersectionic_queries.create_db({size})',\n",
    "        repeat=nr_repeats,\n",
    "        number=1,\n",
    "        globals=globals(),\n",
    "    ) for size in sizes\n",
    "]"
   ]
  },
  {
   "cell_type": "code",
   "execution_count": 7,
   "id": "6c66866e-32d4-4444-aaa3-59ab9490228b",
   "metadata": {},
   "outputs": [
    {
     "data": {
      "image/png": "[encoded data removed]",
      "text/plain": [
       "<Figure size 640x480 with 1 Axes>"
      ]
     },
     "metadata": {},
     "output_type": "display_data"
    }
   ],
   "source": [
    "plt.boxplot(naive_pythonic_times, widths=[40.0*size/100 for size in sizes], positions=sizes)\n",
    "plt.xscale('log')\n",
    "plt.yscale('log');"
   ]
  },
  {
   "cell_type": "markdown",
   "id": "cc0eed30-6df9-4772-90a2-3ca74f8611ae",
   "metadata": {},
   "source": [
    "The time complexity of this algorithm is $N^2$ for $|D| = |Q| = N$."
   ]
  },
  {
   "cell_type": "code",
   "execution_count": 8,
   "id": "efe82236-da69-4654-8f26-23f2a5da6419",
   "metadata": {},
   "outputs": [],
   "source": [
    "import naive_intersectionic_queries"
   ]
  },
  {
   "cell_type": "code",
   "execution_count": 9,
   "id": "3ab457de-04fb-49b7-b4f4-038fcbc3036d",
   "metadata": {},
   "outputs": [],
   "source": [
    "random.seed(1234)\n",
    "naive_times = [\n",
    "    timeit.repeat(\n",
    "        stmt='naive_intersectionic_queries.execute_queries(queries, db)',\n",
    "        setup=f'queries, db = naive_intersectionic_queries.create_queries({size}), naive_intersectionic_queries.create_db({size})',\n",
    "        repeat=nr_repeats,\n",
    "        number=1,\n",
    "        globals=globals(),\n",
    "    ) for size in sizes\n",
    "]"
   ]
  },
  {
   "cell_type": "code",
   "execution_count": 10,
   "id": "eeda1a02-8162-486b-ab05-e09a44fc689b",
   "metadata": {},
   "outputs": [
    {
     "data": {
      "image/png": "[encoded data removed]",
      "text/plain": [
       "<Figure size 640x480 with 1 Axes>"
      ]
     },
     "metadata": {},
     "output_type": "display_data"
    }
   ],
   "source": [
    "plt.boxplot(naive_times, widths=[40.0*size/100 for size in sizes], positions=sizes)\n",
    "plt.boxplot(naive_pythonic_times, widths=[40.0*size/100 for size in sizes], positions=sizes)\n",
    "plt.xscale('log')\n",
    "plt.yscale('log');"
   ]
  },
  {
   "cell_type": "code",
   "execution_count": 11,
   "id": "499434d5-ce99-4159-90da-3a2e3325f70b",
   "metadata": {},
   "outputs": [
    {
     "data": {
      "text/plain": [
       "[24.168750459000876,\n",
       " 20.618894384999294,\n",
       " 19.991639296000358,\n",
       " 21.888372638000874,\n",
       " 21.239045664000514]"
      ]
     },
     "execution_count": 11,
     "metadata": {},
     "output_type": "execute_result"
    }
   ],
   "source": [
    "naive_times[-1]"
   ]
  },
  {
   "cell_type": "code",
   "execution_count": 12,
   "id": "dec83bd1-340e-4bb4-bdfe-ffca35e44830",
   "metadata": {},
   "outputs": [
    {
     "data": {
      "text/plain": [
       "[35.3211215249994,\n",
       " 38.21256336699844,\n",
       " 36.7637766250009,\n",
       " 35.53419433499948,\n",
       " 27.104355830000713]"
      ]
     },
     "execution_count": 12,
     "metadata": {},
     "output_type": "execute_result"
    }
   ],
   "source": [
    "naive_pythonic_times[-1]"
   ]
  },
  {
   "cell_type": "code",
   "execution_count": null,
   "id": "618a4520-448a-4131-a79d-9467c8ae479e",
   "metadata": {},
   "outputs": [],
   "source": []
  }
 ],
 "metadata": {
  "kernelspec": {
   "display_name": "Python 3 (ipykernel)",
   "language": "python",
   "name": "python3"
  },
  "language_info": {
   "codemirror_mode": {
    "name": "ipython",
    "version": 3
   },
   "file_extension": ".py",
   "mimetype": "text/x-python",
   "name": "python",
   "nbconvert_exporter": "python",
   "pygments_lexer": "ipython3",
   "version": "3.13.3"
  }
 },
 "nbformat": 4,
 "nbformat_minor": 5
}
