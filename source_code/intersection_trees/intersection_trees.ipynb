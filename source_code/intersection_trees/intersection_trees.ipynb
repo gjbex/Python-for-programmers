{
 "cells": [
  {
   "cell_type": "markdown",
   "id": "92c3b98e-9751-44df-996c-afa959b98951",
   "metadata": {},
   "source": [
    "## Requirements"
   ]
  },
  {
   "cell_type": "code",
   "execution_count": 1,
   "id": "645aab26-bc8e-47a0-8b51-ba51a5e02c35",
   "metadata": {},
   "outputs": [],
   "source": [
    "import matplotlib.pyplot as plt\n",
    "import random\n",
    "import statistics\n",
    "import timeit\n",
    "%load_ext autoreload\n",
    "%autoreload 2"
   ]
  },
  {
   "cell_type": "markdown",
   "id": "bcecd8b9-dfab-4d19-80c2-04225725db84",
   "metadata": {},
   "source": [
    "## Problem setting"
   ]
  },
  {
   "cell_type": "markdown",
   "id": "80442a02-6296-4464-9a87-0fd3345be810",
   "metadata": {},
   "source": [
    "Consider a database consisting of intervals over the positive integers, i.e., each element in the database is a half-open interval $d_i = [d_{i,s}, d_{i,e})$.  The database can be represented as $D = \\{d_i | i \\in [0, M)\\}$, so $|D| = M$.  Clearly, for each interval $d_i$, $d_{i,e} > d{i, s} + 1$.\n",
    "\n",
    "An intersection query is based on a query interval $q = [q_s, q_e)$ with $q_e > q_s + 1$; the query returns all intervals in $D$ that query interval intersects, i.e.,\n",
    "$$\n",
    "  \\{ d | d \\in D \\wedge q_s < d_e \\wedge d_s < q_e\\}\n",
    "$$\n",
    "\n",
    "Rather than querying for a single interval, $N$ intervals are queried, the set of query intervals is denoted by $Q$.  The result of such a query is given by\n",
    "$$\n",
    "  \\{(q, d) | (q, d) \\in Q \\times D \\wedge q_s < d_e \\wedge d_s < q_e\\}\n",
    "$$\n",
    "$$\n",
    "  \\newcommand{\\bigO}{\\mathcal{O}}\n",
    "$$"
   ]
  },
  {
   "cell_type": "markdown",
   "id": "d144ae80-8361-45d5-8e74-086fc4a13f3d",
   "metadata": {},
   "source": [
    "## Naive approach, Pythonic"
   ]
  },
  {
   "cell_type": "markdown",
   "id": "ed26e522-21df-4cce-bc1d-93724c6eb2fd",
   "metadata": {},
   "source": [
    "As intervals in the database are unique, it can be represented as a `set` of intervals, each interval represented as a `namedtuple`.  The queries are also unique, so they can be represented by a `set` as well."
   ]
  },
  {
   "cell_type": "code",
   "execution_count": 2,
   "id": "b6329c2e-e990-4caf-b53d-7a064b526d5e",
   "metadata": {},
   "outputs": [
    {
     "data": {
      "text/plain": [
       "\u001b[33m'''\u001b[39m\n",
       "\u001b[33mNaive and very Pythonic implementation of interval intersection queries.\u001b[39m\n",
       "\u001b[33m'''\u001b[39m\n",
       "\n",
       "\u001b[38;5;28;01mimport\u001b[39;00m itertools\n",
       "\u001b[38;5;28;01mimport\u001b[39;00m random\n",
       "\u001b[38;5;28;01mimport\u001b[39;00m typing\n",
       "\n",
       "\n",
       "\u001b[38;5;28;01mclass\u001b[39;00m Interval(typing.NamedTuple):\n",
       "    \u001b[33m'''A half-open interval [s, e)\u001b[39m\n",
       "\n",
       "\u001b[33m    Attributes\u001b[39m\n",
       "\u001b[33m    ----------\u001b[39m\n",
       "\u001b[33m    s: int\u001b[39m\n",
       "\u001b[33m        start of the interval, inclusive\u001b[39m\n",
       "\u001b[33m    e: int\u001b[39m\n",
       "\u001b[33m        end of the interval, exclusive\u001b[39m\n",
       "\u001b[33m    '''\u001b[39m\n",
       "    s: int\n",
       "    e: int\n",
       "\n",
       "Db: typing.TypeAlias = set[Interval]\n",
       "Queries: typing.TypeAlias = Db\n",
       "QueryResult: typing.TypeAlias = set[tuple[Interval, Interval]]\n",
       "\n",
       "\u001b[38;5;28;01mdef\u001b[39;00m generate_interval(max_end: int = \u001b[32m1_000_000_000\u001b[39m) -> Interval:\n",
       "    \u001b[33m'''Generate a half-open interval of at least length 1\u001b[39m\n",
       "\u001b[33m    \u001b[39m\n",
       "\u001b[33m    Parameters\u001b[39m\n",
       "\u001b[33m    ----------\u001b[39m\n",
       "\u001b[33m    max_end: int\u001b[39m\n",
       "\u001b[33m        largest end value of the interval, default value 1_000_000_000\u001b[39m\n",
       "\u001b[33m        \u001b[39m\n",
       "\u001b[33m    Returns\u001b[39m\n",
       "\u001b[33m    -------\u001b[39m\n",
       "\u001b[33m    Interval\u001b[39m\n",
       "\u001b[33m        Tuple (start, end) such that end - start > 1\u001b[39m\n",
       "\u001b[33m    '''\u001b[39m\n",
       "    start = random.randint(\u001b[32m0\u001b[39m, max_end - \u001b[32m2\u001b[39m)\n",
       "    end = random.randint(start + \u001b[32m2\u001b[39m, max_end)\n",
       "    \u001b[38;5;28;01mreturn\u001b[39;00m Interval(s=start, e=end)\n",
       "\n",
       "\n",
       "\u001b[38;5;28;01mdef\u001b[39;00m create_db(size: int = \u001b[32m1_000\u001b[39m, max_end: int = \u001b[32m1_000_000\u001b[39m) -> Db:\n",
       "    \u001b[33m'''Generate a database of intervals\u001b[39m\n",
       "\u001b[33m    \u001b[39m\n",
       "\u001b[33m    Parameters\u001b[39m\n",
       "\u001b[33m    ----------\u001b[39m\n",
       "\u001b[33m    size: int\u001b[39m\n",
       "\u001b[33m        number of intervals in the database, default value 1_000\u001b[39m\n",
       "\u001b[33m    max_end: int\u001b[39m\n",
       "\u001b[33m        largest end value of the interval, default value 1_000_000_000\u001b[39m\n",
       "\n",
       "\u001b[33m    Returns\u001b[39m\n",
       "\u001b[33m    -------\u001b[39m\n",
       "\u001b[33m    Db\u001b[39m\n",
       "\u001b[33m        a set of half-open intervals\u001b[39m\n",
       "\n",
       "\u001b[33m    Note\u001b[39m\n",
       "\u001b[33m    ----\u001b[39m\n",
       "\u001b[33m    The database may contain less than the specified number of intervals if the same interval is generated multiple times.\u001b[39m\n",
       "\u001b[33m    '''\u001b[39m\n",
       "    \u001b[38;5;28;01mreturn\u001b[39;00m {generate_interval(max_end) \u001b[38;5;28;01mfor\u001b[39;00m _ \u001b[38;5;28;01min\u001b[39;00m range(size)}\n",
       "\n",
       "\n",
       "\u001b[38;5;28;01mdef\u001b[39;00m create_queries(size: int = \u001b[32m1_000\u001b[39m, max_end: int = \u001b[32m1_000_000\u001b[39m) -> Queries:\n",
       "    \u001b[33m'''Generate query intervals\u001b[39m\n",
       "\u001b[33m    \u001b[39m\n",
       "\u001b[33m    Parameters\u001b[39m\n",
       "\u001b[33m    ----------\u001b[39m\n",
       "\u001b[33m    size: int\u001b[39m\n",
       "\u001b[33m        number of intervals in the query, default value 1_000\u001b[39m\n",
       "\u001b[33m    max_end: int\u001b[39m\n",
       "\u001b[33m        largest end value of the interval, default value 1_000_000_000\u001b[39m\n",
       "\n",
       "\u001b[33m    Returns\u001b[39m\n",
       "\u001b[33m    -------\u001b[39m\n",
       "\u001b[33m    Queries\u001b[39m\n",
       "\u001b[33m        a set of half-open intervals\u001b[39m\n",
       "\n",
       "\u001b[33m    Note\u001b[39m\n",
       "\u001b[33m    ----\u001b[39m\n",
       "\u001b[33m    The queries may contain less than the specified number of intervals if the same interval is generated multiple times.\u001b[39m\n",
       "\u001b[33m    '''\u001b[39m\n",
       "    \u001b[38;5;28;01mreturn\u001b[39;00m create_db(size=size, max_end=max_end)\n",
       "\n",
       "\n",
       "\u001b[38;5;28;01mdef\u001b[39;00m have_intersection(q: Interval, d: Interval) -> bool:\n",
       "    \u001b[33m'''Check whether two intervals intersect\u001b[39m\n",
       "\u001b[33m    \u001b[39m\n",
       "\u001b[33m    Parameters\u001b[39m\n",
       "\u001b[33m    ----------\u001b[39m\n",
       "\u001b[33m    q, d: Interval\u001b[39m\n",
       "\u001b[33m        intervals to check intersection for\u001b[39m\n",
       "\u001b[33m        \u001b[39m\n",
       "\u001b[33m    Returns\u001b[39m\n",
       "\u001b[33m    -------\u001b[39m\n",
       "\u001b[33m    bool\u001b[39m\n",
       "\u001b[33m        True if q and d intersect, False otherwise\u001b[39m\n",
       "\u001b[33m    '''\u001b[39m\n",
       "    \u001b[38;5;28;01mreturn\u001b[39;00m q.s < d.e \u001b[38;5;28;01mand\u001b[39;00m d.s < q.e\n",
       "\n",
       "\n",
       "\u001b[38;5;28;01mdef\u001b[39;00m execute_queries(queries: Queries, db: Db) -> QueryResult:\n",
       "    \u001b[33m'''Execute the query on the database\u001b[39m\n",
       "\n",
       "\u001b[33m    Parameters\u001b[39m\n",
       "\u001b[33m    ----------\u001b[39m\n",
       "\u001b[33m    queries: Queries\u001b[39m\n",
       "\u001b[33m        queries to be executed\u001b[39m\n",
       "\u001b[33m    db: Db\u001b[39m\n",
       "\u001b[33m        database to query\u001b[39m\n",
       "\n",
       "\u001b[33m    Returns\u001b[39m\n",
       "\u001b[33m    -------\u001b[39m\n",
       "\u001b[33m    QueryResult\u001b[39m\n",
       "\u001b[33m        set of tuples of query and database intervals that intersect\u001b[39m\n",
       "\u001b[33m    '''\u001b[39m\n",
       "    \u001b[38;5;28;01mreturn\u001b[39;00m {(q, d) \u001b[38;5;28;01mfor\u001b[39;00m q, d \u001b[38;5;28;01min\u001b[39;00m itertools.product(queries, db) \u001b[38;5;28;01mif\u001b[39;00m have_intersection(q, d)}\n"
      ]
     },
     "metadata": {},
     "output_type": "display_data"
    }
   ],
   "source": [
    "%pycat naive_pythonic_intersectionic_queries.py"
   ]
  },
  {
   "cell_type": "markdown",
   "id": "5bf8d228-0cef-4e79-af32-0c1bac8d2227",
   "metadata": {},
   "source": [
    "The implementation is *very* Pythonic, each function is essentially a one-liner."
   ]
  },
  {
   "cell_type": "code",
   "execution_count": 3,
   "id": "c076ce2d-0076-42c6-9b80-89a458f12334",
   "metadata": {},
   "outputs": [],
   "source": [
    "import naive_pythonic_intersectionic_queries"
   ]
  },
  {
   "cell_type": "code",
   "execution_count": 4,
   "id": "1419982d-fd8e-4b8d-b12f-bbf9268d95b6",
   "metadata": {},
   "outputs": [
    {
     "data": {
      "text/plain": [
       "{Interval(s=3, e=13),\n",
       " Interval(s=5, e=81),\n",
       " Interval(s=20, e=41),\n",
       " Interval(s=38, e=80),\n",
       " Interval(s=47, e=79),\n",
       " Interval(s=68, e=99),\n",
       " Interval(s=78, e=100),\n",
       " Interval(s=87, e=100),\n",
       " Interval(s=88, e=96),\n",
       " Interval(s=95, e=98)}"
      ]
     },
     "execution_count": 4,
     "metadata": {},
     "output_type": "execute_result"
    }
   ],
   "source": [
    "naive_pythonic_intersectionic_queries.create_db(size=10, max_end=100)"
   ]
  },
  {
   "cell_type": "markdown",
   "id": "ec935ae3-d8a4-4389-9e5f-c9e057620479",
   "metadata": {},
   "source": [
    "For benchmarking, these parameters are used."
   ]
  },
  {
   "cell_type": "code",
   "execution_count": 5,
   "id": "8ed6f463-af75-45dc-8c7f-ad7b177d5796",
   "metadata": {},
   "outputs": [],
   "source": [
    "sizes = [2**i for i in range(7, 14)]\n",
    "nr_repeats = 5"
   ]
  },
  {
   "cell_type": "code",
   "execution_count": 6,
   "id": "233edd36-9453-44e3-b7f7-dfedc2364ea6",
   "metadata": {},
   "outputs": [],
   "source": [
    "random.seed(1234)\n",
    "naive_pythonic_times = [\n",
    "    timeit.repeat(\n",
    "        stmt='naive_pythonic_intersectionic_queries.execute_queries(queries, db)',\n",
    "        setup=f'queries, db = naive_pythonic_intersectionic_queries.create_queries({size}), naive_pythonic_intersectionic_queries.create_db({size})',\n",
    "        repeat=nr_repeats,\n",
    "        number=1,\n",
    "        globals=globals(),\n",
    "    ) for size in sizes\n",
    "]"
   ]
  },
  {
   "cell_type": "code",
   "execution_count": 7,
   "id": "6c66866e-32d4-4444-aaa3-59ab9490228b",
   "metadata": {},
   "outputs": [
    {
     "data": {
      "image/png": "[encoded data removed]",
      "text/plain": [
       "<Figure size 640x480 with 1 Axes>"
      ]
     },
     "metadata": {},
     "output_type": "display_data"
    }
   ],
   "source": [
    "plt.boxplot(naive_pythonic_times, widths=[40.0*size/100 for size in sizes], positions=sizes)\n",
    "plt.xscale('log')\n",
    "plt.yscale('log');"
   ]
  },
  {
   "cell_type": "markdown",
   "id": "cc0eed30-6df9-4772-90a2-3ca74f8611ae",
   "metadata": {},
   "source": [
    "The time complexity of this algorithm is $\\bigO(N^2)$ for $|D| = |Q| = N$, as expected."
   ]
  },
  {
   "cell_type": "markdown",
   "id": "cdcb4819-1efb-415f-8c13-6fe17abb0ca1",
   "metadata": {},
   "source": [
    "## Still naive, not Pythonic"
   ]
  },
  {
   "cell_type": "markdown",
   "id": "bbce210c-fc1a-4b2e-9a4b-2b3288ad8647",
   "metadata": {},
   "source": [
    "Sometimes performance and elegance are not a good match.  The following implementation is less Pythonic, but a bit faster.  It is still naive though, so the time complexity will not change."
   ]
  },
  {
   "cell_type": "code",
   "execution_count": 8,
   "id": "c3404692-a126-4cfa-8566-8324e62786e6",
   "metadata": {},
   "outputs": [
    {
     "data": {
      "text/plain": [
       "\u001b[33m'''\u001b[39m\n",
       "\u001b[33mNaive but not Pythonic implementation of interval intersection queries.\u001b[39m\n",
       "\u001b[33m'''\u001b[39m\n",
       "\n",
       "\u001b[38;5;28;01mimport\u001b[39;00m collections\n",
       "\u001b[38;5;28;01mimport\u001b[39;00m itertools\n",
       "\u001b[38;5;28;01mimport\u001b[39;00m random\n",
       "\u001b[38;5;28;01mimport\u001b[39;00m typing\n",
       "\n",
       "\n",
       "Interval: typing.TypeAlias = tuple[int, int]\n",
       "Db: typing.TypeAlias = list[Interval]\n",
       "Queries: typing.TypeAlias = Db\n",
       "QueryResult: typing.TypeAlias = list[tuple[Interval, Interval]]\n",
       "\n",
       "\u001b[38;5;28;01mdef\u001b[39;00m generate_interval(max_end: int = \u001b[32m1_000_000_000\u001b[39m) -> Interval:\n",
       "    \u001b[33m'''Generate a half-open interval of at least length 1\u001b[39m\n",
       "\u001b[33m    \u001b[39m\n",
       "\u001b[33m    Parameters\u001b[39m\n",
       "\u001b[33m    ----------\u001b[39m\n",
       "\u001b[33m    max_end: int\u001b[39m\n",
       "\u001b[33m        largest end value of the interval, default value 1_000_000_000\u001b[39m\n",
       "\u001b[33m        \u001b[39m\n",
       "\u001b[33m    Returns\u001b[39m\n",
       "\u001b[33m    -------\u001b[39m\n",
       "\u001b[33m    Interval\u001b[39m\n",
       "\u001b[33m        Tuple (start, end) such that end - start > 1\u001b[39m\n",
       "\u001b[33m    '''\u001b[39m\n",
       "    start = random.randint(\u001b[32m0\u001b[39m, max_end - \u001b[32m2\u001b[39m)\n",
       "    end = random.randint(start + \u001b[32m2\u001b[39m, max_end)\n",
       "    \u001b[38;5;28;01mreturn\u001b[39;00m start, end\n",
       "\n",
       "\n",
       "\u001b[38;5;28;01mdef\u001b[39;00m create_db(size: int = \u001b[32m1_000\u001b[39m, max_end: int = \u001b[32m1_000_000\u001b[39m) -> Db:\n",
       "    \u001b[33m'''Generate a database of intervals\u001b[39m\n",
       "\u001b[33m    \u001b[39m\n",
       "\u001b[33m    Parameters\u001b[39m\n",
       "\u001b[33m    ----------\u001b[39m\n",
       "\u001b[33m    size: int\u001b[39m\n",
       "\u001b[33m        number of intervals in the database, default value 1_000\u001b[39m\n",
       "\u001b[33m    max_end: int\u001b[39m\n",
       "\u001b[33m        largest end value of the interval, default value 1_000_000_000\u001b[39m\n",
       "\n",
       "\u001b[33m    Returns\u001b[39m\n",
       "\u001b[33m    -------\u001b[39m\n",
       "\u001b[33m    Db\u001b[39m\n",
       "\u001b[33m        a list of half-open intervals\u001b[39m\n",
       "\u001b[33m    '''\u001b[39m\n",
       "    \u001b[38;5;28;01mreturn\u001b[39;00m [generate_interval(max_end) \u001b[38;5;28;01mfor\u001b[39;00m _ \u001b[38;5;28;01min\u001b[39;00m range(size)]\n",
       "\n",
       "\n",
       "\u001b[38;5;28;01mdef\u001b[39;00m create_queries(size: int = \u001b[32m1_000\u001b[39m, max_end: int = \u001b[32m1_000_000\u001b[39m) -> Queries:\n",
       "    \u001b[33m'''Generate query intervals\u001b[39m\n",
       "\u001b[33m    \u001b[39m\n",
       "\u001b[33m    Parameters\u001b[39m\n",
       "\u001b[33m    ----------\u001b[39m\n",
       "\u001b[33m    size: int\u001b[39m\n",
       "\u001b[33m        number of intervals in the query, default value 1_000\u001b[39m\n",
       "\u001b[33m    max_end: int\u001b[39m\n",
       "\u001b[33m        largest end value of the interval, default value 1_000_000_000\u001b[39m\n",
       "\n",
       "\u001b[33m    Returns\u001b[39m\n",
       "\u001b[33m    -------\u001b[39m\n",
       "\u001b[33m    Queries\u001b[39m\n",
       "\u001b[33m        a list of half-open intervals\u001b[39m\n",
       "\u001b[33m    '''\u001b[39m\n",
       "    \u001b[38;5;28;01mreturn\u001b[39;00m create_db(size=size, max_end=max_end)\n",
       "\n",
       "\n",
       "\u001b[38;5;28;01mdef\u001b[39;00m have_intersection(q: Interval, d: Interval) -> bool:\n",
       "    \u001b[33m'''Check whether two intervals intersect\u001b[39m\n",
       "\u001b[33m    \u001b[39m\n",
       "\u001b[33m    Parameters\u001b[39m\n",
       "\u001b[33m    ----------\u001b[39m\n",
       "\u001b[33m    q, d: Interval\u001b[39m\n",
       "\u001b[33m        intervals to check intersection for\u001b[39m\n",
       "\u001b[33m        \u001b[39m\n",
       "\u001b[33m    Returns\u001b[39m\n",
       "\u001b[33m    -------\u001b[39m\n",
       "\u001b[33m    bool\u001b[39m\n",
       "\u001b[33m        True if q and d intersect, False otherwise\u001b[39m\n",
       "\u001b[33m    '''\u001b[39m\n",
       "    \u001b[38;5;28;01mreturn\u001b[39;00m q[\u001b[32m0\u001b[39m] < d[\u001b[32m1\u001b[39m] \u001b[38;5;28;01mand\u001b[39;00m d[\u001b[32m0\u001b[39m] < q[\u001b[32m1\u001b[39m]\n",
       "\n",
       "\n",
       "\u001b[38;5;28;01mdef\u001b[39;00m execute_queries(queries: Queries, db: Db) -> QueryResult:\n",
       "    \u001b[33m'''Execute the query on the database\u001b[39m\n",
       "\n",
       "\u001b[33m    Parameters\u001b[39m\n",
       "\u001b[33m    ----------\u001b[39m\n",
       "\u001b[33m    queries: Queries\u001b[39m\n",
       "\u001b[33m        queries to be executed\u001b[39m\n",
       "\u001b[33m    db: Db\u001b[39m\n",
       "\u001b[33m        database to query\u001b[39m\n",
       "\n",
       "\u001b[33m    Returns\u001b[39m\n",
       "\u001b[33m    -------\u001b[39m\n",
       "\u001b[33m    QueryResult\u001b[39m\n",
       "\u001b[33m        set of tuples of query and database intervals that intersect\u001b[39m\n",
       "\u001b[33m    '''\u001b[39m\n",
       "    \u001b[38;5;28;01mreturn\u001b[39;00m {(q, d) \u001b[38;5;28;01mfor\u001b[39;00m q, d \u001b[38;5;28;01min\u001b[39;00m itertools.product(queries, db) \u001b[38;5;28;01mif\u001b[39;00m have_intersection(q, d)}\n"
      ]
     },
     "metadata": {},
     "output_type": "display_data"
    }
   ],
   "source": [
    "%pycat naive_intersectionic_queries.py"
   ]
  },
  {
   "cell_type": "markdown",
   "id": "e0250ca1-8ce7-478d-89d6-0c32e98849fe",
   "metadata": {},
   "source": [
    "As you can see, not much changed, rather than a `namedtuple` to represent an interval, an ordinary `tuple` is used, while a `list` is replacing the `set` to represent the database and queries."
   ]
  },
  {
   "cell_type": "code",
   "execution_count": 9,
   "id": "efe82236-da69-4654-8f26-23f2a5da6419",
   "metadata": {},
   "outputs": [],
   "source": [
    "import naive_intersectionic_queries"
   ]
  },
  {
   "cell_type": "code",
   "execution_count": 10,
   "id": "3ab457de-04fb-49b7-b4f4-038fcbc3036d",
   "metadata": {},
   "outputs": [],
   "source": [
    "random.seed(1234)\n",
    "naive_times = [\n",
    "    timeit.repeat(\n",
    "        stmt='naive_intersectionic_queries.execute_queries(queries, db)',\n",
    "        setup=f'queries, db = naive_intersectionic_queries.create_queries({size}), naive_intersectionic_queries.create_db({size})',\n",
    "        repeat=nr_repeats,\n",
    "        number=1,\n",
    "        globals=globals(),\n",
    "    ) for size in sizes\n",
    "]"
   ]
  },
  {
   "cell_type": "code",
   "execution_count": 11,
   "id": "eeda1a02-8162-486b-ab05-e09a44fc689b",
   "metadata": {
    "scrolled": true
   },
   "outputs": [
    {
     "data": {
      "image/png": "[encoded data removed]",
      "text/plain": [
       "<Figure size 640x480 with 1 Axes>"
      ]
     },
     "metadata": {},
     "output_type": "display_data"
    }
   ],
   "source": [
    "plt.boxplot(naive_times, widths=[40.0*size/100 for size in sizes], positions=sizes)\n",
    "plt.plot(sizes, list(map(statistics.median, naive_times)), label='naive non-Pythonic')\n",
    "plt.boxplot(naive_pythonic_times, widths=[40.0*size/100 for size in sizes], positions=sizes)\n",
    "plt.plot(sizes, list(map(statistics.median, naive_pythonic_times)), label='naive Pythonic')\n",
    "plt.legend()\n",
    "plt.xscale('log')\n",
    "plt.yscale('log');"
   ]
  },
  {
   "cell_type": "markdown",
   "id": "bf4b0992-e411-470d-af08-daacc7818de7",
   "metadata": {},
   "source": [
    "As expected, the cime complexity is still $\\bigO(N^2)$, but this implementation is 1.5 times faster."
   ]
  },
  {
   "cell_type": "code",
   "execution_count": 12,
   "id": "187de4fa-3890-41a1-829b-eade3e14a599",
   "metadata": {},
   "outputs": [
    {
     "data": {
      "text/plain": [
       "0.7846121339172306"
      ]
     },
     "execution_count": 12,
     "metadata": {},
     "output_type": "execute_result"
    }
   ],
   "source": [
    "statistics.mean(naive_times[-1])/statistics.mean(naive_pythonic_times[-1])"
   ]
  },
  {
   "cell_type": "markdown",
   "id": "232ccba5-1560-4bdc-9723-938c783061b5",
   "metadata": {},
   "source": [
    "## Intersection trees"
   ]
  },
  {
   "attachments": {},
   "cell_type": "markdown",
   "id": "1cdcd90f-4b71-4288-bb76-865fb18056ff",
   "metadata": {},
   "source": [
    "A better approach for interval queries is to use a clever datastructure to represent the database.  The intervals are stored as nodes of a binary tree, so each node has the start and end value of an interval.  Additionally, each node also stores the maximum end of all the intervals stored as its children.  The first interval stored in the database is the root of the tree.  When a new interval is inserted, it will be inserted as or by the left child of a node if its start value is less than that node's, as or by the child otherwise.  Upon insertion, the maximum end value is updated as well.\n",
    "\n",
    "This approach allows to eliminate large parts of the tree from the search process."
   ]
  },
  {
   "cell_type": "code",
   "execution_count": 13,
   "id": "8704f5af-c324-4d69-bb66-47b770042ac7",
   "metadata": {
    "scrolled": true
   },
   "outputs": [
    {
     "data": {
      "text/plain": [
       "\u001b[33m'''\u001b[39m\n",
       "\u001b[33mImplementation of an intersection tree approach for efficiently finding\u001b[39m\n",
       "\u001b[33mintersections among a set of query intervals and a database intervals.\u001b[39m\n",
       "\n",
       "\u001b[33mThis module provides:\u001b[39m\n",
       "\u001b[33m- Node: A tree node representing an interval with efficient intersection search\u001b[39m\n",
       "\u001b[33m- Utility functions for generating intervals, creating databases, and executing queries\u001b[39m\n",
       "\n",
       "\u001b[33mNote: The tree structure is a binary search tree ordered by interval start points.\u001b[39m\n",
       "\u001b[33mIn worst case scenarios (e.g., with sorted input), the tree may become unbalanced\u001b[39m\n",
       "\u001b[33mand degrade to O(n) performance instead of the optimal O(log n).\u001b[39m\n",
       "\n",
       "\u001b[33mExample usage:\u001b[39m\n",
       "\u001b[33m    >>> from intersection_tree import create_db, create_queries, execute_queries\u001b[39m\n",
       "\u001b[33m    >>> db = create_db(size=100)\u001b[39m\n",
       "\u001b[33m    >>> queries = create_queries(size=10)\u001b[39m\n",
       "\u001b[33m    >>> results = execute_queries(queries, db)\u001b[39m\n",
       "\u001b[33m'''\u001b[39m\n",
       "\n",
       "\u001b[38;5;28;01mimport\u001b[39;00m random\n",
       "\u001b[38;5;28;01mimport\u001b[39;00m typing\n",
       "\n",
       "\n",
       "Interval: typing.TypeAlias = tuple[int, int]\n",
       "Queries: typing.TypeAlias = list[Interval]\n",
       "QueryResult: typing.TypeAlias = list[tuple[Interval, Interval]]\n",
       "\n",
       "\u001b[38;5;28;01mclass\u001b[39;00m Node:\n",
       "    \u001b[33m'''Class representing a node in an intersection tree.\u001b[39m\n",
       "\u001b[33m    \u001b[39m\n",
       "\u001b[33m    Each node represents an interval in the dataset, so it has the start and the\u001b[39m\n",
       "\u001b[33m    end of that interval.  It also contains a reference to its left and right child.\u001b[39m\n",
       "\u001b[33m    For indexing purposes, it also contains the maximum end value over all its children.\u001b[39m\n",
       "\u001b[33m    '''\u001b[39m\n",
       "\n",
       "    \u001b[38;5;28;01mdef\u001b[39;00m __init__(self, interval: Interval) -> \u001b[38;5;28;01mNone\u001b[39;00m:\n",
       "        \u001b[33m'''Initialize node representing the interval [start, end).\u001b[39m\n",
       "\n",
       "\u001b[33m        Parameters\u001b[39m\n",
       "\u001b[33m        ----------\u001b[39m\n",
       "\u001b[33m        interval: Interval\u001b[39m\n",
       "\u001b[33m            the interval represented by this node\u001b[39m\n",
       "\u001b[33m        '''\u001b[39m\n",
       "        \u001b[38;5;28;01mif\u001b[39;00m interval[\u001b[32m0\u001b[39m] >= interval[\u001b[32m1\u001b[39m]:\n",
       "            \u001b[38;5;28;01mraise\u001b[39;00m ValueError(f\"Invalid interval: start ({interval[\u001b[32m0\u001b[39m]}) must be less than end ({interval[\u001b[32m1\u001b[39m]})\")\n",
       "        \n",
       "        self._start: int = interval[\u001b[32m0\u001b[39m]\n",
       "        self._end: int = interval[\u001b[32m1\u001b[39m]\n",
       "        self._max_end: int = interval[\u001b[32m1\u001b[39m]\n",
       "        self._left: \u001b[33m'Node | None'\u001b[39m = \u001b[38;5;28;01mNone\u001b[39;00m\n",
       "        self._right: \u001b[33m'Node | None'\u001b[39m = \u001b[38;5;28;01mNone\u001b[39;00m\n",
       "\n",
       "    \u001b[38;5;28;01mdef\u001b[39;00m insert(self, interval: Interval) -> \u001b[38;5;28;01mNone\u001b[39;00m:\n",
       "        \u001b[33m'''Insert a new interval [start, end) in the tree.\u001b[39m\n",
       "\n",
       "\u001b[33m        Parameters\u001b[39m\n",
       "\u001b[33m        ----------\u001b[39m\n",
       "\u001b[33m        interval: Interval\u001b[39m\n",
       "\u001b[33m            the interval to insert\u001b[39m\n",
       "\u001b[33m            \u001b[39m\n",
       "\u001b[33m        Raises\u001b[39m\n",
       "\u001b[33m        ------\u001b[39m\n",
       "\u001b[33m        ValueError\u001b[39m\n",
       "\u001b[33m            if interval start is not less than end\u001b[39m\n",
       "\u001b[33m        '''\u001b[39m\n",
       "        \u001b[38;5;28;01mif\u001b[39;00m interval[\u001b[32m0\u001b[39m] >= interval[\u001b[32m1\u001b[39m]:\n",
       "            \u001b[38;5;28;01mraise\u001b[39;00m ValueError(f\"Invalid interval: start ({interval[\u001b[32m0\u001b[39m]}) must be less than end ({interval[\u001b[32m1\u001b[39m]})\")\n",
       "            \n",
       "        self._insert(interval)\n",
       "\n",
       "    \u001b[38;5;28;01mdef\u001b[39;00m _insert(self, interval: Interval) -> \u001b[38;5;28;01mNone\u001b[39;00m:\n",
       "        \u001b[33m'''Private method to insert a new interval [start, end) in the tree.\u001b[39m\n",
       "\u001b[33m        Does not validate the interval.\u001b[39m\n",
       "\n",
       "\u001b[33m        Parameters\u001b[39m\n",
       "\u001b[33m        ----------\u001b[39m\n",
       "\u001b[33m        interval: Interval\u001b[39m\n",
       "\u001b[33m            the interval to insert (assumed to be valid)\u001b[39m\n",
       "\u001b[33m        '''\u001b[39m\n",
       "        \u001b[38;5;28;01mif\u001b[39;00m interval[\u001b[32m0\u001b[39m] < self._start:\n",
       "            \u001b[38;5;28;01mif\u001b[39;00m self._left \u001b[38;5;28;01mis\u001b[39;00m \u001b[38;5;28;01mNone\u001b[39;00m:\n",
       "                self._left = Node(interval)\n",
       "            \u001b[38;5;28;01melse\u001b[39;00m:\n",
       "                self._left._insert(interval)\n",
       "        \u001b[38;5;28;01melse\u001b[39;00m:\n",
       "            \u001b[38;5;28;01mif\u001b[39;00m self._right \u001b[38;5;28;01mis\u001b[39;00m \u001b[38;5;28;01mNone\u001b[39;00m:\n",
       "                self._right = Node(interval)\n",
       "            \u001b[38;5;28;01melse\u001b[39;00m:\n",
       "                self._right._insert(interval)\n",
       "        self._max_end = max(self._max_end, interval[\u001b[32m1\u001b[39m])\n",
       "\n",
       "    \u001b[38;5;28;01mdef\u001b[39;00m search(self, interval: Interval, results: list[Interval]) -> \u001b[38;5;28;01mNone\u001b[39;00m:\n",
       "        \u001b[33m'''Search for all intervals in the tree that intersect with [start, end)\u001b[39m\n",
       "\u001b[33m        and append them to results.\u001b[39m\n",
       "\n",
       "\u001b[33m        Parameters\u001b[39m\n",
       "\u001b[33m        ----------\u001b[39m\n",
       "\u001b[33m        interval: Interval\u001b[39m\n",
       "\u001b[33m            the interval to search for intersections\u001b[39m\n",
       "\u001b[33m        results: list[Interval]\u001b[39m\n",
       "\u001b[33m            list to append the results to\u001b[39m\n",
       "\u001b[33m            \u001b[39m\n",
       "\u001b[33m        Raises\u001b[39m\n",
       "\u001b[33m        ------\u001b[39m\n",
       "\u001b[33m        ValueError\u001b[39m\n",
       "\u001b[33m            if interval start is not less than end\u001b[39m\n",
       "\u001b[33m        '''\u001b[39m\n",
       "        \u001b[38;5;28;01mif\u001b[39;00m interval[\u001b[32m0\u001b[39m] >= interval[\u001b[32m1\u001b[39m]:\n",
       "            \u001b[38;5;28;01mraise\u001b[39;00m ValueError(f\"Invalid interval: start ({interval[\u001b[32m0\u001b[39m]}) must be less than end ({interval[\u001b[32m1\u001b[39m]})\")\n",
       "            \n",
       "        self._search(interval, results)\n",
       "\n",
       "    \u001b[38;5;28;01mdef\u001b[39;00m _search(self, interval: Interval, results: list[Interval]) -> \u001b[38;5;28;01mNone\u001b[39;00m:\n",
       "        \u001b[33m'''Private method to search for all intervals in the tree that intersect with [start, end)\u001b[39m\n",
       "\u001b[33m        and append them to results. Does not validate the interval.\u001b[39m\n",
       "\n",
       "\u001b[33m        Parameters\u001b[39m\n",
       "\u001b[33m        ----------\u001b[39m\n",
       "\u001b[33m        interval: Interval\u001b[39m\n",
       "\u001b[33m            the interval to search for intersections (assumed to be valid)\u001b[39m\n",
       "\u001b[33m        results: list[Interval]\u001b[39m\n",
       "\u001b[33m            list to append the results to\u001b[39m\n",
       "\u001b[33m        '''\u001b[39m\n",
       "        \u001b[38;5;28;01mif\u001b[39;00m self._start < interval[\u001b[32m1\u001b[39m] \u001b[38;5;28;01mand\u001b[39;00m interval[\u001b[32m0\u001b[39m] < self._end:\n",
       "            results.append((self._start, self._end))\n",
       "        \u001b[38;5;28;01mif\u001b[39;00m self._left \u001b[38;5;28;01mis\u001b[39;00m \u001b[38;5;28;01mnot\u001b[39;00m \u001b[38;5;28;01mNone\u001b[39;00m \u001b[38;5;28;01mand\u001b[39;00m self._left._max_end >= interval[\u001b[32m0\u001b[39m]:\n",
       "            self._left._search(interval, results)\n",
       "        \u001b[38;5;28;01mif\u001b[39;00m self._right \u001b[38;5;28;01mis\u001b[39;00m \u001b[38;5;28;01mnot\u001b[39;00m \u001b[38;5;28;01mNone\u001b[39;00m \u001b[38;5;28;01mand\u001b[39;00m self._right._max_end >= interval[\u001b[32m0\u001b[39m]:\n",
       "            self._right._search(interval, results)\n",
       "\n",
       "    \u001b[38;5;28;01mdef\u001b[39;00m to_str(self, prefix: str = \u001b[33m''\u001b[39m) -> str:\n",
       "        \u001b[33m'''Return a string representation of the tree.\u001b[39m\n",
       "\n",
       "\u001b[33m        Parameters\u001b[39m\n",
       "\u001b[33m        ----------\u001b[39m\n",
       "\u001b[33m        prefix: str\u001b[39m\n",
       "\u001b[33m            prefix to add to each line, default is empty string\u001b[39m\n",
       "\n",
       "\u001b[33m        Returns\u001b[39m\n",
       "\u001b[33m        -------\u001b[39m\n",
       "\u001b[33m        str\u001b[39m\n",
       "\u001b[33m            string representation of the tree\u001b[39m\n",
       "\u001b[33m        '''\u001b[39m\n",
       "        result = f'{prefix}[{self._start}, {self._end}] (max_end={self._max_end})\\n'\n",
       "        \u001b[38;5;28;01mif\u001b[39;00m self._left \u001b[38;5;28;01mis\u001b[39;00m \u001b[38;5;28;01mnot\u001b[39;00m \u001b[38;5;28;01mNone\u001b[39;00m:\n",
       "            result += self._left.to_str(prefix + \u001b[33m'  '\u001b[39m)\n",
       "        \u001b[38;5;28;01mif\u001b[39;00m self._right \u001b[38;5;28;01mis\u001b[39;00m \u001b[38;5;28;01mnot\u001b[39;00m \u001b[38;5;28;01mNone\u001b[39;00m:\n",
       "            result += self._right.to_str(prefix + \u001b[33m'  '\u001b[39m)\n",
       "        \u001b[38;5;28;01mreturn\u001b[39;00m result\n",
       "\n",
       "    \u001b[38;5;28;01mdef\u001b[39;00m __repr__(self) -> str:\n",
       "        \u001b[33m'''Return a string representation of the node.\u001b[39m\n",
       "\n",
       "\u001b[33m        Returns\u001b[39m\n",
       "\u001b[33m        -------\u001b[39m\n",
       "\u001b[33m        str\u001b[39m\n",
       "\u001b[33m            string representation of the node\u001b[39m\n",
       "\u001b[33m        '''\u001b[39m\n",
       "        \u001b[38;5;28;01mreturn\u001b[39;00m f'Node({self._start}, {self._end}, max_end={self._max_end})'\n",
       "\n",
       "    \u001b[38;5;28;01mdef\u001b[39;00m __str__(self) -> str:\n",
       "        \u001b[33m'''Return a string representation of the tree.\u001b[39m\n",
       "\n",
       "\u001b[33m        Returns\u001b[39m\n",
       "\u001b[33m        -------\u001b[39m\n",
       "\u001b[33m        str\u001b[39m\n",
       "\u001b[33m            string representation of the tree\u001b[39m\n",
       "\u001b[33m        '''\u001b[39m\n",
       "        \u001b[38;5;28;01mreturn\u001b[39;00m self.to_str()\n",
       "\n",
       "\n",
       "\u001b[38;5;28;01mdef\u001b[39;00m generate_interval(max_end: int = \u001b[32m1_000_000_000\u001b[39m) -> Interval:\n",
       "    \u001b[33m'''Generate a half-open interval of at least length 1\u001b[39m\n",
       "\u001b[33m    \u001b[39m\n",
       "\u001b[33m    Parameters\u001b[39m\n",
       "\u001b[33m    ----------\u001b[39m\n",
       "\u001b[33m    max_end: int\u001b[39m\n",
       "\u001b[33m        largest end value of the interval, default value 1_000_000_000\u001b[39m\n",
       "\u001b[33m        \u001b[39m\n",
       "\u001b[33m    Returns\u001b[39m\n",
       "\u001b[33m    -------\u001b[39m\n",
       "\u001b[33m    Interval\u001b[39m\n",
       "\u001b[33m        Tuple (start, end) such that end - start > 1\u001b[39m\n",
       "\u001b[33m        \u001b[39m\n",
       "\u001b[33m    Raises\u001b[39m\n",
       "\u001b[33m    ------\u001b[39m\n",
       "\u001b[33m    ValueError\u001b[39m\n",
       "\u001b[33m        if max_end is less than 2\u001b[39m\n",
       "\u001b[33m    '''\u001b[39m\n",
       "    \u001b[38;5;28;01mif\u001b[39;00m max_end < \u001b[32m2\u001b[39m:\n",
       "        \u001b[38;5;28;01mraise\u001b[39;00m ValueError(f\"max_end must be at least 2, got {max_end}\")\n",
       "    \n",
       "    start = random.randint(\u001b[32m0\u001b[39m, max_end - \u001b[32m2\u001b[39m)\n",
       "    end = random.randint(start + \u001b[32m2\u001b[39m, max_end)\n",
       "    \u001b[38;5;28;01mreturn\u001b[39;00m start, end\n",
       "\n",
       "\n",
       "\u001b[38;5;28;01mdef\u001b[39;00m create_db(size: int, max_end: int = \u001b[32m1_000_000\u001b[39m) -> Node:\n",
       "    \u001b[33m'''Generate a database of intervals and return the intersection tree.\u001b[39m\n",
       "\n",
       "\u001b[33m    Parameters\u001b[39m\n",
       "\u001b[33m    ----------\u001b[39m\n",
       "\u001b[33m    size: int\u001b[39m\n",
       "\u001b[33m        number of intervals in the database\u001b[39m\n",
       "\u001b[33m    max_end: int\u001b[39m\n",
       "\u001b[33m        largest end value of the interval, default value 1_000_000\u001b[39m\n",
       "\n",
       "\u001b[33m    Returns\u001b[39m\n",
       "\u001b[33m    -------\u001b[39m\n",
       "\u001b[33m    Node\u001b[39m\n",
       "\u001b[33m        root of the intersection tree\u001b[39m\n",
       "\u001b[33m    '''\u001b[39m\n",
       "    tree = Node(generate_interval(max_end))\n",
       "    \u001b[38;5;28;01mfor\u001b[39;00m _ \u001b[38;5;28;01min\u001b[39;00m range(\u001b[32m1\u001b[39m, size):\n",
       "        tree.insert(generate_interval(max_end))\n",
       "    \u001b[38;5;28;01mreturn\u001b[39;00m tree\n",
       "\n",
       "\n",
       "\u001b[38;5;28;01mdef\u001b[39;00m execute_queries(queries: Queries, db: Node) -> QueryResult:\n",
       "    \u001b[33m'''Execute the query on the database\u001b[39m\n",
       "\n",
       "\u001b[33m    Parameters\u001b[39m\n",
       "\u001b[33m    ----------\u001b[39m\n",
       "\u001b[33m    queries: Queries\u001b[39m\n",
       "\u001b[33m        queries to be executed\u001b[39m\n",
       "\u001b[33m    db: Node\u001b[39m\n",
       "\u001b[33m        database to query\u001b[39m\n",
       "\n",
       "\u001b[33m    Returns\u001b[39m\n",
       "\u001b[33m    -------\u001b[39m\n",
       "\u001b[33m    QueryResult\u001b[39m\n",
       "\u001b[33m        set of tuples of query and database intervals that intersect\u001b[39m\n",
       "\u001b[33m    '''\u001b[39m\n",
       "    results: QueryResult = []\n",
       "    \u001b[38;5;28;01mfor\u001b[39;00m q \u001b[38;5;28;01min\u001b[39;00m queries:\n",
       "        db_results: list[Interval] = []\n",
       "        db.search(q, db_results)\n",
       "        results.extend((q, d) \u001b[38;5;28;01mfor\u001b[39;00m d \u001b[38;5;28;01min\u001b[39;00m db_results)\n",
       "    \u001b[38;5;28;01mreturn\u001b[39;00m results\n",
       "\n",
       "\n",
       "\u001b[38;5;28;01mdef\u001b[39;00m create_queries(size: int = \u001b[32m1_000\u001b[39m, max_end: int = \u001b[32m1_000_000\u001b[39m) -> Queries:\n",
       "    \u001b[33m'''Generate query intervals.\u001b[39m\n",
       "\u001b[33m    \u001b[39m\n",
       "\u001b[33m    Parameters\u001b[39m\n",
       "\u001b[33m    ----------\u001b[39m\n",
       "\u001b[33m    size: int\u001b[39m\n",
       "\u001b[33m        number of intervals in the query, default value 1_000\u001b[39m\n",
       "\u001b[33m    max_end: int\u001b[39m\n",
       "\u001b[33m        largest end value of the interval, default value 1_000_000\u001b[39m\n",
       "\n",
       "\u001b[33m    Returns\u001b[39m\n",
       "\u001b[33m    -------\u001b[39m\n",
       "\u001b[33m    Queries\u001b[39m\n",
       "\u001b[33m        a list of half-open intervals\u001b[39m\n",
       "\u001b[33m    '''\u001b[39m\n",
       "    \u001b[38;5;28;01mreturn\u001b[39;00m [generate_interval(max_end) \u001b[38;5;28;01mfor\u001b[39;00m _ \u001b[38;5;28;01min\u001b[39;00m range(size)]\n",
       "\n",
       "\n",
       "\u001b[38;5;28;01mdef\u001b[39;00m populate_db(db: Node | \u001b[38;5;28;01mNone\u001b[39;00m, intervals: typing.Sequence[Interval]) -> Node:\n",
       "    \u001b[33m'''Populate an existing database with additional intervals or create a new one.\u001b[39m\n",
       "\n",
       "\u001b[33m    Parameters\u001b[39m\n",
       "\u001b[33m    ----------\u001b[39m\n",
       "\u001b[33m    db: Node | None\u001b[39m\n",
       "\u001b[33m        existing database to populate, if None a new database is created\u001b[39m\n",
       "\u001b[33m    intervals: typing.Sequence[Interval]\u001b[39m\n",
       "\u001b[33m        intervals to insert into the database\u001b[39m\n",
       "\n",
       "\u001b[33m    Returns\u001b[39m\n",
       "\u001b[33m    -------\u001b[39m\n",
       "\u001b[33m    Node\u001b[39m\n",
       "\u001b[33m        root of the populated intersection tree\u001b[39m\n",
       "\n",
       "\u001b[33m    Raises\u001b[39m\n",
       "\u001b[33m    ------\u001b[39m\n",
       "\u001b[33m    ValueError\u001b[39m\n",
       "\u001b[33m        if intervals is empty\u001b[39m\n",
       "\u001b[33m    '''\u001b[39m\n",
       "    \u001b[38;5;28;01mif\u001b[39;00m len(intervals) == \u001b[32m0\u001b[39m:\n",
       "        \u001b[38;5;28;01mraise\u001b[39;00m ValueError(\u001b[33m'At least 1 interval is required'\u001b[39m)\n",
       "    start_idx = \u001b[32m0\u001b[39m\n",
       "    \u001b[38;5;28;01mif\u001b[39;00m db \u001b[38;5;28;01mis\u001b[39;00m \u001b[38;5;28;01mNone\u001b[39;00m:\n",
       "        db = Node(intervals[\u001b[32m0\u001b[39m])\n",
       "        start_idx = \u001b[32m1\u001b[39m\n",
       "    \u001b[38;5;28;01mfor\u001b[39;00m interval \u001b[38;5;28;01min\u001b[39;00m intervals[start_idx:]:\n",
       "        db.insert(interval)\n",
       "    \u001b[38;5;28;01mreturn\u001b[39;00m db\n",
       "\n",
       "\n",
       "\u001b[38;5;28;01mdef\u001b[39;00m plot_intersection_tree(tree: Node) -> \u001b[38;5;28;01mNone\u001b[39;00m:\n",
       "    \u001b[33m\"\"\"Visualize the intersection tree using :mod:`matplotlib`.\u001b[39m\n",
       "\n",
       "\u001b[33m    Each node in the tree is drawn as a horizontal line spanning the interval\u001b[39m\n",
       "\u001b[33m    ``[start, end]``.  The root of the tree is shown at the bottom of the\u001b[39m\n",
       "\u001b[33m    figure, with each subsequent level plotted above it.  The start and end\u001b[39m\n",
       "\u001b[33m    values of the interval are annotated next to their respective end points\u001b[39m\n",
       "\u001b[33m    together with the ``max_end`` value for that node.  Lines are also drawn\u001b[39m\n",
       "\u001b[33m    from the midpoint of each interval to the midpoints of its children to\u001b[39m\n",
       "\u001b[33m    illustrate the tree structure.\u001b[39m\n",
       "\n",
       "\u001b[33m    Parameters\u001b[39m\n",
       "\u001b[33m    ----------\u001b[39m\n",
       "\u001b[33m    tree:\u001b[39m\n",
       "\u001b[33m        Root node of the intersection tree to plot.\u001b[39m\n",
       "\u001b[33m    \"\"\"\u001b[39m\n",
       "\n",
       "    \u001b[38;5;28;01mimport\u001b[39;00m matplotlib.pyplot \u001b[38;5;28;01mas\u001b[39;00m plt\n",
       "\n",
       "    \u001b[38;5;66;03m# Collect all nodes along with their depth in the tree.\u001b[39;00m\n",
       "    nodes: list[tuple[Node, int]] = []\n",
       "\n",
       "    \u001b[38;5;28;01mdef\u001b[39;00m _traverse(node: Node | \u001b[38;5;28;01mNone\u001b[39;00m, depth: int) -> \u001b[38;5;28;01mNone\u001b[39;00m:\n",
       "        \u001b[38;5;28;01mif\u001b[39;00m node \u001b[38;5;28;01mis\u001b[39;00m \u001b[38;5;28;01mNone\u001b[39;00m:\n",
       "            \u001b[38;5;28;01mreturn\u001b[39;00m\n",
       "        nodes.append((node, depth))\n",
       "        _traverse(node._left, depth + \u001b[32m1\u001b[39m)\n",
       "        _traverse(node._right, depth + \u001b[32m1\u001b[39m)\n",
       "\n",
       "    _traverse(tree, \u001b[32m0\u001b[39m)\n",
       "\n",
       "    \u001b[38;5;28;01mif\u001b[39;00m \u001b[38;5;28;01mnot\u001b[39;00m nodes:\n",
       "        \u001b[38;5;28;01mreturn\u001b[39;00m\n",
       "\n",
       "    fig, ax = plt.subplots()\n",
       "    max_depth = max(depth \u001b[38;5;28;01mfor\u001b[39;00m _, depth \u001b[38;5;28;01min\u001b[39;00m nodes)\n",
       "\n",
       "    \u001b[38;5;66;03m# Draw intervals and record midpoints for connecting lines.\u001b[39;00m\n",
       "    midpoints: dict[Node, tuple[float, int]] = {}\n",
       "    \u001b[38;5;28;01mfor\u001b[39;00m node, depth \u001b[38;5;28;01min\u001b[39;00m nodes:\n",
       "        start, end, max_end = node._start, node._end, node._max_end\n",
       "        y = depth\n",
       "        ax.hlines(y, start, end, colors=\u001b[33m\"tab:blue\"\u001b[39m)\n",
       "        ax.plot([start, end], [y, y], \u001b[33m\"o\"\u001b[39m, color=\u001b[33m\"tab:blue\"\u001b[39m, markersize=\u001b[32m3\u001b[39m)\n",
       "        ax.text(start, y + \u001b[32m0.1\u001b[39m, f\"{start}\", ha=\u001b[33m\"center\"\u001b[39m, va=\u001b[33m\"bottom\"\u001b[39m, fontsize=\u001b[32m8\u001b[39m)\n",
       "        ax.text(end, y + \u001b[32m0.1\u001b[39m, f\"{end}\", ha=\u001b[33m\"center\"\u001b[39m, va=\u001b[33m\"bottom\"\u001b[39m, fontsize=\u001b[32m8\u001b[39m)\n",
       "        ax.text(end, y - \u001b[32m0.1\u001b[39m, f\"max={max_end}\", ha=\u001b[33m\"left\"\u001b[39m, va=\u001b[33m\"top\"\u001b[39m, fontsize=\u001b[32m8\u001b[39m)\n",
       "        midpoints[node] = ((start + end) / \u001b[32m2\u001b[39m, y)\n",
       "\n",
       "    \u001b[38;5;66;03m# Connect each node's midpoint to its children's midpoints.\u001b[39;00m\n",
       "    \u001b[38;5;28;01mfor\u001b[39;00m node, depth \u001b[38;5;28;01min\u001b[39;00m nodes:\n",
       "        parent_mid, parent_y = midpoints[node]\n",
       "        \u001b[38;5;28;01mif\u001b[39;00m node._left \u001b[38;5;28;01mis\u001b[39;00m \u001b[38;5;28;01mnot\u001b[39;00m \u001b[38;5;28;01mNone\u001b[39;00m:\n",
       "            child_mid, child_y = midpoints[node._left]\n",
       "            ax.plot([parent_mid, child_mid], [parent_y, child_y], color=\u001b[33m\"tab:gray\"\u001b[39m)\n",
       "        \u001b[38;5;28;01mif\u001b[39;00m node._right \u001b[38;5;28;01mis\u001b[39;00m \u001b[38;5;28;01mnot\u001b[39;00m \u001b[38;5;28;01mNone\u001b[39;00m:\n",
       "            child_mid, child_y = midpoints[node._right]\n",
       "            ax.plot([parent_mid, child_mid], [parent_y, child_y], color=\u001b[33m\"tab:gray\"\u001b[39m)\n",
       "\n",
       "    ax.set_xlabel(\u001b[33m\"value\"\u001b[39m)\n",
       "    ax.set_ylabel(\u001b[33m\"depth\"\u001b[39m)\n",
       "    ax.set_ylim(-\u001b[32m1\u001b[39m, max_depth + \u001b[32m1\u001b[39m)\n",
       "    ax.set_title(\u001b[33m\"Intersection tree\"\u001b[39m)\n",
       "    plt.show()\n"
      ]
     },
     "metadata": {},
     "output_type": "display_data"
    }
   ],
   "source": [
    "%pycat intersection_tree.py"
   ]
  },
  {
   "cell_type": "code",
   "execution_count": 14,
   "id": "153b9a8d-c90a-43ad-bb9b-8bd03b062397",
   "metadata": {},
   "outputs": [],
   "source": [
    "import intersection_tree"
   ]
  },
  {
   "cell_type": "markdown",
   "id": "593daa29-5689-4afd-862a-423b012e47e9",
   "metadata": {},
   "source": [
    "A small test to see how it works."
   ]
  },
  {
   "cell_type": "code",
   "execution_count": 15,
   "id": "4a58344e-af41-44a5-adf3-fcfa4ee786e3",
   "metadata": {},
   "outputs": [],
   "source": [
    "db = intersection_tree.create_db(size=10, max_end=500)"
   ]
  },
  {
   "cell_type": "code",
   "execution_count": 16,
   "id": "ecf871d1-c6eb-4c69-adcc-ab70443e975d",
   "metadata": {
    "scrolled": true
   },
   "outputs": [
    {
     "name": "stdout",
     "output_type": "stream",
     "text": [
      "[292, 496] (max_end=496)\n",
      "  [1, 141] (max_end=420)\n",
      "    [48, 236] (max_end=420)\n",
      "      [174, 243] (max_end=420)\n",
      "        [154, 420] (max_end=420)\n",
      "        [204, 397] (max_end=397)\n",
      "  [351, 415] (max_end=476)\n",
      "    [416, 458] (max_end=476)\n",
      "      [395, 476] (max_end=476)\n",
      "      [465, 473] (max_end=473)\n",
      "\n"
     ]
    }
   ],
   "source": [
    "print(db)"
   ]
  },
  {
   "cell_type": "code",
   "execution_count": 17,
   "id": "97e44deb-903a-4326-a490-24280838b4eb",
   "metadata": {},
   "outputs": [
    {
     "data": {
      "image/png": "[encoded data removed]",
      "text/plain": [
       "<Figure size 640x480 with 1 Axes>"
      ]
     },
     "metadata": {},
     "output_type": "display_data"
    }
   ],
   "source": [
    "intersection_tree.plot_intersection_tree(db)"
   ]
  },
  {
   "cell_type": "code",
   "execution_count": 18,
   "id": "a8aae9f8-9e65-4d40-bd23-6ae0263fe365",
   "metadata": {},
   "outputs": [],
   "source": [
    "results = []\n",
    "db.search((25, 30), results)"
   ]
  },
  {
   "cell_type": "code",
   "execution_count": 19,
   "id": "590e69ef-61c8-4a61-98c9-987f4137a296",
   "metadata": {
    "scrolled": true
   },
   "outputs": [
    {
     "data": {
      "text/plain": [
       "[(1, 141)]"
      ]
     },
     "execution_count": 19,
     "metadata": {},
     "output_type": "execute_result"
    }
   ],
   "source": [
    "results"
   ]
  },
  {
   "cell_type": "markdown",
   "id": "41321d7e-59c6-4419-8fd8-300ab36d05ed",
   "metadata": {},
   "source": [
    "You can check the performance of this implementation and compare it to the previous ones."
   ]
  },
  {
   "cell_type": "code",
   "execution_count": 20,
   "id": "1a5b8d32-c1e8-4b19-b78a-711cdf5374a6",
   "metadata": {},
   "outputs": [],
   "source": [
    "sizes = [2**i for i in range(7, 14)]\n",
    "nr_repeats = 5"
   ]
  },
  {
   "cell_type": "code",
   "execution_count": 21,
   "id": "543fb733-0ef0-43df-8d20-231f49831326",
   "metadata": {},
   "outputs": [],
   "source": [
    "random.seed(1234)\n",
    "intersection_tree_times = [\n",
    "    timeit.repeat(\n",
    "        stmt='intersection_tree.execute_queries(queries, db)',\n",
    "        setup=f'queries, db = intersection_tree.create_queries({size}), intersection_tree.create_db({size})',\n",
    "        repeat=nr_repeats,\n",
    "        number=1,\n",
    "        globals=globals(),\n",
    "    ) for size in sizes\n",
    "]"
   ]
  },
  {
   "cell_type": "code",
   "execution_count": 22,
   "id": "77b25ed3-330d-494f-881a-39666127e132",
   "metadata": {
    "scrolled": true
   },
   "outputs": [
    {
     "data": {
      "image/png": "[encoded data removed]",
      "text/plain": [
       "<Figure size 640x480 with 1 Axes>"
      ]
     },
     "metadata": {},
     "output_type": "display_data"
    }
   ],
   "source": [
    "plt.boxplot(naive_times, widths=[40.0*size/100 for size in sizes], positions=sizes)\n",
    "plt.plot(sizes, list(map(statistics.median, naive_times)), label='naive non-Pythonic')\n",
    "plt.boxplot(naive_pythonic_times, widths=[40.0*size/100 for size in sizes], positions=sizes)\n",
    "plt.plot(sizes, list(map(statistics.median, naive_pythonic_times)), label='naive Pythonic')\n",
    "plt.boxplot(intersection_tree_times, widths=[40.0*size/100 for size in sizes], positions=sizes)\n",
    "plt.plot(sizes, list(map(statistics.median, intersection_tree_times)), label='intersection tree')\n",
    "plt.legend()\n",
    "plt.xscale('log')\n",
    "plt.yscale('log');"
   ]
  },
  {
   "cell_type": "code",
   "execution_count": 23,
   "id": "8dba67ac-a6d7-49ce-bae1-9d83b7ad964e",
   "metadata": {},
   "outputs": [
    {
     "data": {
      "text/plain": [
       "0.5557245809142051"
      ]
     },
     "execution_count": 23,
     "metadata": {},
     "output_type": "execute_result"
    }
   ],
   "source": [
    "statistics.mean(intersection_tree_times[-1])/statistics.mean(naive_times[-1])"
   ]
  },
  {
   "cell_type": "markdown",
   "id": "e852c8c0-b52c-47ba-87bb-88a8a02fa62d",
   "metadata": {},
   "source": [
    "\n",
    "It is clear that the intersection tree implementation is more efficient than the naive approaches.  The expected complexity is $\\mathcal{O}(N \\log N)$ where both the number of query intervals and the number of intervals in the database is $N$."
   ]
  },
  {
   "cell_type": "markdown",
   "id": "ac811b8a-3f25-41ee-96be-0dd29a385ff5",
   "metadata": {},
   "source": [
    "It is clear that the intersection tree implementation is more efficient than the naive approaches.  The expected time complexity is $\\bigO(N \\log N)$ for $|Q| = |D| = N$.  Likely, the actual time complexity will be worse since the vinary tree is unlikely to be balanced."
   ]
  },
  {
   "cell_type": "markdown",
   "id": "eeb0be96-8d68-4674-887d-75225e6e697a",
   "metadata": {},
   "source": [
    "## Array-based intersection trees"
   ]
  },
  {
   "cell_type": "markdown",
   "id": "f6c03e11-8d6f-43bf-a3b6-a63f61f86567",
   "metadata": {},
   "source": [
    "The array-based implementation offers an alternative approach to the traditional node-based intersection tree. ",
    "Instead of using individual node objects, this implementation stores tree data in arrays, which can provide ",
    "better cache locality and memory efficiency for large datasets.\n",
    "\n",
    "Each node is represented by an index into the arrays, and the tree structure is maintained through indices ",
    "rather than object references."
   ]
  },
  {
   "cell_type": "code",
   "execution_count": null,
   "id": "caca7934-32fe-46ca-a460-8c7b86669cf8",
   "metadata": {},
   "outputs": [],
   "source": [
    "%pycat array_intersection_tree.py"
   ]
  },
  {
   "cell_type": "code",
   "execution_count": null,
   "id": "b04c5e39-efb2-4a18-982e-fc6202b238c2",
   "metadata": {},
   "outputs": [],
   "source": [
    "import array_intersection_tree"
   ]
  },
  {
   "cell_type": "code",
   "execution_count": null,
   "id": "23334ee0-0e42-4e06-97e3-190406cf5918",
   "metadata": {},
   "outputs": [],
   "source": [
    "# Create a small database for demonstration\n",
    "array_db = array_intersection_tree.create_db(size=10, max_end=500)\n",
    "print(f\"Created array-based tree with {array_db.size()} intervals\")\n",
    "print(\"\\nTree structure:\")\n",
    "print(array_db)"
   ]
  },
  {
   "cell_type": "code",
   "execution_count": null,
   "id": "59d765c7-c1c8-47a3-a433-4b996028297a",
   "metadata": {},
   "outputs": [],
   "source": [
    "# Demonstrate search functionality\n",
    "query_interval = (25, 30)\n",
    "results = []\n",
    "array_db.search(query_interval, results)\n",
    "print(f\"Query interval {query_interval} intersects with:\")\n",
    "for result in results:\n",
    "    print(f\"  {result}\")\n",
    "print(f\"\\nTotal intersections found: {len(results)}\")"
   ]
  },
  {
   "cell_type": "code",
   "execution_count": null,
   "id": "83dab894-b05e-4cc6-b5bb-ec9e7f853b9c",
   "metadata": {},
   "outputs": [],
   "source": [
    "# Performance benchmarking for array-based implementation\n",
    "sizes = [2**i for i in range(7, 14)]\n",
    "nr_repeats = 5"
   ]
  },
  {
   "cell_type": "code",
   "execution_count": null,
   "id": "76b749f6-3425-4e8f-a055-fe1aad9a5a46",
   "metadata": {},
   "outputs": [],
   "source": [
    "random.seed(1234)\n",
    "array_intersection_tree_times = [\n",
    "    timeit.repeat(\n",
    "        stmt='array_intersection_tree.execute_queries(queries, db)',\n",
    "        setup=f'queries, db = array_intersection_tree.create_queries({size}), array_intersection_tree.create_db({size})',\n",
    "        repeat=nr_repeats,\n",
    "        number=1,\n",
    "        globals=globals(),\n",
    "    ) for size in sizes\n",
    "]"
   ]
  },
  {
   "cell_type": "code",
   "execution_count": null,
   "id": "7954528d-7222-4cf7-9c18-2477ce417381",
   "metadata": {},
   "outputs": [],
   "source": [
    "# Plot comparison of all implementations including array-based\n",
    "plt.figure(figsize=(12, 8))\n",
    "plt.boxplot(naive_times, widths=[40.0*size/100 for size in sizes], positions=sizes)\n",
    "plt.plot(sizes, list(map(statistics.median, naive_times)), label='naive non-Pythonic', marker='o')\n",
    "plt.boxplot(naive_pythonic_times, widths=[40.0*size/100 for size in sizes], positions=sizes)\n",
    "plt.plot(sizes, list(map(statistics.median, naive_pythonic_times)), label='naive Pythonic', marker='s')\n",
    "plt.boxplot(intersection_tree_times, widths=[40.0*size/100 for size in sizes], positions=sizes)\n",
    "plt.plot(sizes, list(map(statistics.median, intersection_tree_times)), label='intersection tree (nodes)', marker='^')\n",
    "plt.boxplot(array_intersection_tree_times, widths=[40.0*size/100 for size in sizes], positions=sizes)\n",
    "plt.plot(sizes, list(map(statistics.median, array_intersection_tree_times)), label='intersection tree (arrays)', marker='d')\n",
    "plt.legend()\n",
    "plt.xlabel('Database size')\n",
    "plt.ylabel('Execution time (seconds)')\n",
    "plt.title('Performance Comparison: All Implementations')\n",
    "plt.xscale('log')\n",
    "plt.yscale('log')\n",
    "plt.grid(True, alpha=0.3)\n",
    "plt.show()"
   ]
  },
  {
   "cell_type": "code",
   "execution_count": null,
   "id": "18e8dfa1-afe5-492d-8d78-cfc8e77c5f31",
   "metadata": {},
   "outputs": [],
   "source": [
    "# Compare array-based vs node-based intersection tree performance\n",
    "array_vs_node_ratio = statistics.mean(array_intersection_tree_times[-1])/statistics.mean(intersection_tree_times[-1])\n",
    "print(f\"Array-based vs Node-based tree performance ratio: {array_vs_node_ratio:.3f}\")\n",
    "print(f\"Array-based vs Naive performance ratio: {statistics.mean(array_intersection_tree_times[-1])/statistics.mean(naive_times[-1]):.3f}\")"
   ]
  },
  {
   "cell_type": "markdown",
   "id": "7da78d0a-1737-4f86-96b3-b605e3819d21",
   "metadata": {},
   "source": [
    "### Analysis\n",
    "\n",
    "The array-based implementation provides similar algorithmic performance to the node-based intersection tree ",
    "with $\\mathcal{O}(N \\log N)$ expected time complexity. The main differences are:\n",
    "\n",
    "- **Memory layout**: Arrays provide better cache locality compared to scattered node objects\n",
    "- **Memory overhead**: Reduced per-node memory overhead (no object headers)\n",
    "- **Capacity management**: Uses dynamic array resizing instead of individual node allocation\n",
    "\n",
    "The performance difference depends on factors such as dataset size, query patterns, and system architecture."
   ]
  },
  {
   "cell_type": "markdown",
   "id": "eff509fe-8612-4ccf-bd91-d6fb7535f551",
   "metadata": {},
   "source": [
    "## Testing"
   ]
  },
  {
   "cell_type": "markdown",
   "id": "6d763a5d-3bc2-47d0-831d-585521e20b63",
   "metadata": {},
   "source": [
    "Since the naive appreach is pretty straightforward, and the intersection tree is a bit more sophisticated, it might be wise to compare the results by way of test."
   ]
  },
  {
   "cell_type": "code",
   "execution_count": 24,
   "id": "88c24d03-83ef-4f3e-9332-846cba39b52c",
   "metadata": {},
   "outputs": [],
   "source": [
    "import intersection_tree\n",
    "import naive_intersectionic_queries\n",
    "import array_intersection_tree\n",
    "\n",
    "random.seed(1234)\n",
    "max_end = 1_000_000\n",
    "nr_intervals = 1_000\n",
    "nr_queries = 1_000\n",
    "db_intervals = [\n",
    "    intersection_tree.generate_interval(max_end=max_end) for _ in range(nr_intervals)\n",
    "]\n",
    "queries = intersection_tree.create_queries(size=nr_queries, max_end=max_end)\n",
    "\n",
    "# Test node-based intersection tree\n",
    "db = intersection_tree.populate_db(None, db_intervals)\n",
    "db_results = intersection_tree.execute_queries(queries, db)\n",
    "\n",
    "# Test naive implementation\n",
    "naive_db = db_intervals\n",
    "naive_db_result = naive_intersectionic_queries.execute_queries(queries, naive_db)\n",
    "\n",
    "# Test array-based intersection tree\n",
    "array_db = array_intersection_tree.populate_db(None, db_intervals)\n",
    "array_db_results = array_intersection_tree.execute_queries(queries, array_db)\n",
    "\n",
    "# Verify all implementations produce identical results\n",
    "assert len(db_results) == len(naive_db_result) == len(array_db_results)\n",
    "assert set(db_results) == set(naive_db_result) == set(array_db_results)"
   ]
  },
  {
   "cell_type": "markdown",
   "id": "eb4b24f3-f503-4ecf-9c10-0c371b3119b2",
   "metadata": {},
   "source": [
    "All algorithms yield identical results."
   ]
  }
 ],
 "metadata": {
  "kernelspec": {
   "display_name": "Python 3 (ipykernel)",
   "language": "python",
   "name": "python3"
  },
  "language_info": {
   "codemirror_mode": {
    "name": "ipython",
    "version": 3
   },
   "file_extension": ".py",
   "mimetype": "text/x-python",
   "name": "python",
   "nbconvert_exporter": "python",
   "pygments_lexer": "ipython3",
   "version": "3.13.3"
  }
 },
 "nbformat": 4,
 "nbformat_minor": 5
}