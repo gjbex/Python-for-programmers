{
 "cells": [
  {
   "cell_type": "markdown",
   "id": "92c3b98e-9751-44df-996c-afa959b98951",
   "metadata": {},
   "source": [
    "## Requirements"
   ]
  },
  {
   "cell_type": "code",
   "execution_count": 1,
   "id": "645aab26-bc8e-47a0-8b51-ba51a5e02c35",
   "metadata": {},
   "outputs": [],
   "source": [
    "import collections\n",
    "import itertools\n",
    "import matplotlib.pyplot as plt\n",
    "import random\n",
    "import timeit\n",
    "import typing"
   ]
  },
  {
   "cell_type": "markdown",
   "id": "bcecd8b9-dfab-4d19-80c2-04225725db84",
   "metadata": {},
   "source": [
    "## Problem setting"
   ]
  },
  {
   "cell_type": "markdown",
   "id": "80442a02-6296-4464-9a87-0fd3345be810",
   "metadata": {},
   "source": [
    "Consider a database consisting of intervals over the positive integers, i.e., each element in the database is a half-open interval $d_i = [d_{i,s}, d_{i,e})$.  The database can be represented as $D = \\{d_i | i \\in [0, M)\\}$, so $|D| = M$.  Clearly, for each interval $d_i$, $d_{i,e} > d{i, s} + 1$.\n",
    "\n",
    "An intersection query is based on a query interval $q = [q_s, q_e)$ with $q_e > q_s + 1$; the query returns all intervals in $D$ that query interval intersects, i.e.,\n",
    "$$\n",
    "  \\{ d | d \\in D \\wedge q_s < d_e \\wedge d_s < q_e\\}\n",
    "$$\n",
    "\n",
    "Rather than querying for a single interval, $N$ intervals are queried, the set of query intervals is denoted by $Q$.  The result of such a query is given by\n",
    "$$\n",
    "  \\{(q, d) | (q, d) \\in Q \\times D \\wedge q_s < d_e \\wedge d_s < q_e\\}\n",
    "$$"
   ]
  },
  {
   "cell_type": "markdown",
   "id": "d144ae80-8361-45d5-8e74-086fc4a13f3d",
   "metadata": {},
   "source": [
    "## Database and queries"
   ]
  },
  {
   "cell_type": "markdown",
   "id": "b5915acd-1d7e-42c5-8ded-29461ba84142",
   "metadata": {},
   "source": [
    "Define some type aliases to give more structure to the code."
   ]
  },
  {
   "cell_type": "code",
   "execution_count": 2,
   "id": "f08b93a8-a1f5-4fad-82f2-03b7b6e584f1",
   "metadata": {},
   "outputs": [],
   "source": [
    "Interval = collections.namedtuple('Interval', ('s', 'e'))\n",
    "Db: typing.TypeAlias = set[Interval]\n",
    "Queries: typing.TypeAlias = Db\n",
    "QueryResult: typing.TypeAlias = set[tuple[Interval, Interval]]"
   ]
  },
  {
   "cell_type": "markdown",
   "id": "177672c7-0268-4d69-a2ae-aeb17f52c26b",
   "metadata": {},
   "source": [
    "First, generate the database."
   ]
  },
  {
   "cell_type": "code",
   "execution_count": 3,
   "id": "01fb2481-f622-4fd9-8969-c8426a5ec275",
   "metadata": {},
   "outputs": [],
   "source": [
    "def generate_interval(max_end: int = 1_000_000_000) -> Interval:\n",
    "    '''Generate a half-open interval of at least length 1\n",
    "    \n",
    "    Parameters\n",
    "    ----------\n",
    "    max_end: int\n",
    "        largest end value of the interval, default value 1_000_000_000\n",
    "        \n",
    "    Returns\n",
    "    -------\n",
    "    Interval\n",
    "        Tuple (start, end) such that end - start > 1\n",
    "    '''\n",
    "    start = random.randint(0, max_end - 2)\n",
    "    end = random.randint(start + 2, max_end)\n",
    "    return Interval(s=start, e=end)"
   ]
  },
  {
   "cell_type": "code",
   "execution_count": 4,
   "id": "547c1ef2-67ee-451c-a96c-67a0678d13a6",
   "metadata": {},
   "outputs": [],
   "source": [
    "def create_db(size: int = 1_000, max_end: int = 1_000_000) -> Db:\n",
    "    '''Generate a database of intervals\n",
    "    \n",
    "    Parameters\n",
    "    ----------\n",
    "    size: int\n",
    "        number of intervals in the database, default value 1_000\n",
    "    max_end: int\n",
    "        largest end value of the interval, default value 1_000_000_000\n",
    "\n",
    "    Returns\n",
    "    -------\n",
    "    Db\n",
    "        a set of half-open intervals\n",
    "\n",
    "    Note\n",
    "    ----\n",
    "    The database may contain less than the specified number of intervals if the same interval is generated multiple times.\n",
    "    '''\n",
    "    return {generate_interval(max_end) for _ in range(size)}"
   ]
  },
  {
   "cell_type": "code",
   "execution_count": 5,
   "id": "4a36ab1e-2b37-470f-be39-f06340ce9e3d",
   "metadata": {},
   "outputs": [],
   "source": [
    "def create_queries(size: int = 1_000, max_end: int = 1_000_000) -> Queries:\n",
    "    '''Generate query intervals\n",
    "    \n",
    "    Parameters\n",
    "    ----------\n",
    "    size: int\n",
    "        number of intervals in the query, default value 1_000\n",
    "    max_end: int\n",
    "        largest end value of the interval, default value 1_000_000_000\n",
    "\n",
    "    Returns\n",
    "    -------\n",
    "    Queries\n",
    "        a set of half-open intervals\n",
    "\n",
    "    Note\n",
    "    ----\n",
    "    The queries may contain less than the specified number of intervals if the same interval is generated multiple times.\n",
    "    '''\n",
    "    return create_db(size=size, max_end=max_end)"
   ]
  },
  {
   "cell_type": "code",
   "execution_count": 6,
   "id": "1419982d-fd8e-4b8d-b12f-bbf9268d95b6",
   "metadata": {},
   "outputs": [
    {
     "data": {
      "text/plain": [
       "{Interval(s=4, e=58),\n",
       " Interval(s=17, e=60),\n",
       " Interval(s=19, e=57),\n",
       " Interval(s=25, e=47),\n",
       " Interval(s=33, e=55),\n",
       " Interval(s=44, e=92),\n",
       " Interval(s=61, e=72),\n",
       " Interval(s=82, e=98),\n",
       " Interval(s=89, e=98),\n",
       " Interval(s=92, e=94)}"
      ]
     },
     "execution_count": 6,
     "metadata": {},
     "output_type": "execute_result"
    }
   ],
   "source": [
    "create_db(size=10, max_end=100)"
   ]
  },
  {
   "cell_type": "markdown",
   "id": "ec935ae3-d8a4-4389-9e5f-c9e057620479",
   "metadata": {},
   "source": [
    "For benchmarking, these parameters are used."
   ]
  },
  {
   "cell_type": "code",
   "execution_count": 17,
   "id": "8ed6f463-af75-45dc-8c7f-ad7b177d5796",
   "metadata": {},
   "outputs": [],
   "source": [
    "sizes = [2**i for i in range(7, 14)]\n",
    "nr_repeats = 5"
   ]
  },
  {
   "cell_type": "markdown",
   "id": "ba84c921-25ae-4d3d-aa1b-e390443ae414",
   "metadata": {},
   "source": [
    "## Naive approach"
   ]
  },
  {
   "cell_type": "markdown",
   "id": "a556f05b-1da7-4fab-ae9f-80207f948150",
   "metadata": {},
   "source": [
    "A very simple but naive approach is to check overlap of each query interval with every database interval resulting in $|Q| \\times |D|$ queries>"
   ]
  },
  {
   "cell_type": "code",
   "execution_count": 18,
   "id": "6bee1c7f-4b37-40e0-a0fa-d5ae906415f3",
   "metadata": {},
   "outputs": [],
   "source": [
    "def have_intersection(q: Interval, d: Interval) -> bool:\n",
    "    '''Check whether two intervals intersect\n",
    "    \n",
    "    Parameters\n",
    "    ----------\n",
    "    q, d: Interval\n",
    "        intervals to check intersection for\n",
    "        \n",
    "    Returns\n",
    "    -------\n",
    "    bool\n",
    "        True if q and d intersect, False otherwise\n",
    "    '''\n",
    "    return q.s < d.e and d.s < q.e"
   ]
  },
  {
   "cell_type": "code",
   "execution_count": 19,
   "id": "2dddd696-9a5a-4413-8057-61176c3d33a7",
   "metadata": {},
   "outputs": [],
   "source": [
    "def execute_queries(queries: Queries, db: Db) -> QueryResult:\n",
    "    '''Execute the query on the database\n",
    "\n",
    "    Parameters\n",
    "    ----------\n",
    "    queries: Queries\n",
    "        queries to be executed\n",
    "    db: Db\n",
    "        database to query\n",
    "\n",
    "    Returns\n",
    "    -------\n",
    "    QueryResult\n",
    "        set of tuples of query and database intervals that intersect\n",
    "    '''\n",
    "    return {(q, d) for q, d in itertools.product(queries, db) if have_intersection(q, d)}"
   ]
  },
  {
   "cell_type": "code",
   "execution_count": 20,
   "id": "233edd36-9453-44e3-b7f7-dfedc2364ea6",
   "metadata": {},
   "outputs": [],
   "source": [
    "random.seed(1234)\n",
    "naive_times = [\n",
    "    timeit.repeat(\n",
    "        stmt='execute_queries(queries, db)',\n",
    "        setup=f'queries, db = create_queries({size}), create_db({size})',\n",
    "        repeat=nr_repeats,\n",
    "        number=1,\n",
    "        globals=globals(),\n",
    "    ) for size in sizes\n",
    "]"
   ]
  },
  {
   "cell_type": "code",
   "execution_count": 21,
   "id": "6c66866e-32d4-4444-aaa3-59ab9490228b",
   "metadata": {},
   "outputs": [
    {
     "data": {
      "image/png": "[encoded data removed]",
      "text/plain": [
       "<Figure size 640x480 with 1 Axes>"
      ]
     },
     "metadata": {},
     "output_type": "display_data"
    }
   ],
   "source": [
    "plt.boxplot(naive_times, widths=[40.0*size/100 for size in sizes], positions=sizes)\n",
    "plt.xscale('log')\n",
    "plt.yscale('log');"
   ]
  },
  {
   "cell_type": "markdown",
   "id": "cc0eed30-6df9-4772-90a2-3ca74f8611ae",
   "metadata": {},
   "source": [
    "The time complexity of this algorithm is $N^2$ for $|D| = |Q| = N$."
   ]
  },
  {
   "cell_type": "code",
   "execution_count": null,
   "id": "499434d5-ce99-4159-90da-3a2e3325f70b",
   "metadata": {},
   "outputs": [],
   "source": []
  }
 ],
 "metadata": {
  "kernelspec": {
   "display_name": "Python 3 (ipykernel)",
   "language": "python",
   "name": "python3"
  },
  "language_info": {
   "codemirror_mode": {
    "name": "ipython",
    "version": 3
   },
   "file_extension": ".py",
   "mimetype": "text/x-python",
   "name": "python",
   "nbconvert_exporter": "python",
   "pygments_lexer": "ipython3",
   "version": "3.13.3"
  }
 },
 "nbformat": 4,
 "nbformat_minor": 5
}
