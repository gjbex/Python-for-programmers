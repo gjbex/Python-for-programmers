{
 "cells": [
  {
   "cell_type": "markdown",
   "id": "0b4b34ee-fae3-4f12-80cd-f5b1c74ac552",
   "metadata": {},
   "source": [
    "# Kaprekar's constant"
   ]
  },
  {
   "cell_type": "code",
   "execution_count": 1,
   "id": "12d6e736-2636-4fe6-9059-eaa0ac2c5247",
   "metadata": {},
   "outputs": [],
   "source": [
    "def num2digits(n):\n",
    "    digits = []\n",
    "    for _ in range(4):\n",
    "        digits.append(n % 10)\n",
    "        n //= 10\n",
    "    return digits"
   ]
  },
  {
   "cell_type": "code",
   "execution_count": 2,
   "id": "ae3d9d91-0e36-43bf-9e10-99ff92db504c",
   "metadata": {},
   "outputs": [],
   "source": [
    "def digits2num(digits):\n",
    "    n = 0\n",
    "    for i, digit in enumerate(digits):\n",
    "        n += digit*10**i\n",
    "    return n"
   ]
  },
  {
   "cell_type": "code",
   "execution_count": 4,
   "id": "62f1d12e-d009-4b40-93d9-42b4dbb5f2bd",
   "metadata": {},
   "outputs": [],
   "source": [
    "for n in [5394, 940, 13, 3030]:\n",
    "    if n != digits2num(num2digits(n)):\n",
    "        print(f'problem for {n}')"
   ]
  },
  {
   "cell_type": "code",
   "execution_count": 5,
   "id": "bbe88f26-ba05-4aab-a545-46a3cf834cd6",
   "metadata": {},
   "outputs": [],
   "source": [
    "def kaprekar_step(n):\n",
    "    digits = num2digits(n)\n",
    "    high_number = digits2num(sorted(digits, reverse=False))\n",
    "    low_number = digits2num(sorted(digits, reverse=True))\n",
    "    return high_number - low_number"
   ]
  },
  {
   "cell_type": "code",
   "execution_count": 6,
   "id": "f18ffbfd-ac28-4ed7-aa7b-7f2b4d763e2e",
   "metadata": {},
   "outputs": [
    {
     "data": {
      "text/plain": [
       "9261"
      ]
     },
     "execution_count": 6,
     "metadata": {},
     "output_type": "execute_result"
    }
   ],
   "source": [
    "kaprekar_step(1049)"
   ]
  },
  {
   "cell_type": "code",
   "execution_count": 7,
   "id": "9c64daf1-f19b-4bb5-a129-0c3ea45fb89b",
   "metadata": {},
   "outputs": [],
   "source": [
    "def kaprekar_sequence(n):\n",
    "    sequence = []\n",
    "    previous_n = -1\n",
    "    while n != previous_n:\n",
    "        sequence.append(n)\n",
    "        previous_n = n\n",
    "        n = kaprekar_step(n)\n",
    "    return sequence"
   ]
  },
  {
   "cell_type": "code",
   "execution_count": 8,
   "id": "610a1cbe-a1ba-41db-ba0c-fe91a179b213",
   "metadata": {},
   "outputs": [
    {
     "data": {
      "text/plain": [
       "[4934, 5994, 5355, 1998, 8082, 8532, 6174]"
      ]
     },
     "execution_count": 8,
     "metadata": {},
     "output_type": "execute_result"
    }
   ],
   "source": [
    "kaprekar_sequence(4934)"
   ]
  },
  {
   "cell_type": "code",
   "execution_count": 9,
   "id": "37338e29-d9d4-4aca-bae4-8e43bfbf674f",
   "metadata": {},
   "outputs": [
    {
     "data": {
      "text/plain": [
       "[6174]"
      ]
     },
     "execution_count": 9,
     "metadata": {},
     "output_type": "execute_result"
    }
   ],
   "source": [
    "kaprekar_sequence(6174)"
   ]
  },
  {
   "cell_type": "code",
   "execution_count": 10,
   "id": "64415c3e-468f-43d8-98df-2f9f709e9aa4",
   "metadata": {},
   "outputs": [],
   "source": [
    "def is_valid_number(n):\n",
    "    return len(set(f'{n:04d}')) > 1"
   ]
  },
  {
   "cell_type": "code",
   "execution_count": 18,
   "id": "98cbcd8b-7497-49eb-a61f-81e43ba440cc",
   "metadata": {},
   "outputs": [],
   "source": [
    "def compute_kaprekar_cached():\n",
    "    steps = {}\n",
    "    for n in range(1_000, 10_000):\n",
    "        if is_valid_number(n):\n",
    "            orig_n = n\n",
    "            nr_steps = 0\n",
    "            while n != 6174:\n",
    "                if n in steps:\n",
    "                    steps[orig_n] = nr_steps + steps[n]\n",
    "                    break\n",
    "                else:\n",
    "                    n = kaprekar_step(n)\n",
    "                    nr_steps += 1\n",
    "            else:\n",
    "                steps[orig_n] = nr_steps\n",
    "    return steps"
   ]
  },
  {
   "cell_type": "code",
   "execution_count": 19,
   "id": "618af509-cb5f-444f-a4da-15fc266ace9f",
   "metadata": {},
   "outputs": [],
   "source": [
    "def compute_kaprekar():\n",
    "    steps = {}\n",
    "    for n in range(1_000, 10_000):\n",
    "        if is_valid_number(n):\n",
    "            nr_steps = 0\n",
    "            while n != 6174:\n",
    "                nr_steps += 1\n",
    "                n = kaprekar_step(n)\n",
    "    return steps"
   ]
  },
  {
   "cell_type": "code",
   "execution_count": 20,
   "id": "dfa13a6c-88c2-4236-9b72-48664a3f69e1",
   "metadata": {},
   "outputs": [],
   "source": [
    "steps_cached = compute_kaprekar_cached()"
   ]
  },
  {
   "cell_type": "code",
   "execution_count": 21,
   "id": "ee23d010-fd4a-4273-97fc-9e273bc31b79",
   "metadata": {},
   "outputs": [],
   "source": [
    "steps = compute_kaprekar()"
   ]
  },
  {
   "cell_type": "code",
   "execution_count": 22,
   "id": "010eaa99-112c-47b9-89c3-7b9e0c376d31",
   "metadata": {},
   "outputs": [
    {
     "data": {
      "text/plain": [
       "False"
      ]
     },
     "execution_count": 22,
     "metadata": {},
     "output_type": "execute_result"
    }
   ],
   "source": [
    "steps_cached == steps"
   ]
  },
  {
   "cell_type": "code",
   "execution_count": 23,
   "id": "8099aea7-2b82-4668-aea1-3c89e2f58842",
   "metadata": {},
   "outputs": [],
   "source": [
    "for n in steps:\n",
    "    if steps[n] != steps_cached[n]:\n",
    "        print(f'{steps[n]} vs {steps_cached[n]}')"
   ]
  },
  {
   "cell_type": "code",
   "execution_count": null,
   "id": "13bce3c1-f55f-4fd0-9931-66e58c28a38d",
   "metadata": {},
   "outputs": [],
   "source": [
    "k"
   ]
  }
 ],
 "metadata": {
  "kernelspec": {
   "display_name": "Python 3 (ipykernel)",
   "language": "python",
   "name": "python3"
  },
  "language_info": {
   "codemirror_mode": {
    "name": "ipython",
    "version": 3
   },
   "file_extension": ".py",
   "mimetype": "text/x-python",
   "name": "python",
   "nbconvert_exporter": "python",
   "pygments_lexer": "ipython3",
   "version": "3.9.7"
  }
 },
 "nbformat": 4,
 "nbformat_minor": 5
}
