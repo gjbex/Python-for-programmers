{
 "cells": [
  {
   "cell_type": "markdown",
   "id": "0b4b34ee-fae3-4f12-80cd-f5b1c74ac552",
   "metadata": {},
   "source": [
    "# Requirements"
   ]
  },
  {
   "cell_type": "code",
   "execution_count": 1,
   "id": "b654353f-1806-4921-9100-20c6ac604e39",
   "metadata": {},
   "outputs": [],
   "source": [
    "from collections import Counter\n",
    "import matplotlib.pyplot as plt\n",
    "%matplotlib inline\n",
    "import random"
   ]
  },
  {
   "cell_type": "markdown",
   "id": "e4e0df10-d320-4c64-90c6-10e5aa95b4c7",
   "metadata": {},
   "source": [
    "# Problem setting"
   ]
  },
  {
   "cell_type": "markdown",
   "id": "de9b171d-3e37-4d91-b68c-14419434e5bf",
   "metadata": {},
   "source": [
    "The Kaprekar constant is computed using an iterative process that starts from an arbitrary four-digit number that consists of at least two distict digits.  Two new numbers are constructed that consist of the same digits, but sorted in descending order for the first, and in descending order for the second.  The smallest of these numbers is substracted from the largest to procuce a new number.  This procedure is repeated until the number no longer changes."
   ]
  },
  {
   "cell_type": "markdown",
   "id": "3c922171-ffc9-4086-b2aa-606832919d66",
   "metadata": {},
   "source": [
    "# Auxillary functions"
   ]
  },
  {
   "cell_type": "markdown",
   "id": "b3b06ea4-7e92-49cc-8f9c-5f4880492f33",
   "metadata": {},
   "source": [
    "We need functions to convert a number to a list of digits, and vice versa."
   ]
  },
  {
   "cell_type": "code",
   "execution_count": 2,
   "id": "12d6e736-2636-4fe6-9059-eaa0ac2c5247",
   "metadata": {},
   "outputs": [],
   "source": [
    "def num2digits(n):\n",
    "    digits = []\n",
    "    for _ in range(4):\n",
    "        digits.append(n % 10)\n",
    "        n //= 10\n",
    "    return digits"
   ]
  },
  {
   "cell_type": "code",
   "execution_count": 3,
   "id": "ae3d9d91-0e36-43bf-9e10-99ff92db504c",
   "metadata": {},
   "outputs": [],
   "source": [
    "def digits2num(digits):\n",
    "    n = 0\n",
    "    for i, digit in enumerate(digits):\n",
    "        n += digit*10**i\n",
    "    return n"
   ]
  },
  {
   "cell_type": "markdown",
   "id": "744080e7-2778-47cd-b487-4e41ce8c6771",
   "metadata": {},
   "source": [
    "We will also need a function to verify that a number has at least two distinct digits."
   ]
  },
  {
   "cell_type": "code",
   "execution_count": 4,
   "id": "64415c3e-468f-43d8-98df-2f9f709e9aa4",
   "metadata": {},
   "outputs": [],
   "source": [
    "def is_valid_number(n):\n",
    "    return len(set(f'{n:04d}')) > 1"
   ]
  },
  {
   "cell_type": "markdown",
   "id": "68d24859-1087-4281-8272-b2f2c4658730",
   "metadata": {},
   "source": [
    "To test, we convert a number to its list of digits, and back again.  If the result is the original number, the test succeeds."
   ]
  },
  {
   "cell_type": "code",
   "execution_count": 5,
   "id": "62f1d12e-d009-4b40-93d9-42b4dbb5f2bd",
   "metadata": {},
   "outputs": [],
   "source": [
    "for _ in range(1_000):\n",
    "    n = random.randint(1000, 9999)\n",
    "    assert(n == digits2num(num2digits(n)))"
   ]
  },
  {
   "cell_type": "markdown",
   "id": "4c7d44e0-58c3-4332-ad5d-4305b5ece556",
   "metadata": {},
   "source": [
    "# Computing the constant"
   ]
  },
  {
   "cell_type": "markdown",
   "id": "3a6f3687-b5bb-41bd-a227-12929563268a",
   "metadata": {},
   "source": [
    "We define a function to perform a single step in this computation."
   ]
  },
  {
   "cell_type": "code",
   "execution_count": 6,
   "id": "bbe88f26-ba05-4aab-a545-46a3cf834cd6",
   "metadata": {},
   "outputs": [],
   "source": [
    "def kaprekar_step(n):\n",
    "    digits = num2digits(n)\n",
    "    high_number = digits2num(sorted(digits, reverse=False))\n",
    "    low_number = digits2num(sorted(digits, reverse=True))\n",
    "    return high_number - low_number"
   ]
  },
  {
   "cell_type": "markdown",
   "id": "8df78b24-4519-4ae3-83db-b156043bbca7",
   "metadata": {},
   "source": [
    "For example:"
   ]
  },
  {
   "cell_type": "code",
   "execution_count": 7,
   "id": "f18ffbfd-ac28-4ed7-aa7b-7f2b4d763e2e",
   "metadata": {},
   "outputs": [
    {
     "data": {
      "text/plain": [
       "9261"
      ]
     },
     "execution_count": 7,
     "metadata": {},
     "output_type": "execute_result"
    }
   ],
   "source": [
    "kaprekar_step(1049)"
   ]
  },
  {
   "cell_type": "markdown",
   "id": "6ec3c812-70e4-466d-8c44-73ef99b8658b",
   "metadata": {},
   "source": [
    "Now we can define a function that will iterate until a fixed point is reached, or that will raise an exception when a maximum number of steps has been exceeded."
   ]
  },
  {
   "cell_type": "code",
   "execution_count": 8,
   "id": "9c64daf1-f19b-4bb5-a129-0c3ea45fb89b",
   "metadata": {},
   "outputs": [],
   "source": [
    "def kaprekar_sequence(n, max_steps=100):\n",
    "    sequence = []\n",
    "    previous_n = -1\n",
    "    while n != previous_n:\n",
    "        if len(sequence) > max_steps:\n",
    "            raise RuntimeError('too many iterations')\n",
    "        sequence.append(n)\n",
    "        previous_n = n\n",
    "        n = kaprekar_step(n)\n",
    "    return sequence"
   ]
  },
  {
   "cell_type": "code",
   "execution_count": 9,
   "id": "610a1cbe-a1ba-41db-ba0c-fe91a179b213",
   "metadata": {},
   "outputs": [
    {
     "data": {
      "text/plain": [
       "[4934, 5994, 5355, 1998, 8082, 8532, 6174]"
      ]
     },
     "execution_count": 9,
     "metadata": {},
     "output_type": "execute_result"
    }
   ],
   "source": [
    "kaprekar_sequence(4934)"
   ]
  },
  {
   "cell_type": "code",
   "execution_count": 10,
   "id": "37338e29-d9d4-4aca-bae4-8e43bfbf674f",
   "metadata": {},
   "outputs": [
    {
     "data": {
      "text/plain": [
       "[6174]"
      ]
     },
     "execution_count": 10,
     "metadata": {},
     "output_type": "execute_result"
    }
   ],
   "source": [
    "kaprekar_sequence(6174)"
   ]
  },
  {
   "cell_type": "markdown",
   "id": "76ef7d14-4a1b-431f-b486-c95199708667",
   "metadata": {},
   "source": [
    "# Step distribution"
   ]
  },
  {
   "cell_type": "markdown",
   "id": "a7711b39-052c-4a4d-8728-8c689c1cd0e9",
   "metadata": {},
   "source": [
    "We now define a function that will compute the distribution of the number of steps required for all integers in the domain of the function, so for $1000 \\le n \\le 9999$ such that $n$ has at least two distict digits."
   ]
  },
  {
   "cell_type": "code",
   "execution_count": 11,
   "id": "618af509-cb5f-444f-a4da-15fc266ace9f",
   "metadata": {},
   "outputs": [],
   "source": [
    "def compute_kaprekar_step_distribution():\n",
    "    steps = Counter()\n",
    "    for n in range(1_000, 10_000):\n",
    "        if is_valid_number(n):\n",
    "            nr_steps = 0\n",
    "            while n != 6174:\n",
    "                nr_steps += 1\n",
    "                n = kaprekar_step(n)\n",
    "            steps[nr_steps] += 1\n",
    "    return steps"
   ]
  },
  {
   "cell_type": "code",
   "execution_count": 12,
   "id": "bb47c6c6-4cd2-41c2-8b0f-ecd547b149d0",
   "metadata": {},
   "outputs": [],
   "source": [
    "step_distribution = compute_kaprekar_step_distribution()"
   ]
  },
  {
   "cell_type": "markdown",
   "id": "40050714-d518-41fa-8873-fceaf2228f5c",
   "metadata": {},
   "source": [
    "We can visualize the distribution in a histogram."
   ]
  },
  {
   "cell_type": "code",
   "execution_count": 13,
   "id": "2e97cb84-28de-42b2-8051-ba9c5d976a17",
   "metadata": {},
   "outputs": [
    {
     "data": {
      "image/png": "[encoded data removed]",
      "text/plain": [
       "<Figure size 432x288 with 1 Axes>"
      ]
     },
     "metadata": {
      "needs_background": "light"
     },
     "output_type": "display_data"
    }
   ],
   "source": [
    "_ = plt.bar(step_distribution.keys(), step_distribution.values())"
   ]
  },
  {
   "cell_type": "markdown",
   "id": "acc406aa-3e2a-49e0-8d5f-3c022d88f8f8",
   "metadata": {},
   "source": [
    "When considering this distributoin, it is clear that if we have compute the sequence of steps for numbers that take, e.g., 7 steps, we have implicitly computed the number of steps required for other numbers as well.  If we cache the result, we may be able to speed up the computation."
   ]
  },
  {
   "cell_type": "code",
   "execution_count": 14,
   "id": "8f9ff646-7a9f-4192-aa6d-3d6f7e64656c",
   "metadata": {},
   "outputs": [],
   "source": [
    "def compute_kaprekar_steps():\n",
    "    steps = {}\n",
    "    for n in range(1_000, 10_000):\n",
    "        if is_valid_number(n):\n",
    "            orig_n = n\n",
    "            nr_steps = 0\n",
    "            while n != 6_174:\n",
    "                n = kaprekar_step(n)\n",
    "                nr_steps += 1\n",
    "            steps[orig_n] = nr_steps\n",
    "    return steps"
   ]
  },
  {
   "cell_type": "code",
   "execution_count": 15,
   "id": "98cbcd8b-7497-49eb-a61f-81e43ba440cc",
   "metadata": {},
   "outputs": [],
   "source": [
    "def compute_kaprekar_steps_cached():\n",
    "    steps = {}\n",
    "    for n in range(1_000, 10_000):\n",
    "        if is_valid_number(n):\n",
    "            orig_n = n\n",
    "            nr_steps = 0\n",
    "            while n != 6_174:\n",
    "                if n in steps:\n",
    "                    steps[orig_n] = nr_steps + steps[n]\n",
    "                    break\n",
    "                else:\n",
    "                    n = kaprekar_step(n)\n",
    "                    nr_steps += 1\n",
    "            else:\n",
    "                steps[orig_n] = nr_steps\n",
    "    return steps"
   ]
  },
  {
   "cell_type": "code",
   "execution_count": 16,
   "id": "dfa13a6c-88c2-4236-9b72-48664a3f69e1",
   "metadata": {},
   "outputs": [
    {
     "name": "stdout",
     "output_type": "stream",
     "text": [
      "52 ms ± 173 µs per loop (mean ± std. dev. of 7 runs, 10 loops each)\n"
     ]
    }
   ],
   "source": [
    "%timeit steps_cached = compute_kaprekar_steps_cached()"
   ]
  },
  {
   "cell_type": "code",
   "execution_count": 17,
   "id": "ee23d010-fd4a-4273-97fc-9e273bc31b79",
   "metadata": {},
   "outputs": [
    {
     "name": "stdout",
     "output_type": "stream",
     "text": [
      "95.5 ms ± 374 µs per loop (mean ± std. dev. of 7 runs, 10 loops each)\n"
     ]
    }
   ],
   "source": [
    "%timeit steps = compute_kaprekar_steps()"
   ]
  },
  {
   "cell_type": "markdown",
   "id": "4cfc08c7-5822-4056-8cd9-dd548f33164f",
   "metadata": {},
   "source": [
    "Checking the correctness of the implementation by comparing the results."
   ]
  },
  {
   "cell_type": "code",
   "execution_count": 18,
   "id": "6028df0b-0750-4263-b768-d02870fff81d",
   "metadata": {},
   "outputs": [],
   "source": [
    "steps_cached = compute_kaprekar_steps_cached()\n",
    "steps = compute_kaprekar_steps()\n",
    "\n",
    "for n in steps:\n",
    "    if n >= 1_000:\n",
    "        assert(steps[n] == steps_cached[n])\n",
    "for n in steps_cached:\n",
    "    if n >= 1_000:\n",
    "        assert(steps[n] == steps_cached[n])"
   ]
  },
  {
   "cell_type": "markdown",
   "id": "1ba117cd-9766-488f-939a-a6eacb749f59",
   "metadata": {},
   "source": [
    "Indeed, caching reduces the compute time by almost a factor of two."
   ]
  },
  {
   "cell_type": "markdown",
   "id": "604593cc-7ca9-487b-85bf-54aeeb914a4c",
   "metadata": {},
   "source": [
    "# Recursive implementation"
   ]
  },
  {
   "cell_type": "markdown",
   "id": "75a2a26a-f19f-471f-8bd7-9c69ef32b937",
   "metadata": {},
   "source": [
    "If we create a recursive function to compute the number of steps, we can use the LRU-cache in Python's standard libray."
   ]
  },
  {
   "cell_type": "code",
   "execution_count": 19,
   "id": "5f8da672-60d6-42b6-8aa6-31dd1ab9e4bb",
   "metadata": {},
   "outputs": [],
   "source": [
    "def kaprekar_steps_recursive(n):\n",
    "    if n == 6_174:\n",
    "        return 0\n",
    "    elif not is_valid_number(n):\n",
    "        return 1\n",
    "    else:\n",
    "        n = kaprekar_step(n)\n",
    "        return 1 + kaprekar_steps_recursive(n)"
   ]
  },
  {
   "cell_type": "markdown",
   "id": "f87c2d96-1558-4b81-b66e-bd3f7bae928d",
   "metadata": {},
   "source": [
    "First verify the function works correectly."
   ]
  },
  {
   "cell_type": "code",
   "execution_count": 20,
   "id": "7a7d4506-d720-4bfa-9eea-2f92916afcd5",
   "metadata": {},
   "outputs": [],
   "source": [
    "for n, nr_steps in steps.items():\n",
    "    assert(nr_steps == kaprekar_steps_recursive(n))"
   ]
  },
  {
   "cell_type": "code",
   "execution_count": 21,
   "id": "99211c3d-653f-4c8e-a6e9-1e0499ef8af1",
   "metadata": {},
   "outputs": [
    {
     "name": "stdout",
     "output_type": "stream",
     "text": [
      "113 ms ± 421 µs per loop (mean ± std. dev. of 7 runs, 10 loops each)\n"
     ]
    }
   ],
   "source": [
    "%timeit for n in range(1_000, 10_000): kaprekar_steps_recursive(n)"
   ]
  },
  {
   "cell_type": "code",
   "execution_count": 22,
   "id": "42be1cc2-bb41-4931-b524-e1929bf1d1ac",
   "metadata": {},
   "outputs": [],
   "source": [
    "from functools import lru_cache"
   ]
  },
  {
   "cell_type": "code",
   "execution_count": 23,
   "id": "4d567764-aee4-4cd4-8ebd-f417095ffd51",
   "metadata": {},
   "outputs": [],
   "source": [
    "@lru_cache\n",
    "def kaprekar_steps_recursive_cached(n):\n",
    "    if n == 6_174:\n",
    "        return 0\n",
    "    elif not is_valid_number(n):\n",
    "        return 1\n",
    "    else:\n",
    "        n = kaprekar_step(n)\n",
    "        return 1 + kaprekar_steps_recursive_cached(n)"
   ]
  },
  {
   "cell_type": "code",
   "execution_count": 24,
   "id": "694a7c2b-ccf2-4683-ab41-6ccaf9c8084b",
   "metadata": {},
   "outputs": [
    {
     "name": "stdout",
     "output_type": "stream",
     "text": [
      "27.7 ms ± 177 µs per loop (mean ± std. dev. of 7 runs, 10 loops each)\n"
     ]
    }
   ],
   "source": [
    "%timeit for n in range(1_000, 10_000): kaprekar_steps_recursive_cached(n)"
   ]
  },
  {
   "cell_type": "markdown",
   "id": "9826f856-9622-4bcf-89d7-9bf8240267f0",
   "metadata": {},
   "source": [
    "Using the LRU-cache significantly speeds up the code."
   ]
  },
  {
   "cell_type": "markdown",
   "id": "49180f03-4a90-4424-8f1a-71aed0672645",
   "metadata": {},
   "source": [
    "For comparison the iterative implementation."
   ]
  },
  {
   "cell_type": "code",
   "execution_count": 25,
   "id": "57b05866-c314-484d-8f68-7dca59aa24e6",
   "metadata": {},
   "outputs": [],
   "source": [
    "def kaprekar_steps_iterative(n):\n",
    "    if is_valid_number(n):\n",
    "        nr_steps = 0\n",
    "        while n != 6174:\n",
    "            nr_steps += 1\n",
    "            n = kaprekar_step(n)\n",
    "        return nr_steps\n",
    "    else:\n",
    "        return 1"
   ]
  },
  {
   "cell_type": "code",
   "execution_count": 27,
   "id": "feaa3603-b56b-44ed-8843-156c3dc6aeb9",
   "metadata": {},
   "outputs": [
    {
     "name": "stdout",
     "output_type": "stream",
     "text": [
      "96.4 ms ± 239 µs per loop (mean ± std. dev. of 7 runs, 10 loops each)\n"
     ]
    }
   ],
   "source": [
    "%timeit for n in range(1_000, 10_000): kaprekar_steps_iterative(n)"
   ]
  }
 ],
 "metadata": {
  "kernelspec": {
   "display_name": "Python 3 (ipykernel)",
   "language": "python",
   "name": "python3"
  },
  "language_info": {
   "codemirror_mode": {
    "name": "ipython",
    "version": 3
   },
   "file_extension": ".py",
   "mimetype": "text/x-python",
   "name": "python",
   "nbconvert_exporter": "python",
   "pygments_lexer": "ipython3",
   "version": "3.9.7"
  }
 },
 "nbformat": 4,
 "nbformat_minor": 5
}
