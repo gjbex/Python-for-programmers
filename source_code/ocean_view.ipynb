{
 "cells": [
  {
   "cell_type": "markdown",
   "id": "761b7698-f36d-4d59-8eb3-ff611fd97178",
   "metadata": {},
   "source": [
    "## Requirements"
   ]
  },
  {
   "cell_type": "code",
   "execution_count": 1,
   "id": "9e91586e-45a5-4b45-b6c0-e125112fe79f",
   "metadata": {},
   "outputs": [],
   "source": [
    "import random"
   ]
  },
  {
   "cell_type": "markdown",
   "id": "6efb0e2b-e21b-4b71-ba2c-0079d11a163a",
   "metadata": {},
   "source": [
    "## Problem statement"
   ]
  },
  {
   "cell_type": "markdown",
   "id": "3345d92d-f59a-43aa-9bc0-9ffa8a3fb434",
   "metadata": {},
   "source": [
    "You have to determine which buildings have an ocean view.  You are given a list that contains the heights of the buildings as integers.  The ocean is considered to be at the end of the list.  A building has an ocean view when it is strictly taller than any building between itself and the ocean.\n",
    "\n",
    "For instance, consider the following list with heights: 1, 9, 6, 8, 6, 3, 3.  The buildings that enjoy an ocean view are: 1, 3, 4, 6."
   ]
  },
  {
   "cell_type": "markdown",
   "id": "e9193761-184d-43eb-b77c-0342d979b2b2",
   "metadata": {},
   "source": [
    "## Implementation"
   ]
  },
  {
   "cell_type": "markdown",
   "id": "b9e981e7-4ed8-43d6-86be-ecca169fbca7",
   "metadata": {},
   "source": [
    "### First implementation"
   ]
  },
  {
   "cell_type": "code",
   "execution_count": 2,
   "id": "b6a1e820-4cd8-40a6-ab79-430de7e39303",
   "metadata": {},
   "outputs": [],
   "source": [
    "buildings = [1, 9, 6, 8, 6, 3, 3]"
   ]
  },
  {
   "cell_type": "markdown",
   "id": "714deb6b-0b8a-477c-9004-6001082e8223",
   "metadata": {},
   "source": [
    "A first implemenation is very straightforward."
   ]
  },
  {
   "cell_type": "code",
   "execution_count": 3,
   "id": "115b0816-217e-4e15-b008-51d2e279b328",
   "metadata": {},
   "outputs": [],
   "source": [
    "def compute_ocean_view(buildings):\n",
    "    current_highest = 0\n",
    "    ocean_view_buildings = []\n",
    "    for i, building in enumerate(reversed(buildings)):\n",
    "        if building > current_highest:\n",
    "            current_highest = building\n",
    "            ocean_view_buildings.insert(0, len(buildings) - 1 - i)\n",
    "    return ocean_view_buildings"
   ]
  },
  {
   "cell_type": "code",
   "execution_count": 4,
   "id": "93652c58-d554-425e-b03e-5026c722b7d8",
   "metadata": {},
   "outputs": [
    {
     "data": {
      "text/plain": [
       "[1, 3, 4, 6]"
      ]
     },
     "execution_count": 4,
     "metadata": {},
     "output_type": "execute_result"
    }
   ],
   "source": [
    "compute_ocean_view(buildings)"
   ]
  },
  {
   "cell_type": "markdown",
   "id": "46ab0224-f641-4562-862f-c41176de215f",
   "metadata": {},
   "source": [
    "It seems to work correctly, lets also test it with no buildings, a single building, and buildings that all have the same height as edge cases."
   ]
  },
  {
   "cell_type": "code",
   "execution_count": 5,
   "id": "18c2bc3d-507d-4b35-a116-55b04819afe9",
   "metadata": {},
   "outputs": [
    {
     "data": {
      "text/plain": [
       "[]"
      ]
     },
     "execution_count": 5,
     "metadata": {},
     "output_type": "execute_result"
    }
   ],
   "source": [
    "compute_ocean_view([])"
   ]
  },
  {
   "cell_type": "code",
   "execution_count": 6,
   "id": "27307a48-526f-4d62-952b-c39d9d979292",
   "metadata": {},
   "outputs": [
    {
     "data": {
      "text/plain": [
       "[0]"
      ]
     },
     "execution_count": 6,
     "metadata": {},
     "output_type": "execute_result"
    }
   ],
   "source": [
    "compute_ocean_view([5])"
   ]
  },
  {
   "cell_type": "code",
   "execution_count": 7,
   "id": "4b6cc486-a070-495f-95ca-21b8e1ce671c",
   "metadata": {},
   "outputs": [
    {
     "data": {
      "text/plain": [
       "[9]"
      ]
     },
     "execution_count": 7,
     "metadata": {},
     "output_type": "execute_result"
    }
   ],
   "source": [
    "compute_ocean_view([3]*10)"
   ]
  },
  {
   "cell_type": "markdown",
   "id": "eba36514-6dc3-4e6f-806b-67c83e441b99",
   "metadata": {},
   "source": [
    "That all seems to work fine."
   ]
  },
  {
   "cell_type": "markdown",
   "id": "9e35d159-a76f-4b64-9577-b6dbcf35341e",
   "metadata": {},
   "source": [
    "### Second implementation"
   ]
  },
  {
   "cell_type": "markdown",
   "id": "105ae168-0cc1-46a8-9f11-33ea32b58011",
   "metadata": {},
   "source": [
    "This can also be implemented using a monotonic stack.  A monotonic stack is a stack that when you push a value, all elements that are smaller or equal to that value are removed from the stack first.  This implies that the stack will contain unique values in increasing order from bottom to top."
   ]
  },
  {
   "cell_type": "code",
   "execution_count": 8,
   "id": "d61070e4-f3e2-410f-b961-cc0135ec7203",
   "metadata": {},
   "outputs": [],
   "source": [
    "def compute_ocean_view2(buildings):\n",
    "    current_highest = 0\n",
    "    ocean_view_buildings = []\n",
    "    for i in range(len(buildings)):\n",
    "        while ocean_view_buildings and buildings[ocean_view_buildings[-1]] <= buildings[i]:\n",
    "            ocean_view_buildings.pop()\n",
    "        ocean_view_buildings.append(i)\n",
    "    return ocean_view_buildings"
   ]
  },
  {
   "cell_type": "markdown",
   "id": "6b2e1e3f-f037-48ab-bb22-9b68cf66903e",
   "metadata": {},
   "source": [
    "Again, you can test the correctness."
   ]
  },
  {
   "cell_type": "code",
   "execution_count": 9,
   "id": "3202d47c-b613-4464-81b9-ce29407504f6",
   "metadata": {},
   "outputs": [
    {
     "data": {
      "text/plain": [
       "[1, 3, 4, 6]"
      ]
     },
     "execution_count": 9,
     "metadata": {},
     "output_type": "execute_result"
    }
   ],
   "source": [
    "compute_ocean_view2(buildings)"
   ]
  },
  {
   "cell_type": "code",
   "execution_count": 10,
   "id": "3b89a316-e0c3-4a21-aa3f-b700328a1fea",
   "metadata": {},
   "outputs": [
    {
     "data": {
      "text/plain": [
       "[]"
      ]
     },
     "execution_count": 10,
     "metadata": {},
     "output_type": "execute_result"
    }
   ],
   "source": [
    "compute_ocean_view2([])"
   ]
  },
  {
   "cell_type": "code",
   "execution_count": 11,
   "id": "0ebf2bf8-55dd-4758-8825-6ce6841348bd",
   "metadata": {},
   "outputs": [
    {
     "data": {
      "text/plain": [
       "[0]"
      ]
     },
     "execution_count": 11,
     "metadata": {},
     "output_type": "execute_result"
    }
   ],
   "source": [
    "compute_ocean_view2([5])"
   ]
  },
  {
   "cell_type": "code",
   "execution_count": 12,
   "id": "fe3d17e7-21b5-425a-bbe8-fe242aa3aca4",
   "metadata": {},
   "outputs": [
    {
     "data": {
      "text/plain": [
       "[9]"
      ]
     },
     "execution_count": 12,
     "metadata": {},
     "output_type": "execute_result"
    }
   ],
   "source": [
    "compute_ocean_view2([3]*10)"
   ]
  },
  {
   "cell_type": "markdown",
   "id": "36c9e1ee-dc40-4b0b-b55c-f064cba15fe6",
   "metadata": {},
   "source": [
    "Again, all seems to work fine."
   ]
  },
  {
   "cell_type": "markdown",
   "id": "590ca80a-98e8-4db5-a2d7-d4cde93efcf0",
   "metadata": {},
   "source": [
    "## Performance"
   ]
  },
  {
   "cell_type": "markdown",
   "id": "208ca8d9-4f3a-452a-b852-ba154d0574f3",
   "metadata": {},
   "source": [
    "Which algorithms performs better?  To test, you need a lot of buildings, so you can write a function to generate them for you."
   ]
  },
  {
   "cell_type": "code",
   "execution_count": 13,
   "id": "07f14e00-a0e8-4220-ad5f-bf96cab55c2a",
   "metadata": {},
   "outputs": [],
   "source": [
    "def create_buildings(nr_buildings, max_height):\n",
    "    return [random.randint(1, max_height) for _ in range(nr_buildings)]"
   ]
  },
  {
   "cell_type": "code",
   "execution_count": 14,
   "id": "1414c42c-5e8d-48f6-9ec1-17bf5bc093ce",
   "metadata": {},
   "outputs": [],
   "source": [
    "many_buildings = create_buildings(10000, 100)"
   ]
  },
  {
   "cell_type": "code",
   "execution_count": 15,
   "id": "bb23f704-51ab-47f6-8bb6-e868fc4469d2",
   "metadata": {},
   "outputs": [
    {
     "name": "stdout",
     "output_type": "stream",
     "text": [
      "188 µs ± 3.09 µs per loop (mean ± std. dev. of 7 runs, 10,000 loops each)\n"
     ]
    }
   ],
   "source": [
    "%timeit compute_ocean_view(many_buildings)"
   ]
  },
  {
   "cell_type": "code",
   "execution_count": 16,
   "id": "7a1e19a9-7974-4f1a-9634-060077c3f077",
   "metadata": {},
   "outputs": [
    {
     "name": "stdout",
     "output_type": "stream",
     "text": [
      "901 µs ± 8.89 µs per loop (mean ± std. dev. of 7 runs, 1,000 loops each)\n"
     ]
    }
   ],
   "source": [
    "%timeit compute_ocean_view2(many_buildings)"
   ]
  },
  {
   "cell_type": "markdown",
   "id": "381968db-0220-4360-b764-c3865ef3ab5c",
   "metadata": {},
   "source": [
    "It is clear that the first algorithm is more than four times faster than the second."
   ]
  }
 ],
 "metadata": {
  "kernelspec": {
   "display_name": "Python 3 (ipykernel)",
   "language": "python",
   "name": "python3"
  },
  "language_info": {
   "codemirror_mode": {
    "name": "ipython",
    "version": 3
   },
   "file_extension": ".py",
   "mimetype": "text/x-python",
   "name": "python",
   "nbconvert_exporter": "python",
   "pygments_lexer": "ipython3",
   "version": "3.11.2"
  }
 },
 "nbformat": 4,
 "nbformat_minor": 5
}
