{
 "cells": [
  {
   "cell_type": "code",
   "execution_count": 2,
   "metadata": {},
   "outputs": [],
   "source": [
    "import random"
   ]
  },
  {
   "cell_type": "code",
   "execution_count": 13,
   "metadata": {},
   "outputs": [],
   "source": [
    "def has_common_ancestor(current_generation):\n",
    "    return any(map(lambda descendants: len(descendants) == len(current_generation), current_generation))"
   ]
  },
  {
   "cell_type": "code",
   "execution_count": 16,
   "metadata": {},
   "outputs": [],
   "source": [
    "def is_complete(current_geneartion):\n",
    "    return all(map(lambda descendants: len(descendants) == len(current_generation), current_generation))"
   ]
  },
  {
   "cell_type": "code",
   "execution_count": 8,
   "metadata": {},
   "outputs": [],
   "source": [
    "def previous_generation(current_generation):\n",
    "    for individual in range(len(current_generation)):\n",
    "        potential_parents = list(range(len(current_generation)))\n",
    "        mother = random.choice(potential_parents)\n",
    "        potential_parents.pop(mother)\n",
    "        father = random.choice(potential_parents)\n",
    "        current_generation[mother].add(individual)\n",
    "        current_generation[father].add(individual)"
   ]
  },
  {
   "cell_type": "code",
   "execution_count": 15,
   "metadata": {},
   "outputs": [
    {
     "name": "stdout",
     "output_type": "stream",
     "text": [
      "[{9, 3, 7}, {6}, {0, 1, 2, 5, 6}, set(), set(), {2, 3}, {4}, {8, 1}, {0, 9, 5}, {8, 4, 7}]\n",
      "[{0, 3, 5, 7, 9}, {8, 6}, {0, 1, 2, 5, 6}, {5, 7}, {4, 6}, {8, 9, 2, 3}, {2, 4, 6}, {1, 2, 7, 8, 9}, {0, 9, 5, 1}, {8, 1, 4, 7}]\n",
      "[{0, 3, 5, 7, 9}, {8, 6}, {0, 1, 2, 3, 5, 6, 9}, {2, 5, 7}, {4, 6}, {1, 2, 3, 8, 9}, {8, 2, 4, 6}, {0, 1, 2, 5, 7, 8, 9}, {0, 1, 4, 5, 7, 9}, {0, 1, 4, 6, 7, 8}]\n",
      "[{0, 3, 4, 5, 7, 9}, {8, 0, 6}, {0, 1, 2, 3, 5, 6, 7, 8, 9}, {1, 2, 5, 7, 9}, {1, 3, 4, 6}, {0, 1, 2, 3, 8, 9}, {8, 2, 4, 6}, {0, 1, 2, 4, 5, 7, 8, 9}, {0, 1, 4, 5, 7, 9}, {0, 1, 2, 4, 6, 7, 8}]\n",
      "[{0, 3, 4, 5, 7, 8, 9}, {8, 0, 6, 1}, {0, 1, 2, 3, 5, 6, 7, 8, 9}, {1, 2, 4, 5, 7, 9}, {0, 1, 3, 4, 5, 6, 7}, {0, 1, 2, 3, 8, 9}, {2, 3, 4, 6, 8}, {0, 1, 2, 4, 5, 7, 8, 9}, {0, 1, 3, 4, 5, 6, 7, 9}, {0, 1, 2, 4, 6, 7, 8}]\n",
      "[{0, 3, 4, 5, 7, 8, 9}, {0, 1, 6, 8, 9}, {0, 1, 2, 3, 4, 5, 6, 7, 8, 9}, {1, 2, 4, 5, 7, 8, 9}, {0, 1, 3, 4, 5, 6, 7}, {0, 1, 2, 3, 6, 8, 9}, {2, 3, 4, 6, 8}, {0, 1, 2, 4, 5, 7, 8, 9}, {0, 1, 3, 4, 5, 6, 7, 9}, {0, 1, 2, 4, 6, 7, 8}]\n",
      "common ancestor in generation 5\n",
      "[{0, 1, 3, 4, 5, 7, 8, 9}, {0, 1, 6, 8, 9}, {0, 1, 2, 3, 4, 5, 6, 7, 8, 9}, {0, 1, 2, 3, 4, 5, 7, 8, 9}, {0, 1, 3, 4, 5, 6, 7}, {0, 1, 2, 3, 4, 6, 7, 8, 9}, {2, 3, 4, 6, 7, 8}, {0, 1, 2, 4, 5, 7, 8, 9}, {0, 1, 3, 4, 5, 6, 7, 9}, {0, 1, 2, 4, 6, 7, 8}]\n",
      "common ancestor in generation 6\n",
      "[{0, 1, 2, 3, 4, 5, 7, 8, 9}, {0, 1, 6, 8, 9}, {0, 1, 2, 3, 4, 5, 6, 7, 8, 9}, {0, 1, 2, 3, 4, 5, 7, 8, 9}, {0, 1, 3, 4, 5, 6, 7}, {0, 1, 2, 3, 4, 6, 7, 8, 9}, {2, 3, 4, 6, 7, 8}, {0, 1, 2, 3, 4, 5, 7, 8, 9}, {0, 1, 3, 4, 5, 6, 7, 9}, {0, 1, 2, 4, 6, 7, 8, 9}]\n",
      "common ancestor in generation 7\n",
      "[{0, 1, 2, 3, 4, 5, 7, 8, 9}, {0, 1, 2, 6, 8, 9}, {0, 1, 2, 3, 4, 5, 6, 7, 8, 9}, {0, 1, 2, 3, 4, 5, 6, 7, 8, 9}, {0, 1, 3, 4, 5, 6, 7}, {0, 1, 2, 3, 4, 6, 7, 8, 9}, {2, 3, 4, 6, 7, 8, 9}, {0, 1, 2, 3, 4, 5, 7, 8, 9}, {0, 1, 3, 4, 5, 6, 7, 9}, {0, 1, 2, 4, 6, 7, 8, 9}]\n",
      "common ancestor in generation 8\n",
      "[{0, 1, 2, 3, 4, 5, 7, 8, 9}, {0, 1, 2, 6, 8, 9}, {0, 1, 2, 3, 4, 5, 6, 7, 8, 9}, {0, 1, 2, 3, 4, 5, 6, 7, 8, 9}, {0, 1, 2, 3, 4, 5, 6, 7, 9}, {0, 1, 2, 3, 4, 6, 7, 8, 9}, {1, 2, 3, 4, 6, 7, 8, 9}, {0, 1, 2, 3, 4, 5, 6, 7, 8, 9}, {0, 1, 3, 4, 5, 6, 7, 9}, {0, 1, 2, 4, 6, 7, 8, 9}]\n",
      "common ancestor in generation 9\n",
      "[{0, 1, 2, 3, 4, 5, 7, 8, 9}, {0, 1, 2, 6, 7, 8, 9}, {0, 1, 2, 3, 4, 5, 6, 7, 8, 9}, {0, 1, 2, 3, 4, 5, 6, 7, 8, 9}, {0, 1, 2, 3, 4, 5, 6, 7, 9}, {0, 1, 2, 3, 4, 6, 7, 8, 9}, {1, 2, 3, 4, 6, 7, 8, 9}, {0, 1, 2, 3, 4, 5, 6, 7, 8, 9}, {0, 1, 3, 4, 5, 6, 7, 9}, {0, 1, 2, 4, 6, 7, 8, 9}]\n",
      "common ancestor in generation 10\n",
      "[{0, 1, 2, 3, 4, 5, 6, 7, 8, 9}, {0, 1, 2, 3, 5, 6, 7, 8, 9}, {0, 1, 2, 3, 4, 5, 6, 7, 8, 9}, {0, 1, 2, 3, 4, 5, 6, 7, 8, 9}, {0, 1, 2, 3, 4, 5, 6, 7, 9}, {0, 1, 2, 3, 4, 6, 7, 8, 9}, {1, 2, 3, 4, 6, 7, 8, 9}, {0, 1, 2, 3, 4, 5, 6, 7, 8, 9}, {0, 1, 2, 3, 4, 5, 6, 7, 9}, {0, 1, 2, 4, 6, 7, 8, 9}]\n",
      "common ancestor in generation 11\n",
      "[{0, 1, 2, 3, 4, 5, 6, 7, 8, 9}, {0, 1, 2, 3, 5, 6, 7, 8, 9}, {0, 1, 2, 3, 4, 5, 6, 7, 8, 9}, {0, 1, 2, 3, 4, 5, 6, 7, 8, 9}, {0, 1, 2, 3, 4, 5, 6, 7, 8, 9}, {0, 1, 2, 3, 4, 5, 6, 7, 8, 9}, {1, 2, 3, 4, 6, 7, 8, 9}, {0, 1, 2, 3, 4, 5, 6, 7, 8, 9}, {0, 1, 2, 3, 4, 5, 6, 7, 9}, {0, 1, 2, 3, 4, 6, 7, 8, 9}]\n",
      "common ancestor in generation 12\n",
      "[{0, 1, 2, 3, 4, 5, 6, 7, 8, 9}, {0, 1, 2, 3, 5, 6, 7, 8, 9}, {0, 1, 2, 3, 4, 5, 6, 7, 8, 9}, {0, 1, 2, 3, 4, 5, 6, 7, 8, 9}, {0, 1, 2, 3, 4, 5, 6, 7, 8, 9}, {0, 1, 2, 3, 4, 5, 6, 7, 8, 9}, {1, 2, 3, 4, 6, 7, 8, 9}, {0, 1, 2, 3, 4, 5, 6, 7, 8, 9}, {0, 1, 2, 3, 4, 5, 6, 7, 9}, {0, 1, 2, 3, 4, 6, 7, 8, 9}]\n",
      "common ancestor in generation 13\n",
      "[{0, 1, 2, 3, 4, 5, 6, 7, 8, 9}, {0, 1, 2, 3, 5, 6, 7, 8, 9}, {0, 1, 2, 3, 4, 5, 6, 7, 8, 9}, {0, 1, 2, 3, 4, 5, 6, 7, 8, 9}, {0, 1, 2, 3, 4, 5, 6, 7, 8, 9}, {0, 1, 2, 3, 4, 5, 6, 7, 8, 9}, {0, 1, 2, 3, 4, 6, 7, 8, 9}, {0, 1, 2, 3, 4, 5, 6, 7, 8, 9}, {0, 1, 2, 3, 4, 5, 6, 7, 9}, {0, 1, 2, 3, 4, 6, 7, 8, 9}]\n",
      "common ancestor in generation 14\n",
      "[{0, 1, 2, 3, 4, 5, 6, 7, 8, 9}, {0, 1, 2, 3, 5, 6, 7, 8, 9}, {0, 1, 2, 3, 4, 5, 6, 7, 8, 9}, {0, 1, 2, 3, 4, 5, 6, 7, 8, 9}, {0, 1, 2, 3, 4, 5, 6, 7, 8, 9}, {0, 1, 2, 3, 4, 5, 6, 7, 8, 9}, {0, 1, 2, 3, 4, 6, 7, 8, 9}, {0, 1, 2, 3, 4, 5, 6, 7, 8, 9}, {0, 1, 2, 3, 4, 5, 6, 7, 8, 9}, {0, 1, 2, 3, 4, 5, 6, 7, 8, 9}]\n",
      "common ancestor in generation 15\n",
      "[{0, 1, 2, 3, 4, 5, 6, 7, 8, 9}, {0, 1, 2, 3, 5, 6, 7, 8, 9}, {0, 1, 2, 3, 4, 5, 6, 7, 8, 9}, {0, 1, 2, 3, 4, 5, 6, 7, 8, 9}, {0, 1, 2, 3, 4, 5, 6, 7, 8, 9}, {0, 1, 2, 3, 4, 5, 6, 7, 8, 9}, {0, 1, 2, 3, 4, 6, 7, 8, 9}, {0, 1, 2, 3, 4, 5, 6, 7, 8, 9}, {0, 1, 2, 3, 4, 5, 6, 7, 8, 9}, {0, 1, 2, 3, 4, 5, 6, 7, 8, 9}]\n",
      "common ancestor in generation 16\n",
      "[{0, 1, 2, 3, 4, 5, 6, 7, 8, 9}, {0, 1, 2, 3, 5, 6, 7, 8, 9}, {0, 1, 2, 3, 4, 5, 6, 7, 8, 9}, {0, 1, 2, 3, 4, 5, 6, 7, 8, 9}, {0, 1, 2, 3, 4, 5, 6, 7, 8, 9}, {0, 1, 2, 3, 4, 5, 6, 7, 8, 9}, {0, 1, 2, 3, 4, 6, 7, 8, 9}, {0, 1, 2, 3, 4, 5, 6, 7, 8, 9}, {0, 1, 2, 3, 4, 5, 6, 7, 8, 9}, {0, 1, 2, 3, 4, 5, 6, 7, 8, 9}]\n",
      "common ancestor in generation 17\n",
      "[{0, 1, 2, 3, 4, 5, 6, 7, 8, 9}, {0, 1, 2, 3, 5, 6, 7, 8, 9}, {0, 1, 2, 3, 4, 5, 6, 7, 8, 9}, {0, 1, 2, 3, 4, 5, 6, 7, 8, 9}, {0, 1, 2, 3, 4, 5, 6, 7, 8, 9}, {0, 1, 2, 3, 4, 5, 6, 7, 8, 9}, {0, 1, 2, 3, 4, 6, 7, 8, 9}, {0, 1, 2, 3, 4, 5, 6, 7, 8, 9}, {0, 1, 2, 3, 4, 5, 6, 7, 8, 9}, {0, 1, 2, 3, 4, 5, 6, 7, 8, 9}]\n",
      "common ancestor in generation 18\n",
      "[{0, 1, 2, 3, 4, 5, 6, 7, 8, 9}, {0, 1, 2, 3, 5, 6, 7, 8, 9}, {0, 1, 2, 3, 4, 5, 6, 7, 8, 9}, {0, 1, 2, 3, 4, 5, 6, 7, 8, 9}, {0, 1, 2, 3, 4, 5, 6, 7, 8, 9}, {0, 1, 2, 3, 4, 5, 6, 7, 8, 9}, {0, 1, 2, 3, 4, 5, 6, 7, 8, 9}, {0, 1, 2, 3, 4, 5, 6, 7, 8, 9}, {0, 1, 2, 3, 4, 5, 6, 7, 8, 9}, {0, 1, 2, 3, 4, 5, 6, 7, 8, 9}]\n",
      "common ancestor in generation 19\n"
     ]
    }
   ],
   "source": [
    "population_size = 10\n",
    "nr_generations = 20\n",
    "current_generation = [set() for _ in range(population_size)]\n",
    "for generation in range(nr_generations):\n",
    "    previous_generation(current_generation)\n",
    "    print(current_generation)\n",
    "    if has_common_ancestor(current_generation):\n",
    "        print(f'common ancestor in generation {generation}')"
   ]
  },
  {
   "cell_type": "code",
   "execution_count": 19,
   "metadata": {},
   "outputs": [],
   "source": [
    "def find_common_ancestors(current_population):\n",
    "    common_ancestor_generation = 0\n",
    "    generation = 0\n",
    "    while not is_complete(current_population):\n",
    "        previous_generation(current_population)\n",
    "        generation += 1\n",
    "        if has_common_ancestor(current_population) and not common_ancestor_generation:\n",
    "            common_ancestor_generation = generation\n",
    "    return common_ancestor_generation, generation"
   ]
  },
  {
   "cell_type": "code",
   "execution_count": 20,
   "metadata": {},
   "outputs": [
    {
     "data": {
      "text/plain": [
       "(7, 24)"
      ]
     },
     "execution_count": 20,
     "metadata": {},
     "output_type": "execute_result"
    }
   ],
   "source": [
    "population_size = 10\n",
    "nr_generations = 20\n",
    "current_generation = [set() for _ in range(population_size)]\n",
    "find_common_ancestors(current_generation)"
   ]
  }
 ],
 "metadata": {
  "kernelspec": {
   "display_name": "Python 3",
   "language": "python",
   "name": "python3"
  },
  "language_info": {
   "codemirror_mode": {
    "name": "ipython",
    "version": 3
   },
   "file_extension": ".py",
   "mimetype": "text/x-python",
   "name": "python",
   "nbconvert_exporter": "python",
   "pygments_lexer": "ipython3",
   "version": "3.7.9"
  }
 },
 "nbformat": 4,
 "nbformat_minor": 4
}
