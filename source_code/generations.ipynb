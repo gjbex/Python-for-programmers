{
 "cells": [
  {
   "cell_type": "code",
   "execution_count": 1,
   "metadata": {},
   "outputs": [],
   "source": [
    "import random"
   ]
  },
  {
   "cell_type": "markdown",
   "metadata": {},
   "source": [
    "We search for the most recent common ancestor and the identical ancestor generation."
   ]
  },
  {
   "cell_type": "code",
   "execution_count": 2,
   "metadata": {},
   "outputs": [],
   "source": [
    "def has_common_ancestor(current_generation):\n",
    "    return any(map(lambda descendants: len(descendants) == len(current_generation), current_generation))"
   ]
  },
  {
   "cell_type": "code",
   "execution_count": 3,
   "metadata": {},
   "outputs": [],
   "source": [
    "def is_identical_ancestor_generation(current_generation):\n",
    "    return all(map(lambda descendants: len(descendants) == len(current_generation) or len(descendants) == 0, current_generation))"
   ]
  },
  {
   "cell_type": "code",
   "execution_count": 4,
   "metadata": {},
   "outputs": [],
   "source": [
    "def track_previous_generation(current_generation):\n",
    "    previous_generation = [set() for _ in range(len(current_generation))]\n",
    "    for individual in range(len(current_generation)):\n",
    "        potential_parents = list(range(len(current_generation)))\n",
    "        mother = random.choice(potential_parents)\n",
    "        potential_parents.pop(mother)\n",
    "        father = random.choice(potential_parents)\n",
    "        previous_generation[mother].update(current_generation[individual])\n",
    "        previous_generation[father].update(current_generation[individual])\n",
    "    return previous_generation"
   ]
  },
  {
   "cell_type": "code",
   "execution_count": 5,
   "metadata": {},
   "outputs": [
    {
     "name": "stdout",
     "output_type": "stream",
     "text": [
      "[{0}, {2, 4}, {0, 3}, {1, 2, 3}, {1, 4}]\n",
      "[{1, 2, 3, 4}, {0, 3}, {0, 1, 2, 3, 4}, {1, 4}, {0, 2, 4}]\n",
      "common ancestor in generation 1\n",
      "[{1, 4}, {0, 1, 2, 3, 4}, set(), {0, 1, 2, 3, 4}, {0, 1, 2, 3, 4}]\n",
      "common ancestor in generation 2\n",
      "[{0, 1, 2, 3, 4}, {0, 1, 2, 3, 4}, {1, 4}, {0, 1, 2, 3, 4}, {0, 1, 2, 3, 4}]\n",
      "common ancestor in generation 3\n",
      "[{0, 1, 2, 3, 4}, {0, 1, 2, 3, 4}, {0, 1, 2, 3, 4}, {0, 1, 2, 3, 4}, {0, 1, 2, 3, 4}]\n",
      "common ancestor in generation 4\n",
      "[{0, 1, 2, 3, 4}, set(), {0, 1, 2, 3, 4}, {0, 1, 2, 3, 4}, {0, 1, 2, 3, 4}]\n",
      "common ancestor in generation 5\n",
      "[{0, 1, 2, 3, 4}, {0, 1, 2, 3, 4}, {0, 1, 2, 3, 4}, {0, 1, 2, 3, 4}, {0, 1, 2, 3, 4}]\n",
      "common ancestor in generation 6\n",
      "[{0, 1, 2, 3, 4}, {0, 1, 2, 3, 4}, {0, 1, 2, 3, 4}, {0, 1, 2, 3, 4}, {0, 1, 2, 3, 4}]\n",
      "common ancestor in generation 7\n",
      "[{0, 1, 2, 3, 4}, {0, 1, 2, 3, 4}, {0, 1, 2, 3, 4}, {0, 1, 2, 3, 4}, {0, 1, 2, 3, 4}]\n",
      "common ancestor in generation 8\n",
      "[{0, 1, 2, 3, 4}, {0, 1, 2, 3, 4}, {0, 1, 2, 3, 4}, {0, 1, 2, 3, 4}, {0, 1, 2, 3, 4}]\n",
      "common ancestor in generation 9\n",
      "[{0, 1, 2, 3, 4}, {0, 1, 2, 3, 4}, {0, 1, 2, 3, 4}, {0, 1, 2, 3, 4}, {0, 1, 2, 3, 4}]\n",
      "common ancestor in generation 10\n",
      "[set(), {0, 1, 2, 3, 4}, {0, 1, 2, 3, 4}, {0, 1, 2, 3, 4}, {0, 1, 2, 3, 4}]\n",
      "common ancestor in generation 11\n",
      "[{0, 1, 2, 3, 4}, set(), {0, 1, 2, 3, 4}, {0, 1, 2, 3, 4}, {0, 1, 2, 3, 4}]\n",
      "common ancestor in generation 12\n",
      "[set(), {0, 1, 2, 3, 4}, {0, 1, 2, 3, 4}, {0, 1, 2, 3, 4}, {0, 1, 2, 3, 4}]\n",
      "common ancestor in generation 13\n",
      "[{0, 1, 2, 3, 4}, {0, 1, 2, 3, 4}, {0, 1, 2, 3, 4}, {0, 1, 2, 3, 4}, {0, 1, 2, 3, 4}]\n",
      "common ancestor in generation 14\n",
      "[{0, 1, 2, 3, 4}, {0, 1, 2, 3, 4}, {0, 1, 2, 3, 4}, {0, 1, 2, 3, 4}, {0, 1, 2, 3, 4}]\n",
      "common ancestor in generation 15\n",
      "[set(), {0, 1, 2, 3, 4}, {0, 1, 2, 3, 4}, {0, 1, 2, 3, 4}, {0, 1, 2, 3, 4}]\n",
      "common ancestor in generation 16\n",
      "[{0, 1, 2, 3, 4}, set(), {0, 1, 2, 3, 4}, {0, 1, 2, 3, 4}, {0, 1, 2, 3, 4}]\n",
      "common ancestor in generation 17\n",
      "[{0, 1, 2, 3, 4}, {0, 1, 2, 3, 4}, {0, 1, 2, 3, 4}, set(), {0, 1, 2, 3, 4}]\n",
      "common ancestor in generation 18\n",
      "[{0, 1, 2, 3, 4}, {0, 1, 2, 3, 4}, {0, 1, 2, 3, 4}, {0, 1, 2, 3, 4}, set()]\n",
      "common ancestor in generation 19\n"
     ]
    }
   ],
   "source": [
    "population_size = 5\n",
    "nr_generations = 20\n",
    "current_generation = [{i} for i in range(population_size)]\n",
    "for generation in range(nr_generations):\n",
    "    current_generation = track_previous_generation(current_generation)\n",
    "    print(current_generation)\n",
    "    if has_common_ancestor(current_generation):\n",
    "        print(f'common ancestor in generation {generation}')"
   ]
  },
  {
   "cell_type": "code",
   "execution_count": 6,
   "metadata": {},
   "outputs": [],
   "source": [
    "def find_common_ancestors(current_population, is_verbose=False):\n",
    "    common_ancestor_generation = 0\n",
    "    generation = 0\n",
    "    while not is_identical_ancestor_generation(current_population):\n",
    "        current_population = track_previous_generation(current_population)\n",
    "        if is_verbose:\n",
    "            print(current_population)\n",
    "        generation += 1\n",
    "        if has_common_ancestor(current_population) and not common_ancestor_generation:\n",
    "            common_ancestor_generation = generation\n",
    "    return common_ancestor_generation, generation"
   ]
  },
  {
   "cell_type": "code",
   "execution_count": 21,
   "metadata": {},
   "outputs": [
    {
     "data": {
      "text/plain": [
       "(9, 19)"
      ]
     },
     "execution_count": 21,
     "metadata": {},
     "output_type": "execute_result"
    }
   ],
   "source": [
    "population_size = 512\n",
    "current_generation = [{i} for i in range(population_size)]\n",
    "find_common_ancestors(current_generation)"
   ]
  },
  {
   "cell_type": "code",
   "execution_count": null,
   "metadata": {},
   "outputs": [],
   "source": []
  }
 ],
 "metadata": {
  "kernelspec": {
   "display_name": "Python 3",
   "language": "python",
   "name": "python3"
  },
  "language_info": {
   "codemirror_mode": {
    "name": "ipython",
    "version": 3
   },
   "file_extension": ".py",
   "mimetype": "text/x-python",
   "name": "python",
   "nbconvert_exporter": "python",
   "pygments_lexer": "ipython3",
   "version": "3.7.10"
  }
 },
 "nbformat": 4,
 "nbformat_minor": 4
}
