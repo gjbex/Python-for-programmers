{
 "cells": [
  {
   "cell_type": "code",
   "execution_count": 15,
   "id": "8130ee11-ed4c-43f7-abda-906f39104aad",
   "metadata": {},
   "outputs": [],
   "source": [
    "import math"
   ]
  },
  {
   "cell_type": "markdown",
   "id": "c6a4ddea-3e93-4baa-acdf-2260d2c7948c",
   "metadata": {},
   "source": [
    "Jewish rebels were under siege in the Massada fortress by the Romans.  Since they could not hold out any longer, would not surrender, and their religion prohibits suicide, they came up with a creative solution.\n",
    "\n",
    "The rebels stand in a circle.  The first rebel kill  the second, the third kills the fourth, and so on.  In general, the rebel standing clockwise from the one who was just killed, kills the next one in the cricle (clockwise).  The last man standing will commit suicide.\n",
    "\n",
    "Josephus would prefer to live, so he has to be the last man standing, so that he can surrender to the Romans.  Which position in the circle should he take when there are 41 rebels?"
   ]
  },
  {
   "cell_type": "code",
   "execution_count": 11,
   "id": "2771b890-bc28-4f8e-b8d7-b89b28db3d7f",
   "metadata": {},
   "outputs": [],
   "source": [
    "def kill_rebels(n, is_animated=False):\n",
    "    rebels = list(range(1, n + 1))\n",
    "    if is_animated:\n",
    "        print(rebels)\n",
    "    killer_pos = 0\n",
    "    while len(rebels) > 1:\n",
    "        victim_pos = (killer_pos + 1) % len(rebels)\n",
    "        rebels.pop(victim_pos)\n",
    "        if is_animated:\n",
    "            print(rebels)\n",
    "        killer_pos = victim_pos\n",
    "    return rebels[0]"
   ]
  },
  {
   "cell_type": "code",
   "execution_count": 13,
   "id": "ec84337c-26f0-449c-914a-703820a3dc5f",
   "metadata": {},
   "outputs": [
    {
     "name": "stdout",
     "output_type": "stream",
     "text": [
      "[1, 2, 3, 4, 5]\n",
      "[1, 3, 4, 5]\n",
      "[1, 3, 5]\n",
      "[3, 5]\n",
      "[3]\n"
     ]
    },
    {
     "data": {
      "text/plain": [
       "3"
      ]
     },
     "execution_count": 13,
     "metadata": {},
     "output_type": "execute_result"
    }
   ],
   "source": [
    "kill_rebels(5, is_animated=True)"
   ]
  },
  {
   "cell_type": "code",
   "execution_count": 14,
   "id": "17ee5398-8a62-4bbf-8ae2-4785b5cfb7a0",
   "metadata": {},
   "outputs": [
    {
     "name": "stdout",
     "output_type": "stream",
     "text": [
      "1\n",
      "1\n",
      "3\n",
      "1\n",
      "3\n",
      "5\n",
      "7\n",
      "1\n",
      "3\n",
      "5\n",
      "7\n",
      "9\n",
      "11\n",
      "13\n",
      "15\n",
      "1\n",
      "3\n",
      "5\n",
      "7\n",
      "9\n",
      "11\n",
      "13\n",
      "15\n",
      "17\n",
      "19\n",
      "21\n",
      "23\n",
      "25\n",
      "27\n",
      "29\n",
      "31\n",
      "1\n",
      "3\n",
      "5\n",
      "7\n",
      "9\n",
      "11\n",
      "13\n",
      "15\n",
      "17\n",
      "19\n"
     ]
    }
   ],
   "source": [
    "for nr_rebels in range(1, 42):\n",
    "    print(kill_rebels(nr_rebels))"
   ]
  },
  {
   "cell_type": "markdown",
   "id": "667aacc7-6c8f-41a0-a43f-f7ee79111855",
   "metadata": {},
   "source": [
    "In general, when there are $n$ rebels, this can be written as $2^a + \\ell$ where $\\ell < 2^a$.  The position of the last man standing is $2\\ell + 1$."
   ]
  },
  {
   "cell_type": "code",
   "execution_count": 16,
   "id": "4c96b13f-0b6e-4d96-9f4c-6c47c04ff582",
   "metadata": {},
   "outputs": [],
   "source": [
    "def last_position(n):\n",
    "    a = int(math.log2(n))\n",
    "    return 2*(n - 2**a) + 1"
   ]
  },
  {
   "cell_type": "code",
   "execution_count": 19,
   "id": "93fb49c5-4472-4aea-8151-266867c081aa",
   "metadata": {},
   "outputs": [
    {
     "name": "stdout",
     "output_type": "stream",
     "text": [
      "  1   1\n",
      "  1   1\n",
      "  3   3\n",
      "  1   1\n",
      "  3   3\n",
      "  5   5\n",
      "  7   7\n",
      "  1   1\n",
      "  3   3\n",
      "  5   5\n",
      "  7   7\n",
      "  9   9\n",
      " 11  11\n",
      " 13  13\n",
      " 15  15\n",
      "  1   1\n",
      "  3   3\n",
      "  5   5\n",
      "  7   7\n",
      "  9   9\n",
      " 11  11\n",
      " 13  13\n",
      " 15  15\n",
      " 17  17\n",
      " 19  19\n",
      " 21  21\n",
      " 23  23\n",
      " 25  25\n",
      " 27  27\n",
      " 29  29\n",
      " 31  31\n",
      "  1   1\n",
      "  3   3\n",
      "  5   5\n",
      "  7   7\n",
      "  9   9\n",
      " 11  11\n",
      " 13  13\n",
      " 15  15\n",
      " 17  17\n",
      " 19  19\n"
     ]
    }
   ],
   "source": [
    "for nr_rebels in range(1, 42):\n",
    "    print(f'{kill_rebels(nr_rebels):3d} {last_position(nr_rebels):3d}')"
   ]
  }
 ],
 "metadata": {
  "kernelspec": {
   "display_name": "Python 3",
   "language": "python",
   "name": "python3"
  },
  "language_info": {
   "codemirror_mode": {
    "name": "ipython",
    "version": 3
   },
   "file_extension": ".py",
   "mimetype": "text/x-python",
   "name": "python",
   "nbconvert_exporter": "python",
   "pygments_lexer": "ipython3",
   "version": "3.7.10"
  }
 },
 "nbformat": 4,
 "nbformat_minor": 5
}
