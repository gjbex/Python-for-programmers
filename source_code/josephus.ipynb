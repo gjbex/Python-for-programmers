{
 "cells": [
  {
   "cell_type": "markdown",
   "metadata": {},
   "source": [
    "# Requirements"
   ]
  },
  {
   "cell_type": "code",
   "execution_count": 1,
   "metadata": {},
   "outputs": [],
   "source": [
    "import math"
   ]
  },
  {
   "cell_type": "markdown",
   "metadata": {},
   "source": [
    "# Problem setting"
   ]
  },
  {
   "cell_type": "markdown",
   "metadata": {},
   "source": [
    "\n",
    "Jewish rebels were under siege in the Massada fortress by the Romans.  Since they could not hold out any longer, would not surrender, and their religion prohibits suicide, they came up with a creative solution.\n",
    "\n",
    "The rebels stand in a circle.  The first rebel kill  the second, the third kills the fourth, and so on.  In general, the rebel standing clockwise from the one who was just killed, kills the next one in the cricle (clockwise).  The last man standing will commit suicide.\n",
    "\n",
    "Josephus would prefer to live, so he has to be the last man standing, so that he can surrender to the Romans.  Which position in the circle should he take when there are 41 rebels?"
   ]
  },
  {
   "cell_type": "markdown",
   "metadata": {},
   "source": [
    "# Implementations"
   ]
  },
  {
   "cell_type": "markdown",
   "metadata": {},
   "source": [
    "Several implementations are possible."
   ]
  },
  {
   "cell_type": "markdown",
   "metadata": {},
   "source": [
    "## Formula"
   ]
  },
  {
   "cell_type": "markdown",
   "metadata": {},
   "source": [
    "In general, when there are $n$ rebels, this can be written as $2^a + \\ell$ where $\\ell < 2^a$.  The position of the last man standing is $2\\ell + 1$."
   ]
  },
  {
   "cell_type": "code",
   "execution_count": 5,
   "metadata": {},
   "outputs": [],
   "source": [
    "def last_position(n):\n",
    "    a = int(math.log2(n))\n",
    "    return 2*(n - 2**a) + 1"
   ]
  },
  {
   "cell_type": "markdown",
   "metadata": {},
   "source": [
    "We can use this function to test the various implementations."
   ]
  },
  {
   "cell_type": "code",
   "execution_count": 20,
   "metadata": {},
   "outputs": [],
   "source": [
    "def test_kill_method(kill_method, max_rebels=42):\n",
    "    for nr_rebels in range(1, max_rebels + 1):\n",
    "        if kill_method(nr_rebels) != last_position(nr_rebels):\n",
    "            print(f'Problem for {nr_rebels}: {kill_method(nr_rebels):3d} versus {last_position(nr_rebels):3d}')"
   ]
  },
  {
   "cell_type": "markdown",
   "metadata": {},
   "source": [
    "## Classic implementation"
   ]
  },
  {
   "cell_type": "markdown",
   "metadata": {},
   "source": [
    "The group of rebels is modeled as a list, from which the element that represents the victim is removed.  An index keeps track of the rebel that will be the next killer.  When there is only a single rebel left, the problem is solved."
   ]
  },
  {
   "cell_type": "code",
   "execution_count": 2,
   "metadata": {},
   "outputs": [],
   "source": [
    "def kill_rebels(n, is_animated=False):\n",
    "    rebels = list(range(1, n + 1))\n",
    "    if is_animated:\n",
    "        print(rebels)\n",
    "    killer_pos = 0\n",
    "    while len(rebels) > 1:\n",
    "        victim_pos = (killer_pos + 1) % len(rebels)\n",
    "        rebels.pop(victim_pos)\n",
    "        if is_animated:\n",
    "            print(rebels)\n",
    "        killer_pos = victim_pos\n",
    "    return rebels[0]"
   ]
  },
  {
   "cell_type": "markdown",
   "metadata": {},
   "source": [
    "Testing the implementation shows that it works well."
   ]
  },
  {
   "cell_type": "code",
   "execution_count": 3,
   "metadata": {},
   "outputs": [
    {
     "name": "stdout",
     "output_type": "stream",
     "text": [
      "[1, 2, 3, 4, 5]\n",
      "[1, 3, 4, 5]\n",
      "[1, 3, 5]\n",
      "[3, 5]\n",
      "[3]\n"
     ]
    },
    {
     "data": {
      "text/plain": [
       "3"
      ]
     },
     "execution_count": 3,
     "metadata": {},
     "output_type": "execute_result"
    }
   ],
   "source": [
    "kill_rebels(5, is_animated=True)"
   ]
  },
  {
   "cell_type": "code",
   "execution_count": 21,
   "metadata": {},
   "outputs": [],
   "source": [
    "test_kill_method(kill_rebels)"
   ]
  },
  {
   "cell_type": "markdown",
   "metadata": {},
   "source": [
    "## Recursive approach"
   ]
  },
  {
   "cell_type": "markdown",
   "metadata": {},
   "source": [
    "\n",
    "There is a recursive approach that doesn't require modulo operations to keep track of the index of the killer.  When the group of remaining rebels is viewed as a circle, in each step, the circle shrinks with one.  Also, if the new circle always has the next killer on top, it is really easy to keep track."
   ]
  },
  {
   "cell_type": "code",
   "execution_count": 23,
   "metadata": {},
   "outputs": [],
   "source": [
    "def kill_rebels_recursively(n):\n",
    "    rebels = list(range(1, n + 1))\n",
    "    def _kill_rebels(rebels):\n",
    "        if len(rebels) == 1:\n",
    "            return rebels[0]\n",
    "        else:\n",
    "            killer = rebels.pop(0)\n",
    "            rebels.pop(0)\n",
    "            rebels.append(killer)\n",
    "            return _kill_rebels(rebels)\n",
    "    return _kill_rebels(rebels)"
   ]
  },
  {
   "cell_type": "code",
   "execution_count": 24,
   "metadata": {},
   "outputs": [
    {
     "data": {
      "text/plain": [
       "19"
      ]
     },
     "execution_count": 24,
     "metadata": {},
     "output_type": "execute_result"
    }
   ],
   "source": [
    "kill_rebels_recursively(41)"
   ]
  },
  {
   "cell_type": "code",
   "execution_count": 26,
   "metadata": {},
   "outputs": [],
   "source": [
    "test_kill_method(kill_rebels_recursively)"
   ]
  },
  {
   "cell_type": "markdown",
   "metadata": {},
   "source": [
    "## Iterative implementation"
   ]
  },
  {
   "cell_type": "markdown",
   "metadata": {},
   "source": [
    "This same algorithm is easy to implement iteratively as well."
   ]
  },
  {
   "cell_type": "code",
   "execution_count": 11,
   "metadata": {},
   "outputs": [],
   "source": [
    "def kill_rebels_iteratively(n):\n",
    "    rebels = list(range(1, n + 1))\n",
    "    while len(rebels) > 1:\n",
    "        killer = rebels.pop(0)\n",
    "        rebels.pop(0)\n",
    "        rebels.append(killer)\n",
    "    return rebels[0]"
   ]
  },
  {
   "cell_type": "code",
   "execution_count": 27,
   "metadata": {},
   "outputs": [],
   "source": [
    "test_kill_method(kill_rebels_iteratively)"
   ]
  },
  {
   "cell_type": "markdown",
   "metadata": {},
   "source": [
    "## Sieve implementation"
   ]
  },
  {
   "cell_type": "markdown",
   "metadata": {},
   "source": [
    "An alternative implementation removes all dead rebels for a single traversal of the circle.  When that is done, we remove the first element of the remaining list if the length of the original circle length was odd, since the first member will certainly be killed in the next round.  Again, we are done when the list has a single element only."
   ]
  },
  {
   "cell_type": "code",
   "execution_count": 28,
   "metadata": {},
   "outputs": [],
   "source": [
    "def kill_rebels_sieve(n):\n",
    "    rebels = list(range(1, n + 1))\n",
    "    while True:\n",
    "        is_odd = len(rebels) % 2 == 1\n",
    "        rebels = rebels[::2]\n",
    "        if len(rebels) == 1:\n",
    "            return rebels[0]\n",
    "        elif is_odd:\n",
    "            rebels.pop(0)"
   ]
  },
  {
   "cell_type": "code",
   "execution_count": 29,
   "metadata": {},
   "outputs": [],
   "source": [
    "test_kill_method(kill_rebels_sieve)"
   ]
  },
  {
   "cell_type": "markdown",
   "metadata": {},
   "source": [
    "# Performance"
   ]
  },
  {
   "cell_type": "raw",
   "metadata": {},
   "source": [
    "nr_rebels = 345984"
   ]
  },
  {
   "cell_type": "code",
   "execution_count": 34,
   "metadata": {},
   "outputs": [
    {
     "name": "stdout",
     "output_type": "stream",
     "text": [
      "12.7 µs ± 1.08 µs per loop (mean ± std. dev. of 7 runs, 100000 loops each)\n"
     ]
    }
   ],
   "source": [
    "%timeit kill_rebels(nr_rebels)"
   ]
  },
  {
   "cell_type": "code",
   "execution_count": 35,
   "metadata": {},
   "outputs": [
    {
     "name": "stdout",
     "output_type": "stream",
     "text": [
      "20.4 µs ± 3.06 µs per loop (mean ± std. dev. of 7 runs, 10000 loops each)\n"
     ]
    }
   ],
   "source": [
    "%timeit kill_rebels_recursively(nr_rebels)"
   ]
  },
  {
   "cell_type": "code",
   "execution_count": 36,
   "metadata": {},
   "outputs": [
    {
     "name": "stdout",
     "output_type": "stream",
     "text": [
      "15.4 µs ± 909 ns per loop (mean ± std. dev. of 7 runs, 100000 loops each)\n"
     ]
    }
   ],
   "source": [
    "%timeit kill_rebels_iteratively(nr_rebels)"
   ]
  },
  {
   "cell_type": "code",
   "execution_count": 37,
   "metadata": {},
   "outputs": [
    {
     "name": "stdout",
     "output_type": "stream",
     "text": [
      "2.65 µs ± 245 ns per loop (mean ± std. dev. of 7 runs, 100000 loops each)\n"
     ]
    }
   ],
   "source": [
    "%timeit kill_rebels_sieve(nr_rebels)"
   ]
  },
  {
   "cell_type": "markdown",
   "metadata": {},
   "source": [
    "Results are not unexpected.  The classic implementation is faster than the recursive algorithm, as well as its iterative counterpart.  However, the sieve turns out the have the best performance.  This should not come as a surprise.  Although each iteration is fairly expensive, i.e., constructing and copying a new list, the number of iterations is $O(\\log_2 n)$, rather than $O(n)$ as for the other implementations, and that outweighs the cost per iteration."
   ]
  }
 ],
 "metadata": {
  "kernelspec": {
   "display_name": "Python 3",
   "language": "python",
   "name": "python3"
  },
  "language_info": {
   "codemirror_mode": {
    "name": "ipython",
    "version": 3
   },
   "file_extension": ".py",
   "mimetype": "text/x-python",
   "name": "python",
   "nbconvert_exporter": "python",
   "pygments_lexer": "ipython3",
   "version": "3.7.9"
  },
  "toc-autonumbering": true
 },
 "nbformat": 4,
 "nbformat_minor": 5
}
