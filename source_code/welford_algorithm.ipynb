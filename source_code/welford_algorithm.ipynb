{
 "cells": [
  {
   "cell_type": "markdown",
   "metadata": {},
   "source": [
    "Computing statistics for online data can result in considerable loss of accuracy.  Here we experiment with the Welford algorithm that gives good results for the standard deviation.\n",
    "\n",
    "See [Wikipedia](https://en.wikipedia.org/wiki/Algorithms_for_calculating_variance#Welford's_online_algorithm) for a description of the algorithm."
   ]
  },
  {
   "cell_type": "markdown",
   "metadata": {},
   "source": [
    "# Requirements"
   ]
  },
  {
   "cell_type": "code",
   "execution_count": 53,
   "metadata": {},
   "outputs": [],
   "source": [
    "import decimal as dc\n",
    "import math\n",
    "import numpy as np\n",
    "import random"
   ]
  },
  {
   "cell_type": "markdown",
   "metadata": {},
   "source": [
    "# Data set"
   ]
  },
  {
   "cell_type": "markdown",
   "metadata": {},
   "source": [
    "We create a data set consisting of two parts, the first contains number an order of magnitude larger than the second."
   ]
  },
  {
   "cell_type": "code",
   "execution_count": 22,
   "metadata": {},
   "outputs": [],
   "source": [
    "data_large = np.arange(1_000_000.0, 1_000_000_000_000.0, 100_000.0)"
   ]
  },
  {
   "cell_type": "code",
   "execution_count": 23,
   "metadata": {},
   "outputs": [
    {
     "data": {
      "text/plain": [
       "4.9999994999955e+18"
      ]
     },
     "execution_count": 23,
     "metadata": {},
     "output_type": "execute_result"
    }
   ],
   "source": [
    "data_large.sum()"
   ]
  },
  {
   "cell_type": "code",
   "execution_count": 24,
   "metadata": {},
   "outputs": [],
   "source": [
    "data_small = np.arange(0.001, 100.0, 0.01)"
   ]
  },
  {
   "cell_type": "code",
   "execution_count": 25,
   "metadata": {},
   "outputs": [
    {
     "data": {
      "text/plain": [
       "499959.99999999994"
      ]
     },
     "execution_count": 25,
     "metadata": {},
     "output_type": "execute_result"
    }
   ],
   "source": [
    "data_small.sum()"
   ]
  },
  {
   "cell_type": "markdown",
   "metadata": {},
   "source": [
    "The data sets are combined in two ways, the small number first, followed by the larger numbers, and vice versa."
   ]
  },
  {
   "cell_type": "code",
   "execution_count": 26,
   "metadata": {},
   "outputs": [],
   "source": [
    "small_first_data = np.concatenate([data_small, data_large])"
   ]
  },
  {
   "cell_type": "code",
   "execution_count": 27,
   "metadata": {},
   "outputs": [
    {
     "data": {
      "text/plain": [
       "4.999999499995999e+18"
      ]
     },
     "execution_count": 27,
     "metadata": {},
     "output_type": "execute_result"
    }
   ],
   "source": [
    "small_first_data.sum()"
   ]
  },
  {
   "cell_type": "code",
   "execution_count": 28,
   "metadata": {},
   "outputs": [],
   "source": [
    "large_first_data = np.concatenate([data_large, data_small])"
   ]
  },
  {
   "cell_type": "code",
   "execution_count": 34,
   "metadata": {},
   "outputs": [
    {
     "name": "stdout",
     "output_type": "stream",
     "text": [
      "4.999999499995992e+18\n",
      "4.999999499995991e+18\n",
      "4.999999499996007e+18\n",
      "4.999999499995999e+18\n",
      "4.999999499996e+18\n"
     ]
    }
   ],
   "source": [
    "for _ in range(5):\n",
    "    np.random.shuffle(large_first_data)\n",
    "    print(large_first_data.sum())"
   ]
  },
  {
   "cell_type": "markdown",
   "metadata": {},
   "source": [
    "# Algorithms"
   ]
  },
  {
   "cell_type": "markdown",
   "metadata": {},
   "source": [
    "For convenience, all the algorithms are implemented in classes with a uniform interface."
   ]
  },
  {
   "cell_type": "markdown",
   "metadata": {},
   "source": [
    "The first algorithm is the Welford algorithm."
   ]
  },
  {
   "cell_type": "code",
   "execution_count": 39,
   "metadata": {},
   "outputs": [],
   "source": [
    "class WelfordStats:\n",
    "    \n",
    "    def __init__(self):\n",
    "        self._n = 0\n",
    "        self._avg = 0.0\n",
    "        self._m2 = 0.0\n",
    "        \n",
    "    def add(self, value):\n",
    "        self._n += 1\n",
    "        prev_avg = self._avg\n",
    "        self._avg += (value - self._avg)/self._n\n",
    "        self._m2 += (value - self._avg)*(value -prev_avg)\n",
    "        \n",
    "    @property\n",
    "    def n(self):\n",
    "        return self._n\n",
    "    \n",
    "    @property\n",
    "    def mean(self):\n",
    "        return self._avg\n",
    "    \n",
    "    @property\n",
    "    def stddev(self):\n",
    "        return math.sqrt((self._m2/(self._n - 1)))\n",
    "        "
   ]
  },
  {
   "cell_type": "markdown",
   "metadata": {},
   "source": [
    "The second algorithm is the naive one."
   ]
  },
  {
   "cell_type": "code",
   "execution_count": 42,
   "metadata": {},
   "outputs": [],
   "source": [
    "class Stats:\n",
    "    \n",
    "    def __init__(self):\n",
    "        self._n = 0\n",
    "        self._sum = 0.0\n",
    "        self._sum2 = 0.0\n",
    "        \n",
    "    def add(self, value):\n",
    "        self._n += 1\n",
    "        self._sum += value\n",
    "        self._sum2 += value**2\n",
    "        \n",
    "    @property\n",
    "    def n(self):\n",
    "        return self._n\n",
    "    \n",
    "    @property\n",
    "    def mean(self):\n",
    "        return self._sum/self._n\n",
    "    \n",
    "    @property\n",
    "    def stddev(self):\n",
    "        return math.sqrt((self._sum2 - (self._sum*self._sum)/self._n)/(self._n - 1))\n",
    "        "
   ]
  },
  {
   "cell_type": "markdown",
   "metadata": {},
   "source": [
    "The third implementation uses Python's `decimal` module to preserve accuracy."
   ]
  },
  {
   "cell_type": "code",
   "execution_count": 57,
   "metadata": {},
   "outputs": [],
   "source": [
    "class DecimalStats:\n",
    "    \n",
    "    def __init__(self, precision=50):\n",
    "        dc.getcontext().prec = precision\n",
    "        self._n = dc.Decimal(0)\n",
    "        self._sum = dc.Decimal(0.0)\n",
    "        self._sum2 = dc.Decimal(0.0)\n",
    "        \n",
    "    def add(self, value):\n",
    "        self._n += dc.Decimal(1)\n",
    "        self._sum += dc.Decimal(value)\n",
    "        self._sum2 += dc.Decimal(value**2)\n",
    "        \n",
    "    @property\n",
    "    def n(self):\n",
    "        return self._n\n",
    "    \n",
    "    @property\n",
    "    def mean(self):\n",
    "        return self._sum/self._n\n",
    "    \n",
    "    @property\n",
    "    def stddev(self):\n",
    "        return ((self._sum2 - (self._sum*self._sum)/self._n)/(self._n - 1)).sqrt()\n",
    "        "
   ]
  },
  {
   "cell_type": "code",
   "execution_count": 55,
   "metadata": {},
   "outputs": [
    {
     "name": "stdout",
     "output_type": "stream",
     "text": [
      "2.5 1.2909944487358056\n",
      "2.5 1.2909944487358056\n",
      "2.5 1.2909944487358056283930884665941332036109739017639\n"
     ]
    }
   ],
   "source": [
    "stats = Stats()\n",
    "welford_stats = WelfordStats()\n",
    "decimal_stats = DecimalStats()\n",
    "for value in np.arange(1.0, 5.0, 1.0):\n",
    "    stats.add(value)\n",
    "    welford_stats.add(value)\n",
    "    decimal_stats.add(value)\n",
    "print(stats.mean, stats.stddev)\n",
    "print(welford_stats.mean, welford_stats.stddev)\n",
    "print(decimal_stats.mean, decimal_stats.stddev)"
   ]
  },
  {
   "cell_type": "markdown",
   "metadata": {},
   "source": [
    "# Comparison"
   ]
  },
  {
   "cell_type": "markdown",
   "metadata": {},
   "source": [
    "We run the algorithm on one of the data sets."
   ]
  },
  {
   "cell_type": "code",
   "execution_count": 62,
   "metadata": {},
   "outputs": [
    {
     "name": "stdout",
     "output_type": "stream",
     "text": [
      "0.06717778612280627061929645420703303721\n",
      "0.00010014940405627061929645420703303721\n"
     ]
    }
   ],
   "source": [
    "stats = Stats()\n",
    "welford_stats = WelfordStats()\n",
    "decimal_stats = DecimalStats()\n",
    "for value in large_first_data:\n",
    "    stats.add(value)\n",
    "    welford_stats.add(value)\n",
    "    decimal_stats.add(value)\n",
    "print((dc.Decimal(stats.stddev) - decimal_stats.stddev))\n",
    "print((dc.Decimal(welford_stats.stddev) - decimal_stats.stddev))"
   ]
  },
  {
   "cell_type": "markdown",
   "metadata": {},
   "source": [
    "It is indeed clear that the standard deviation computed using the Welford algorithm is indeed more accurate than that by the naive method.  Note however that the mean value is more accurate by simply summing the data values."
   ]
  },
  {
   "cell_type": "markdown",
   "metadata": {},
   "source": [
    "It is not a panacea though."
   ]
  },
  {
   "cell_type": "code",
   "execution_count": 61,
   "metadata": {},
   "outputs": [
    {
     "name": "stdout",
     "output_type": "stream",
     "text": [
      "5.5380491384252865937575867883120891E-11\n",
      "2.02718633071467240479812196008120891E-10\n"
     ]
    }
   ],
   "source": [
    "stats = Stats()\n",
    "welford_stats = WelfordStats()\n",
    "decimal_stats = DecimalStats()\n",
    "for _ in range(1_000_000):\n",
    "    value = random.gauss(mu=0.0, sigma=10_000.0)\n",
    "    stats.add(value)\n",
    "    welford_stats.add(value)\n",
    "    decimal_stats.add(value)\n",
    "print((dc.Decimal(stats.stddev) - decimal_stats.stddev))\n",
    "print((dc.Decimal(welford_stats.stddev) - decimal_stats.stddev))"
   ]
  }
 ],
 "metadata": {
  "kernelspec": {
   "display_name": "Python 3",
   "language": "python",
   "name": "python3"
  },
  "language_info": {
   "codemirror_mode": {
    "name": "ipython",
    "version": 3
   },
   "file_extension": ".py",
   "mimetype": "text/x-python",
   "name": "python",
   "nbconvert_exporter": "python",
   "pygments_lexer": "ipython3",
   "version": "3.7.9"
  }
 },
 "nbformat": 4,
 "nbformat_minor": 4
}
