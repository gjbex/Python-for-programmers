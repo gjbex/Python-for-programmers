{
 "cells": [
  {
   "cell_type": "markdown",
   "id": "67934854-e835-43a0-8ac8-7494bba890bc",
   "metadata": {},
   "source": [
    "# Requirements"
   ]
  },
  {
   "cell_type": "code",
   "execution_count": 32,
   "id": "7981c28c-994a-440f-891c-667f860247b6",
   "metadata": {},
   "outputs": [],
   "source": [
    "import itertools"
   ]
  },
  {
   "cell_type": "markdown",
   "id": "126fa4fc-a743-40e1-93b1-7818cb5b9895",
   "metadata": {},
   "source": [
    "# Problem setting"
   ]
  },
  {
   "cell_type": "markdown",
   "id": "6559b167-1eea-4875-999c-7463d8034ea4",
   "metadata": {},
   "source": [
    "We are given a list of words, and we have to find the longest chain of words we can build such that each words starts with the same character as the previous word in the chain ends with.  Addiotionally, words should not repeat."
   ]
  },
  {
   "cell_type": "code",
   "execution_count": 2,
   "id": "e47396f9-8994-4fc0-a020-6a9936397b96",
   "metadata": {},
   "outputs": [],
   "source": [
    "words = {\n",
    "    'apple', 'pear', 'orange', 'eternal',\n",
    "    'entry', 'late', 'evening', 'ghost',\n",
    "    'tale', 'error', 'reason',\n",
    "}"
   ]
  },
  {
   "cell_type": "markdown",
   "id": "7302bcf6-49db-4edd-97da-8aa1e3fd233b",
   "metadata": {},
   "source": [
    "# Implementation"
   ]
  },
  {
   "cell_type": "markdown",
   "id": "8ee44fb6-8a93-4ab5-9edc-58670d23bd2b",
   "metadata": {},
   "source": [
    "It is convenient to compute an adjecency dictionary, i.e., a dictionary that contains all the given words as keys, and a set of words that can succeed it as valeus."
   ]
  },
  {
   "cell_type": "code",
   "execution_count": 33,
   "id": "07ab5d6e-bd70-46c6-9d7f-36507e6c04d5",
   "metadata": {},
   "outputs": [],
   "source": [
    "def create_adj_dict(words):\n",
    "    adj_dict = {word: set() for word in words}\n",
    "    for word1, word2 in itertools.product(words, repeat=2):\n",
    "        if word1 != word2:\n",
    "            if word1[-1] == word2[0]:\n",
    "                adj_dict[word1].add(word2)\n",
    "    return adj_dict"
   ]
  },
  {
   "cell_type": "code",
   "execution_count": 34,
   "id": "45d029ce-4c7f-4bb8-9f70-6d5aef8a3eb4",
   "metadata": {},
   "outputs": [],
   "source": [
    "adj_dict = create_adj_dict(words)"
   ]
  },
  {
   "cell_type": "code",
   "execution_count": 35,
   "id": "d59dd3ca-8171-42e4-9b71-7e5a8ebce5fe",
   "metadata": {},
   "outputs": [
    {
     "data": {
      "text/plain": [
       "{'eternal': {'late'},\n",
       " 'orange': {'entry', 'error', 'eternal', 'evening'},\n",
       " 'ghost': {'tale'},\n",
       " 'apple': {'entry', 'error', 'eternal', 'evening'},\n",
       " 'pear': {'reason'},\n",
       " 'entry': set(),\n",
       " 'error': {'reason'},\n",
       " 'late': {'entry', 'error', 'eternal', 'evening'},\n",
       " 'evening': {'ghost'},\n",
       " 'tale': {'entry', 'error', 'eternal', 'evening'},\n",
       " 'reason': set()}"
      ]
     },
     "execution_count": 35,
     "metadata": {},
     "output_type": "execute_result"
    }
   ],
   "source": [
    "adj_dict"
   ]
  },
  {
   "cell_type": "markdown",
   "id": "005397d9-43ca-467b-8eae-6f1244b79c4d",
   "metadata": {},
   "source": [
    "It is clear that if the chain contains \"entry\" or \"reason\", those words will be the last in the chain."
   ]
  },
  {
   "cell_type": "markdown",
   "id": "155d57fd-aff7-47a9-9b24-bb5571bf0c73",
   "metadata": {},
   "source": [
    "The following function extends a given chain maximally, i.e., it adds the maximum number of words."
   ]
  },
  {
   "cell_type": "code",
   "execution_count": 29,
   "id": "e6b00551-1497-4f8d-b2d2-84886e9d478a",
   "metadata": {},
   "outputs": [],
   "source": [
    "def extend_chain(chain, adj_dict):\n",
    "    longest_chain = chain\n",
    "    for successor in adj_dict[chain[-1]]:\n",
    "        if successor not in chain:\n",
    "            longer_chain = extend_chain(chain + [successor], adj_dict)\n",
    "            if len(longer_chain) > len(longest_chain):\n",
    "                longest_chain = longer_chain\n",
    "    return longest_chain"
   ]
  },
  {
   "cell_type": "code",
   "execution_count": 30,
   "id": "47154107-3b34-4bb8-89f5-f2250a634237",
   "metadata": {},
   "outputs": [
    {
     "data": {
      "text/plain": [
       "['late', 'evening', 'ghost', 'tale', 'error', 'reason']"
      ]
     },
     "execution_count": 30,
     "metadata": {},
     "output_type": "execute_result"
    }
   ],
   "source": [
    "extend_chain(['late'], adj_dict)"
   ]
  },
  {
   "cell_type": "code",
   "execution_count": 31,
   "id": "098895be-4f38-4fc4-95cf-e5fea4fdac9b",
   "metadata": {},
   "outputs": [
    {
     "data": {
      "text/plain": [
       "['reason']"
      ]
     },
     "execution_count": 31,
     "metadata": {},
     "output_type": "execute_result"
    }
   ],
   "source": [
    "extend_chain(['reason'], adj_dict)"
   ]
  },
  {
   "cell_type": "markdown",
   "id": "57cb724f-2d35-413d-a2e9-bcd008a7fbd5",
   "metadata": {},
   "source": [
    "We now define a function to find the longest chain."
   ]
  },
  {
   "cell_type": "code",
   "execution_count": 36,
   "id": "a5920733-f130-441d-b1c0-89440cc2f0d9",
   "metadata": {},
   "outputs": [],
   "source": [
    "def create_longest_chain(adj_dict):\n",
    "    longest_chain = []\n",
    "    for word in adj_dict:\n",
    "        chain = extend_chain([word], adj_dict)\n",
    "        if len(chain) > len(longest_chain):\n",
    "            longest_chain = chain\n",
    "    return longest_chain"
   ]
  },
  {
   "cell_type": "code",
   "execution_count": 37,
   "id": "90c835e1-4ab0-4dcf-8ca9-a51a4bbc4301",
   "metadata": {},
   "outputs": [
    {
     "data": {
      "text/plain": [
       "['orange', 'eternal', 'late', 'evening', 'ghost', 'tale', 'error', 'reason']"
      ]
     },
     "execution_count": 37,
     "metadata": {},
     "output_type": "execute_result"
    }
   ],
   "source": [
    "create_longest_chain(adj_dict)"
   ]
  }
 ],
 "metadata": {
  "kernelspec": {
   "display_name": "Python 3 (ipykernel)",
   "language": "python",
   "name": "python3"
  },
  "language_info": {
   "codemirror_mode": {
    "name": "ipython",
    "version": 3
   },
   "file_extension": ".py",
   "mimetype": "text/x-python",
   "name": "python",
   "nbconvert_exporter": "python",
   "pygments_lexer": "ipython3",
   "version": "3.10.4"
  }
 },
 "nbformat": 4,
 "nbformat_minor": 5
}
