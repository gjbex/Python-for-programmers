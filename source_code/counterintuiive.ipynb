{
 "cells": [
  {
   "cell_type": "markdown",
   "id": "optical-ranking",
   "metadata": {},
   "source": [
    "Although Python is fairly easy to learn, it poses some difficulties when one is concerned with real world, rather than theoretical performance.  Object methods are implemented in C which makes top-level logic comparitively very slow, and some optimizations have been applied that result in counterintuitive performance results.  This means that some care is required when using Python as a language for teaching.\n",
    "\n",
    "Here we consider examples of these issues."
   ]
  },
  {
   "cell_type": "markdown",
   "id": "infinite-diploma",
   "metadata": {},
   "source": [
    "# Requirements"
   ]
  },
  {
   "cell_type": "code",
   "execution_count": 68,
   "id": "assured-botswana",
   "metadata": {},
   "outputs": [],
   "source": [
    "import itertools\n",
    "import matplotlib.pyplot as plt\n",
    "%matplotlib inline\n",
    "import numpy as np\n",
    "import random\n",
    "import sys\n",
    "import timeit"
   ]
  },
  {
   "cell_type": "markdown",
   "id": "lined-worship",
   "metadata": {},
   "source": [
    "# Quicksort"
   ]
  },
  {
   "cell_type": "markdown",
   "id": "above-electronics",
   "metadata": {},
   "source": [
    "We implement the quicksort function in two ways:\n",
    "1. purely funcitonal\n",
    "1. iterative, and in-place\n",
    "\n",
    "Since the functional approach requires the creation of many lists and deep recursion, intuitively, it should be slower than the in-place iterative approach that has very little overhead."
   ]
  },
  {
   "cell_type": "markdown",
   "id": "bronze-citizenship",
   "metadata": {},
   "source": [
    "## Testing"
   ]
  },
  {
   "cell_type": "markdown",
   "id": "upper-shooting",
   "metadata": {},
   "source": [
    "To ensure corrrectness of the implementation we need some utility functions.  A function that returns true if the argument is a sorted list, and one to generate all lists of integers upto (not including) a given length."
   ]
  },
  {
   "cell_type": "code",
   "execution_count": 54,
   "id": "worthy-injection",
   "metadata": {},
   "outputs": [],
   "source": [
    "def is_sorted(data):\n",
    "    return all(map(lambda t: t[0] <= t[1], zip(data[:-1], data[1:])))"
   ]
  },
  {
   "cell_type": "code",
   "execution_count": 48,
   "id": "going-traveler",
   "metadata": {},
   "outputs": [],
   "source": [
    "def generate_test_data(max_values):\n",
    "    for nr_values in range(max_values):\n",
    "        for values in itertools.combinations_with_replacement(range(nr_values), nr_values):\n",
    "            for data in itertools.permutations(values):\n",
    "                yield list(data)"
   ]
  },
  {
   "cell_type": "markdown",
   "id": "duplicate-skating",
   "metadata": {},
   "source": [
    "A third function tests whether two given lists have the same elements."
   ]
  },
  {
   "cell_type": "code",
   "execution_count": 51,
   "id": "funny-participant",
   "metadata": {},
   "outputs": [],
   "source": [
    "def have_same_element(data1, data2):\n",
    "    tmp_data = data1.copy()\n",
    "    for value in data2:\n",
    "        tmp_data.remove(value)\n",
    "    return len(tmp_data) == 0"
   ]
  },
  {
   "cell_type": "markdown",
   "id": "detected-feeling",
   "metadata": {},
   "source": [
    "## Implementations"
   ]
  },
  {
   "cell_type": "markdown",
   "id": "tender-element",
   "metadata": {},
   "source": [
    "### Functional implementation"
   ]
  },
  {
   "cell_type": "markdown",
   "id": "preceding-colombia",
   "metadata": {},
   "source": [
    "The partition function returns a tuple with\n",
    "1. the elements of the original list that are smaller than the pivot element,\n",
    "1. the pivot element\n",
    "1. the elements of the original list that are larger or equal than the pivot."
   ]
  },
  {
   "cell_type": "code",
   "execution_count": 1,
   "id": "exclusive-sarah",
   "metadata": {},
   "outputs": [],
   "source": [
    "def partition_functional(data):\n",
    "    smaller, larger = list(), list()\n",
    "    pivot = data[-1]\n",
    "    for value in data[:-1]:\n",
    "        if value < pivot:\n",
    "            smaller.append(value)\n",
    "        else:\n",
    "            larger.append(value)\n",
    "    return smaller, pivot, larger"
   ]
  },
  {
   "cell_type": "markdown",
   "id": "lonely-march",
   "metadata": {},
   "source": [
    "Quicksort is implemented recursively, it will do two recursive calls on the lists returned by the partition function, and return a new list."
   ]
  },
  {
   "cell_type": "code",
   "execution_count": 2,
   "id": "promotional-calcium",
   "metadata": {},
   "outputs": [],
   "source": [
    "def quicksort_functional(data):\n",
    "    if len(data) < 2:\n",
    "        return data\n",
    "    else:\n",
    "        smaller, pivot, larger = partition_functional(data)\n",
    "        return quicksort_functional(smaller) + [pivot] + quicksort_functional(larger)"
   ]
  },
  {
   "cell_type": "markdown",
   "id": "effective-complex",
   "metadata": {},
   "source": [
    "Test the implementation."
   ]
  },
  {
   "cell_type": "code",
   "execution_count": 55,
   "id": "wooden-quarterly",
   "metadata": {},
   "outputs": [],
   "source": [
    "for data in generate_test_data(6):\n",
    "    sorted_data = quicksort_functional(data)\n",
    "    if not (is_sorted(sorted_data) and have_same_element(sorted_data, data)):\n",
    "        print('problem for', data, '->', sorted_data)        "
   ]
  },
  {
   "cell_type": "markdown",
   "id": "intellectual-summit",
   "metadata": {},
   "source": [
    "### Iterative and in-place"
   ]
  },
  {
   "cell_type": "markdown",
   "id": "maritime-elevation",
   "metadata": {},
   "source": [
    "For this implementation, the partition function moves the elments in the list passed innto it, and returns the index of the pivot element when the partition is done."
   ]
  },
  {
   "cell_type": "code",
   "execution_count": 21,
   "id": "alpine-netherlands",
   "metadata": {},
   "outputs": [],
   "source": [
    "def partition_iterative(data, left, right):\n",
    "    pivot = data[right]\n",
    "    insert = left - 1\n",
    "    for i in range(left, right + 1):\n",
    "        if data[i] < pivot:\n",
    "            insert += 1\n",
    "            data[insert], data[i] = data[i], data[insert]\n",
    "    insert += 1\n",
    "    data[insert], data[right] = data[right], data[insert]\n",
    "    return insert"
   ]
  },
  {
   "cell_type": "markdown",
   "id": "diagnostic-hartford",
   "metadata": {},
   "source": [
    "The iterative, in-place implementation of quicksort simulates the recursive function calls by maintaining a stack that holds the left and the right indices of the values that are still to be sorted..  To avoid "
   ]
  },
  {
   "cell_type": "code",
   "execution_count": 41,
   "id": "intended-natural",
   "metadata": {},
   "outputs": [],
   "source": [
    "def quicksort_iterative(data):\n",
    "    if len(data):\n",
    "        stack = [None]*len(data)\n",
    "        top = 0\n",
    "        stack[top] = (0, len(data) - 1)\n",
    "        while top >= 0:\n",
    "            left, right = stack[top]\n",
    "            top -= 1\n",
    "            pivot_idx = partition_iterative(data, left, right)\n",
    "            if left < pivot_idx - 1:\n",
    "                top += 1\n",
    "                stack[top] = (left, pivot_idx - 1)\n",
    "            if pivot_idx + 1 < right:\n",
    "                top += 1\n",
    "                stack[top] = (pivot_idx + 1, right)"
   ]
  },
  {
   "cell_type": "markdown",
   "id": "designing-subcommittee",
   "metadata": {},
   "source": [
    "Test the implementation."
   ]
  },
  {
   "cell_type": "code",
   "execution_count": 56,
   "id": "caroline-helmet",
   "metadata": {},
   "outputs": [],
   "source": [
    "for data in generate_test_data(6):\n",
    "    orig_data = data.copy()\n",
    "    quicksort_iterative(data)\n",
    "    if not (is_sorted(data) and have_same_element(orig_data, data)):\n",
    "        print('problem for', orig_data, '->', data)        "
   ]
  },
  {
   "cell_type": "markdown",
   "id": "beginning-brunei",
   "metadata": {},
   "source": [
    "## Performance comparison"
   ]
  },
  {
   "cell_type": "markdown",
   "id": "architectural-twenty",
   "metadata": {},
   "source": [
    "To measure performance, we run an algorithm (`algorithm`) a number of times (`nr_runs`) on independently generated data of various sizes (`data_sizes`).  Prior to each individual run of the algorithm, the data is initialized to ensure independence between runs and to get a statistically relevant (?) result (`init_data`)."
   ]
  },
  {
   "cell_type": "code",
   "execution_count": 42,
   "id": "registered-payment",
   "metadata": {},
   "outputs": [],
   "source": [
    "def time_algorithm(algoritjhm, nr_runs, data_sizes, init_data):\n",
    "    times = [list(), list()]\n",
    "    for data_size in data_sizes:\n",
    "        for _ in range(nr_runs):\n",
    "            data = init_data(data_size)\n",
    "            time = timeit.timeit(lambda: algoritjhm(data), number=1)\n",
    "            times[0].append(data_size)\n",
    "            times[1].append(time)\n",
    "    return times"
   ]
  },
  {
   "cell_type": "markdown",
   "id": "professional-concrete",
   "metadata": {},
   "source": [
    "### Lists"
   ]
  },
  {
   "cell_type": "markdown",
   "id": "effective-arthritis",
   "metadata": {},
   "source": [
    "In this case, the data is a sequence of floating point values independently sampled from a uniform random distribution of values between 0 and 1."
   ]
  },
  {
   "cell_type": "code",
   "execution_count": 57,
   "id": "sought-stuart",
   "metadata": {},
   "outputs": [],
   "source": [
    "def init_list(n):\n",
    "    return  [random.random() for _ in range(n)]"
   ]
  },
  {
   "cell_type": "markdown",
   "id": "unable-cache",
   "metadata": {},
   "source": [
    "We measure for both implementations and plot the results."
   ]
  },
  {
   "cell_type": "code",
   "execution_count": 44,
   "id": "digital-harrison",
   "metadata": {},
   "outputs": [],
   "source": [
    "data_sizes, times_func_qsort = time_algorithm(quicksort_functional, 10, [5, 10, 50, 100, 500, 1_000, 5_000, 10_000, 50_000], init_list)"
   ]
  },
  {
   "cell_type": "code",
   "execution_count": 45,
   "id": "acquired-string",
   "metadata": {},
   "outputs": [],
   "source": [
    "data_sizes, times_iter_qsort = time_algorithm(quicksort_iterative, 10, [5, 10, 50, 100, 500, 1_000, 5_000, 10_000, 50_000], init_list)"
   ]
  },
  {
   "cell_type": "code",
   "execution_count": 46,
   "id": "antique-flesh",
   "metadata": {},
   "outputs": [
    {
     "data": {
      "image/png": "[encoded data removed]",
      "text/plain": [
       "<Figure size 432x288 with 1 Axes>"
      ]
     },
     "metadata": {
      "needs_background": "light"
     },
     "output_type": "display_data"
    }
   ],
   "source": [
    "_ = plt.loglog(data_sizes, times_func_qsort, '.', label='functional', alpha=0.7)\n",
    "_ = plt.loglog(data_sizes, times_iter_qsort, '.', label='iterative', alpha=0.7)\n",
    "_ = plt.legend()"
   ]
  },
  {
   "cell_type": "markdown",
   "id": "million-cosmetic",
   "metadata": {},
   "source": [
    "Somewhat counterintuitively, the functional implementation yields better performance thatn the iterative in-place implementation.  The former has overhead for\n",
    "* creating many small lists and\n",
    "* many function calls with corresponding updates of the call stack."
   ]
  },
  {
   "cell_type": "markdown",
   "id": "improving-tablet",
   "metadata": {},
   "source": [
    "### Arrays"
   ]
  },
  {
   "cell_type": "markdown",
   "id": "right-diesel",
   "metadata": {},
   "source": [
    "Now the data is a sequence of floating point values independently sampled from a uniform random distribution of values between 0 and 1, but stored in a numpy arrays, rather than a Python list."
   ]
  },
  {
   "cell_type": "code",
   "execution_count": 60,
   "id": "strategic-poison",
   "metadata": {},
   "outputs": [],
   "source": [
    "def init_array(n):\n",
    "    return  np.random.uniform(size=n)"
   ]
  },
  {
   "cell_type": "markdown",
   "id": "blind-score",
   "metadata": {},
   "source": [
    "We measure for both implementations and plot the results."
   ]
  },
  {
   "cell_type": "code",
   "execution_count": 61,
   "id": "revised-reporter",
   "metadata": {},
   "outputs": [],
   "source": [
    "data_sizes, times_func_qsort_array = time_algorithm(quicksort_functional, 10, [5, 10, 50, 100, 500, 1_000, 5_000, 10_000, 50_000], init_array)"
   ]
  },
  {
   "cell_type": "code",
   "execution_count": 62,
   "id": "operational-honolulu",
   "metadata": {},
   "outputs": [],
   "source": [
    "data_sizes, times_iter_qsort_array = time_algorithm(quicksort_iterative, 10, [5, 10, 50, 100, 500, 1_000, 5_000, 10_000, 50_000], init_array)"
   ]
  },
  {
   "cell_type": "code",
   "execution_count": 63,
   "id": "empty-masters",
   "metadata": {},
   "outputs": [
    {
     "data": {
      "image/png": "[encoded data removed]",
      "text/plain": [
       "<Figure size 432x288 with 1 Axes>"
      ]
     },
     "metadata": {
      "needs_background": "light"
     },
     "output_type": "display_data"
    }
   ],
   "source": [
    "_ = plt.loglog(data_sizes, times_func_qsort_array, '.', label='functional', alpha=0.7)\n",
    "_ = plt.loglog(data_sizes, times_iter_qsort_array, '.', label='iterative', alpha=0.7)\n",
    "_ = plt.legend()"
   ]
  },
  {
   "cell_type": "code",
   "execution_count": 64,
   "id": "approved-fitness",
   "metadata": {},
   "outputs": [
    {
     "data": {
      "image/png": "[encoded data removed]",
      "text/plain": [
       "<Figure size 432x288 with 1 Axes>"
      ]
     },
     "metadata": {
      "needs_background": "light"
     },
     "output_type": "display_data"
    }
   ],
   "source": [
    "_ = plt.loglog(data_sizes, times_iter_qsort, '.', label='list', alpha=0.7)\n",
    "_ = plt.loglog(data_sizes, times_iter_qsort_array, '.', label='array', alpha=0.7)\n",
    "_ = plt.legend()"
   ]
  },
  {
   "cell_type": "markdown",
   "id": "equal-switzerland",
   "metadata": {},
   "source": [
    "Apparently, accessing numpy array elements individually is slower than one would expect.  there are two reasons:\n",
    "1. Python lists contain pointers to Python objects while a value in a numpy array a Python `float` object has to be constructed, and\n",
    "1. numpy array indexing is more sophisticated (and hence slower) than Python list indexing."
   ]
  },
  {
   "cell_type": "markdown",
   "id": "improving-hepatitis",
   "metadata": {},
   "source": [
    "## However..."
   ]
  },
  {
   "cell_type": "markdown",
   "id": "hazardous-china",
   "metadata": {},
   "source": [
    "Performance is not the whole story, the recursion used in the functional implementation will cause a stack overflow for long lists or lists that are (almost) sorted and not so long."
   ]
  },
  {
   "cell_type": "code",
   "execution_count": 69,
   "id": "lonely-pledge",
   "metadata": {},
   "outputs": [
    {
     "name": "stderr",
     "output_type": "stream",
     "text": [
      "error: maximum recursion depth exceeded in comparison\n"
     ]
    }
   ],
   "source": [
    "try:\n",
    "    quicksort_functional(list(value for value in range(5_000)))\n",
    "except Exception as e:\n",
    "    print('error:', e, file=sys.stderr)"
   ]
  },
  {
   "cell_type": "markdown",
   "id": "interesting-virginia",
   "metadata": {},
   "source": [
    "# Character counts"
   ]
  },
  {
   "cell_type": "code",
   "execution_count": 77,
   "id": "prompt-manual",
   "metadata": {},
   "outputs": [],
   "source": [
    "def count_iterative(dna):\n",
    "    nr_As, nr_Cs, nr_Gs, nr_Ts = 0, 0, 0, 0\n",
    "    for nucl in dna:\n",
    "        if nucl == 'A':\n",
    "            nr_As += 1\n",
    "        elif nucl == 'C':\n",
    "            nr_Cs += 1\n",
    "        elif nucl == 'G':\n",
    "            nr_Gs += 1\n",
    "        elif nucl == 'T':\n",
    "            nr_Ts += 1\n",
    "    return nr_As, nr_Cs, nr_Gs, nr_Ts"
   ]
  },
  {
   "cell_type": "code",
   "execution_count": 72,
   "id": "finnish-minnesota",
   "metadata": {},
   "outputs": [],
   "source": [
    "def count_iterative_hash(dna):\n",
    "    counts = dict()\n",
    "    for nucl in dna:\n",
    "        counts[nucl] = counts.get(nucl, 0) + 1\n",
    "    return counts['A'], counts['C'], counts['G'], counts['T']"
   ]
  },
  {
   "cell_type": "code",
   "execution_count": 71,
   "id": "floating-portugal",
   "metadata": {},
   "outputs": [],
   "source": [
    "def count_function(dna):\n",
    "    return (\n",
    "        dna.count('A'),\n",
    "        dna.count('C'),\n",
    "        dna.count('G'),\n",
    "        dna.count('T'),\n",
    "    )"
   ]
  },
  {
   "cell_type": "code",
   "execution_count": 75,
   "id": "indian-trading",
   "metadata": {},
   "outputs": [],
   "source": [
    "dna = ''.join(random.choices('ACGT', k=1_000_000))"
   ]
  },
  {
   "cell_type": "code",
   "execution_count": 78,
   "id": "injured-mirror",
   "metadata": {},
   "outputs": [
    {
     "name": "stdout",
     "output_type": "stream",
     "text": [
      "72.1 ms ± 909 µs per loop (mean ± std. dev. of 7 runs, 10 loops each)\n"
     ]
    }
   ],
   "source": [
    "%timeit count_iterative(dna)"
   ]
  },
  {
   "cell_type": "code",
   "execution_count": 79,
   "id": "combined-beaver",
   "metadata": {},
   "outputs": [
    {
     "name": "stdout",
     "output_type": "stream",
     "text": [
      "78.9 ms ± 154 µs per loop (mean ± std. dev. of 7 runs, 10 loops each)\n"
     ]
    }
   ],
   "source": [
    "%timeit count_iterative_hash(dna)"
   ]
  },
  {
   "cell_type": "code",
   "execution_count": 80,
   "id": "formal-allergy",
   "metadata": {},
   "outputs": [
    {
     "name": "stdout",
     "output_type": "stream",
     "text": [
      "9.02 ms ± 80.8 µs per loop (mean ± std. dev. of 7 runs, 100 loops each)\n"
     ]
    }
   ],
   "source": [
    "%timeit count_function(dna)"
   ]
  },
  {
   "cell_type": "markdown",
   "id": "bottom-chart",
   "metadata": {},
   "source": [
    "Again we get a counterintuitive result.  One would expect that iterating over a string once, as in the iterative implementation is faster than iterating over the string four times as is done in the implementation that uses `str.count`.\n",
    "\n",
    "The reason in this case is that the `str.count` method is implemented as a C function that operates directly on the raw character representation of the Python string."
   ]
  },
  {
   "cell_type": "markdown",
   "id": "d07c739e-f984-443c-8ff9-f02c30d2c708",
   "metadata": {},
   "source": [
    "# Method resolution order"
   ]
  },
  {
   "cell_type": "markdown",
   "id": "1506ce19-720e-45ad-9158-c1a1270251ed",
   "metadata": {},
   "source": [
    "There is an oddity in the order in which Python searches for methods in an object instance.  This is illustrated in the example below.  The `say_something` method and the `__repr__` are both defined twice, once at instance level in the `__init__` function, once as methods in the class."
   ]
  },
  {
   "cell_type": "code",
   "execution_count": 5,
   "id": "0e178d52-d9cd-4c74-8dd3-428efe716f0b",
   "metadata": {},
   "outputs": [],
   "source": [
    "class Gadget:\n",
    "    \n",
    "    def __init__(self):\n",
    "        self.say_something = lambda: print('hello')\n",
    "        self.__repr__ = lambda: 'it is I, Leclair'\n",
    "        \n",
    "    def say_something(self):\n",
    "        print('bye')\n",
    "        \n",
    "    def __repr__(self):\n",
    "        return 'listen very carefully, I will say this only once'"
   ]
  },
  {
   "cell_type": "code",
   "execution_count": 2,
   "id": "f1a163ef-b4b6-44aa-ba14-e8f9d349eb20",
   "metadata": {},
   "outputs": [],
   "source": [
    "gadget = Gadget()"
   ]
  },
  {
   "cell_type": "markdown",
   "id": "7010618f-c9f6-44fd-a9d0-01fb99a95cb0",
   "metadata": {},
   "source": [
    "When the `__repr__` method is invoked, the class-level method gets priority."
   ]
  },
  {
   "cell_type": "code",
   "execution_count": 3,
   "id": "0d7b89ce-93fe-4465-b5ea-17873bac3ac8",
   "metadata": {},
   "outputs": [
    {
     "name": "stdout",
     "output_type": "stream",
     "text": [
      "listen to me very carefully, I will say this only once\n"
     ]
    }
   ],
   "source": [
    "print(gadget)"
   ]
  },
  {
   "cell_type": "markdown",
   "id": "c7302665-2f47-45b5-ab99-bdc2121e2732",
   "metadata": {},
   "source": [
    "However, for the `say_something` method, it is the instance method that is invoked."
   ]
  },
  {
   "cell_type": "code",
   "execution_count": 4,
   "id": "55942d8c-b30a-467c-af2c-f796b04e468c",
   "metadata": {},
   "outputs": [
    {
     "name": "stdout",
     "output_type": "stream",
     "text": [
      "hello\n"
     ]
    }
   ],
   "source": [
    "gadget.say_something()"
   ]
  },
  {
   "cell_type": "markdown",
   "id": "2e096a80-aeda-43d0-8432-c9cc03eb3b13",
   "metadata": {},
   "source": [
    "Typically, this should not cause issues since mostly, you don't use instance methods, except... for dependency injection.\n",
    "\n",
    "The following example illustrates this.  Animals are created with an optional function object that determines the sound the animal produces (the dependency).  If there is an instance method, it will be invoked, if not, a default method is used."
   ]
  },
  {
   "cell_type": "code",
   "execution_count": 6,
   "id": "2347d234-50b9-47d8-8b59-7a676aab9653",
   "metadata": {},
   "outputs": [],
   "source": [
    "class Animal:\n",
    "    \n",
    "    def __init__(self, say=None):\n",
    "        if say is not None:\n",
    "            self.say = say\n",
    "            \n",
    "    def say(self):\n",
    "        print(\"I've nothing to say\")"
   ]
  },
  {
   "cell_type": "code",
   "execution_count": 7,
   "id": "65bf0068-6691-46ee-bd76-30a18694ac84",
   "metadata": {},
   "outputs": [],
   "source": [
    "dog = Animal(lambda: print('woof'))"
   ]
  },
  {
   "cell_type": "code",
   "execution_count": 8,
   "id": "5cd055cb-1ead-4986-8cba-719a81b4990f",
   "metadata": {},
   "outputs": [],
   "source": [
    "cat = Animal(lambda: print('meow'))"
   ]
  },
  {
   "cell_type": "code",
   "execution_count": 9,
   "id": "7b106022-5a7c-4ade-baf8-84a5da11c27f",
   "metadata": {},
   "outputs": [],
   "source": [
    "donkey = Animal()"
   ]
  },
  {
   "cell_type": "code",
   "execution_count": 10,
   "id": "3b7c37ae-70c6-47e6-8aec-ac238df601ae",
   "metadata": {},
   "outputs": [
    {
     "name": "stdout",
     "output_type": "stream",
     "text": [
      "woof\n"
     ]
    }
   ],
   "source": [
    "dog.say()"
   ]
  },
  {
   "cell_type": "code",
   "execution_count": 11,
   "id": "be55436e-26d2-4fc5-a8a5-12a3d9e95a7c",
   "metadata": {},
   "outputs": [
    {
     "name": "stdout",
     "output_type": "stream",
     "text": [
      "meow\n"
     ]
    }
   ],
   "source": [
    "cat.say()"
   ]
  },
  {
   "cell_type": "code",
   "execution_count": 12,
   "id": "a1b79b1a-9d46-4d5f-9303-374624de7d84",
   "metadata": {},
   "outputs": [
    {
     "name": "stdout",
     "output_type": "stream",
     "text": [
      "I've nothing to say\n"
     ]
    }
   ],
   "source": [
    "donkey.say()"
   ]
  },
  {
   "cell_type": "markdown",
   "id": "88f5ac7c-fcda-44a6-a2ef-7ef93a2708f0",
   "metadata": {},
   "source": [
    "This approach works well, but would of course fail for dunder-functions."
   ]
  },
  {
   "cell_type": "markdown",
   "id": "6ffd6c83-6d43-4fe0-a49d-c249a22cfa65",
   "metadata": {},
   "source": [
    "# Rounding"
   ]
  },
  {
   "cell_type": "markdown",
   "id": "0c768a47-7031-4252-b513-6103344fb8c8",
   "metadata": {},
   "source": [
    "Python has a built-in `round` function that may surprise you."
   ]
  },
  {
   "cell_type": "code",
   "execution_count": 20,
   "id": "147a80c8-edd7-41a6-8dcc-e5809b2eac4e",
   "metadata": {},
   "outputs": [
    {
     "name": "stdout",
     "output_type": "stream",
     "text": [
      "1/2 -> 0.0\n",
      "3/2 -> 2.0\n",
      "5/2 -> 2.0\n",
      "7/2 -> 4.0\n",
      "9/2 -> 4.0\n"
     ]
    }
   ],
   "source": [
    "for numerator in range(1, 11, 2):\n",
    "    print(f'{numerator}/2 -> {round(numerator/2, 0)}')"
   ]
  },
  {
   "cell_type": "markdown",
   "id": "60cb7b3d-5449-4d27-b885-ae63809cdef5",
   "metadata": {},
   "source": [
    "Python uses bankers' rounding, i.e., a floating point value is rounded to the nearest even integer.  So\n",
    "* 0.5 is rounded down to 0,\n",
    "* 1.5 is rounded up to 2,\n",
    "* 2.5 is rounded down to 2,\n",
    "* 3.5 is rounded up to 4,\n",
    "* 4.5 is rounded down to 4."
   ]
  }
 ],
 "metadata": {
  "kernelspec": {
   "display_name": "Python 3 (ipykernel)",
   "language": "python",
   "name": "python3"
  },
  "language_info": {
   "codemirror_mode": {
    "name": "ipython",
    "version": 3
   },
   "file_extension": ".py",
   "mimetype": "text/x-python",
   "name": "python",
   "nbconvert_exporter": "python",
   "pygments_lexer": "ipython3",
   "version": "3.10.4"
  },
  "toc-autonumbering": true
 },
 "nbformat": 4,
 "nbformat_minor": 5
}
