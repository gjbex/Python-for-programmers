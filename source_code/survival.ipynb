{
 "cells": [
  {
   "cell_type": "markdown",
   "metadata": {},
   "source": [
    "# Requirements"
   ]
  },
  {
   "cell_type": "code",
   "execution_count": 15,
   "metadata": {},
   "outputs": [],
   "source": [
    "import matplotlib.pyplot as plt\n",
    "%matplotlib inline\n",
    "import random"
   ]
  },
  {
   "cell_type": "markdown",
   "metadata": {},
   "source": [
    "# Problem setting"
   ]
  },
  {
   "cell_type": "markdown",
   "metadata": {},
   "source": [
    "If each individual in a population has a probability of producing offspring, will that population survive or not?\n",
    "\n",
    "The distribution of offspring for each individual is specified as a list, e.g., `[0, 0, 1, 1, 2]`.  So an individual will produce no offspring with probability $2/5$, have one child with probability $2/5$ and two children with probability $1/5$."
   ]
  },
  {
   "cell_type": "markdown",
   "metadata": {},
   "source": [
    "# Implementation"
   ]
  },
  {
   "cell_type": "markdown",
   "metadata": {},
   "source": [
    "The size of the next generation is determined by the current population size, and the distribution."
   ]
  },
  {
   "cell_type": "code",
   "execution_count": 4,
   "metadata": {},
   "outputs": [],
   "source": [
    "def compute_next_generation(population_size, children_distr):\n",
    "    new_population_size = 0\n",
    "    for _ in range(population_size):\n",
    "        new_population_size += random.choice(children_distr)\n",
    "    return new_population_size"
   ]
  },
  {
   "cell_type": "markdown",
   "metadata": {},
   "source": [
    "For example, when we start with a single individual."
   ]
  },
  {
   "cell_type": "code",
   "execution_count": 9,
   "metadata": {},
   "outputs": [
    {
     "name": "stdout",
     "output_type": "stream",
     "text": [
      "  0: 1\n",
      "  1: 2\n",
      "  2: 4\n",
      "  3: 9\n",
      "  4: 11\n",
      "  5: 16\n",
      "  6: 20\n",
      "  7: 34\n",
      "  8: 48\n",
      "  9: 64\n",
      " 10: 81\n",
      " 11: 103\n",
      " 12: 147\n",
      " 13: 212\n",
      " 14: 272\n",
      " 15: 336\n",
      " 16: 446\n",
      " 17: 560\n",
      " 18: 737\n",
      " 19: 978\n"
     ]
    }
   ],
   "source": [
    "children_distr = [0, 0, 1, 1, 2, 2, 3]\n",
    "population_size = 1\n",
    "for generation in range(1, 21):\n",
    "    population_size = compute_next_generation(population_size, children_distr)\n",
    "    print(f'{generation:3d}: {population_size}')"
   ]
  },
  {
   "cell_type": "markdown",
   "metadata": {},
   "source": [
    "Clearly, the population grows.\n",
    "\n",
    "To experiment a bit further, we write a function that returns two lists, one with the number of the generation, the other with the corresponding size of that generation.  This way, we can create a plot."
   ]
  },
  {
   "cell_type": "code",
   "execution_count": 22,
   "metadata": {},
   "outputs": [],
   "source": [
    "def compute_generations(children_distr, nr_generations):\n",
    "    generations = list(range( nr_generations + 1))\n",
    "    population_sizes = [1]\n",
    "    for _ in generations[1:]:\n",
    "        population_sizes.append(compute_next_generation(population_sizes[-1], children_distr))\n",
    "    return generations, population_sizes"
   ]
  },
  {
   "cell_type": "markdown",
   "metadata": {},
   "source": [
    "Let's try it with the following distribution."
   ]
  },
  {
   "cell_type": "code",
   "execution_count": 23,
   "metadata": {},
   "outputs": [],
   "source": [
    "die_out_distr = [0, 0, 1, 2]"
   ]
  },
  {
   "cell_type": "code",
   "execution_count": 29,
   "metadata": {},
   "outputs": [
    {
     "data": {
      "text/plain": [
       "[<matplotlib.lines.Line2D at 0x7fe57f769710>]"
      ]
     },
     "execution_count": 29,
     "metadata": {},
     "output_type": "execute_result"
    },
    {
     "data": {
      "image/png": "[encoded data removed]",
      "text/plain": [
       "<Figure size 432x288 with 1 Axes>"
      ]
     },
     "metadata": {
      "needs_background": "light"
     },
     "output_type": "display_data"
    }
   ],
   "source": [
    "generations, population_sizes = compute_generations(die_out_distr, 20)\n",
    "plt.plot(generations, population_sizes)"
   ]
  },
  {
   "cell_type": "markdown",
   "metadata": {},
   "source": [
    "They seem to die out.\n",
    "\n",
    "Combining this into a function for convenience."
   ]
  },
  {
   "cell_type": "code",
   "execution_count": 30,
   "metadata": {},
   "outputs": [],
   "source": [
    "def plot_generations(distr, nr_generations):\n",
    "    generations, population_sizes = compute_generations(distr, nr_generations)\n",
    "    plt.plot(generations, population_sizes)"
   ]
  },
  {
   "cell_type": "code",
   "execution_count": 31,
   "metadata": {},
   "outputs": [
    {
     "data": {
      "image/png": "[encoded data removed]",
      "text/plain": [
       "<Figure size 432x288 with 1 Axes>"
      ]
     },
     "metadata": {
      "needs_background": "light"
     },
     "output_type": "display_data"
    }
   ],
   "source": [
    "plot_generations(die_out_distr, 10)"
   ]
  },
  {
   "cell_type": "markdown",
   "metadata": {},
   "source": [
    "Let's try a different distribution that is a bit more favorable to survival."
   ]
  },
  {
   "cell_type": "code",
   "execution_count": 32,
   "metadata": {},
   "outputs": [
    {
     "data": {
      "image/png": "[encoded data removed]",
      "text/plain": [
       "<Figure size 432x288 with 1 Axes>"
      ]
     },
     "metadata": {
      "needs_background": "light"
     },
     "output_type": "display_data"
    }
   ],
   "source": [
    "viable_distr = [0, 0, 1, 1, 2, 2, 2, 3]\n",
    "plot_generations(viable_distr, 20)"
   ]
  },
  {
   "cell_type": "code",
   "execution_count": null,
   "metadata": {},
   "outputs": [],
   "source": []
  }
 ],
 "metadata": {
  "kernelspec": {
   "display_name": "Python 3",
   "language": "python",
   "name": "python3"
  },
  "language_info": {
   "codemirror_mode": {
    "name": "ipython",
    "version": 3
   },
   "file_extension": ".py",
   "mimetype": "text/x-python",
   "name": "python",
   "nbconvert_exporter": "python",
   "pygments_lexer": "ipython3",
   "version": "3.7.9"
  }
 },
 "nbformat": 4,
 "nbformat_minor": 4
}
