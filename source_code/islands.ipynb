{
 "cells": [
  {
   "cell_type": "markdown",
   "id": "05b5376a-578d-4ed1-8c90-25ac3d32ff35",
   "metadata": {},
   "source": [
    "# Requirements"
   ]
  },
  {
   "cell_type": "code",
   "execution_count": 27,
   "id": "4363c329-f572-455d-9459-edf752ce79a8",
   "metadata": {},
   "outputs": [],
   "source": [
    "import itertools\n",
    "import random\n",
    "import warnings"
   ]
  },
  {
   "cell_type": "markdown",
   "id": "3ea27891-1a3c-45da-ac81-57c914837a53",
   "metadata": {},
   "source": [
    "# Problem"
   ]
  },
  {
   "cell_type": "markdown",
   "id": "05b3ff8f-3b86-4d87-9929-8569f6a40a6e",
   "metadata": {},
   "source": [
    "Consider a \"map\", i.e., a matrix of values of 0 and 1.  0 represents water, 1 represents land.  Islands are formed by elements that have the value 1 and that touch horizontally or vertically, not diagonally."
   ]
  },
  {
   "cell_type": "markdown",
   "id": "eb34ef89-77e6-4976-82b3-ed05f836872e",
   "metadata": {},
   "source": [
    "We start by writing a function to create a map."
   ]
  },
  {
   "cell_type": "code",
   "execution_count": 14,
   "id": "9c4e1c7e-4e33-47d4-8028-3510154e295e",
   "metadata": {},
   "outputs": [],
   "source": [
    "def create_map(nr_rows, nr_cols):\n",
    "    return [random.choices((0, 1), k=nr_cols)\n",
    "            for _ in range(nr_rows)]"
   ]
  },
  {
   "cell_type": "code",
   "execution_count": 16,
   "id": "febd5d8f-c7d8-4b9b-9f44-5c3d6a0b615d",
   "metadata": {},
   "outputs": [],
   "source": [
    "random.seed(1234)"
   ]
  },
  {
   "cell_type": "code",
   "execution_count": 17,
   "id": "e0d24aed-6b02-49b7-9753-cf4aadb374ee",
   "metadata": {},
   "outputs": [
    {
     "data": {
      "text/plain": [
       "[[1, 0, 0, 1, 1, 1],\n",
       " [1, 0, 1, 0, 0, 1],\n",
       " [0, 1, 1, 0, 0, 0],\n",
       " [0, 0, 1, 0, 1, 0],\n",
       " [1, 0, 1, 0, 1, 1]]"
      ]
     },
     "execution_count": 17,
     "metadata": {},
     "output_type": "execute_result"
    }
   ],
   "source": [
    "world_map = create_map(5, 6)\n",
    "world_map"
   ]
  },
  {
   "cell_type": "markdown",
   "id": "ca5a1019-6fc5-4cd8-8d2a-2836e7101e38",
   "metadata": {},
   "source": [
    "The problem is to find the islands.  In the map above, we have the following islands:\n",
    "* {(0, 0), (1, 0)}\n",
    "* {(0, 3), (0, 4), (0, 5), (1, 5)}\n",
    "* {(1, 2), (2, 1), (2, 2), (3, 2), (4, 2)}\n",
    "* {(3, 4), (4, 4), (4, 5)}\n",
    "* {(4, 0)}"
   ]
  },
  {
   "cell_type": "markdown",
   "id": "e84623fb-3ec5-4240-b29d-b17c75b4f2aa",
   "metadata": {},
   "source": [
    "# Implementation"
   ]
  },
  {
   "cell_type": "code",
   "execution_count": 18,
   "id": "3051f703-5baa-47d6-8364-f681d06683f5",
   "metadata": {},
   "outputs": [],
   "source": [
    "def find_islands(world_map):\n",
    "    islands = []\n",
    "    for row_nr, row in enumerate(world_map):\n",
    "        for col_nr in range(len(row)):\n",
    "            if world_map[row_nr][col_nr]:\n",
    "                next_islands = []\n",
    "                # A location can be added to 0, 1, or 2 islands.  If it\n",
    "                # is added to 2 islands, it forms a bridge between them and\n",
    "                # they should be merged.\n",
    "                enlarged_islands = []\n",
    "                for island in islands:\n",
    "                    if (row_nr, col_nr - 1) in island or (row_nr - 1, col_nr) in island:\n",
    "                        island.add((row_nr, col_nr))\n",
    "                        enlarged_islands.append(island)\n",
    "                    else:\n",
    "                        next_islands.append(island)\n",
    "                match len(enlarged_islands):\n",
    "                    case 0:\n",
    "                        # The location wasn't added ot any existing island, so it forms\n",
    "                        # an island by itself.\n",
    "                        next_islands.append({(row_nr, col_nr)})\n",
    "                    case 1:\n",
    "                        # The location was added to a single existing island.\n",
    "                        next_islands.append(enlarged_islands[0])\n",
    "                    case 2:\n",
    "                        # The location was added to 2 islands, they have to be merged.\n",
    "                        new_island = enlarged_islands[0].union(enlarged_islands[1])\n",
    "                        next_islands.append(new_island)\n",
    "                    case _:\n",
    "                        warnings.warn(\"# error\")\n",
    "                islands = next_islands\n",
    "    return islands            "
   ]
  },
  {
   "cell_type": "code",
   "execution_count": 19,
   "id": "69a96fd9-1d1b-41f3-a93a-c096ef080bc2",
   "metadata": {},
   "outputs": [
    {
     "data": {
      "text/plain": [
       "[[1, 0, 0, 1, 1, 1],\n",
       " [1, 0, 1, 0, 0, 1],\n",
       " [0, 1, 1, 0, 0, 0],\n",
       " [0, 0, 1, 0, 1, 0],\n",
       " [1, 0, 1, 0, 1, 1]]"
      ]
     },
     "execution_count": 19,
     "metadata": {},
     "output_type": "execute_result"
    }
   ],
   "source": [
    "world_map"
   ]
  },
  {
   "cell_type": "code",
   "execution_count": 20,
   "id": "e9127210-2bf6-4d75-95cd-4082110cbf1a",
   "metadata": {},
   "outputs": [
    {
     "data": {
      "text/plain": [
       "[{(0, 0), (1, 0)},\n",
       " {(0, 3), (0, 4), (0, 5), (1, 5)},\n",
       " {(4, 0)},\n",
       " {(1, 2), (2, 1), (2, 2), (3, 2), (4, 2)},\n",
       " {(3, 4), (4, 4), (4, 5)}]"
      ]
     },
     "execution_count": 20,
     "metadata": {},
     "output_type": "execute_result"
    }
   ],
   "source": [
    "find_islands(world_map)"
   ]
  },
  {
   "cell_type": "markdown",
   "id": "c54781f7-e8fb-450b-8d45-cb29eb5725dd",
   "metadata": {},
   "source": [
    "# Verification"
   ]
  },
  {
   "cell_type": "code",
   "execution_count": 21,
   "id": "89919c3e-5823-4490-863f-3d362e441b14",
   "metadata": {},
   "outputs": [],
   "source": [
    "def is_on_map(location, world_map):\n",
    "    nr_rows, nr_cols = len(world_map), len(world_map[0])\n",
    "    return 0 <= location[0] < nr_rows and 0 <= location[1] < nr_cols"
   ]
  },
  {
   "cell_type": "code",
   "execution_count": 22,
   "id": "5249834f-1a01-4823-b981-1b0c3a20c5b4",
   "metadata": {},
   "outputs": [],
   "source": [
    "def get_neighbours(location, world_map):\n",
    "    neighbours = []\n",
    "    for delta in (-1, 1):\n",
    "        neighbour = (location[0] + delta, location[1])\n",
    "        if is_on_map(neighbour, world_map):\n",
    "            neighbours.append(neighbour)\n",
    "        neighbour = (location[0], location[1] + delta)\n",
    "        if is_on_map(neighbour, world_map):\n",
    "            neighbours.append(neighbour)\n",
    "    return neighbours"
   ]
  },
  {
   "cell_type": "code",
   "execution_count": 23,
   "id": "d440f138-1fb6-4b68-b7fb-0204ce4ba54c",
   "metadata": {},
   "outputs": [],
   "source": [
    "def is_island(island, world_map):\n",
    "    for location in island:\n",
    "        if world_map[location[0]][location[1]] != 1:\n",
    "            return False\n",
    "        for neighbour in get_neighbours(location, world_map):\n",
    "            if world_map[neighbour[0]][neighbour[1]] == 1 and neighbour not in island:\n",
    "                return False\n",
    "            if world_map[neighbour[0]][neighbour[1]] == 0 and neighbour in island:\n",
    "                return False\n",
    "    return True"
   ]
  },
  {
   "cell_type": "code",
   "execution_count": 30,
   "id": "31a9ea41-357b-47bc-a254-e5a7744da5c9",
   "metadata": {},
   "outputs": [],
   "source": [
    "def are_islands(islands, world_map):\n",
    "    for island in islands:\n",
    "        if not is_island(island, world_map):\n",
    "            return False\n",
    "    for i, island1 in enumerate(islands):\n",
    "        for island2 in islands[i + 1:]:\n",
    "            if island1.intersection(island2):\n",
    "                return False\n",
    "    nr_rows, nr_cols = len(world_map), len(world_map[0])\n",
    "    all_land = {(i, j) for i, j in itertools.product(range(nr_rows), range(nr_cols))\n",
    "                if world_map[i][j] == 1}\n",
    "    all_island_land = set()\n",
    "    for island in islands:\n",
    "        all_island_land.update(island)\n",
    "    return all_land == all_island_land"
   ]
  },
  {
   "cell_type": "code",
   "execution_count": 31,
   "id": "4a9ece8e-8687-40cc-aa8e-77319390efb0",
   "metadata": {},
   "outputs": [
    {
     "data": {
      "text/plain": [
       "True"
      ]
     },
     "execution_count": 31,
     "metadata": {},
     "output_type": "execute_result"
    }
   ],
   "source": [
    "are_islands(islands, world_map)"
   ]
  },
  {
   "cell_type": "code",
   "execution_count": 32,
   "id": "c40c3177-5f12-4124-9f21-017ce2260f74",
   "metadata": {},
   "outputs": [],
   "source": [
    "for _ in range(100):\n",
    "    world_map = create_map(20, 20)\n",
    "    islands = find_islands(world_map)\n",
    "    if not are_islands(islands, world_map):\n",
    "        print(world_map)"
   ]
  },
  {
   "cell_type": "code",
   "execution_count": null,
   "id": "b20f8f13-6ed8-4bd5-bdf9-9539d38dd4c2",
   "metadata": {},
   "outputs": [],
   "source": []
  }
 ],
 "metadata": {
  "kernelspec": {
   "display_name": "Python 3 (ipykernel)",
   "language": "python",
   "name": "python3"
  },
  "language_info": {
   "codemirror_mode": {
    "name": "ipython",
    "version": 3
   },
   "file_extension": ".py",
   "mimetype": "text/x-python",
   "name": "python",
   "nbconvert_exporter": "python",
   "pygments_lexer": "ipython3",
   "version": "3.10.4"
  }
 },
 "nbformat": 4,
 "nbformat_minor": 5
}
