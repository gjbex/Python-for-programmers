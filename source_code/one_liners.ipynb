{
 "cells": [
  {
   "cell_type": "markdown",
   "id": "bec5b0b9-8dcf-4dc9-9138-7f3fe484977a",
   "metadata": {},
   "source": [
    "# Note of caution"
   ]
  },
  {
   "cell_type": "markdown",
   "id": "ed88a84c-75c7-4aa8-a1c6-19b8f7eb1378",
   "metadata": {},
   "source": [
    "Although it is fun to write one-liners, it is very often bad practice.  One-liners are hard to read, and hence very hard to maintain.  If you feel the need to format your one-liner over multiple lines, you are definitely on the wrong track for production code.\n",
    "\n",
    "The code samples below are mostly for recreational purposes (\"because we can\") and not intended in any way as examples of good coding practice."
   ]
  },
  {
   "cell_type": "markdown",
   "id": "fb69dff7-51e2-450f-9f93-ba3ae9dbbec6",
   "metadata": {},
   "source": [
    "# Product"
   ]
  },
  {
   "cell_type": "markdown",
   "id": "d606684c-76e8-4e41-b8e6-f10fd8faead1",
   "metadata": {},
   "source": [
    "Write a one-line function that computes the product of the elements of a list.  Don't use `math.prod` or `functools.reduce`."
   ]
  },
  {
   "cell_type": "code",
   "execution_count": 1,
   "id": "533742e1-01b4-4a40-b338-d1dd0b884e62",
   "metadata": {},
   "outputs": [],
   "source": [
    "def prod(data):\n",
    "    return 1 if not data else data[0]*prod(data[1:])"
   ]
  },
  {
   "cell_type": "code",
   "execution_count": 2,
   "id": "2a7bf872-023d-41dc-9c15-7fdebc12b35a",
   "metadata": {},
   "outputs": [
    {
     "data": {
      "text/plain": [
       "84"
      ]
     },
     "execution_count": 2,
     "metadata": {},
     "output_type": "execute_result"
    }
   ],
   "source": [
    "prod([3, 4, 7])"
   ]
  },
  {
   "cell_type": "code",
   "execution_count": 3,
   "id": "624a1677-08ea-495f-af33-332e6b4391ab",
   "metadata": {},
   "outputs": [
    {
     "data": {
      "text/plain": [
       "3"
      ]
     },
     "execution_count": 3,
     "metadata": {},
     "output_type": "execute_result"
    }
   ],
   "source": [
    "prod([3])"
   ]
  },
  {
   "cell_type": "code",
   "execution_count": 4,
   "id": "fbdf3a63-aab3-4e4a-b7b1-1edde34b1756",
   "metadata": {},
   "outputs": [
    {
     "data": {
      "text/plain": [
       "1"
      ]
     },
     "execution_count": 4,
     "metadata": {},
     "output_type": "execute_result"
    }
   ],
   "source": [
    "prod([])"
   ]
  },
  {
   "cell_type": "markdown",
   "id": "35d7dc68-d99e-4c8b-ba1e-10aeebdab597",
   "metadata": {},
   "source": [
    "# Happy numbers"
   ]
  },
  {
   "cell_type": "markdown",
   "id": "b256ef84-8d8b-4803-b446-89cc71af8ff6",
   "metadata": {},
   "source": [
    "A number is a happy number when you end up with 1 by repeatedly applying the following rule: sum thesquares of the digists.  If you end up with a one-digit number distinct from 1, the number is not a happy one."
   ]
  },
  {
   "cell_type": "markdown",
   "id": "f0f5d31d-2db0-491b-a702-e46645735bf2",
   "metadata": {},
   "source": [
    "Reference implementation that is less tedious than a one-liner."
   ]
  },
  {
   "cell_type": "code",
   "execution_count": 6,
   "id": "e09d900e-4d36-4d08-87d4-a47d67f5e395",
   "metadata": {},
   "outputs": [],
   "source": [
    "def is_happy_ref(n, done=[]):\n",
    "    if n != 1:\n",
    "        n_new = sum(map(lambda d: int(d)**2, str(n)))\n",
    "        if n_new in done:\n",
    "            return False\n",
    "        else:\n",
    "            return is_happy_ref(n_new, done + [n_new])\n",
    "    else:\n",
    "        return True"
   ]
  },
  {
   "cell_type": "code",
   "execution_count": 7,
   "id": "69b21621-06b9-4d06-84da-9c00565703ca",
   "metadata": {},
   "outputs": [
    {
     "name": "stdout",
     "output_type": "stream",
     "text": [
      "1\n",
      "7\n",
      "10\n",
      "13\n",
      "19\n",
      "23\n",
      "28\n",
      "31\n",
      "32\n"
     ]
    }
   ],
   "source": [
    "for n in range(34):\n",
    "    if is_happy_ref(n):\n",
    "        print(n)"
   ]
  },
  {
   "cell_type": "markdown",
   "id": "043c064f-4253-488d-8fe8-2278a2e4f5f9",
   "metadata": {},
   "source": [
    "Actual implementation as one-liner."
   ]
  },
  {
   "cell_type": "code",
   "execution_count": 26,
   "id": "b30cbd46-8c6c-47be-be55-d8f2ea2d239d",
   "metadata": {},
   "outputs": [],
   "source": [
    "def is_happy(n, done=[]):\n",
    "    return n == 1 or \\\n",
    "        (is_happy(new_n, done + [new_n]) \\\n",
    "             if (new_n := sum(map(lambda d: int(d)**2, str(n)))) not in done else\n",
    "         False)"
   ]
  },
  {
   "cell_type": "code",
   "execution_count": 27,
   "id": "2165c18e-3f0d-4523-848d-0d8f087683d4",
   "metadata": {},
   "outputs": [
    {
     "name": "stdout",
     "output_type": "stream",
     "text": [
      "1\n",
      "7\n",
      "10\n",
      "13\n",
      "19\n",
      "23\n",
      "28\n",
      "31\n",
      "32\n"
     ]
    }
   ],
   "source": [
    "for n in range(34):\n",
    "    if is_happy(n):\n",
    "        print(n)"
   ]
  },
  {
   "cell_type": "markdown",
   "id": "de9696ef-e32b-419d-ad1d-6147fd7b6e8a",
   "metadata": {
    "tags": []
   },
   "source": [
    "# Greatest common divisor"
   ]
  },
  {
   "cell_type": "markdown",
   "id": "a5a885f3-273a-4b65-9ebb-81c24ce33911",
   "metadata": {},
   "source": [
    "Compute the greatest common divisor of two positive integers.  Don't use `math.gcd`."
   ]
  },
  {
   "cell_type": "code",
   "execution_count": 10,
   "id": "0d507836-2bd5-44fe-9b83-839310e7457a",
   "metadata": {},
   "outputs": [],
   "source": [
    "def gcd(a, b):\n",
    "    return a if a == b else gcd(a - b, b) if a > b else gcd(a, b - a)"
   ]
  },
  {
   "cell_type": "code",
   "execution_count": 11,
   "id": "13c64d5e-d381-421c-86c6-8ff39c2d66f4",
   "metadata": {},
   "outputs": [
    {
     "data": {
      "text/plain": [
       "3"
      ]
     },
     "execution_count": 11,
     "metadata": {},
     "output_type": "execute_result"
    }
   ],
   "source": [
    "gcd(12, 15)"
   ]
  },
  {
   "cell_type": "code",
   "execution_count": 12,
   "id": "df6d1ea7-6b0d-450e-a36b-d50d461d92e8",
   "metadata": {},
   "outputs": [
    {
     "data": {
      "text/plain": [
       "1"
      ]
     },
     "execution_count": 12,
     "metadata": {},
     "output_type": "execute_result"
    }
   ],
   "source": [
    "gcd(7, 13)"
   ]
  },
  {
   "cell_type": "markdown",
   "id": "4dd6f93a-af9b-42e3-830a-4e3f7e11891f",
   "metadata": {
    "tags": []
   },
   "source": [
    "# Camel-case split"
   ]
  },
  {
   "cell_type": "markdown",
   "id": "27dad074-7df4-4936-8d79-61295600f8c0",
   "metadata": {},
   "source": [
    "Split a camel-case string, e.g., `'thisIsCamelCase'` should be split into `['this', 'Is', 'Camel', 'Case']`."
   ]
  },
  {
   "cell_type": "code",
   "execution_count": 56,
   "id": "f1851b01-d9c0-425c-b8a1-0e1c37d96fdf",
   "metadata": {},
   "outputs": [],
   "source": [
    "def split_camel_case(text):\n",
    "    return [\n",
    "        text[lower:upper] for \\\n",
    "            lower, upper in zip(*map(lambda f: f(list(map(lambda t: t[0],\n",
    "                                                          filter(lambda t: t[1],\n",
    "                                                                 ((i, c.isupper()) \\\n",
    "                                                                     for i, c in enumerate(text)))))),\n",
    "                                     (lambda l: [0] + l, lambda l: l + [len(text)])))\n",
    "    ]"
   ]
  },
  {
   "cell_type": "code",
   "execution_count": 57,
   "id": "772eb01e-17be-4fc2-81f8-9f5ef83483a3",
   "metadata": {},
   "outputs": [
    {
     "data": {
      "text/plain": [
       "['this', 'Is', 'A', 'Sentence', 'With', 'Words']"
      ]
     },
     "execution_count": 57,
     "metadata": {},
     "output_type": "execute_result"
    }
   ],
   "source": [
    "split_camel_case('thisIsASentenceWithWords')"
   ]
  },
  {
   "cell_type": "code",
   "execution_count": 58,
   "id": "2b33641e-d215-41fa-bb64-57ae165f5feb",
   "metadata": {},
   "outputs": [
    {
     "data": {
      "text/plain": [
       "['this']"
      ]
     },
     "execution_count": 58,
     "metadata": {},
     "output_type": "execute_result"
    }
   ],
   "source": [
    "split_camel_case('this')"
   ]
  },
  {
   "cell_type": "code",
   "execution_count": 59,
   "id": "eb99b535-8b69-426e-83b8-94d251346761",
   "metadata": {},
   "outputs": [
    {
     "data": {
      "text/plain": [
       "['', 'This', 'That']"
      ]
     },
     "execution_count": 59,
     "metadata": {},
     "output_type": "execute_result"
    }
   ],
   "source": [
    "split_camel_case('ThisThat')"
   ]
  },
  {
   "cell_type": "code",
   "execution_count": 60,
   "id": "9e3c5a30-6e61-475c-a30a-824a047958bc",
   "metadata": {},
   "outputs": [
    {
     "data": {
      "text/plain": [
       "['']"
      ]
     },
     "execution_count": 60,
     "metadata": {},
     "output_type": "execute_result"
    }
   ],
   "source": [
    "split_camel_case('')"
   ]
  },
  {
   "cell_type": "code",
   "execution_count": 64,
   "id": "8d88dbc5-252d-412d-9834-11584c966874",
   "metadata": {},
   "outputs": [
    {
     "data": {
      "text/plain": [
       "['', 'This', 'Is', 'A', 'String']"
      ]
     },
     "execution_count": 64,
     "metadata": {},
     "output_type": "execute_result"
    }
   ],
   "source": [
    "split_camel_case('ThisIsAString')"
   ]
  }
 ],
 "metadata": {
  "kernelspec": {
   "display_name": "Python 3 (ipykernel)",
   "language": "python",
   "name": "python3"
  },
  "language_info": {
   "codemirror_mode": {
    "name": "ipython",
    "version": 3
   },
   "file_extension": ".py",
   "mimetype": "text/x-python",
   "name": "python",
   "nbconvert_exporter": "python",
   "pygments_lexer": "ipython3",
   "version": "3.10.4"
  }
 },
 "nbformat": 4,
 "nbformat_minor": 5
}
