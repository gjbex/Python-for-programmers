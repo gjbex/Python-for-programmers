{
 "cells": [
  {
   "cell_type": "code",
   "execution_count": 7,
   "id": "99dd3bd6-9c07-446e-adea-9101b0e1d033",
   "metadata": {},
   "outputs": [],
   "source": [
    "import itertools\n",
    "import math"
   ]
  },
  {
   "cell_type": "code",
   "execution_count": 2,
   "id": "28ce8741-bcb9-490d-86b0-c0a08da29743",
   "metadata": {},
   "outputs": [],
   "source": [
    "def create_square(elements):\n",
    "    n = math.isqrt(len(elements))\n",
    "    square = [[] for _ in range(n)]\n",
    "    for i, element in enumerate(elements):\n",
    "        square[i//n].append(element)\n",
    "    return square"
   ]
  },
  {
   "cell_type": "code",
   "execution_count": 3,
   "id": "492cba61-0564-4ba2-ac31-d9d36ea1d8df",
   "metadata": {},
   "outputs": [
    {
     "data": {
      "text/plain": [
       "[[1, 2, 3], [4, 5, 6], [7, 8, 9]]"
      ]
     },
     "execution_count": 3,
     "metadata": {},
     "output_type": "execute_result"
    }
   ],
   "source": [
    "create_square(list(range(1, 10)))"
   ]
  },
  {
   "cell_type": "code",
   "execution_count": 22,
   "id": "9c6de9a2-20dd-42b9-b9e6-dc29581d7bdf",
   "metadata": {},
   "outputs": [],
   "source": [
    "def is_magic_squuare(square):\n",
    "    n = math.isqrt(len(square))\n",
    "    diag_sum = sum(square[i + i*n] for i in range(n))\n",
    "    for i in range(n):\n",
    "        row_sum = sum(square[j + i*n] for j in range(n))\n",
    "        if row_sum != diag_sum:\n",
    "            return False\n",
    "    for j in range(n):\n",
    "        col_sum = sum(square[j + i*n] for i in range(n))\n",
    "        if col_sum != diag_sum:\n",
    "            return False\n",
    "    return sum(square[i*n + (n - i - 1)] for i in range(n)) == diag_sum"
   ]
  },
  {
   "cell_type": "code",
   "execution_count": 5,
   "id": "4875036e-a4c4-4972-aed0-5752efccf6e6",
   "metadata": {},
   "outputs": [
    {
     "data": {
      "text/plain": [
       "False"
      ]
     },
     "execution_count": 5,
     "metadata": {},
     "output_type": "execute_result"
    }
   ],
   "source": [
    "is_magic_squuare(list(range(1, 10)))"
   ]
  },
  {
   "cell_type": "code",
   "execution_count": 6,
   "id": "9149cec0-7678-4001-afcb-b11190368737",
   "metadata": {},
   "outputs": [
    {
     "data": {
      "text/plain": [
       "True"
      ]
     },
     "execution_count": 6,
     "metadata": {},
     "output_type": "execute_result"
    }
   ],
   "source": [
    "is_magic_squuare([2, 9, 4, 7, 5, 3, 6, 1, 8])"
   ]
  },
  {
   "cell_type": "code",
   "execution_count": 7,
   "id": "ed9f69e1-3988-4d85-94c6-355a0c6de1e4",
   "metadata": {},
   "outputs": [],
   "source": [
    "def create_magic_square(n):\n",
    "    symbols = list(range(1, n*n + 1))\n",
    "    for elements in itertools.permutations(symbols):\n",
    "        if is_magic_squuare(elements):\n",
    "            return create_square(elements)\n",
    "    return None"
   ]
  },
  {
   "cell_type": "code",
   "execution_count": 8,
   "id": "61864a59-91b8-4d57-9c29-e922a3e170db",
   "metadata": {},
   "outputs": [
    {
     "data": {
      "text/plain": [
       "[[2, 7, 6], [9, 5, 1], [4, 3, 8]]"
      ]
     },
     "execution_count": 8,
     "metadata": {},
     "output_type": "execute_result"
    }
   ],
   "source": [
    "create_magic_square(3)"
   ]
  },
  {
   "cell_type": "code",
   "execution_count": 16,
   "id": "b07909cd-7af9-4750-a996-55d954b482db",
   "metadata": {},
   "outputs": [],
   "source": [
    "def create_all_magic_square(n, is_verbose=False):\n",
    "    symbols = list(range(1, n*n + 1))\n",
    "    nr_squares = 0\n",
    "    for elements in itertools.permutations(symbols):\n",
    "        if is_magic_squuare(elements):\n",
    "            yield create_square(elements)\n",
    "        nr_squares += 1\n",
    "        if is_verbose and nr_squares % 10_000_000 == 0:\n",
    "            print(f'{nr_squares} tested')"
   ]
  },
  {
   "cell_type": "code",
   "execution_count": 17,
   "id": "114e04e2-761a-4ee8-9b8d-8190cf57c98a",
   "metadata": {},
   "outputs": [
    {
     "name": "stdout",
     "output_type": "stream",
     "text": [
      "[[2, 7, 6], [9, 5, 1], [4, 3, 8]]\n",
      "[[2, 9, 4], [7, 5, 3], [6, 1, 8]]\n",
      "[[4, 3, 8], [9, 5, 1], [2, 7, 6]]\n",
      "[[4, 9, 2], [3, 5, 7], [8, 1, 6]]\n",
      "[[6, 1, 8], [7, 5, 3], [2, 9, 4]]\n",
      "[[6, 7, 2], [1, 5, 9], [8, 3, 4]]\n",
      "[[8, 1, 6], [3, 5, 7], [4, 9, 2]]\n",
      "[[8, 3, 4], [1, 5, 9], [6, 7, 2]]\n",
      "CPU times: user 437 ms, sys: 2.86 ms, total: 439 ms\n",
      "Wall time: 438 ms\n"
     ]
    }
   ],
   "source": [
    "%%time\n",
    "for square in create_all_magic_square(3):\n",
    "    print(square)"
   ]
  },
  {
   "cell_type": "code",
   "execution_count": 18,
   "id": "2f367b59-9545-4b11-a551-0d9c67372e1d",
   "metadata": {},
   "outputs": [
    {
     "name": "stdout",
     "output_type": "stream",
     "text": [
      "10000000 tested\n",
      "20000000 tested\n",
      "30000000 tested\n"
     ]
    },
    {
     "ename": "KeyboardInterrupt",
     "evalue": "",
     "output_type": "error",
     "traceback": [
      "\u001b[0;31m---------------------------------------------------------------------------\u001b[0m",
      "\u001b[0;31mKeyboardInterrupt\u001b[0m                         Traceback (most recent call last)",
      "File \u001b[0;32m<timed exec>:1\u001b[0m\n",
      "Cell \u001b[0;32mIn[16], line 5\u001b[0m, in \u001b[0;36mcreate_all_magic_square\u001b[0;34m(n, is_verbose)\u001b[0m\n\u001b[1;32m      3\u001b[0m nr_squares \u001b[38;5;241m=\u001b[39m \u001b[38;5;241m0\u001b[39m\n\u001b[1;32m      4\u001b[0m \u001b[38;5;28;01mfor\u001b[39;00m elements \u001b[38;5;129;01min\u001b[39;00m itertools\u001b[38;5;241m.\u001b[39mpermutations(symbols):\n\u001b[0;32m----> 5\u001b[0m     \u001b[38;5;28;01mif\u001b[39;00m is_magic_squuare(elements):\n\u001b[1;32m      6\u001b[0m         \u001b[38;5;28;01myield\u001b[39;00m create_square(elements)\n\u001b[1;32m      7\u001b[0m     nr_squares \u001b[38;5;241m+\u001b[39m\u001b[38;5;241m=\u001b[39m \u001b[38;5;241m1\u001b[39m\n",
      "Cell \u001b[0;32mIn[4], line 3\u001b[0m, in \u001b[0;36mis_magic_squuare\u001b[0;34m(square)\u001b[0m\n\u001b[1;32m      1\u001b[0m \u001b[38;5;28;01mdef\u001b[39;00m \u001b[38;5;21mis_magic_squuare\u001b[39m(square):\n\u001b[1;32m      2\u001b[0m     n \u001b[38;5;241m=\u001b[39m math\u001b[38;5;241m.\u001b[39misqrt(\u001b[38;5;28mlen\u001b[39m(square))\n\u001b[0;32m----> 3\u001b[0m     diag_sum \u001b[38;5;241m=\u001b[39m \u001b[38;5;28msum\u001b[39m(square[i \u001b[38;5;241m+\u001b[39m i\u001b[38;5;241m*\u001b[39mn] \u001b[38;5;28;01mfor\u001b[39;00m i \u001b[38;5;129;01min\u001b[39;00m \u001b[38;5;28mrange\u001b[39m(n))\n\u001b[1;32m      4\u001b[0m     \u001b[38;5;28;01mfor\u001b[39;00m i \u001b[38;5;129;01min\u001b[39;00m \u001b[38;5;28mrange\u001b[39m(n):\n\u001b[1;32m      5\u001b[0m         row_sum \u001b[38;5;241m=\u001b[39m \u001b[38;5;28msum\u001b[39m(square[j \u001b[38;5;241m+\u001b[39m i\u001b[38;5;241m*\u001b[39mn] \u001b[38;5;28;01mfor\u001b[39;00m j \u001b[38;5;129;01min\u001b[39;00m \u001b[38;5;28mrange\u001b[39m(n))\n",
      "\u001b[0;31mKeyboardInterrupt\u001b[0m: "
     ]
    }
   ],
   "source": [
    "%%time\n",
    "for square in create_all_magic_square(5, True):\n",
    "    print(square)"
   ]
  },
  {
   "cell_type": "code",
   "execution_count": 28,
   "id": "321565e9-d441-4b18-89d8-1aecca504140",
   "metadata": {},
   "outputs": [],
   "source": [
    "def create_magic_square(n):\n",
    "    if n < 3:\n",
    "        raise ValueError('array size needs to be at least 3')\n",
    "    if n % 2 == 1:\n",
    "        square = [0]*n**2\n",
    "        i, j, value = 0, n//2, 1\n",
    "        for start_value in range(1, n*n, n):\n",
    "            for value in range(start_value, start_value + n - 1):\n",
    "                square[i*n + j] = value\n",
    "                i = (i - 1 + n) % n\n",
    "                j = (j + 1) % n\n",
    "            square[i*n + j] = value + 1\n",
    "            i = (i + 1) % n\n",
    "        return square\n",
    "    else:\n",
    "        raise NotImplementedError('algorithm not implement for even sizes')"
   ]
  },
  {
   "cell_type": "code",
   "execution_count": 32,
   "id": "9f162be1-1714-420c-815d-e4ca3e072926",
   "metadata": {},
   "outputs": [
    {
     "data": {
      "text/plain": [
       "True"
      ]
     },
     "execution_count": 32,
     "metadata": {},
     "output_type": "execute_result"
    }
   ],
   "source": [
    "is_magic_squuare(create_magic_square(7))"
   ]
  },
  {
   "cell_type": "code",
   "execution_count": 18,
   "id": "d56a4ac6-0a6b-403a-8569-7471f9caa9d8",
   "metadata": {},
   "outputs": [],
   "source": [
    "def print_square(elements):\n",
    "    n = math.isqrt(len(elements))\n",
    "    for i in range(n):\n",
    "        print(''.join(f'{value:5d}' for value in elements[i*n:i*n+n]))"
   ]
  },
  {
   "cell_type": "code",
   "execution_count": 33,
   "id": "a52776a3-c275-4fa9-bfdf-84217f40b9e8",
   "metadata": {},
   "outputs": [
    {
     "name": "stdout",
     "output_type": "stream",
     "text": [
      "   30   39   48    1   10   19   28\n",
      "   38   47    7    9   18   27   29\n",
      "   46    6    8   17   26   35   37\n",
      "    5   14   16   25   34   36   45\n",
      "   13   15   24   33   42   44    4\n",
      "   21   23   32   41   43    3   12\n",
      "   22   31   40   49    2   11   20\n"
     ]
    }
   ],
   "source": [
    "print_square(create_magic_square(7))"
   ]
  },
  {
   "cell_type": "code",
   "execution_count": null,
   "id": "c66eb794-0068-4fb3-8097-304dddeeebf5",
   "metadata": {},
   "outputs": [],
   "source": []
  }
 ],
 "metadata": {
  "kernelspec": {
   "display_name": "Python 3 (ipykernel)",
   "language": "python",
   "name": "python3"
  },
  "language_info": {
   "codemirror_mode": {
    "name": "ipython",
    "version": 3
   },
   "file_extension": ".py",
   "mimetype": "text/x-python",
   "name": "python",
   "nbconvert_exporter": "python",
   "pygments_lexer": "ipython3",
   "version": "3.11.2"
  }
 },
 "nbformat": 4,
 "nbformat_minor": 5
}
