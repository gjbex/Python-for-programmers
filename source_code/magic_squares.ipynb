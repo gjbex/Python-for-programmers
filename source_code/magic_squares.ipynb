{
 "cells": [
  {
   "cell_type": "markdown",
   "id": "426b74ad-0e4d-46e4-b7e0-fed030ce2fe8",
   "metadata": {},
   "source": [
    "# Requirements"
   ]
  },
  {
   "cell_type": "code",
   "execution_count": 50,
   "id": "99dd3bd6-9c07-446e-adea-9101b0e1d033",
   "metadata": {},
   "outputs": [],
   "source": [
    "import itertools\n",
    "import math\n",
    "import operator\n",
    "import time"
   ]
  },
  {
   "cell_type": "markdown",
   "id": "20b50f72-fa7c-4863-bbe1-27863b08cfad",
   "metadata": {},
   "source": [
    "# Problem statement"
   ]
  },
  {
   "cell_type": "markdown",
   "id": "0450fee1-cd71-48fd-8621-5e82056a864a",
   "metadata": {},
   "source": [
    "A magic square is an $n \\times n$ square matrix with elements $\\{1, \\ldots, n^2\\}$ such that the sum of each row, each column, the main diagonal and the skew diagonal are all equal.\n",
    "\n",
    "For example, the following $3 \\times 3$ square is magic:\n",
    "$$\n",
    "\\begin{array}{ccc}\n",
    "  8  & 1 & 6 \\\\\n",
    "  3  & 5 & 7 \\\\\n",
    "  4  & 9 & 2 \\\\\n",
    "\\end{array}\n",
    "$$\n",
    "\n",
    "The magic constant for a $3 \\times 3$ square is 15.  In general for an $n \\times n$ square, the sum of all the elements is $\\sum_{i=1}^{n^2} i = \\frac{1}{2}n^2(n^2 + 1)$.  Since each of the row sums is equal to the magic constant $M$, and there are $n$ rows, $M = \\frac{1}{2}n(n^2 + 1)$.\n",
    "\n",
    "The magic $1 \\times 1$ square is of course trivial, and there is no $2 \\times 2$ squire.  For larger values of $n$, we might naively construct magic squares by considering the permutations of the fundamental $n \\times n$ square (i.e., a square filled row by row with the number $1$ to $n^2$ is an option that soon turns out to be impossible since the number of permutation is $n^2!$."
   ]
  },
  {
   "cell_type": "code",
   "execution_count": 7,
   "id": "16dce5c9-b3d7-4764-bee1-fe026becf5dd",
   "metadata": {},
   "outputs": [
    {
     "name": "stdout",
     "output_type": "stream",
     "text": [
      "0: 1 (1.00e+00)\n",
      "1: 1 (1.00e+00)\n",
      "2: 24 (2.40e+01)\n",
      "3: 362880 (3.63e+05)\n",
      "4: 20922789888000 (2.09e+13)\n",
      "5: 15511210043330985984000000 (1.55e+25)\n"
     ]
    }
   ],
   "source": [
    "for n in range(6):\n",
    "    print(f'{n}: {math.factorial(n**2)} ({math.factorial(n**2):.2e})')"
   ]
  },
  {
   "cell_type": "markdown",
   "id": "fdb7f6b3-243c-4af6-998f-5695e6c2dabb",
   "metadata": {},
   "source": [
    "It is clear that even for $4 \\times 4$ squares, the number of squares to test is prohibitively large.  However, there are algorithms to construct magic squares.  We will implement one for odd values of $n$ attributed to Simon de la Loubère."
   ]
  },
  {
   "cell_type": "markdown",
   "id": "05286744-6d59-4a6f-ad3e-ac6d10f81bf9",
   "metadata": {},
   "source": [
    "# Helper functions"
   ]
  },
  {
   "cell_type": "markdown",
   "id": "9c431a94-49f2-4d60-831b-d2346b7e2894",
   "metadata": {},
   "source": [
    "For performance reasons, we will represent an $n \\times n$ square as a list of integers, so its length is $n^2$.  The square's elements are stored rowwise, so the element of the square at row $i$ and column $j$ is the list element at index $i \\cdot n + j$ where $i, j \\in \\{0, \\ldots, n - 1\\}$."
   ]
  },
  {
   "cell_type": "markdown",
   "id": "498773e3-23cd-4639-a9bf-6ead1cac225c",
   "metadata": {},
   "source": [
    "We implement a simple function that converts a list representation to a list of lists where each list represents a row of the square."
   ]
  },
  {
   "cell_type": "code",
   "execution_count": 48,
   "id": "28ce8741-bcb9-490d-86b0-c0a08da29743",
   "metadata": {},
   "outputs": [],
   "source": [
    "def convert_to_square(elements: list[int]) -> list[list[int]]:\n",
    "    n = math.isqrt(len(elements))\n",
    "    if n**2 != len(elements):\n",
    "        raise ValueError('list does not represent a square')\n",
    "    # The groupby key will be the row index, computed as the list index, integer\n",
    "    # divided by n, this yields a sequence of tuples, the first element of which is\n",
    "    # the key, the second a group.  The group contains tuples, the first element the\n",
    "    # list index, the second the list tuple.  We select the second by mapping the\n",
    "    # itemgetter(1), and than convert the group to a list.\n",
    "    return list(map(lambda t: list(map(operator.itemgetter(1), t[1])),\n",
    "                    itertools.groupby(enumerate(elements), lambda t: t[0]//n)))"
   ]
  },
  {
   "cell_type": "code",
   "execution_count": 20,
   "id": "492cba61-0564-4ba2-ac31-d9d36ea1d8df",
   "metadata": {},
   "outputs": [
    {
     "data": {
      "text/plain": [
       "[[1, 2, 3], [4, 5, 6], [7, 8, 9]]"
      ]
     },
     "execution_count": 20,
     "metadata": {},
     "output_type": "execute_result"
    }
   ],
   "source": [
    "convert_to_square(list(range(1, 10)))"
   ]
  },
  {
   "cell_type": "markdown",
   "id": "b5bfcc7d-6732-45e7-99a0-085b337621ec",
   "metadata": {},
   "source": [
    "For convenience, we also write a function to display a square."
   ]
  },
  {
   "cell_type": "code",
   "execution_count": 32,
   "id": "d56a4ac6-0a6b-403a-8569-7471f9caa9d8",
   "metadata": {},
   "outputs": [],
   "source": [
    "def print_square(elements: list[int]) -> None:\n",
    "    n = math.isqrt(len(elements))\n",
    "    if n**2 != len(elements):\n",
    "        raise ValueError('list does not represent a square')\n",
    "    for i in range(n):\n",
    "        print(''.join(f'{value:5d}' for value in elements[i*n:i*n+n]))"
   ]
  },
  {
   "cell_type": "markdown",
   "id": "18eed79e-968f-4a37-9d88-1bb5b005adee",
   "metadata": {},
   "source": [
    "We also define a function to check whether a square is magic."
   ]
  },
  {
   "cell_type": "code",
   "execution_count": 33,
   "id": "9c6de9a2-20dd-42b9-b9e6-dc29581d7bdf",
   "metadata": {},
   "outputs": [],
   "source": [
    "def is_magic_squuare(elements: list[int]) -> bool:\n",
    "    n = math.isqrt(len(elements))\n",
    "    if n**2 != len(elements):\n",
    "        raise ValueError('list does not represent a square')\n",
    "    diag_sum = sum(elements[i + i*n] for i in range(n))\n",
    "    for i in range(n):\n",
    "        row_sum = sum(elements[j + i*n] for j in range(n))\n",
    "        if row_sum != diag_sum:\n",
    "            return False\n",
    "    for j in range(n):\n",
    "        col_sum = sum(elements[j + i*n] for i in range(n))\n",
    "        if col_sum != diag_sum:\n",
    "            return False\n",
    "    return sum(elements[i*n + (n - i - 1)] for i in range(n)) == diag_sum"
   ]
  },
  {
   "cell_type": "code",
   "execution_count": 34,
   "id": "4875036e-a4c4-4972-aed0-5752efccf6e6",
   "metadata": {},
   "outputs": [
    {
     "data": {
      "text/plain": [
       "False"
      ]
     },
     "execution_count": 34,
     "metadata": {},
     "output_type": "execute_result"
    }
   ],
   "source": [
    "is_magic_squuare(list(range(1, 10)))"
   ]
  },
  {
   "cell_type": "code",
   "execution_count": 35,
   "id": "9149cec0-7678-4001-afcb-b11190368737",
   "metadata": {},
   "outputs": [
    {
     "data": {
      "text/plain": [
       "True"
      ]
     },
     "execution_count": 35,
     "metadata": {},
     "output_type": "execute_result"
    }
   ],
   "source": [
    "is_magic_squuare([2, 9, 4, 7, 5, 3, 6, 1, 8])"
   ]
  },
  {
   "cell_type": "markdown",
   "id": "db7b904f-6314-45fb-9d63-26cf38f4cec2",
   "metadata": {},
   "source": [
    "We implement a function that creates the $n \\times n$ fundamental square."
   ]
  },
  {
   "cell_type": "code",
   "execution_count": 29,
   "id": "724a793b-741e-4210-8278-4a2f5fb2f8a4",
   "metadata": {},
   "outputs": [],
   "source": [
    "def create_fundamental_square(n: int) -> list[int]:\n",
    "    return list(range(1, n**2 + 1))"
   ]
  },
  {
   "cell_type": "code",
   "execution_count": 36,
   "id": "9c7ab336-a0ed-48cb-93d2-415bcc0914e1",
   "metadata": {},
   "outputs": [
    {
     "data": {
      "text/plain": [
       "[1, 2, 3, 4, 5, 6, 7, 8, 9]"
      ]
     },
     "execution_count": 36,
     "metadata": {},
     "output_type": "execute_result"
    }
   ],
   "source": [
    "create_fundamental_square(3)"
   ]
  },
  {
   "cell_type": "markdown",
   "id": "ee30166a-8b56-4e12-bd97-547070b4fb99",
   "metadata": {},
   "source": [
    "# Finding magic squares"
   ]
  },
  {
   "cell_type": "markdown",
   "id": "5b352cbd-0415-4cf8-90cd-699af3f168a8",
   "metadata": {},
   "source": [
    "## Enumeration"
   ]
  },
  {
   "cell_type": "markdown",
   "id": "6ccfad87-2ceb-4726-844d-6aa9cbaa3688",
   "metadata": {},
   "source": [
    "The naive algorithm to find a magic squarre is straightforward by simply enumerating all permutations of the fundamental square, and returning the first one that is magic.  We build in a maximum number of iterations to avoid unrealistic runtimes of the function."
   ]
  },
  {
   "cell_type": "code",
   "execution_count": 58,
   "id": "ed9f69e1-3988-4d85-94c6-355a0c6de1e4",
   "metadata": {},
   "outputs": [],
   "source": [
    "def find_magic_square(n: int, max_iterations: int=10_000_000) -> list[list[int]] | None:\n",
    "    for iteration, elements in enumerate(itertools.permutations(create_fundamental_square(n))):\n",
    "        if is_magic_squuare(elements):\n",
    "            return convert_to_square(elements)\n",
    "        if iteration >= max_iterations:\n",
    "            break\n",
    "    return None"
   ]
  },
  {
   "cell_type": "code",
   "execution_count": 59,
   "id": "61864a59-91b8-4d57-9c29-e922a3e170db",
   "metadata": {},
   "outputs": [
    {
     "data": {
      "text/plain": [
       "[[2, 7, 6], [9, 5, 1], [4, 3, 8]]"
      ]
     },
     "execution_count": 59,
     "metadata": {},
     "output_type": "execute_result"
    }
   ],
   "source": [
    "find_magic_square(3)"
   ]
  },
  {
   "cell_type": "markdown",
   "id": "c9750572-a9bd-4389-89da-384306095d15",
   "metadata": {},
   "source": [
    "This worked well, and fast for $n = 3$.  However, lets time this for $n = 4$."
   ]
  },
  {
   "cell_type": "code",
   "execution_count": 60,
   "id": "14fc9428-5a75-49a5-80de-822615f69852",
   "metadata": {},
   "outputs": [
    {
     "data": {
      "text/plain": [
       "12.033219652000298"
      ]
     },
     "execution_count": 60,
     "metadata": {},
     "output_type": "execute_result"
    }
   ],
   "source": [
    "start = time.perf_counter()\n",
    "find_magic_square(4)\n",
    "time.perf_counter() - start"
   ]
  },
  {
   "cell_type": "markdown",
   "id": "12f39e32-2f43-48ca-9d34-40d72a5729cc",
   "metadata": {},
   "source": [
    "It takes more than 10 seconds to iterate over $10^7$ squares.  We know there are $10^{13}$ possible $4 \\times 4$ squares, so to enumerate them all would take $10^7 \\approx 116$ days.  Of course, we might get lucky and hit upon a magic square \"early\"."
   ]
  },
  {
   "cell_type": "markdown",
   "id": "71ae749b-91b1-439a-a8b0-f97b9aa67a46",
   "metadata": {},
   "source": [
    "For $n = 3$, we can enumerate all magic squares>"
   ]
  },
  {
   "cell_type": "code",
   "execution_count": 66,
   "id": "b07909cd-7af9-4750-a996-55d954b482db",
   "metadata": {},
   "outputs": [],
   "source": [
    "def create_all_magic_square(n: int, is_verbose: bool=False) -> list[list[int]]:\n",
    "    nr_squares = 0\n",
    "    for elements in itertools.permutations(create_fundamental_square(n)):\n",
    "        if is_magic_squuare(elements):\n",
    "            yield convert_to_square(elements)\n",
    "        nr_squares += 1\n",
    "        if is_verbose and nr_squares % 10_000_000 == 0:\n",
    "            print(f'{nr_squares} tested')"
   ]
  },
  {
   "cell_type": "code",
   "execution_count": 67,
   "id": "114e04e2-761a-4ee8-9b8d-8190cf57c98a",
   "metadata": {},
   "outputs": [
    {
     "name": "stdout",
     "output_type": "stream",
     "text": [
      "[[2, 7, 6], [9, 5, 1], [4, 3, 8]]\n",
      "[[2, 9, 4], [7, 5, 3], [6, 1, 8]]\n",
      "[[4, 3, 8], [9, 5, 1], [2, 7, 6]]\n",
      "[[4, 9, 2], [3, 5, 7], [8, 1, 6]]\n",
      "[[6, 1, 8], [7, 5, 3], [2, 9, 4]]\n",
      "[[6, 7, 2], [1, 5, 9], [8, 3, 4]]\n",
      "[[8, 1, 6], [3, 5, 7], [4, 9, 2]]\n",
      "[[8, 3, 4], [1, 5, 9], [6, 7, 2]]\n",
      "CPU times: user 478 ms, sys: 0 ns, total: 478 ms\n",
      "Wall time: 476 ms\n"
     ]
    }
   ],
   "source": [
    "%%time\n",
    "for square in create_all_magic_square(3):\n",
    "    print(square)"
   ]
  },
  {
   "cell_type": "markdown",
   "id": "a3d5e7d0-3380-43d2-aefe-150962e32749",
   "metadata": {},
   "source": [
    "It takes only half a second to enumerate all magic $3 \\times 3$ squares, but there are only 362,880 candiates."
   ]
  },
  {
   "cell_type": "markdown",
   "id": "8ca3e8eb-fdfe-4c8f-90d8-8c2804dc0a42",
   "metadata": {},
   "source": [
    "## Simon de la Loubère's method"
   ]
  },
  {
   "cell_type": "markdown",
   "id": "ecfbca4f-b945-46b6-8d30-a43832bf496e",
   "metadata": {},
   "source": [
    "An algorithm attributed to Simon de la Loubère works for odd values of $n$ only.  It works as follows:\n",
    "* start in the middle of the first row;\n",
    "* fill the corresponding broken diagonal by starting with the values 1 to $n$, going up\n",
    "* at the position of the last value entered, move one row down, and repeat with the next $n$ values\n",
    "* repeat until all $n^2$ values are entered into the square.\n",
    "\n",
    "For $n = 3$, this would look like for the first broken diagonal:\n",
    "$$\n",
    "\\begin{array}{ccc}\n",
    "   \\cdot &   1   & \\cdot \\\\\n",
    "      3  & \\cdot & \\cdot \\\\\n",
    "   \\cdot & \\cdot &    2  \\\\\n",
    "\\end{array}\n",
    "$$\n",
    "For the second (not) broken diagonal:\n",
    "$$\n",
    "\\begin{array}{ccc}\n",
    "   \\cdot &   1   &    6  \\\\\n",
    "      3  &   5   & \\cdot \\\\\n",
    "      4  & \\cdot &    2  \\\\\n",
    "\\end{array}\n",
    "$$\n",
    "And finally for the last broken diagonal:\n",
    "$$\n",
    "\\begin{array}{ccc}\n",
    "      8  &   1   &    6  \\\\\n",
    "      3  &   5   &    7  \\\\\n",
    "      4  &   9   &    2  \\\\\n",
    "\\end{array}\n",
    "$$\n"
   ]
  },
  {
   "cell_type": "markdown",
   "id": "991b687e-5906-46b9-9c5d-6fa54dbbc187",
   "metadata": {},
   "source": [
    "The implementation is straightforward."
   ]
  },
  {
   "cell_type": "code",
   "execution_count": 72,
   "id": "e540f141-57b7-4e12-815b-424d12ee0d29",
   "metadata": {},
   "outputs": [],
   "source": [
    "def create_magic_square(n: int) -> list[int]:\n",
    "    if n < 1:\n",
    "        raise ValueError(f'{n} is not a valid dimension')\n",
    "    if n % 2 == 0:\n",
    "        raise NotImplementedError('algorithm not implement for even sizes')\n",
    "    elements = [-1]*n**2\n",
    "    i, j = 0, n//2\n",
    "    for value in create_fundamental_square(n):\n",
    "        elements[i*n + j] = value\n",
    "        if value % n == 0:\n",
    "            i = (i + 1) % n\n",
    "        else:\n",
    "            i = (i - 1 + n) % n\n",
    "            j = (j + 1) % n\n",
    "    return elements"
   ]
  },
  {
   "cell_type": "markdown",
   "id": "a40b858f-c12b-4268-80cb-ba1fb5db70d3",
   "metadata": {},
   "source": [
    "For $n = 3$, and also check whether the square is indeed magic:"
   ]
  },
  {
   "cell_type": "code",
   "execution_count": 74,
   "id": "e3643f8d-baf9-4f99-8df5-bf1c46111db3",
   "metadata": {},
   "outputs": [
    {
     "name": "stdout",
     "output_type": "stream",
     "text": [
      "    8    1    6\n",
      "    3    5    7\n",
      "    4    9    2\n"
     ]
    }
   ],
   "source": [
    "print_square(create_magic_square(3))"
   ]
  },
  {
   "cell_type": "code",
   "execution_count": 76,
   "id": "b21f2c3e-b5dd-44ee-995d-34a67c54ce87",
   "metadata": {},
   "outputs": [
    {
     "data": {
      "text/plain": [
       "True"
      ]
     },
     "execution_count": 76,
     "metadata": {},
     "output_type": "execute_result"
    }
   ],
   "source": [
    "is_magic_squuare(create_magic_square(3))"
   ]
  },
  {
   "cell_type": "markdown",
   "id": "44c8021d-158f-474c-8503-e517a65c8f9d",
   "metadata": {},
   "source": [
    "For $n = 5$, and check:"
   ]
  },
  {
   "cell_type": "code",
   "execution_count": 75,
   "id": "d7c246de-54cb-48a7-9fe0-806ace14f5ac",
   "metadata": {},
   "outputs": [
    {
     "name": "stdout",
     "output_type": "stream",
     "text": [
      "   17   24    1    8   15\n",
      "   23    5    7   14   16\n",
      "    4    6   13   20   22\n",
      "   10   12   19   21    3\n",
      "   11   18   25    2    9\n"
     ]
    }
   ],
   "source": [
    "print_square(create_magic_square(5))"
   ]
  },
  {
   "cell_type": "code",
   "execution_count": 78,
   "id": "f3e07c26-dc8b-441d-9fd9-3359a0d8d303",
   "metadata": {},
   "outputs": [
    {
     "data": {
      "text/plain": [
       "True"
      ]
     },
     "execution_count": 78,
     "metadata": {},
     "output_type": "execute_result"
    }
   ],
   "source": [
    "is_magic_squuare(create_magic_square(5))"
   ]
  },
  {
   "cell_type": "markdown",
   "id": "0cc68dcc-68cc-4845-b31d-1d499e8617f8",
   "metadata": {},
   "source": [
    "This method is of course very fast compared to enumerating squares, its complexity is quadratic in $n$."
   ]
  }
 ],
 "metadata": {
  "kernelspec": {
   "display_name": "Python 3 (ipykernel)",
   "language": "python",
   "name": "python3"
  },
  "language_info": {
   "codemirror_mode": {
    "name": "ipython",
    "version": 3
   },
   "file_extension": ".py",
   "mimetype": "text/x-python",
   "name": "python",
   "nbconvert_exporter": "python",
   "pygments_lexer": "ipython3",
   "version": "3.11.2"
  }
 },
 "nbformat": 4,
 "nbformat_minor": 5
}
