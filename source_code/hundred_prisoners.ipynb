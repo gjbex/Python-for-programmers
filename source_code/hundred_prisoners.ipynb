{
 "cells": [
  {
   "cell_type": "markdown",
   "id": "b6baca61-df50-4edd-8fcc-42ebb7ef2bc5",
   "metadata": {},
   "source": [
    "# Requirements"
   ]
  },
  {
   "cell_type": "code",
   "execution_count": 43,
   "id": "bd7aef96-d24e-4bf7-a6ac-3e837c06202a",
   "metadata": {},
   "outputs": [],
   "source": [
    "import matplotlib.pyplot as plt\n",
    "import random"
   ]
  },
  {
   "cell_type": "markdown",
   "id": "c36bca2f-da37-414a-987a-086acd4d7c0c",
   "metadata": {},
   "source": [
    "# Problem"
   ]
  },
  {
   "cell_type": "markdown",
   "id": "d379d896-c726-4d1f-b01f-7b252e54051f",
   "metadata": {},
   "source": [
    "100 prisonors numbered from 1 to 100 get access to a room that contains 100 boxes numbered from 1 to 100.  Each box contains a slip of paper with a number between 1 and 100.  Each of the 100 prisoners can open 50 of the boxes.  If in one of these boxes he finds the slip with his number, he wins, if not, he loses.\n",
    "\n",
    "The prisoners are led into the room one by one, and they are not allowed to communicate with their peers.  They also have to leave the room behind exactly as they found it.  (So they can not swap slips between boxes, or leave boxes open, mark them, and so on.)\n",
    "\n",
    "If all prisonors win, they are all released.  If at least one prisoner loses, all prisoners are executed.\n",
    "\n",
    "The prisoner can discuss strategies before they start."
   ]
  },
  {
   "cell_type": "markdown",
   "id": "b0f27f95-8244-456f-9f9f-0ab0db419fef",
   "metadata": {},
   "source": [
    "For convenience, we number everything (prisoners, boxes and the value on the slips) starting from index 0. We can represent the 100 boxes as a random permutation of the the numbers 0 to 99."
   ]
  },
  {
   "cell_type": "code",
   "execution_count": 7,
   "id": "77baa8a0-e195-4e7a-bf7a-d7e2b1120fe3",
   "metadata": {},
   "outputs": [],
   "source": [
    "boxes = list(range(100))\n",
    "random.shuffle(boxes)"
   ]
  },
  {
   "cell_type": "markdown",
   "id": "d8f70883-e64d-4af9-8335-6df6dffbb45a",
   "metadata": {},
   "source": [
    "# Random strategy"
   ]
  },
  {
   "cell_type": "markdown",
   "id": "ce245209-bc01-4254-b9e7-7952fbd6aaa9",
   "metadata": {},
   "source": [
    "The probability that a randomly opened box contains a slip with a given number is 0.01.  It is clear that if each prisoner picks 50 boxes at random, the probability to open the one that contains his number is 0.5.  However, since the prisoners have no way to communicate, each of them opens the boxes independent of all the others, and the probability that they all find the slip with their name on it is $2^{-100}$, so vanishingly small. "
   ]
  },
  {
   "cell_type": "code",
   "execution_count": 34,
   "id": "a6646551-d8d5-4458-a242-43c83ae16ae9",
   "metadata": {},
   "outputs": [],
   "source": [
    "def pick_randomly(prisoner, boxes):\n",
    "    opened_boxes = random.sample(range(100), k=50)\n",
    "    return any(map(lambda x: boxes[x] == prisoner, opened_boxes))"
   ]
  },
  {
   "cell_type": "code",
   "execution_count": 35,
   "id": "068deee2-cfaa-4964-a1d2-220a9d8d1d4f",
   "metadata": {},
   "outputs": [
    {
     "data": {
      "text/plain": [
       "True"
      ]
     },
     "execution_count": 35,
     "metadata": {},
     "output_type": "execute_result"
    }
   ],
   "source": [
    "pick_randomly(50, boxes)"
   ]
  },
  {
   "cell_type": "code",
   "execution_count": 50,
   "id": "c70c5849-5a57-40b2-b149-4607f880de1c",
   "metadata": {},
   "outputs": [],
   "source": [
    "def nr_succesful_prisoners(boxes, strategy):\n",
    "    nr_successes = 0\n",
    "    for prisoner in range(100):\n",
    "        if strategy(prisoner, boxes):\n",
    "            nr_successes += 1\n",
    "    return nr_successes"
   ]
  },
  {
   "cell_type": "code",
   "execution_count": 61,
   "id": "5edd236f-1378-4908-ad03-69e75e57f628",
   "metadata": {},
   "outputs": [
    {
     "data": {
      "image/png": "[encoded data removed]",
      "text/plain": [
       "<Figure size 432x288 with 1 Axes>"
      ]
     },
     "metadata": {
      "needs_background": "light"
     },
     "output_type": "display_data"
    }
   ],
   "source": [
    "runs = [nr_succesful_prisoners(boxes, pick_randomly) for _ in range(500)]\n",
    "plt.hist(runs, bins=100);"
   ]
  },
  {
   "cell_type": "markdown",
   "id": "cd6931ec-8c11-4c6a-ad3f-f4cebce82ae7",
   "metadata": {},
   "source": [
    "For 500 independent trials, the maximum number of prisoners that finds his own number is less than 70."
   ]
  },
  {
   "cell_type": "markdown",
   "id": "749b0147-a8ba-4bdb-a173-983b17ca76fd",
   "metadata": {},
   "source": [
    "# Smart strategy"
   ]
  },
  {
   "cell_type": "markdown",
   "id": "13b32b7f-8ac5-41de-8da0-0e4d7a58669c",
   "metadata": {},
   "source": [
    "Although the prisoners have no means to communicate once they start to open boxes, they can agree on a strategy upfront.  One of them is pretty smart, and he proposes the following:\n",
    "* open the box that corresponds to your number, so, e.g., prisoner 5 starts by opening the 5th box;\n",
    "* next, read the slip in that box, and open the box with the number on the slip next,\n",
    "* repeat until you found your number, or opened the 50th box."
   ]
  },
  {
   "cell_type": "code",
   "execution_count": 72,
   "id": "682f52ae-8d44-422d-a150-01674e218866",
   "metadata": {},
   "outputs": [],
   "source": [
    "def pick_strategically(prisoner, boxes):\n",
    "    slip = boxes[prisoner]\n",
    "    for _ in range(50):\n",
    "        if slip == prisoner:\n",
    "            return True\n",
    "        slip = boxes[slip]\n",
    "    return False        "
   ]
  },
  {
   "cell_type": "code",
   "execution_count": 75,
   "id": "cf24b35e-6c73-4d39-bd44-3e08368d8a2c",
   "metadata": {},
   "outputs": [
    {
     "data": {
      "text/plain": [
       "True"
      ]
     },
     "execution_count": 75,
     "metadata": {},
     "output_type": "execute_result"
    }
   ],
   "source": [
    "pick_strategically(85, boxes)"
   ]
  },
  {
   "cell_type": "markdown",
   "id": "b5725150-37b8-4374-b514-7ce513f4b79b",
   "metadata": {},
   "source": [
    "The algorithm itself is now deterministic, so we have to vary the distribution of the slips in the boxes to estimate the probability of success for the 100 prisoners."
   ]
  },
  {
   "cell_type": "code",
   "execution_count": 78,
   "id": "c74c389b-900c-4750-a6b6-c8c8948ffa34",
   "metadata": {},
   "outputs": [
    {
     "data": {
      "image/png": "[encoded data removed]",
      "text/plain": [
       "<Figure size 432x288 with 1 Axes>"
      ]
     },
     "metadata": {
      "needs_background": "light"
     },
     "output_type": "display_data"
    }
   ],
   "source": [
    "runs = []\n",
    "for _ in range(500):\n",
    "    random.shuffle(boxes)\n",
    "    runs.append(nr_succesful_prisoners(boxes, pick_strategically))\n",
    "plt.hist(runs, bins=100, density=True);"
   ]
  },
  {
   "cell_type": "markdown",
   "id": "e9df80ec-d10a-48e5-a2cc-6c09ee1db157",
   "metadata": {},
   "source": [
    "Using this strategy, the prisoners win their freedom with a probability of more than 0.3.  Note that there is no middle ground.  Either all prisoners find their slip, or more than half don't."
   ]
  },
  {
   "cell_type": "markdown",
   "id": "c49c12a2-1c87-4c61-828c-395d948e60f7",
   "metadata": {},
   "source": [
    "# References"
   ]
  },
  {
   "cell_type": "markdown",
   "id": "d1490a01-5836-4c3e-80c2-e05732ab1d8c",
   "metadata": {},
   "source": [
    "See [Wikipedia](https://en.wikipedia.org/wiki/100_prisoners_problem) for a detailed description."
   ]
  }
 ],
 "metadata": {
  "kernelspec": {
   "display_name": "Python 3 (ipykernel)",
   "language": "python",
   "name": "python3"
  },
  "language_info": {
   "codemirror_mode": {
    "name": "ipython",
    "version": 3
   },
   "file_extension": ".py",
   "mimetype": "text/x-python",
   "name": "python",
   "nbconvert_exporter": "python",
   "pygments_lexer": "ipython3",
   "version": "3.10.4"
  }
 },
 "nbformat": 4,
 "nbformat_minor": 5
}
