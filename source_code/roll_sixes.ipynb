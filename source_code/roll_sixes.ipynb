{
 "cells": [
  {
   "cell_type": "markdown",
   "id": "1a9044e2-ddea-4fd6-b6f4-e59de7f36d01",
   "metadata": {},
   "source": [
    "## Requirements"
   ]
  },
  {
   "cell_type": "code",
   "execution_count": 99,
   "id": "9cf19597-7fee-4a4b-b01c-d3faa93ef3c0",
   "metadata": {},
   "outputs": [],
   "source": [
    "import matplotlib.pyplot as plt\n",
    "import random\n",
    "import statistics"
   ]
  },
  {
   "cell_type": "markdown",
   "id": "21945ef6-9e12-49d3-a621-2ee1d2d714f8",
   "metadata": {},
   "source": [
    "## Problem setting"
   ]
  },
  {
   "cell_type": "markdown",
   "id": "2c3b1d0d-5159-4fab-b8e0-ef16e66528cf",
   "metadata": {},
   "source": [
    "What is the expected number of rolls with a fair six-faced dice until you roll 2 consecutive sixes?\n",
    "\n",
    "An easy way to calculate this is by stating the problem as a finite-state automaton.  The automaton has three states:\n",
    "1. $S_0$: last roll was not six, initial state,\n",
    "2. $S_1$: last roll was six,\n",
    "3. $S_2$: last two rolls were six, final state.\n",
    "\n",
    "The expected number of throws to reach state $S_2$ can be computed as follows.  The expected number of throws in state 1 according to the law of total expectation is\n",
    "$$\n",
    "  E[S_0] = E[S_0 | \\mathrm{next}=6] P(\\mathrm{next}=6) + E[S_0 | \\mathrm{next} \\ne 6] P(\\mathrm{next} \\ne 6)\n",
    "$$\n",
    "Obviously,\n",
    "$$\n",
    "  \\begin{array}{rcl}\n",
    "    P(\\mathrm{next} = 6) & = & \\frac{1}{6} \\\\\n",
    "    P(\\mathrm{next} \\ne 6) & = & \\frac{5}{6}\n",
    "  \\end{array}\n",
    "$$\n",
    "and also\n",
    "$$\n",
    "  \\begin{array}{rcl}\n",
    "    E[S_0 | \\mathrm{next}=6] & = & E[S_1] + 1 \\\\\n",
    "    E[S_0 | \\mathrm{next} \\ne 6] & = & E[S_0] + 1\n",
    "  \\end{array}\n",
    "$$\n",
    "hence\n",
    "$$\n",
    "  E[S_0] = \\frac{1}{6} \\left(E[S_1] + 1 \\right) + \\frac{5}{6} \\left( E[S_0] + 1 \\right)\n",
    "$$\n",
    "Similarly for $E[S_1]$\n",
    "$$\n",
    "  E[S_1] = E[S_1 | \\mathrm{next}=6] P(\\mathrm{next}=6) + E[S_1 | \\mathrm{next} \\ne 6] P(\\mathrm{next} \\ne 6)\n",
    "$$\n",
    "If you are in state $S_1$, and we roll a 6, you have two successive 6's, hence you are done, and that takes a single roll, so\n",
    "$$\n",
    "  E[S_1 | \\mathrm{next}=6] = 1\n",
    "$$\n",
    "On the other hand, if you are in state $S_1$ and you roll anything but a six, you are back in state $S_0$, but with an additional roll, so\n",
    "$$\n",
    "  E[S_1 | \\mathrm{next} \\ne 6] = E[S_0] + 1\n",
    "$$\n",
    "Hence\n",
    "$$\n",
    "  E[S_1] = \\frac{1}{6} + \\frac{5}{6} \\left( E[S_0] + 1 \\right)\n",
    "$$\n",
    "This gives the following set of equations in $E[S_0]$ and $E[S_1]$:\n",
    "$$\n",
    "  \\begin{array}{rcl}\n",
    "    E[S_0] - E[S_1] & = & 6 \\\\\n",
    "    -5 E[S_0] + 6 E[S_1] & = & 6\n",
    "  \\end{array}\n",
    "$$\n",
    "Solving the equations yields $E[S_0] = 42$ and $E[S_1] = 36$ respectively."
   ]
  },
  {
   "cell_type": "markdown",
   "id": "6efbcc6d-fb58-4bba-bc3d-e30afece2d09",
   "metadata": {},
   "source": [
    "## Experiment"
   ]
  },
  {
   "cell_type": "markdown",
   "id": "a8406e8b-4c4e-4009-8078-2bf41b69a3f1",
   "metadata": {},
   "source": [
    "For reproducibility, seed the random number generator."
   ]
  },
  {
   "cell_type": "code",
   "execution_count": 90,
   "id": "815242f2-51ec-4563-9a3a-2f9012cf4c83",
   "metadata": {},
   "outputs": [],
   "source": [
    "random.seed(1234)"
   ]
  },
  {
   "cell_type": "markdown",
   "id": "036b3564-55f5-4b64-8186-d0d55195a9b2",
   "metadata": {},
   "source": [
    "You can define a function that rolls the dice and counts the number of rools needed to get two conecutive sixes."
   ]
  },
  {
   "cell_type": "code",
   "execution_count": 94,
   "id": "2506d53b-40c6-428e-b742-86078f263865",
   "metadata": {},
   "outputs": [],
   "source": [
    "def two_sixes():\n",
    "    rolls = [random.randint(1, 6), random.randint(1, 6)]\n",
    "    while not (rolls[-2] == 6 and rolls[-1] == 6):\n",
    "        rolls.append(random.randint(1, 6))\n",
    "    return len(rolls)"
   ]
  },
  {
   "cell_type": "markdown",
   "id": "503d250c-8988-47d2-a86c-a3252b4831c6",
   "metadata": {},
   "source": [
    "You can do many sequences of rolls, each time keeping track of the required number of rolls and plot the distribution."
   ]
  },
  {
   "cell_type": "code",
   "execution_count": 95,
   "id": "d3ee7646-affe-4870-968e-e0e70906446d",
   "metadata": {},
   "outputs": [],
   "source": [
    "rolls = [two_sixes() for _ in range(100_000)]"
   ]
  },
  {
   "cell_type": "code",
   "execution_count": 97,
   "id": "c673b60c-a261-4979-885a-2e7bf0d4d248",
   "metadata": {},
   "outputs": [
    {
     "data": {
      "image/png": "[encoded data removed]",
      "text/plain": [
       "<Figure size 640x480 with 1 Axes>"
      ]
     },
     "metadata": {},
     "output_type": "display_data"
    }
   ],
   "source": [
    "plt.hist(rolls, bins=max(rolls) - min(rolls) + 1, density=True);"
   ]
  },
  {
   "cell_type": "markdown",
   "id": "ec1c33bb-8a7d-43cb-8d59-e1853321c795",
   "metadata": {},
   "source": [
    "The expected value is the average number of rolls."
   ]
  },
  {
   "cell_type": "code",
   "execution_count": 100,
   "id": "5a0a90ee-97a2-433d-85db-16c0d7d5dff8",
   "metadata": {},
   "outputs": [
    {
     "data": {
      "text/plain": [
       "42.16266"
      ]
     },
     "execution_count": 100,
     "metadata": {},
     "output_type": "execute_result"
    }
   ],
   "source": [
    "statistics.mean(rolls)"
   ]
  },
  {
   "cell_type": "markdown",
   "id": "6e9856d0-c172-4dce-b0fe-f8bbef499b5a",
   "metadata": {},
   "source": [
    "Indeed, this is close to 42, the expected value."
   ]
  },
  {
   "cell_type": "markdown",
   "id": "a286c024-7ceb-4c42-a922-96d3d8ab3a43",
   "metadata": {},
   "source": [
    "## Generalization"
   ]
  },
  {
   "cell_type": "markdown",
   "id": "2bc0ac79-f268-45d2-91aa-38b023866033",
   "metadata": {},
   "source": [
    "This can easily be generalized to arbitrary lenght sequences of sixes."
   ]
  },
  {
   "cell_type": "code",
   "execution_count": 101,
   "id": "9fbbf61c-9c89-4792-b245-8fcde9dab685",
   "metadata": {},
   "outputs": [],
   "source": [
    "def n_sixes(n: int) -> int:\n",
    "    rolls = [random.randint(1, 6) for _ in range(n)]\n",
    "    nr_rolls = n\n",
    "    while not all(roll == 6 for roll in rolls):\n",
    "        rolls.pop(0)\n",
    "        rolls.append(random.randint(1, 6))\n",
    "        nr_rolls += 1\n",
    "    return nr_rolls"
   ]
  },
  {
   "cell_type": "code",
   "execution_count": 104,
   "id": "35a1c7da-439c-4aa1-b8db-0f282c37e397",
   "metadata": {},
   "outputs": [
    {
     "data": {
      "text/plain": [
       "42.07451"
      ]
     },
     "execution_count": 104,
     "metadata": {},
     "output_type": "execute_result"
    }
   ],
   "source": [
    "rolls = [n_sixes(2) for _ in range(100_000)]\n",
    "statistics.mean(rolls)"
   ]
  },
  {
   "cell_type": "markdown",
   "id": "fb2ed1e8-0def-4b0c-a8b8-6c73b4d7c9b5",
   "metadata": {},
   "source": [
    "You can write a function that computes the expected number of rolls given $n$."
   ]
  },
  {
   "cell_type": "code",
   "execution_count": 105,
   "id": "35f475c8-c928-45ef-961e-11ea210f67f2",
   "metadata": {},
   "outputs": [],
   "source": [
    "def expected_rolls(n: int, nr_rolls=1_000) -> int:\n",
    "    return statistics.mean(n_sixes(n) for _ in range(nr_rolls))"
   ]
  },
  {
   "cell_type": "code",
   "execution_count": 107,
   "id": "4882dc69-b4ca-409c-96a5-ac970daa8013",
   "metadata": {},
   "outputs": [
    {
     "name": "stdout",
     "output_type": "stream",
     "text": [
      "1: 6.07\n",
      "2: 41.841\n",
      "3: 257.23\n",
      "4: 1540.632\n",
      "5: 9248.273\n"
     ]
    }
   ],
   "source": [
    "for n in range(1, 6):\n",
    "    print(f'{n}: {expected_rolls(n)}')"
   ]
  },
  {
   "cell_type": "markdown",
   "id": "b4c80bfe-9285-4e9b-9cdf-4d6af641186b",
   "metadata": {},
   "source": [
    "Clearly, this expected number of rolls grows as $O(6^n)$."
   ]
  }
 ],
 "metadata": {
  "kernelspec": {
   "display_name": "Python 3 (ipykernel)",
   "language": "python",
   "name": "python3"
  },
  "language_info": {
   "codemirror_mode": {
    "name": "ipython",
    "version": 3
   },
   "file_extension": ".py",
   "mimetype": "text/x-python",
   "name": "python",
   "nbconvert_exporter": "python",
   "pygments_lexer": "ipython3",
   "version": "3.12.11"
  }
 },
 "nbformat": 4,
 "nbformat_minor": 5
}
