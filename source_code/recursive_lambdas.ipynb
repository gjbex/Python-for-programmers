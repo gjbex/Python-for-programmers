{
 "cells": [
  {
   "cell_type": "markdown",
   "id": "7993cc74-47c2-4064-a5f2-145bd3248638",
   "metadata": {},
   "source": [
    "Although it may seem impossible at first, it is in fact possible to define a recursive function using lambda functions."
   ]
  },
  {
   "cell_type": "markdown",
   "id": "6191e0ce-e3fe-41d6-8e67-e51315fb13a1",
   "metadata": {},
   "source": [
    "The first step is to define a function that takes a parameter that is a callable, and applies it to itself.\n",
    "```\n",
    "  lambda f: f(f)\n",
    "```"
   ]
  },
  {
   "cell_type": "code",
   "execution_count": 1,
   "id": "ecb5c7d3-d2c3-4751-9bc0-a3d6701ba653",
   "metadata": {},
   "outputs": [
    {
     "name": "stdout",
     "output_type": "stream",
     "text": [
      "<built-in function print>\n"
     ]
    }
   ],
   "source": [
    "(lambda f: f(f))(print)"
   ]
  },
  {
   "cell_type": "markdown",
   "id": "531b2bb7-b9b9-4ec3-8979-bd04097107ab",
   "metadata": {},
   "source": [
    "In the example above, the lambda function is called with the `print` function as a parameter, hence that function will be applied to itself."
   ]
  },
  {
   "cell_type": "code",
   "execution_count": 2,
   "id": "b0a5e592-6382-4bbd-a262-6b4202961079",
   "metadata": {},
   "outputs": [
    {
     "name": "stdout",
     "output_type": "stream",
     "text": [
      "<built-in function print>\n"
     ]
    }
   ],
   "source": [
    "print(print)"
   ]
  },
  {
   "cell_type": "markdown",
   "id": "b09f4ae1-4ea3-4257-abf7-1b830ab8593c",
   "metadata": {},
   "source": [
    "The second step is to define a lambda function that takes a single `int` parameter and computes the factorial of that integer.  Hwever, it uses a function `F` that is provided from context.\n",
    "```\n",
    "  lambda n: 1 if n == 0 else n*F(F)(n - 1)\n",
    "```\n",
    "This function `F` is a function that takes a function as an argument. When that function `F` is applied to itself, it returns an `int`, possibly only after multiple recursive calls."
   ]
  },
  {
   "cell_type": "code",
   "execution_count": 3,
   "id": "5f8686ba-d202-4af1-992c-80dad5245fc5",
   "metadata": {},
   "outputs": [
    {
     "name": "stdout",
     "output_type": "stream",
     "text": [
      "1\n",
      "1\n",
      "2\n",
      "6\n",
      "24\n",
      "120\n"
     ]
    }
   ],
   "source": [
    "for i in range(6):\n",
    "    print((lambda f: f(f)) (lambda F: lambda n: 1 if n == 0 else n*F(F)(n - 1))(i))"
   ]
  },
  {
   "cell_type": "markdown",
   "id": "06fbb197-1a9f-458c-a7a6-ab27087e9d71",
   "metadata": {},
   "source": [
    "Another example of a function that can be implemented recursively is the Fibonnaci function."
   ]
  },
  {
   "cell_type": "code",
   "execution_count": 4,
   "id": "f65726d6-7f4f-45aa-ad0e-92fd0eb26309",
   "metadata": {},
   "outputs": [
    {
     "name": "stdout",
     "output_type": "stream",
     "text": [
      "1\n",
      "1\n",
      "2\n",
      "3\n",
      "5\n",
      "8\n",
      "13\n",
      "21\n",
      "34\n",
      "55\n",
      "89\n"
     ]
    }
   ],
   "source": [
    "for i in range(11):\n",
    "    print((lambda f: f(f))(lambda F: lambda n: 1 if n <= 1 else F(F)(n - 1) + F(F)(n - 2))(i))"
   ]
  },
  {
   "cell_type": "code",
   "execution_count": 5,
   "id": "ac699583-0a52-449e-a1ba-7ee5e664eb29",
   "metadata": {},
   "outputs": [
    {
     "name": "stdout",
     "output_type": "stream",
     "text": [
      "4.31 ms ± 431 μs per loop (mean ± std. dev. of 7 runs, 100 loops each)\n"
     ]
    }
   ],
   "source": [
    "%timeit (lambda f: f(f))(lambda F: lambda n: 1 if n <= 1 else F(F)(n - 1) + F(F)(n - 2))(20)"
   ]
  },
  {
   "cell_type": "code",
   "execution_count": 6,
   "id": "884b2dfe-dad6-4e73-93fd-9f8dca2998b2",
   "metadata": {},
   "outputs": [],
   "source": [
    "def fib(n: int) -> int:\n",
    "    if n < 2:\n",
    "        return 1\n",
    "    else:\n",
    "        return fib(n - 1) + fib(n - 2)"
   ]
  },
  {
   "cell_type": "code",
   "execution_count": 7,
   "id": "6ff8db37-91c4-4c52-8be4-6529e6b818cb",
   "metadata": {},
   "outputs": [
    {
     "name": "stdout",
     "output_type": "stream",
     "text": [
      "1.15 ms ± 81.1 μs per loop (mean ± std. dev. of 7 runs, 1,000 loops each)\n"
     ]
    }
   ],
   "source": [
    "%timeit fib(20)"
   ]
  },
  {
   "cell_type": "markdown",
   "id": "6dcc5b52-b40f-4d48-8f39-362f8e3544f3",
   "metadata": {},
   "source": [
    "It is clear that the non-lambda recursive implementation is significantly faster, so recursion with lambda functions is merely a curiosity to test your understanding of Python."
   ]
  }
 ],
 "metadata": {
  "kernelspec": {
   "display_name": "Python 3 (ipykernel)",
   "language": "python",
   "name": "python3"
  },
  "language_info": {
   "codemirror_mode": {
    "name": "ipython",
    "version": 3
   },
   "file_extension": ".py",
   "mimetype": "text/x-python",
   "name": "python",
   "nbconvert_exporter": "python",
   "pygments_lexer": "ipython3",
   "version": "3.13.7"
  }
 },
 "nbformat": 4,
 "nbformat_minor": 5
}
