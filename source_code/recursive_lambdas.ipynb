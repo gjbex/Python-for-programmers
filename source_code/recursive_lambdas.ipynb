{
 "cells": [
  {
   "cell_type": "code",
   "execution_count": 2,
   "id": "930ec69a-d8d3-44af-8de9-967fe18b2a5d",
   "metadata": {},
   "outputs": [],
   "source": [
    "from typing import Callable, TypeAlias"
   ]
  },
  {
   "cell_type": "code",
   "execution_count": 4,
   "id": "4c399a58-f64b-4e66-9d78-6b2470bb1aaf",
   "metadata": {},
   "outputs": [],
   "source": [
    "IntFunc: TypeAlias = Callable[(int, ), int]"
   ]
  },
  {
   "cell_type": "markdown",
   "id": "7993cc74-47c2-4064-a5f2-145bd3248638",
   "metadata": {},
   "source": [
    "Although it may seem impossible at first, it is in fact possible to define a recursive function using lambda functions."
   ]
  },
  {
   "cell_type": "markdown",
   "id": "b09f4ae1-4ea3-4257-abf7-1b830ab8593c",
   "metadata": {},
   "source": [
    "The first step is to define a function that takes a parameter that is a callable, and applies it to itself.\n",
    "```\n",
    "  lambda f: f(f)\n",
    "```\n",
    "The second step is to define a lambda function that takes a single `int` parameter and computes the factorial of that integer.  Hwever, it uses a function `F` that is provided from context.\n",
    "```\n",
    "  lambda n: 1 if n == 0 else n*F(F)(n - 1)\n",
    "```\n",
    "This function `F` is a function that takes an integer as "
   ]
  },
  {
   "cell_type": "code",
   "execution_count": null,
   "id": "18509fdb-7d14-4bd4-aa55-f6538ebb5f66",
   "metadata": {},
   "outputs": [],
   "source": []
  },
  {
   "cell_type": "code",
   "execution_count": 5,
   "id": "5f8686ba-d202-4af1-992c-80dad5245fc5",
   "metadata": {},
   "outputs": [
    {
     "data": {
      "text/plain": [
       "120"
      ]
     },
     "execution_count": 5,
     "metadata": {},
     "output_type": "execute_result"
    }
   ],
   "source": [
    "(lambda f: f(f)) (lambda F: lambda n: 1 if n == 0 else n*F(F)(n - 1))(5)"
   ]
  },
  {
   "cell_type": "code",
   "execution_count": 8,
   "id": "9f501593-4fc9-4da5-b3c3-5df4ae8631e5",
   "metadata": {},
   "outputs": [],
   "source": [
    "b = (lambda F: F(F)) (lambda f: lambda n: 1 if n == 0 else n*f(f)(n - 1))"
   ]
  },
  {
   "cell_type": "code",
   "execution_count": 15,
   "id": "e800cc8e-7b3e-4477-a8bf-8266fa9dc0a6",
   "metadata": {},
   "outputs": [
    {
     "data": {
      "text/plain": [
       "120"
      ]
     },
     "execution_count": 15,
     "metadata": {},
     "output_type": "execute_result"
    }
   ],
   "source": [
    "b(5)"
   ]
  },
  {
   "cell_type": "code",
   "execution_count": 16,
   "id": "269c9ad8-b5c2-4465-b14d-8ba38325b3ac",
   "metadata": {},
   "outputs": [],
   "source": [
    "F = lambda f: lambda n: 1 if n == 0 else n*f(f)(n - 1)"
   ]
  },
  {
   "cell_type": "code",
   "execution_count": 17,
   "id": "9346d8d1-d5b4-4a1d-9c10-fefd96dc80b0",
   "metadata": {},
   "outputs": [],
   "source": [
    "b = F(F)"
   ]
  },
  {
   "cell_type": "code",
   "execution_count": null,
   "id": "a65c680c-0f50-461d-b992-e84176b82729",
   "metadata": {},
   "outputs": [],
   "source": []
  },
  {
   "cell_type": "code",
   "execution_count": 18,
   "id": "2a9ee0a7-85e2-400f-81cc-e05bccde8dd3",
   "metadata": {},
   "outputs": [
    {
     "data": {
      "text/plain": [
       "120"
      ]
     },
     "execution_count": 18,
     "metadata": {},
     "output_type": "execute_result"
    }
   ],
   "source": [
    "b(5)"
   ]
  },
  {
   "cell_type": "code",
   "execution_count": null,
   "id": "f65726d6-7f4f-45aa-ad0e-92fd0eb26309",
   "metadata": {},
   "outputs": [],
   "source": []
  }
 ],
 "metadata": {
  "kernelspec": {
   "display_name": "Python 3 (ipykernel)",
   "language": "python",
   "name": "python3"
  },
  "language_info": {
   "codemirror_mode": {
    "name": "ipython",
    "version": 3
   },
   "file_extension": ".py",
   "mimetype": "text/x-python",
   "name": "python",
   "nbconvert_exporter": "python",
   "pygments_lexer": "ipython3",
   "version": "3.13.7"
  }
 },
 "nbformat": 4,
 "nbformat_minor": 5
}
