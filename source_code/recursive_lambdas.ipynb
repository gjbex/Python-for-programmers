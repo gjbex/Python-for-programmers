{
 "cells": [
  {
   "cell_type": "code",
   "execution_count": 10,
   "id": "5f8686ba-d202-4af1-992c-80dad5245fc5",
   "metadata": {},
   "outputs": [
    {
     "data": {
      "text/plain": [
       "120"
      ]
     },
     "execution_count": 10,
     "metadata": {},
     "output_type": "execute_result"
    }
   ],
   "source": [
    "(lambda f: f(f)) (lambda a: lambda n: 1 if n == 0 else n*a(a)(n - 1))(5)"
   ]
  },
  {
   "cell_type": "code",
   "execution_count": 19,
   "id": "9f501593-4fc9-4da5-b3c3-5df4ae8631e5",
   "metadata": {},
   "outputs": [],
   "source": [
    "b = (lambda F: F(F)) (lambda f: lambda n: 1 if n == 0 else n*f(f)(n - 1))"
   ]
  },
  {
   "cell_type": "code",
   "execution_count": 20,
   "id": "e800cc8e-7b3e-4477-a8bf-8266fa9dc0a6",
   "metadata": {},
   "outputs": [
    {
     "data": {
      "text/plain": [
       "120"
      ]
     },
     "execution_count": 20,
     "metadata": {},
     "output_type": "execute_result"
    }
   ],
   "source": [
    "b(5)"
   ]
  },
  {
   "cell_type": "code",
   "execution_count": 21,
   "id": "269c9ad8-b5c2-4465-b14d-8ba38325b3ac",
   "metadata": {},
   "outputs": [],
   "source": [
    "F = lambda f: lambda n: 1 if n == 0 else n*f(f)(n - 1)"
   ]
  },
  {
   "cell_type": "code",
   "execution_count": 22,
   "id": "9346d8d1-d5b4-4a1d-9c10-fefd96dc80b0",
   "metadata": {},
   "outputs": [],
   "source": [
    "b = F(F)"
   ]
  },
  {
   "cell_type": "code",
   "execution_count": null,
   "id": "a65c680c-0f50-461d-b992-e84176b82729",
   "metadata": {},
   "outputs": [],
   "source": []
  },
  {
   "cell_type": "code",
   "execution_count": 23,
   "id": "2a9ee0a7-85e2-400f-81cc-e05bccde8dd3",
   "metadata": {},
   "outputs": [
    {
     "data": {
      "text/plain": [
       "120"
      ]
     },
     "execution_count": 23,
     "metadata": {},
     "output_type": "execute_result"
    }
   ],
   "source": [
    "b(5)"
   ]
  },
  {
   "cell_type": "code",
   "execution_count": null,
   "id": "f65726d6-7f4f-45aa-ad0e-92fd0eb26309",
   "metadata": {},
   "outputs": [],
   "source": []
  }
 ],
 "metadata": {
  "kernelspec": {
   "display_name": "Python 3 (ipykernel)",
   "language": "python",
   "name": "python3"
  },
  "language_info": {
   "codemirror_mode": {
    "name": "ipython",
    "version": 3
   },
   "file_extension": ".py",
   "mimetype": "text/x-python",
   "name": "python",
   "nbconvert_exporter": "python",
   "pygments_lexer": "ipython3",
   "version": "3.13.3"
  }
 },
 "nbformat": 4,
 "nbformat_minor": 5
}
