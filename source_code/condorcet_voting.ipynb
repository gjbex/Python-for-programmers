{
 "cells": [
  {
   "cell_type": "markdown",
   "id": "bfe81801-d2a3-4bfd-a13e-7fc733c501aa",
   "metadata": {},
   "source": [
    "# Requirements"
   ]
  },
  {
   "cell_type": "code",
   "execution_count": 23,
   "id": "5db8246d-0509-4f1f-9db2-ec360c6b5e5e",
   "metadata": {},
   "outputs": [],
   "source": [
    "from collections import Counter\n",
    "import random"
   ]
  },
  {
   "cell_type": "markdown",
   "id": "5114a8ee-5347-4c99-a3f7-3b115f23b5bb",
   "metadata": {},
   "source": [
    "# Condorcet voting"
   ]
  },
  {
   "cell_type": "markdown",
   "id": "69815d25-697e-4aaa-b0a8-9ea9a87e4964",
   "metadata": {},
   "source": [
    "Condorcet voting is a voting system that maximize the approval rating of the selected candidate.  The list of $N$ candidates $(C_0, C_1, C_2, \\ldots, C_{N-1}$ is ranked by each particpant in the election from best candidate to poorest candidate.\n",
    "\n",
    "When the voting is done, each pair of candidates is pitted against one another, e.g., $C_i$ versus $C_j$.  Now the number of voters is counted that ranked $C_i$ higher than $C_j$ and vice versa.  The candidate who wins this round receives a score of 1, the other a score of 0.  When all pair have been compared, the winner is the candiate who won the most rounds."
   ]
  },
  {
   "cell_type": "markdown",
   "id": "dba64895-47c3-4e22-a4c4-6c28f6fe2010",
   "metadata": {},
   "source": [
    "# Voters"
   ]
  },
  {
   "cell_type": "markdown",
   "id": "9664a656-5395-4528-9f53-7dfc1c558710",
   "metadata": {},
   "source": [
    "We have four candidates, `A`, `B`, `C`, `D` and represent them as a list.  The voters who vote for candidate `A` hate candidate `B` and will rank `B` last.  Similarly, the voters who prefer `B` hate `A` and rank that candidate last.  Voters who like `C` rank `A` and `B` randomly."
   ]
  },
  {
   "cell_type": "code",
   "execution_count": 87,
   "id": "3bd23f10-6acd-4ce8-8e6b-8ea106098381",
   "metadata": {},
   "outputs": [],
   "source": [
    "def A_voter():\n",
    "    return ['A', 'C', 'B']"
   ]
  },
  {
   "cell_type": "code",
   "execution_count": 88,
   "id": "d5f6cde7-b019-423f-bb59-1fa17d8721d1",
   "metadata": {},
   "outputs": [],
   "source": [
    "def B_voter():\n",
    "    return ['B', 'C', 'A']"
   ]
  },
  {
   "cell_type": "code",
   "execution_count": 89,
   "id": "e5dc0b95-d9f6-4bf5-921b-d73ba16f8578",
   "metadata": {},
   "outputs": [],
   "source": [
    "def C_voter():\n",
    "    if random.random() < 0.5:\n",
    "        return ['C', 'B','A']\n",
    "    else:\n",
    "        return ['C', 'A', 'B']"
   ]
  },
  {
   "cell_type": "markdown",
   "id": "a0c00617-9cd5-47ef-bdd4-889957552aec",
   "metadata": {},
   "source": [
    "# Counting votes"
   ]
  },
  {
   "cell_type": "markdown",
   "id": "a085b89b-605e-4b13-9783-281029cd7618",
   "metadata": {},
   "source": [
    "The following function implements Condorcet voting."
   ]
  },
  {
   "cell_type": "code",
   "execution_count": 90,
   "id": "f7d5dd07-556e-4dfd-8354-109276e1f789",
   "metadata": {},
   "outputs": [],
   "source": [
    "def count_condorcet_votes(rankings):\n",
    "    votes = Counter()\n",
    "    candidates = rankings[0]\n",
    "    for candidate in candidates:\n",
    "        for ranking in rankings:\n",
    "            for opponent in candidates:\n",
    "                candidate_rank = ranking.index(candidate)\n",
    "                opponent_rank = ranking.index(opponent)\n",
    "                if candidate_rank < opponent_rank:\n",
    "                    votes[candidate] += 1\n",
    "    return votes"
   ]
  },
  {
   "cell_type": "markdown",
   "id": "5e35d749-0838-4de4-9c54-decb72221ccf",
   "metadata": {},
   "source": [
    "Classic voting is simply counting the number of times a candidate ends up first in the ranking."
   ]
  },
  {
   "cell_type": "code",
   "execution_count": 91,
   "id": "27f24758-2a1d-45a8-bfa4-9536ddd92083",
   "metadata": {},
   "outputs": [],
   "source": [
    "def count_classic_votes(rankings):\n",
    "    votes = Counter()\n",
    "    candidates = rankings[0]\n",
    "    for ranking in rankings:\n",
    "        votes[ranking[0]] += 1\n",
    "    return votes"
   ]
  },
  {
   "cell_type": "markdown",
   "id": "29289c36-ae0b-4a78-b570-a71d365c20b2",
   "metadata": {},
   "source": [
    "The votes are cast, `A` and `B` are most popular, and `C` only gets ranked first by very few voters."
   ]
  },
  {
   "cell_type": "code",
   "execution_count": 92,
   "id": "9435ea0c-25cb-412b-8fac-226e4db55c51",
   "metadata": {},
   "outputs": [],
   "source": [
    "rankings = [A_voter() for _ in range(4800)] + [B_voter() for _ in range(4800)] + [C_voter() for _ in range(400)]"
   ]
  },
  {
   "cell_type": "markdown",
   "id": "d01ef767-d87b-404e-9660-791d14ea39d0",
   "metadata": {},
   "source": []
  },
  {
   "cell_type": "markdown",
   "id": "d68684b9-fbfa-4d68-bff0-934dc9f9f48a",
   "metadata": {},
   "source": [
    "It is clear that `A` or `B` are the clear winners when votes are counted classically."
   ]
  },
  {
   "cell_type": "code",
   "execution_count": 94,
   "id": "1bd3ed3b-f812-408a-b6ae-0afba01d1c0e",
   "metadata": {},
   "outputs": [
    {
     "data": {
      "text/plain": [
       "Counter({'A': 4800, 'B': 4800, 'C': 400})"
      ]
     },
     "execution_count": 94,
     "metadata": {},
     "output_type": "execute_result"
    }
   ],
   "source": [
    "count_classic_votes(rankings)"
   ]
  },
  {
   "cell_type": "markdown",
   "id": "f6689361-a9a4-4b7c-a408-3925e2d91c68",
   "metadata": {},
   "source": [
    "However, with Condorcet voting, `C` is the winner."
   ]
  },
  {
   "cell_type": "code",
   "execution_count": 95,
   "id": "90dbd450-c8f5-4bca-9368-37cd2e23f831",
   "metadata": {},
   "outputs": [
    {
     "data": {
      "text/plain": [
       "Counter({'A': 9794, 'C': 10400, 'B': 9806})"
      ]
     },
     "execution_count": 95,
     "metadata": {},
     "output_type": "execute_result"
    }
   ],
   "source": [
    "count_condorcet_votes(rankings)"
   ]
  },
  {
   "cell_type": "markdown",
   "id": "d001505b-bfcf-4c6a-bb0e-079c3e9cef95",
   "metadata": {},
   "source": [
    "Although `C` didn't get ranked first by many, but is not hated by most and wins out."
   ]
  }
 ],
 "metadata": {
  "kernelspec": {
   "display_name": "Python 3 (ipykernel)",
   "language": "python",
   "name": "python3"
  },
  "language_info": {
   "codemirror_mode": {
    "name": "ipython",
    "version": 3
   },
   "file_extension": ".py",
   "mimetype": "text/x-python",
   "name": "python",
   "nbconvert_exporter": "python",
   "pygments_lexer": "ipython3",
   "version": "3.9.7"
  }
 },
 "nbformat": 4,
 "nbformat_minor": 5
}
