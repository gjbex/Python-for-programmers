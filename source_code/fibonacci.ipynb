{
 "cells": [
  {
   "cell_type": "markdown",
   "id": "f7b7458f-7547-45df-94db-55261d271804",
   "metadata": {},
   "source": [
    "The Fibonacci function can be implemented in several ways, e.g.,\n",
    "\n",
    "* Recursive\n",
    "* Iterative\n",
    "* Recursive, but with Tail Call Optimization (TCO)\n",
    "* Memoization\n",
    "* Matrix state\n",
    "* Dynamic programming"
   ]
  },
  {
   "cell_type": "markdown",
   "id": "782fb3ab-369d-4c02-9ce8-8c14128b2c09",
   "metadata": {},
   "source": [
    "# Implementations"
   ]
  },
  {
   "cell_type": "markdown",
   "id": "b619b3cc-c70c-44e7-9e9e-fb1c1239b4c7",
   "metadata": {},
   "source": [
    "## Recursive implementation"
   ]
  },
  {
   "cell_type": "code",
   "execution_count": 1,
   "id": "5494de26-6d00-4b65-8019-a13297166cf3",
   "metadata": {},
   "outputs": [],
   "source": [
    "def fib_recursive(n):\n",
    "    if n == 0 or n == 1:\n",
    "        return 1\n",
    "    else:\n",
    "        return fib_recursive(n - 1) + fib_recursive(n - 2)"
   ]
  },
  {
   "cell_type": "markdown",
   "id": "fc3396fb-dabe-4f46-ac96-a01a706b8fcf",
   "metadata": {},
   "source": [
    "## Iterative implementation"
   ]
  },
  {
   "cell_type": "code",
   "execution_count": 2,
   "id": "637ddd2a-5d50-48f8-9b53-586cacef709e",
   "metadata": {},
   "outputs": [],
   "source": [
    "def fib_iterative(n):\n",
    "    f_n_1, f_n = 1, 1\n",
    "    for _ in range(2, n + 1):\n",
    "        f_n_1, f_n = f_n, f_n + f_n_1\n",
    "    return f_n"
   ]
  },
  {
   "cell_type": "markdown",
   "id": "18e3db2a-cdf1-4d3b-a7c3-01a7ff238c2a",
   "metadata": {},
   "source": [
    "## TCO implementation"
   ]
  },
  {
   "cell_type": "code",
   "execution_count": 3,
   "id": "46950e49-eea7-477e-9ebc-be4b367635db",
   "metadata": {},
   "outputs": [],
   "source": [
    "def fib_tco(n, f_n_1=1, f_n=1):\n",
    "    if n == 0:\n",
    "        return f_n_1\n",
    "    if n == 1:\n",
    "        return f_n\n",
    "    return fib_tco(n - 1, f_n, f_n_1 + f_n)"
   ]
  },
  {
   "cell_type": "markdown",
   "id": "92123d1c-86f4-42d7-b1c5-837a68b1f5c1",
   "metadata": {},
   "source": [
    "Note that although this implementation is recursive, it is actually the iterative implementation in disguise."
   ]
  },
  {
   "cell_type": "markdown",
   "id": "3225e1c7-d111-45f6-a4f3-68619eaf48af",
   "metadata": {},
   "source": [
    "## Memoization implementation"
   ]
  },
  {
   "cell_type": "code",
   "execution_count": 4,
   "id": "3691f72d-5ede-4080-9cb8-40278ecd0167",
   "metadata": {},
   "outputs": [],
   "source": [
    "from functools import lru_cache"
   ]
  },
  {
   "cell_type": "code",
   "execution_count": 5,
   "id": "849f22d3-3355-4205-bff3-9acd431ac096",
   "metadata": {},
   "outputs": [],
   "source": [
    "@lru_cache\n",
    "def fib_memoization(n):\n",
    "    if n == 0 or n == 1:\n",
    "        return 1\n",
    "    return fib_memoization(n - 1) + fib_memoization(n - 2)"
   ]
  },
  {
   "cell_type": "markdown",
   "id": "b6c87fc7-7467-4b57-bb38-7ace57d3e80c",
   "metadata": {},
   "source": [
    "## Matrix state implementation"
   ]
  },
  {
   "cell_type": "code",
   "execution_count": 6,
   "id": "5482c50f-f1df-4468-a95e-a92db9920ac4",
   "metadata": {},
   "outputs": [],
   "source": [
    "def fib_matrix_state(n):\n",
    "    def mat_mul(A, B):\n",
    "        return [\n",
    "            [A[0][0]*B[0][0] + A[0][1]*B[1][0], A[0][0]*B[0][1] + A[0][1]*B[1][1]],\n",
    "            [A[1][0]*B[0][0] + A[1][1]*B[1][0], A[1][0]*B[0][1] + A[1][1]*B[1][1]],\n",
    "        ]\n",
    "    def mat_pow(A, n):\n",
    "        result = [[1, 0], [0, 1]]\n",
    "        while n > 0:\n",
    "            if n % 2 == 1:\n",
    "                result = mat_mul(result, A)\n",
    "            A = mat_mul(A, A)\n",
    "            n //= 2\n",
    "        return result\n",
    "    A = [[1, 1], [1, 0]]\n",
    "    result = mat_pow(A, n)\n",
    "    return result[0][0]"
   ]
  },
  {
   "cell_type": "markdown",
   "id": "70deab69-be38-499f-9396-572a7836e7cc",
   "metadata": {},
   "source": [
    "## Dynamic programming implementation"
   ]
  },
  {
   "cell_type": "code",
   "execution_count": 7,
   "id": "a2f4f77f-07c6-4dab-94d9-edb81a4eac2c",
   "metadata": {},
   "outputs": [],
   "source": [
    "def fib_dynamic_programming(n):\n",
    "    table = [1, 1]\n",
    "    table += [0]*(n - 1)\n",
    "    for i in range(2, n + 1):\n",
    "        table[i] = table[i - 1] + table[i - 2]\n",
    "    return table[n]"
   ]
  },
  {
   "cell_type": "markdown",
   "id": "27a18d7a-f274-4439-b2c6-e6361266c9fc",
   "metadata": {},
   "source": [
    "# Implementations test"
   ]
  },
  {
   "cell_type": "code",
   "execution_count": 8,
   "id": "599e6f58-458f-492d-a939-25e8c499ec21",
   "metadata": {},
   "outputs": [],
   "source": [
    "def fib_implementation_test(*funcs, n_max=10):\n",
    "    ref_impl = funcs[0]\n",
    "    for n in range(n_max + 1):\n",
    "        for impl in funcs[1:]:\n",
    "            assert ref_impl(n) == impl(n), f'{ref_impl.__name__}({n}) versus {impl.__name__}({n})'"
   ]
  },
  {
   "cell_type": "code",
   "execution_count": 9,
   "id": "2a55b57f-598f-41b6-a096-4213a5229b92",
   "metadata": {},
   "outputs": [],
   "source": [
    "fib_implementation_test(fib_recursive, fib_iterative, fib_tco, fib_memoization,\n",
    "                        fib_matrix_state, fib_dynamic_programming)"
   ]
  },
  {
   "cell_type": "markdown",
   "id": "dc0ee244-9730-4683-818f-e60b7a3e70b0",
   "metadata": {},
   "source": [
    "# Timings"
   ]
  },
  {
   "cell_type": "markdown",
   "id": "ae447bbe-739f-4536-9bfa-6132db8c585f",
   "metadata": {},
   "source": [
    "## Small $n$"
   ]
  },
  {
   "cell_type": "code",
   "execution_count": 10,
   "id": "ca67223d-c1ff-462f-8503-9e4da7414975",
   "metadata": {},
   "outputs": [],
   "source": [
    "n = 30"
   ]
  },
  {
   "cell_type": "code",
   "execution_count": 11,
   "id": "015dc014-b734-432b-aea0-fd6c36f0e4d3",
   "metadata": {},
   "outputs": [
    {
     "name": "stdout",
     "output_type": "stream",
     "text": [
      "183 ms ± 14.5 ms per loop (mean ± std. dev. of 7 runs, 10 loops each)\n"
     ]
    }
   ],
   "source": [
    "%timeit fib_recursive(n)"
   ]
  },
  {
   "cell_type": "code",
   "execution_count": 12,
   "id": "def406f9-b8d6-4ac3-840e-3bece1fcea45",
   "metadata": {},
   "outputs": [
    {
     "name": "stdout",
     "output_type": "stream",
     "text": [
      "982 ns ± 111 ns per loop (mean ± std. dev. of 7 runs, 1,000,000 loops each)\n"
     ]
    }
   ],
   "source": [
    "%timeit fib_iterative(n)"
   ]
  },
  {
   "cell_type": "code",
   "execution_count": 13,
   "id": "4aa1ebcd-225d-487e-8420-f283dcc04b7c",
   "metadata": {},
   "outputs": [
    {
     "name": "stdout",
     "output_type": "stream",
     "text": [
      "2.42 μs ± 338 ns per loop (mean ± std. dev. of 7 runs, 100,000 loops each)\n"
     ]
    }
   ],
   "source": [
    "%timeit fib_tco(n)"
   ]
  },
  {
   "cell_type": "code",
   "execution_count": 14,
   "id": "d3ece2d4-7a3b-47dd-98c2-40f9ef1f5204",
   "metadata": {},
   "outputs": [
    {
     "name": "stdout",
     "output_type": "stream",
     "text": [
      "58.2 ns ± 3.15 ns per loop (mean ± std. dev. of 7 runs, 10,000,000 loops each)\n"
     ]
    }
   ],
   "source": [
    "%timeit fib_memoization(n)"
   ]
  },
  {
   "cell_type": "code",
   "execution_count": 15,
   "id": "40bcd9ca-db48-40b5-ae93-9c59f9ec1bfd",
   "metadata": {},
   "outputs": [
    {
     "name": "stdout",
     "output_type": "stream",
     "text": [
      "5.97 μs ± 896 ns per loop (mean ± std. dev. of 7 runs, 100,000 loops each)\n"
     ]
    }
   ],
   "source": [
    "%timeit fib_matrix_state(n)"
   ]
  },
  {
   "cell_type": "code",
   "execution_count": 16,
   "id": "11a3a042-f2b1-4727-8876-5239ccc42835",
   "metadata": {},
   "outputs": [
    {
     "name": "stdout",
     "output_type": "stream",
     "text": [
      "96.7 μs ± 8.49 μs per loop (mean ± std. dev. of 7 runs, 10,000 loops each)\n"
     ]
    }
   ],
   "source": [
    "%timeit fib_dynamic_programming(1000)"
   ]
  },
  {
   "cell_type": "markdown",
   "id": "c975690f-ebff-459b-8031-8b9e37d9653c",
   "metadata": {},
   "source": [
    "It is clear that the recursive implementation is orders of magnitude slower than the other implementations, so we don't use it in performance tests for larger values of the argument."
   ]
  },
  {
   "cell_type": "markdown",
   "id": "dbed0300-d709-4d10-9bf5-856474a547d0",
   "metadata": {},
   "source": [
    "## Medium $n$"
   ]
  },
  {
   "cell_type": "code",
   "execution_count": 17,
   "id": "89ab9b26-fb37-46d4-a660-8d523a32ba07",
   "metadata": {},
   "outputs": [],
   "source": [
    "n = 200"
   ]
  },
  {
   "cell_type": "code",
   "execution_count": 18,
   "id": "3d852ea8-7b80-4c57-919e-0c4eace49c6b",
   "metadata": {},
   "outputs": [
    {
     "name": "stdout",
     "output_type": "stream",
     "text": [
      "6.93 μs ± 431 ns per loop (mean ± std. dev. of 7 runs, 100,000 loops each)\n"
     ]
    }
   ],
   "source": [
    "%timeit fib_iterative(n)"
   ]
  },
  {
   "cell_type": "code",
   "execution_count": 19,
   "id": "45566ab8-d1d8-4dfd-b5de-1df250177c9f",
   "metadata": {},
   "outputs": [
    {
     "name": "stdout",
     "output_type": "stream",
     "text": [
      "27.7 μs ± 2.57 μs per loop (mean ± std. dev. of 7 runs, 10,000 loops each)\n"
     ]
    }
   ],
   "source": [
    "%timeit fib_tco(n)"
   ]
  },
  {
   "cell_type": "code",
   "execution_count": 20,
   "id": "6e8eed62-26f2-4456-adf9-f467703d5d96",
   "metadata": {},
   "outputs": [
    {
     "name": "stdout",
     "output_type": "stream",
     "text": [
      "63 ns ± 6.33 ns per loop (mean ± std. dev. of 7 runs, 10,000,000 loops each)\n"
     ]
    }
   ],
   "source": [
    "%timeit fib_memoization(n)"
   ]
  },
  {
   "cell_type": "code",
   "execution_count": 21,
   "id": "66f9a694-891a-4e60-8085-f76106461e0a",
   "metadata": {},
   "outputs": [
    {
     "name": "stdout",
     "output_type": "stream",
     "text": [
      "8.17 μs ± 684 ns per loop (mean ± std. dev. of 7 runs, 100,000 loops each)\n"
     ]
    }
   ],
   "source": [
    "%timeit fib_matrix_state(n)"
   ]
  },
  {
   "cell_type": "code",
   "execution_count": 22,
   "id": "4a5012c6-50c6-425e-b1a8-961e2e8da505",
   "metadata": {},
   "outputs": [
    {
     "name": "stdout",
     "output_type": "stream",
     "text": [
      "91.6 μs ± 6.87 μs per loop (mean ± std. dev. of 7 runs, 10,000 loops each)\n"
     ]
    }
   ],
   "source": [
    "%timeit fib_dynamic_programming(1000)"
   ]
  },
  {
   "cell_type": "markdown",
   "id": "a8406483-aac0-48ed-91a0-bc897a227ac5",
   "metadata": {},
   "source": [
    "## Large $n$"
   ]
  },
  {
   "cell_type": "code",
   "execution_count": 60,
   "id": "e5d29032-47ac-415a-be35-5e7b392284bd",
   "metadata": {},
   "outputs": [],
   "source": [
    "n = 2000"
   ]
  },
  {
   "cell_type": "code",
   "execution_count": 61,
   "id": "c844cc04-2694-4d68-80ef-c0ced498b1c6",
   "metadata": {},
   "outputs": [
    {
     "name": "stdout",
     "output_type": "stream",
     "text": [
      "139 μs ± 13.8 μs per loop (mean ± std. dev. of 7 runs, 10,000 loops each)\n"
     ]
    }
   ],
   "source": [
    "%timeit fib_iterative(n)"
   ]
  },
  {
   "cell_type": "code",
   "execution_count": 62,
   "id": "a31e6070-41cd-4ed3-ba31-ed0067e5bc45",
   "metadata": {},
   "outputs": [
    {
     "name": "stdout",
     "output_type": "stream",
     "text": [
      "463 μs ± 58.3 μs per loop (mean ± std. dev. of 7 runs, 1,000 loops each)\n"
     ]
    }
   ],
   "source": [
    "%timeit fib_tco(n)"
   ]
  },
  {
   "cell_type": "code",
   "execution_count": 63,
   "id": "033057d1-1dd7-402d-bb9f-8e437577a2d0",
   "metadata": {},
   "outputs": [
    {
     "name": "stdout",
     "output_type": "stream",
     "text": [
      "60 ns ± 4.91 ns per loop (mean ± std. dev. of 7 runs, 10,000,000 loops each)\n"
     ]
    }
   ],
   "source": [
    "%timeit fib_memoization(n)"
   ]
  },
  {
   "cell_type": "code",
   "execution_count": 64,
   "id": "5c40cfb5-5b2d-45f4-afb9-cb6ce8a2f2de",
   "metadata": {},
   "outputs": [
    {
     "name": "stdout",
     "output_type": "stream",
     "text": [
      "30.9 μs ± 3.04 μs per loop (mean ± std. dev. of 7 runs, 10,000 loops each)\n"
     ]
    }
   ],
   "source": [
    "%timeit fib_matrix_state(n)"
   ]
  },
  {
   "cell_type": "code",
   "execution_count": 65,
   "id": "550773e3-fb6a-4aef-88ff-411953c3f9de",
   "metadata": {},
   "outputs": [
    {
     "name": "stdout",
     "output_type": "stream",
     "text": [
      "98.7 μs ± 5.84 μs per loop (mean ± std. dev. of 7 runs, 10,000 loops each)\n"
     ]
    }
   ],
   "source": [
    "%timeit fib_dynamic_programming(1000)"
   ]
  },
  {
   "cell_type": "markdown",
   "id": "d2ad992a-8d7a-45aa-b5fc-28c357614a33",
   "metadata": {},
   "source": [
    "# Conclusion"
   ]
  },
  {
   "cell_type": "markdown",
   "id": "ab00254c-46a1-4b30-8b25-45ac8b29b175",
   "metadata": {},
   "source": [
    "Using memoization yields the best performance by a wide margin.  However, this comes at the cost of memory usage.  Although this is not an issue for the Fibonacci function, it may be problematic for function that take large data structures as parameters, or generate those as output.\n",
    "\n",
    "The matrix state approach is more expensive for small numbers, but outperforms other implementations for large values since its complexity is logarithmic in the argument."
   ]
  }
 ],
 "metadata": {
  "kernelspec": {
   "display_name": "Python 3 (ipykernel)",
   "language": "python",
   "name": "python3"
  },
  "language_info": {
   "codemirror_mode": {
    "name": "ipython",
    "version": 3
   },
   "file_extension": ".py",
   "mimetype": "text/x-python",
   "name": "python",
   "nbconvert_exporter": "python",
   "pygments_lexer": "ipython3",
   "version": "3.13.1"
  }
 },
 "nbformat": 4,
 "nbformat_minor": 5
}
