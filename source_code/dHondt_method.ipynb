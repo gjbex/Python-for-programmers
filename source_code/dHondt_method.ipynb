{
 "cells": [
  {
   "cell_type": "markdown",
   "id": "2f7d2b1c-39d4-42fa-9e47-8634b83a766d",
   "metadata": {},
   "source": [
    "# Assigning seats"
   ]
  },
  {
   "cell_type": "markdown",
   "id": "239d0a24-ff59-4083-9f7e-fad8e942d91c",
   "metadata": {},
   "source": [
    "How to a number of seats to parties according to the number of votes they received during elections?\n",
    "\n",
    "A well-known algorithm to accomplish this is [d'Hondt's method](https://en.wikipedia.org/wiki/D%27Hondt_method).  The input is the number of votes each party received as a dictionary with the party name as key, and the number of votes as values.  For each party, we create a sequence of the number of votes it received, divided by 1 upto the number of seats to assign as a list.  The list for each party is merged and sorted in descending order.  From the resulting list, we count the number of seats for each party from the first number  of seats elements."
   ]
  },
  {
   "cell_type": "markdown",
   "id": "909bf144-6008-4faf-a261-10cb8bfa713c",
   "metadata": {},
   "source": [
    "# Requirements"
   ]
  },
  {
   "cell_type": "code",
   "execution_count": 37,
   "id": "2c89248f-17cc-412f-986c-49a8d8877196",
   "metadata": {},
   "outputs": [],
   "source": [
    "import collections"
   ]
  },
  {
   "cell_type": "markdown",
   "id": "67b5c5a9-dbda-4a29-88d4-b01aabffbdc7",
   "metadata": {},
   "source": [
    "# Implementation"
   ]
  },
  {
   "cell_type": "markdown",
   "id": "3bdb9eed-ec5a-460c-a6e3-11dbf19dde71",
   "metadata": {},
   "source": [
    "The function `allocateseats` is a straightforward implementation of the the d'Hondt method."
   ]
  },
  {
   "cell_type": "code",
   "execution_count": 30,
   "id": "ccda5156-642e-4a4a-a04f-9ecfef757500",
   "metadata": {},
   "outputs": [],
   "source": [
    "def allocate_seats(votes, nr_seats):\n",
    "    ranking = []\n",
    "    for party, nr_votes in votes.items():\n",
    "        for divisor in range(1, nr_seats + 1):\n",
    "            ranking.append((party, nr_votes/divisor))\n",
    "    assignements = sorted(ranking, key=lambda x: x[1], reverse=True)\n",
    "    seats = collections.Counter()\n",
    "    for _ in range(nr_seats):\n",
    "        party, _ = assignements.pop(0)\n",
    "        seats[party] += 1\n",
    "    return seats"
   ]
  },
  {
   "cell_type": "code",
   "execution_count": 31,
   "id": "4fd4744c-2d3f-4cf2-b774-b05b78987b5e",
   "metadata": {},
   "outputs": [
    {
     "data": {
      "text/plain": [
       "Counter({'A': 3, 'B': 3, 'C': 1})"
      ]
     },
     "execution_count": 31,
     "metadata": {},
     "output_type": "execute_result"
    }
   ],
   "source": [
    "allocate_seats({\n",
    "    'A': 110,\n",
    "    'B': 85,\n",
    "    'C': 35,\n",
    "}, 7)"
   ]
  },
  {
   "cell_type": "code",
   "execution_count": 33,
   "id": "f65b0615-3da1-49c0-b3ee-15f47fc29d13",
   "metadata": {},
   "outputs": [
    {
     "data": {
      "text/plain": [
       "Counter({'A': 4, 'B': 3, 'C': 1})"
      ]
     },
     "execution_count": 33,
     "metadata": {},
     "output_type": "execute_result"
    }
   ],
   "source": [
    "allocate_seats({\n",
    "    'A': 100_000,\n",
    "    'B':  80_000,\n",
    "    'C':  30_000,\n",
    "    'D':  20_000,\n",
    "}, 8)"
   ]
  },
  {
   "cell_type": "markdown",
   "id": "37bce844-fd23-474b-91bb-b316e95cf877",
   "metadata": {},
   "source": [
    "# Alternative implementation"
   ]
  },
  {
   "cell_type": "markdown",
   "id": "f453e019-f66b-49bd-af24-44cfa2966c07",
   "metadata": {},
   "source": [
    "The implementation can be considerably simplified using the itertools module."
   ]
  },
  {
   "cell_type": "code",
   "execution_count": 38,
   "id": "62da51bc-4772-49c0-84b2-cd8a60b3fcc7",
   "metadata": {},
   "outputs": [],
   "source": [
    "import itertools"
   ]
  },
  {
   "cell_type": "code",
   "execution_count": 34,
   "id": "b50edf26-a5ef-4eeb-a6f9-a27cdf438daa",
   "metadata": {},
   "outputs": [],
   "source": [
    "def allocate_seats(votes, nr_seats):\n",
    "    assignements = sorted(((vote[0], vote[1]/divisor) for vote, divisor in itertools.product(votes.items(), range(1, nr_seats + 1))),\n",
    "                          key=lambda x: x[1], reverse=True)\n",
    "    seats = collections.Counter()\n",
    "    for party, _ in assignements[:nr_seats]:\n",
    "        seats[party] += 1\n",
    "    return seats"
   ]
  },
  {
   "cell_type": "code",
   "execution_count": 35,
   "id": "ab2ba177-19ca-4186-a648-cdce7ac33164",
   "metadata": {},
   "outputs": [
    {
     "data": {
      "text/plain": [
       "Counter({'A': 3, 'B': 3, 'C': 1})"
      ]
     },
     "execution_count": 35,
     "metadata": {},
     "output_type": "execute_result"
    }
   ],
   "source": [
    "allocate_seats({\n",
    "    'A': 110,\n",
    "    'B': 85,\n",
    "    'C': 35,\n",
    "}, 7)"
   ]
  },
  {
   "cell_type": "code",
   "execution_count": 36,
   "id": "8447e319-8917-4ad2-abc5-a1fbe6c95fc3",
   "metadata": {},
   "outputs": [
    {
     "data": {
      "text/plain": [
       "Counter({'A': 4, 'B': 3, 'C': 1})"
      ]
     },
     "execution_count": 36,
     "metadata": {},
     "output_type": "execute_result"
    }
   ],
   "source": [
    "allocate_seats({\n",
    "    'A': 100_000,\n",
    "    'B':  80_000,\n",
    "    'C':  30_000,\n",
    "    'D':  20_000,\n",
    "}, 8)"
   ]
  }
 ],
 "metadata": {
  "kernelspec": {
   "display_name": "Python 3 (ipykernel)",
   "language": "python",
   "name": "python3"
  },
  "language_info": {
   "codemirror_mode": {
    "name": "ipython",
    "version": 3
   },
   "file_extension": ".py",
   "mimetype": "text/x-python",
   "name": "python",
   "nbconvert_exporter": "python",
   "pygments_lexer": "ipython3",
   "version": "3.9.7"
  }
 },
 "nbformat": 4,
 "nbformat_minor": 5
}
