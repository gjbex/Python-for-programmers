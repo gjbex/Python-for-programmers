{
 "cells": [
  {
   "cell_type": "markdown",
   "id": "1b4bd8fe-c7be-4d15-a58f-48f112d7faac",
   "metadata": {},
   "source": [
    "# Requirements"
   ]
  },
  {
   "cell_type": "markdown",
   "id": "800cdb81-bc22-4c16-a2a4-5eb482d7c766",
   "metadata": {},
   "source": [
    "# Memoization"
   ]
  },
  {
   "cell_type": "markdown",
   "id": "d20b5e96-7a9d-4fff-a0bf-be3c5290e58a",
   "metadata": {},
   "source": [
    "## Fibonacci"
   ]
  },
  {
   "cell_type": "markdown",
   "id": "6244cdf3-68a2-4c5a-9dbb-9a75e780261d",
   "metadata": {},
   "source": [
    "The Fibonacci function is recursively defined as:\n",
    "\n",
    "$$\n",
    "  f(n) = \\begin{cases}\n",
    "              1 & \\mbox{if } n = 0 \\mbox{ or } n = 1 \\\\\n",
    "              f(n-1) + f(n-2) & \\mbox{if } n > 1\n",
    "         \\end{cases}\n",
    "$$"
   ]
  },
  {
   "cell_type": "code",
   "execution_count": null,
   "id": "bba4e04e-b51d-410a-9760-4df5ac42f78a",
   "metadata": {},
   "outputs": [],
   "source": [
    "def fib(n):\n",
    "    if n == 0 or n == 1:\n",
    "        return 1\n",
    "    else:\n",
    "        return fib(n - 1) + fib(n - 2)"
   ]
  },
  {
   "cell_type": "code",
   "execution_count": 2,
   "id": "275ba72e-63fa-44c4-95e2-0ec2a13620a2",
   "metadata": {},
   "outputs": [],
   "source": [
    "for input, output in [(0, 1), (1, 1), (2, 2), (3, 3), (4, 5), (5, 8)]:\n",
    "    assert fib(input == output)"
   ]
  },
  {
   "cell_type": "code",
   "execution_count": 4,
   "id": "a6ad9fa0-eb35-4f99-9e76-81b88189e563",
   "metadata": {},
   "outputs": [
    {
     "name": "stdout",
     "output_type": "stream",
     "text": [
      "179 ms ± 821 µs per loop (mean ± std. dev. of 7 runs, 10 loops each)\n"
     ]
    }
   ],
   "source": [
    "%timeit fib(30)"
   ]
  },
  {
   "cell_type": "code",
   "execution_count": 10,
   "id": "829c1e21-b2c6-49ae-bc39-4d350542b96f",
   "metadata": {},
   "outputs": [],
   "source": [
    "def fib_memoized(n, memo=None):\n",
    "    if memo is None:\n",
    "        memo = {}\n",
    "    if n == 0 or n == 1:\n",
    "        return 1\n",
    "    elif n in memo:\n",
    "        return memo[n]\n",
    "    else:\n",
    "        result = fib_memoized(n - 1, memo), fib_memoized(n - 2, memo)\n",
    "        memo[n] = result\n",
    "        return result    "
   ]
  },
  {
   "cell_type": "code",
   "execution_count": 11,
   "id": "7fd86ee3-fbbf-4ba7-a5e4-47e2cbc29424",
   "metadata": {},
   "outputs": [
    {
     "name": "stdout",
     "output_type": "stream",
     "text": [
      "8.44 µs ± 20.4 ns per loop (mean ± std. dev. of 7 runs, 100,000 loops each)\n"
     ]
    }
   ],
   "source": [
    "%timeit fib_memoized(30)"
   ]
  },
  {
   "cell_type": "markdown",
   "id": "6e145ce9-50e4-46cd-bc9d-51213be2e080",
   "metadata": {},
   "source": [
    "## Grid walk"
   ]
  },
  {
   "cell_type": "markdown",
   "id": "9a4d2fc9-5abb-4edb-ba95-1c82a0c4dd9e",
   "metadata": {},
   "source": [
    "Consider walks on a grid that start in the upper left corner and end in the lower right corner.  You can only move down or left.  In how many distinct ways can you walk from start to finish?"
   ]
  },
  {
   "cell_type": "code",
   "execution_count": 12,
   "id": "4e846940-3e29-4f9d-b49b-ff19d958800c",
   "metadata": {},
   "outputs": [],
   "source": [
    "def number_of_walks(nr_rows, nr_cols):\n",
    "    if nr_rows == 0 or nr_cols == 0: return 0\n",
    "    if nr_rows == 1 and nr_cols == 1: return 1\n",
    "    return number_of_walks(nr_rows - 1, nr_cols) + number_of_walks(nr_rows, nr_cols - 1)"
   ]
  },
  {
   "cell_type": "code",
   "execution_count": 16,
   "id": "67bce850-848a-4e74-8949-fd2e3b3aa3b3",
   "metadata": {},
   "outputs": [],
   "source": [
    "for input, output in [((0, 5), 0), ((5, 0), 0), ((1, 1), 1), ((1, 2), 1), ((2, 1), 1), ((2, 2), 2), ((2, 3), 3), ((3, 2), 3), ((3, 3), 6)]:\n",
    "    assert number_of_walks(*input) == output, f'{input} -> {output}'"
   ]
  },
  {
   "cell_type": "code",
   "execution_count": 18,
   "id": "c402ef35-0d9a-48ea-bcd7-6e6c71e18628",
   "metadata": {},
   "outputs": [
    {
     "name": "stdout",
     "output_type": "stream",
     "text": [
      "358 ms ± 2.6 ms per loop (mean ± std. dev. of 7 runs, 1 loop each)\n"
     ]
    }
   ],
   "source": [
    "%timeit number_of_walks(12, 12)"
   ]
  },
  {
   "cell_type": "code",
   "execution_count": 22,
   "id": "e3c5b579-9bcc-4c9e-960c-32c10e1c82f0",
   "metadata": {},
   "outputs": [],
   "source": [
    "def number_of_walks_memoized(nr_rows, nr_cols, memo=None):\n",
    "    if memo is None:\n",
    "        memo = {}\n",
    "    if nr_rows == 0 or nr_cols == 0: return 0\n",
    "    if nr_rows == 1 and nr_cols == 1: return 1\n",
    "    if (nr_rows, nr_cols) in memo:\n",
    "        return memo[(nr_rows, nr_cols)]\n",
    "    if (nr_cols, nr_rows) in memo:\n",
    "        return memo[(nr_cols, nr_rows)]\n",
    "    result = number_of_walks_memoized(nr_rows - 1, nr_cols, memo) + number_of_walks_memoized(nr_rows, nr_cols - 1, memo)\n",
    "    memo[(nr_rows, nr_cols)] = result\n",
    "    return result"
   ]
  },
  {
   "cell_type": "code",
   "execution_count": 23,
   "id": "d4156c61-16f4-4328-9619-9f5f67f0a159",
   "metadata": {},
   "outputs": [],
   "source": [
    "for input, output in [((0, 5), 0), ((5, 0), 0), ((1, 1), 1), ((1, 2), 1), ((2, 1), 1), ((2, 2), 2), ((2, 3), 3), ((3, 2), 3), ((3, 3), 6)]:\n",
    "    assert number_of_walks_memoized(*input) == output, f'{input} -> {output}'"
   ]
  },
  {
   "cell_type": "code",
   "execution_count": 24,
   "id": "56be9108-f4d9-4dd0-bd32-c5ba14a586d7",
   "metadata": {},
   "outputs": [
    {
     "name": "stdout",
     "output_type": "stream",
     "text": [
      "39.2 µs ± 540 ns per loop (mean ± std. dev. of 7 runs, 10,000 loops each)\n"
     ]
    }
   ],
   "source": [
    "%timeit number_of_walks_memoized(12, 12)"
   ]
  },
  {
   "cell_type": "code",
   "execution_count": null,
   "id": "2548b228-d6da-436e-a651-09eb68190521",
   "metadata": {},
   "outputs": [],
   "source": []
  }
 ],
 "metadata": {
  "kernelspec": {
   "display_name": "Python 3 (ipykernel)",
   "language": "python",
   "name": "python3"
  },
  "language_info": {
   "codemirror_mode": {
    "name": "ipython",
    "version": 3
   },
   "file_extension": ".py",
   "mimetype": "text/x-python",
   "name": "python",
   "nbconvert_exporter": "python",
   "pygments_lexer": "ipython3",
   "version": "3.10.4"
  }
 },
 "nbformat": 4,
 "nbformat_minor": 5
}
