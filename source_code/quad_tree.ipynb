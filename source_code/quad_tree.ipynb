{
 "cells": [
  {
   "cell_type": "markdown",
   "id": "a26fc403-3aa6-45c8-8cf2-04ce420861f3",
   "metadata": {},
   "source": [
    "# Requirements"
   ]
  },
  {
   "cell_type": "code",
   "execution_count": 1,
   "id": "ed17efb7-9c91-4e0d-ad4f-3ed80b1dd1eb",
   "metadata": {},
   "outputs": [],
   "source": [
    "import math\n",
    "import matplotlib.pyplot as plt\n",
    "import matplotlib.patches as patches\n",
    "import random"
   ]
  },
  {
   "cell_type": "markdown",
   "id": "f1ac0df3-b554-4938-9e2a-6bf8c51fb372",
   "metadata": {},
   "source": [
    "# Problem setting"
   ]
  },
  {
   "cell_type": "markdown",
   "id": "cd7320e9-b6bc-4a19-8bf3-75299fae3b09",
   "metadata": {},
   "source": [
    "You want to perform a spatial query, i.e., you have a collection of $N$ points in 2D, and you want to find all points in a radius of $R$ around a certain location $(x, y)$.  A naive implementation would require $O(N)$ comparisons.  However, using a quad-tree data structure, this can be reduced significantly.\n",
    "\n",
    "As a baseline, you can first implement a naive algorithm that indeed simply searches through the list of points."
   ]
  },
  {
   "cell_type": "markdown",
   "id": "78109c4f-6ec4-4a5c-822a-52ff89c8cda0",
   "metadata": {},
   "source": [
    "# Naive implementation"
   ]
  },
  {
   "cell_type": "code",
   "execution_count": 23,
   "id": "e6a2bd11-c089-4811-85b2-006a9f31c079",
   "metadata": {},
   "outputs": [],
   "source": [
    "class NaiveSearch:\n",
    "\n",
    "    def __init__(self):\n",
    "        self._elements = []\n",
    "\n",
    "    def add(self, coords):\n",
    "        self._elements.append(coords)\n",
    "\n",
    "    def query(self, coords, radius):\n",
    "        result = []\n",
    "        for element in self._elements:\n",
    "            if (element[0] - coords[0])**2 + (element[1] - coords[1])**2 < radius**2:\n",
    "                result.append(element)\n",
    "        return result\n",
    "\n",
    "    def __len__(self):\n",
    "        return len(self._elements)\n",
    "\n",
    "    def elements(self):\n",
    "        for element in self._elements:\n",
    "            yield element\n",
    "\n",
    "    def ranges(self):\n",
    "        return []"
   ]
  },
  {
   "cell_type": "code",
   "execution_count": 24,
   "id": "0f886a35-a200-440f-8662-dfa2cf3f230d",
   "metadata": {},
   "outputs": [],
   "source": [
    "naive = NaiveSearch()"
   ]
  },
  {
   "cell_type": "code",
   "execution_count": 25,
   "id": "a684b39d-4c65-4a4f-ab01-b2ee47de162f",
   "metadata": {},
   "outputs": [],
   "source": [
    "naive.add((0.1, -0.3))\n",
    "naive.add((0.4, 0.7))\n",
    "naive.add((0.3, -0.8))"
   ]
  },
  {
   "cell_type": "code",
   "execution_count": 26,
   "id": "196f522f-ceac-43d7-96e6-907d02230fd4",
   "metadata": {},
   "outputs": [
    {
     "data": {
      "text/plain": [
       "3"
      ]
     },
     "execution_count": 26,
     "metadata": {},
     "output_type": "execute_result"
    }
   ],
   "source": [
    "len(naive)"
   ]
  },
  {
   "cell_type": "code",
   "execution_count": 28,
   "id": "2abd0d10-56a2-4399-bba3-70b3506940a2",
   "metadata": {},
   "outputs": [
    {
     "name": "stdout",
     "output_type": "stream",
     "text": [
      "(0.1, -0.3)\n",
      "(0.4, 0.7)\n",
      "(0.3, -0.8)\n"
     ]
    }
   ],
   "source": [
    "for element in naive.elements():\n",
    "    print(element)"
   ]
  },
  {
   "cell_type": "code",
   "execution_count": 29,
   "id": "6ceb71d0-9034-409c-a3d1-8537f317c33d",
   "metadata": {},
   "outputs": [
    {
     "data": {
      "text/plain": [
       "[]"
      ]
     },
     "execution_count": 29,
     "metadata": {},
     "output_type": "execute_result"
    }
   ],
   "source": [
    "naive.query((0.5, 0.3), 0.1)"
   ]
  },
  {
   "cell_type": "code",
   "execution_count": 30,
   "id": "67e96572-2db5-4cf5-a5d8-4a077f460d02",
   "metadata": {},
   "outputs": [
    {
     "data": {
      "text/plain": [
       "[(0.1, -0.3)]"
      ]
     },
     "execution_count": 30,
     "metadata": {},
     "output_type": "execute_result"
    }
   ],
   "source": [
    "naive.query((0.15, -0.31), 0.1)"
   ]
  },
  {
   "cell_type": "markdown",
   "id": "c475530b-e816-4fbd-a417-5ef5fc92d02a",
   "metadata": {},
   "source": [
    "# Quad trees"
   ]
  },
  {
   "cell_type": "markdown",
   "id": "e9205651-fa29-4d7e-bd52-e63137fb235b",
   "metadata": {},
   "source": [
    "The basic idea is to add points to the rectangular domain, but as soon as their number exceeds a threshold, you split the domain into four rectangular subdomains, such that they have equal area and cover the original domain entirely.  From now on, points are added to the appropriate subdomain, splitting that in turn if the number of points it contains exceeds the threshold.  This will result in a tree structure of domains with ever decreasing sizes, each containing at most as many points as the threshold is set to.\n",
    "\n",
    "A query will now descend from the root of the three to the leaves, but only to those relevant to the query."
   ]
  },
  {
   "cell_type": "code",
   "execution_count": 43,
   "id": "7696a53a-03c8-4a3d-bb11-4f612c020e3a",
   "metadata": {},
   "outputs": [],
   "source": [
    "class QuadNode:\n",
    "\n",
    "    def __init__(self, x_range, y_range, split_threshold):\n",
    "        self._x_range = x_range\n",
    "        self._y_range = y_range\n",
    "        self._split_threshold = split_threshold\n",
    "        self._elements = []\n",
    "        self._children = []\n",
    "\n",
    "    def __len__(self):\n",
    "        return len(self._elements)\n",
    "\n",
    "    def contains(self, coords):\n",
    "        return self._x_range[0] <= coords[0] < self._x_range[1] and self._y_range[0] <= coords[1] < self._y_range[1]\n",
    "\n",
    "    @property\n",
    "    def x_range(self):\n",
    "        return self._x_range\n",
    "\n",
    "    @property\n",
    "    def y_range(self):\n",
    "        return self._y_range\n",
    "\n",
    "    def add(self, coords):\n",
    "        if not self._children:\n",
    "            self._elements.append(coords)\n",
    "            if len(self) > self._split_threshold:\n",
    "                self._split()\n",
    "        else:\n",
    "            for child in self._children:\n",
    "                if child.contains(coords):\n",
    "                    child.add(coords)\n",
    "\n",
    "    def _split(self):\n",
    "        x_split = 0.5*(self._x_range[0] + self._x_range[1])\n",
    "        y_split = 0.5*(self._y_range[0] + self._y_range[1])\n",
    "        self._children.append(QuadNode((self._x_range[0], x_split),\n",
    "                                       (self._y_range[0], y_split),\n",
    "                                       self._split_threshold))\n",
    "        self._children.append(QuadNode((x_split, self._x_range[1]),\n",
    "                                       (self._y_range[0], y_split),\n",
    "                                       self._split_threshold))\n",
    "        self._children.append(QuadNode((self._x_range[0], x_split),\n",
    "                                       (y_split, self._y_range[1]),\n",
    "                                       self._split_threshold))\n",
    "        self._children.append(QuadNode((x_split, self._x_range[1]),\n",
    "                                       (y_split, self._y_range[1]),\n",
    "                                       self._split_threshold))\n",
    "        while self._elements:\n",
    "            element = self._elements.pop()\n",
    "            self.add(element)\n",
    "\n",
    "    def query(self, coords, radius):\n",
    "        result = []\n",
    "        if (coords[0] < self._x_range[0] - radius or\n",
    "            self._x_range[1] + radius < coords[0] or\n",
    "            coords[1] < self._y_range[0] - radius or\n",
    "            self._y_range[1] + radius < coords[1]):\n",
    "            return result\n",
    "        if self._elements:\n",
    "            for element in self._elements:\n",
    "                distance_2 = (element[0] - coords[0])**2 + (element[1] - coords[1])**2\n",
    "                if distance_2 < radius**2:\n",
    "                    result.append(element)\n",
    "        elif self._children:\n",
    "            for child in self._children:\n",
    "                result.extend(child.query(coords, radius))\n",
    "        return result\n",
    "\n",
    "    def elements(self):\n",
    "        if self._elements:\n",
    "            for element in self._elements:\n",
    "                yield element\n",
    "        elif self._children:\n",
    "            for child in self._children:\n",
    "                yield from child.elements()\n",
    "\n",
    "    def ranges(self):\n",
    "        all_ranges =[]\n",
    "        if self._elements:\n",
    "            all_ranges.append((self._x_range, self._y_range))\n",
    "        elif self._children:\n",
    "            for child in self._children:\n",
    "                all_ranges.extend(child.ranges())\n",
    "        return all_ranges"
   ]
  },
  {
   "cell_type": "code",
   "execution_count": 3,
   "id": "73b026ac-3fa0-4d22-a0aa-0c0856b6451b",
   "metadata": {},
   "outputs": [],
   "source": [
    "tree = QuadNode((-1.0, 1.0), (-1.0, 1.0), 4)"
   ]
  },
  {
   "cell_type": "code",
   "execution_count": 4,
   "id": "4968ed13-caae-4564-a3d5-7f07d540b553",
   "metadata": {},
   "outputs": [],
   "source": [
    "tree.add((0.1, -0.3))\n",
    "tree.add((0.4, 0.7))\n",
    "tree.add((0.3, -0.8))"
   ]
  },
  {
   "cell_type": "code",
   "execution_count": 5,
   "id": "0633317f-713e-46cf-a80f-fcd0011e565f",
   "metadata": {},
   "outputs": [
    {
     "data": {
      "text/plain": [
       "3"
      ]
     },
     "execution_count": 5,
     "metadata": {},
     "output_type": "execute_result"
    }
   ],
   "source": [
    "len(tree)"
   ]
  },
  {
   "cell_type": "code",
   "execution_count": 6,
   "id": "b11d2669-ac72-4123-93ca-7980ea84e0b7",
   "metadata": {},
   "outputs": [
    {
     "name": "stdout",
     "output_type": "stream",
     "text": [
      "(0.1, -0.3)\n",
      "(0.4, 0.7)\n",
      "(0.3, -0.8)\n"
     ]
    }
   ],
   "source": [
    "for element in tree.elements():\n",
    "    print(element)"
   ]
  },
  {
   "cell_type": "code",
   "execution_count": 7,
   "id": "372a12c8-1a31-4ffc-a770-a8cf2cddd97f",
   "metadata": {},
   "outputs": [
    {
     "data": {
      "text/plain": [
       "[]"
      ]
     },
     "execution_count": 7,
     "metadata": {},
     "output_type": "execute_result"
    }
   ],
   "source": [
    "tree.query((0.5, 0.3), 0.1)"
   ]
  },
  {
   "cell_type": "code",
   "execution_count": 8,
   "id": "39dea63d-e193-4606-bf31-2b1ed2e96736",
   "metadata": {},
   "outputs": [
    {
     "data": {
      "text/plain": [
       "[(0.1, -0.3)]"
      ]
     },
     "execution_count": 8,
     "metadata": {},
     "output_type": "execute_result"
    }
   ],
   "source": [
    "tree.query((0.15, -0.31), 0.1)"
   ]
  },
  {
   "cell_type": "markdown",
   "id": "d5237a10-89b3-4b1e-8909-56297a0541aa",
   "metadata": {},
   "source": [
    "# Random points"
   ]
  },
  {
   "cell_type": "markdown",
   "id": "fc3e3176-198b-4885-b962-5e641dfb5074",
   "metadata": {},
   "source": [
    "For testing, you can define a function to generate random points in a given domain."
   ]
  },
  {
   "cell_type": "code",
   "execution_count": 9,
   "id": "1667a8c5-4a29-48b7-8d86-f6cabb18d6f9",
   "metadata": {},
   "outputs": [],
   "source": [
    "def generate_random_points(n, x_range, y_range):\n",
    "    return ((random.uniform(*x_range), random.uniform(*y_range)) for _ in range(n))"
   ]
  },
  {
   "cell_type": "markdown",
   "id": "dba44f9d-52fa-4338-9752-42e064cd7102",
   "metadata": {},
   "source": [
    "# Visualization"
   ]
  },
  {
   "cell_type": "markdown",
   "id": "4bb44806-c13c-42de-9e44-e821f0edacb2",
   "metadata": {},
   "source": [
    "You can writ e function that will visualize the quad tree and the points it contains, and optional a query."
   ]
  },
  {
   "cell_type": "code",
   "execution_count": 10,
   "id": "1d3a9a15-38bf-4972-8e2c-89c13b472e91",
   "metadata": {},
   "outputs": [],
   "source": [
    "def visualize_tree(tree, query=None):\n",
    "    figure = plt.figure()\n",
    "    axes = figure.add_subplot()\n",
    "    axes.axes.set_xlim(tree.x_range)\n",
    "    axes.axes.set_ylim(tree.y_range)\n",
    "    axes.axis('equal')\n",
    "    x = []\n",
    "    y = []\n",
    "    for element in tree.elements():\n",
    "        x.append(element[0])\n",
    "        y.append(element[1])\n",
    "    axes.plot(x, y, '.')\n",
    "    for r in tree.ranges():\n",
    "        x = [r[0][0], r[0][0], r[0][1], r[0][1], r[0][0]]\n",
    "        y = [r[1][0], r[1][1], r[1][1], r[1][0], r[1][0]]\n",
    "        axes.plot(x, y, ':')\n",
    "    if query is not None:\n",
    "        circle = patches.Circle(query[0], query[1])\n",
    "        circle.set_alpha(0.4)\n",
    "        axes.add_patch(circle)\n",
    "    plt.show()"
   ]
  },
  {
   "cell_type": "markdown",
   "id": "a59e3c61-d380-44ae-8144-a5be72de840a",
   "metadata": {},
   "source": [
    "The query, if given, will be represented by a circle with the given radius around the specified point."
   ]
  },
  {
   "cell_type": "code",
   "execution_count": 11,
   "id": "33195a7d-ce8e-40de-b3b5-222d5e83b01e",
   "metadata": {},
   "outputs": [
    {
     "data": {
      "image/png": "[encoded data removed]",
      "text/plain": [
       "<Figure size 640x480 with 1 Axes>"
      ]
     },
     "metadata": {},
     "output_type": "display_data"
    }
   ],
   "source": [
    "visualize_tree(tree)"
   ]
  },
  {
   "cell_type": "code",
   "execution_count": 12,
   "id": "d603a004-1b61-44d5-8a9f-e29312f8217b",
   "metadata": {},
   "outputs": [],
   "source": [
    "tree = QuadNode((-1.0, 1.0), (-1.0, 1.0), 4)\n",
    "for point in generate_random_points(50, tree.x_range, tree.y_range):\n",
    "    tree.add(point)"
   ]
  },
  {
   "cell_type": "code",
   "execution_count": 13,
   "id": "8477ed3a-f27e-4914-97c3-8d3f05e9d20c",
   "metadata": {},
   "outputs": [
    {
     "data": {
      "image/png": "[encoded data removed]",
      "text/plain": [
       "<Figure size 640x480 with 1 Axes>"
      ]
     },
     "metadata": {},
     "output_type": "display_data"
    }
   ],
   "source": [
    "visualize_tree(tree)"
   ]
  },
  {
   "cell_type": "code",
   "execution_count": 14,
   "id": "fba97161-4ba2-44be-a7a5-8c56e2e3f0d7",
   "metadata": {},
   "outputs": [],
   "source": [
    "query = ((-0.51, 0.51), 0.3)"
   ]
  },
  {
   "cell_type": "code",
   "execution_count": 15,
   "id": "9ab29d87-141c-4e48-8404-80b5acba7e32",
   "metadata": {},
   "outputs": [
    {
     "data": {
      "image/png": "[encoded data removed]",
      "text/plain": [
       "<Figure size 640x480 with 1 Axes>"
      ]
     },
     "metadata": {},
     "output_type": "display_data"
    }
   ],
   "source": [
    "visualize_tree(tree, query)"
   ]
  },
  {
   "cell_type": "code",
   "execution_count": 16,
   "id": "c7f05ed0-cc2b-4cdb-ba00-b781c046e2f1",
   "metadata": {
    "scrolled": true
   },
   "outputs": [
    {
     "data": {
      "text/plain": [
       "[(-0.7309724378648244, 0.3360414879368603),\n",
       " (-0.6194569102131231, 0.5984491619096111)]"
      ]
     },
     "execution_count": 16,
     "metadata": {},
     "output_type": "execute_result"
    }
   ],
   "source": [
    "tree.query(*query)"
   ]
  },
  {
   "cell_type": "markdown",
   "id": "1e44a008-9fc0-402b-a063-f9463feabe92",
   "metadata": {},
   "source": [
    "# Testing"
   ]
  },
  {
   "cell_type": "code",
   "execution_count": 56,
   "id": "fc05b132-4254-4a42-a622-bffcc8678411",
   "metadata": {},
   "outputs": [],
   "source": [
    "test_points = list(generate_random_points(10_000, (-1.0, 1.0), (-1.0, 1.0)))"
   ]
  },
  {
   "cell_type": "code",
   "execution_count": 58,
   "id": "75f800c0-8c58-48b1-85fb-130515bf1554",
   "metadata": {},
   "outputs": [],
   "source": [
    "query_points = list(generate_random_points(100, (-1.0, 1.0), (-1.0, 1.0)))\n",
    "query_radius = 0.05"
   ]
  },
  {
   "cell_type": "code",
   "execution_count": 59,
   "id": "b906323a-8330-41b9-b276-6a8ceba833de",
   "metadata": {},
   "outputs": [],
   "source": [
    "naive = NaiveSearch()\n",
    "for point in points:\n",
    "    naive.add(point)"
   ]
  },
  {
   "cell_type": "code",
   "execution_count": 60,
   "id": "14aeba65-7ea0-478a-acfd-a9724ccb58fc",
   "metadata": {},
   "outputs": [],
   "source": [
    "tree = QuadNode((-1.0, 1.0), (-1.0, 1.0), 50)\n",
    "for point in points:\n",
    "    tree.add(point)"
   ]
  },
  {
   "cell_type": "code",
   "execution_count": 73,
   "id": "34cb409e-3ad6-47ea-a50f-64ba398ba05c",
   "metadata": {},
   "outputs": [],
   "source": [
    "for point in query_points:\n",
    "    assert sorted(tree.query(point, query_radius)) == sorted(naive.query(point, query_radius))"
   ]
  },
  {
   "cell_type": "markdown",
   "id": "42d97ec4-3df0-4c1e-92b5-761876623494",
   "metadata": {},
   "source": [
    "# Comparison"
   ]
  },
  {
   "cell_type": "code",
   "execution_count": 74,
   "id": "a4f9354a-0251-49e6-b752-88702341c22e",
   "metadata": {},
   "outputs": [],
   "source": [
    "points = list(generate_random_points(100_000, (-1.0, 1.0), (-1.0, 1.0)))"
   ]
  },
  {
   "cell_type": "code",
   "execution_count": 75,
   "id": "3113e6ef-fc79-461c-95c3-6501ee994636",
   "metadata": {},
   "outputs": [
    {
     "name": "stdout",
     "output_type": "stream",
     "text": [
      "8.28 ms ± 861 µs per loop (mean ± std. dev. of 7 runs, 100 loops each)\n"
     ]
    }
   ],
   "source": [
    "%%timeit\n",
    "naive = NaiveSearch()\n",
    "for point in points:\n",
    "    naive.add(point)"
   ]
  },
  {
   "cell_type": "code",
   "execution_count": 76,
   "id": "57d8e41f-0acc-4efa-aa5c-d38dcdd049e3",
   "metadata": {},
   "outputs": [
    {
     "name": "stdout",
     "output_type": "stream",
     "text": [
      "347 ms ± 49.5 ms per loop (mean ± std. dev. of 7 runs, 1 loop each)\n"
     ]
    }
   ],
   "source": [
    "%%timeit\n",
    "tree = QuadNode((-1.0, 1.0), (-1.0, 1.0), 500)\n",
    "for point in points:\n",
    "    tree.add(point)"
   ]
  },
  {
   "cell_type": "code",
   "execution_count": 77,
   "id": "efa7465a-1364-484c-aa87-33b0e1ecb30a",
   "metadata": {},
   "outputs": [],
   "source": [
    "query_points = list(generate_random_points(100, (-1.0, 1.0), (-1.0, 1.0)))"
   ]
  },
  {
   "cell_type": "code",
   "execution_count": 78,
   "id": "1569eca3-0acd-4408-8701-a7f6a923cdf7",
   "metadata": {},
   "outputs": [],
   "source": [
    "query_radius = 0.001"
   ]
  },
  {
   "cell_type": "code",
   "execution_count": 79,
   "id": "2c38aa39-22f1-4efb-ab00-9d912c6f57ed",
   "metadata": {},
   "outputs": [
    {
     "name": "stdout",
     "output_type": "stream",
     "text": [
      "2.97 s ± 84.3 ms per loop (mean ± std. dev. of 7 runs, 1 loop each)\n"
     ]
    }
   ],
   "source": [
    "%%timeit\n",
    "for point in query_points:\n",
    "    _ = naive.query(point, query_radius)"
   ]
  },
  {
   "cell_type": "code",
   "execution_count": 80,
   "id": "2e195ed2-14e6-43cd-a213-14c5e6236c43",
   "metadata": {},
   "outputs": [
    {
     "name": "stdout",
     "output_type": "stream",
     "text": [
      "1.67 ms ± 74.3 µs per loop (mean ± std. dev. of 7 runs, 1,000 loops each)\n"
     ]
    }
   ],
   "source": [
    "%%timeit\n",
    "for point in query_points:\n",
    "    _ = tree.query(point, query_radius)"
   ]
  },
  {
   "cell_type": "markdown",
   "id": "c507d88a-3d0a-4c72-8599-41802d6a8c0a",
   "metadata": {},
   "source": [
    "For these choices of the domain size, the quad tree data structure is much faster than the naive implementation, althugh it takes longer to build."
   ]
  }
 ],
 "metadata": {
  "kernelspec": {
   "display_name": "Python 3 (ipykernel)",
   "language": "python",
   "name": "python3"
  },
  "language_info": {
   "codemirror_mode": {
    "name": "ipython",
    "version": 3
   },
   "file_extension": ".py",
   "mimetype": "text/x-python",
   "name": "python",
   "nbconvert_exporter": "python",
   "pygments_lexer": "ipython3",
   "version": "3.12.3"
  }
 },
 "nbformat": 4,
 "nbformat_minor": 5
}
