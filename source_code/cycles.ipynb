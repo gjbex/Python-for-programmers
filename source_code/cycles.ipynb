{
 "cells": [
  {
   "cell_type": "markdown",
   "id": "16951b8f-d8c3-4d74-9aa2-5f2f3b84fb0e",
   "metadata": {},
   "source": [
    "# Requirements"
   ]
  },
  {
   "cell_type": "code",
   "execution_count": 25,
   "id": "c1aa3cf1-7bce-4102-99c2-95a1ae6713ce",
   "metadata": {},
   "outputs": [],
   "source": [
    "import matplotlib.pyplot as plt"
   ]
  },
  {
   "cell_type": "markdown",
   "id": "0df6df7e-a817-4f77-b66b-cdb9e762e575",
   "metadata": {},
   "source": [
    "# Problem setting"
   ]
  },
  {
   "cell_type": "markdown",
   "id": "0b797db4-54b7-45f6-91a8-0f7a545f8d44",
   "metadata": {},
   "source": [
    "Some deterministic functions will have a periodic behavior with a certain length, but only reach this periodic mode after a certain number of evaluations called the offset.\n",
    "\n",
    "First, consider an example, the Collatz conjecture.  This function is defined as:\n",
    "$$\n",
    "    f(n) = \\begin{cases}\n",
    "               n/2 & \\text{if $n$ is even} \\\\\n",
    "               3n + 1 & \\text{if $n$ is odd}\n",
    "           \\end{cases}\n",
    "$$\n",
    "Collatz conjecture says this function will always reach a cycle $\\ldots,4, 2, 1, 4, 2, 1, \\ldots$.  If the Collatz conjecture is true, the cycle length is always 4.  However, the offset depends on the starting value of $n$.\n",
    "\n",
    "For example, for a starting value of $n = 5$, you would get $16, 8, 4, 2, 1, 4, 2, 1, \\ldots$, so the offset would be 3.  On the other hand, for $n = 7$ the sequence would be $22, 11, 34, 17, 52, 26, 13, 40, 20, 10, 5, 16, 8, 4, 2, 1, 4, 2, 1, \\ldots$.  Hence the offset is 14."
   ]
  },
  {
   "cell_type": "code",
   "execution_count": 1,
   "id": "1973e2d5-f59d-439c-9bd3-b6381ac13299",
   "metadata": {},
   "outputs": [],
   "source": [
    "def collatz_conjecture(n):\n",
    "    return n//2 if n % 2 == 0 else 3*n + 1"
   ]
  },
  {
   "cell_type": "code",
   "execution_count": 2,
   "id": "356f232b-56ae-499d-93d7-e85687119583",
   "metadata": {},
   "outputs": [
    {
     "name": "stdout",
     "output_type": "stream",
     "text": [
      "  1 -> 16\n",
      "  2 -> 8\n",
      "  3 -> 4\n",
      "  4 -> 2\n",
      "  5 -> 1\n",
      "  6 -> 4\n",
      "  7 -> 2\n",
      "  8 -> 1\n",
      "  9 -> 4\n",
      " 10 -> 2\n"
     ]
    }
   ],
   "source": [
    "n = 5\n",
    "for i in range(10):\n",
    "    n = collatz_conjecture(n)\n",
    "    print(f'{i + 1:3} -> {n}')"
   ]
  },
  {
   "cell_type": "code",
   "execution_count": 3,
   "id": "bae71845-98b4-4613-879c-96981883a160",
   "metadata": {},
   "outputs": [
    {
     "name": "stdout",
     "output_type": "stream",
     "text": [
      "  1 -> 22\n",
      "  2 -> 11\n",
      "  3 -> 34\n",
      "  4 -> 17\n",
      "  5 -> 52\n",
      "  6 -> 26\n",
      "  7 -> 13\n",
      "  8 -> 40\n",
      "  9 -> 20\n",
      " 10 -> 10\n",
      " 11 -> 5\n",
      " 12 -> 16\n",
      " 13 -> 8\n",
      " 14 -> 4\n",
      " 15 -> 2\n",
      " 16 -> 1\n",
      " 17 -> 4\n",
      " 18 -> 2\n",
      " 19 -> 1\n",
      " 20 -> 4\n"
     ]
    }
   ],
   "source": [
    "n = 7\n",
    "for i in range(20):\n",
    "    n = collatz_conjecture(n)\n",
    "    print(f'{i + 1:3} -> {n}')"
   ]
  },
  {
   "cell_type": "markdown",
   "id": "33b76ae5-cb6d-4f4b-b6d8-d5ca63fb8ac0",
   "metadata": {},
   "source": [
    "# Finding cycles"
   ]
  },
  {
   "cell_type": "markdown",
   "id": "11ff8d3a-2ae9-411a-9fd7-8003ad2a8366",
   "metadata": {},
   "source": [
    "Finding cycles in the evolution of a deterministic function can be done in many ways."
   ]
  },
  {
   "cell_type": "markdown",
   "id": "3a749548-937a-45c4-b97d-961967e3113f",
   "metadata": {},
   "source": [
    "## Naive approach"
   ]
  },
  {
   "cell_type": "markdown",
   "id": "dd6e01be-5c11-4a03-9277-e23593f51088",
   "metadata": {},
   "source": [
    "The most naive approach is to store the subsequent values in a list, and at each iteration check whether the current value occurs in that list.  If so, it is easy to determine the offset and the cycle length."
   ]
  },
  {
   "cell_type": "code",
   "execution_count": 13,
   "id": "72050593-cd1e-4b99-bf85-7a748b813694",
   "metadata": {},
   "outputs": [],
   "source": [
    "def find_cycles_naive(func, start_value, max_iters):\n",
    "    history = [start_value]\n",
    "    for generation in range(1, 1 + max_iters):\n",
    "        value = func(history[-1])\n",
    "        if value in history:\n",
    "            offset = history.index(value)\n",
    "            return offset, generation - offset\n",
    "        else:\n",
    "            history.append(value)\n",
    "    return max_iters, None"
   ]
  },
  {
   "cell_type": "code",
   "execution_count": 14,
   "id": "83126720-b07a-4bba-bdb9-862c3a8cbd51",
   "metadata": {},
   "outputs": [
    {
     "data": {
      "text/plain": [
       "(3, 3)"
      ]
     },
     "execution_count": 14,
     "metadata": {},
     "output_type": "execute_result"
    }
   ],
   "source": [
    "find_cycles_naive(collatz_conjecture, 5, 100)"
   ]
  },
  {
   "cell_type": "code",
   "execution_count": 15,
   "id": "8cf319fb-cc1a-49b7-a63e-97972ce768c7",
   "metadata": {},
   "outputs": [
    {
     "data": {
      "text/plain": [
       "(14, 3)"
      ]
     },
     "execution_count": 15,
     "metadata": {},
     "output_type": "execute_result"
    }
   ],
   "source": [
    "find_cycles_naive(collatz_conjecture, 7, 100)"
   ]
  },
  {
   "cell_type": "markdown",
   "id": "d085f129-e8d7-48a3-ae24-0ee48eaffafd",
   "metadata": {},
   "source": [
    "## Dictionary"
   ]
  },
  {
   "cell_type": "markdown",
   "id": "2a537a7e-3c38-4d2b-8993-dc8559078e47",
   "metadata": {},
   "source": [
    "A better approach is to store the function values as keys in a dictionary, and the corresponding iteration as value."
   ]
  },
  {
   "cell_type": "code",
   "execution_count": 16,
   "id": "92990251-8f03-46cb-9206-e71274ec87ba",
   "metadata": {},
   "outputs": [],
   "source": [
    "def find_cycles_dict(func, start_value, max_iters):\n",
    "    history = {start_value: 0}\n",
    "    value = start_value\n",
    "    for generation in range(1, 1 + max_iters):\n",
    "        value = func(value)\n",
    "        if value in history:\n",
    "            offset = history[value]\n",
    "            return offset, generation - offset\n",
    "        else:\n",
    "            history[value] = generation\n",
    "    return max_iters, None"
   ]
  },
  {
   "cell_type": "code",
   "execution_count": 17,
   "id": "a7e3de97-3031-4aff-b799-fec419ba6173",
   "metadata": {
    "scrolled": true
   },
   "outputs": [
    {
     "data": {
      "text/plain": [
       "(14, 3)"
      ]
     },
     "execution_count": 17,
     "metadata": {},
     "output_type": "execute_result"
    }
   ],
   "source": [
    "find_cycles_dict(collatz_conjecture, 7, 100)"
   ]
  },
  {
   "cell_type": "markdown",
   "id": "ca05646c-7485-460f-9b96-7a68ede5f300",
   "metadata": {},
   "source": [
    "## Floyd's cycle detection algorithm"
   ]
  },
  {
   "cell_type": "markdown",
   "id": "28feaada-b4c3-4857-b8f3-521c2f8d90ad",
   "metadata": {},
   "source": [
    "Floyd's algorithm trades execution time for memory usage.  It will be useful when the cost to store consecutive states of the function grows too large."
   ]
  },
  {
   "cell_type": "code",
   "execution_count": 1,
   "id": "aa224337-7847-41da-8859-d285c994c528",
   "metadata": {},
   "outputs": [],
   "source": [
    "def find_cycles_floyd(func, start_value, max_iters):\n",
    "    tortoise = func(start_value)\n",
    "    hare = func(tortoise)\n",
    "    while tortoise != hare:\n",
    "        tortoise = func(tortoise)\n",
    "        hare = func(func(hare))\n",
    "    offset = 0\n",
    "    tortoise = start_value\n",
    "    while tortoise != hare:\n",
    "        tortoise = func(tortoise)\n",
    "        hare = func(hare)\n",
    "        offset += 1\n",
    "    length = 1\n",
    "    hare = func(tortoise)\n",
    "    while tortoise != hare:\n",
    "        hare = func(hare)\n",
    "        length += 1\n",
    "    return offset, length"
   ]
  },
  {
   "cell_type": "code",
   "execution_count": 19,
   "id": "3639aefe-2e2b-4342-aebb-7736c64c8645",
   "metadata": {},
   "outputs": [
    {
     "data": {
      "text/plain": [
       "(14, 3)"
      ]
     },
     "execution_count": 19,
     "metadata": {},
     "output_type": "execute_result"
    }
   ],
   "source": [
    "find_cycles_floyd(collatz_conjecture, 7, 100)"
   ]
  },
  {
   "cell_type": "markdown",
   "id": "f67b9ee3-7d2d-47db-bdff-aeeacdfb7f13",
   "metadata": {},
   "source": [
    "# Verification"
   ]
  },
  {
   "cell_type": "markdown",
   "id": "e89a4f42-410d-45d8-bc4a-231ac8c3084f",
   "metadata": {},
   "source": [
    "All three implementations should yield the same results."
   ]
  },
  {
   "cell_type": "code",
   "execution_count": 20,
   "id": "42eed8d2-3443-4636-840e-6731350a686b",
   "metadata": {},
   "outputs": [],
   "source": [
    "for n in range(1024):\n",
    "    naive_cycle = find_cycles_naive(collatz_conjecture, n, 100_000)\n",
    "    dict_cycle = find_cycles_dict(collatz_conjecture, n, 100_000)\n",
    "    floyd_cycle = find_cycles_floyd(collatz_conjecture, n, 100_000)\n",
    "    assert naive_cycle == dict_cycle\n",
    "    assert dict_cycle == floyd_cycle"
   ]
  },
  {
   "cell_type": "markdown",
   "id": "2a639b48-049c-4841-aa7f-292ce6720399",
   "metadata": {},
   "source": [
    "# Timings"
   ]
  },
  {
   "cell_type": "markdown",
   "id": "1b124233-5758-4bf2-b644-44cb770ee03c",
   "metadata": {},
   "source": [
    "It turns out that the dictionary approach has the best performance."
   ]
  },
  {
   "cell_type": "code",
   "execution_count": 21,
   "id": "ee8d5f5c-1257-420e-9e5c-e78900da3c1b",
   "metadata": {},
   "outputs": [
    {
     "name": "stdout",
     "output_type": "stream",
     "text": [
      "15 µs ± 135 ns per loop (mean ± std. dev. of 7 runs, 100,000 loops each)\n"
     ]
    }
   ],
   "source": [
    "%timeit find_cycles_naive(collatz_conjecture, 1023, 100_000)"
   ]
  },
  {
   "cell_type": "code",
   "execution_count": 22,
   "id": "eec36b86-2c86-4eda-8700-066ce1d011de",
   "metadata": {},
   "outputs": [
    {
     "name": "stdout",
     "output_type": "stream",
     "text": [
      "5.74 µs ± 81.2 ns per loop (mean ± std. dev. of 7 runs, 100,000 loops each)\n"
     ]
    }
   ],
   "source": [
    "%timeit find_cycles_dict(collatz_conjecture, 1023, 100_000)"
   ]
  },
  {
   "cell_type": "code",
   "execution_count": 23,
   "id": "511e6192-4dde-4bd8-9ade-d7838b5eccff",
   "metadata": {},
   "outputs": [
    {
     "name": "stdout",
     "output_type": "stream",
     "text": [
      "13.8 µs ± 168 ns per loop (mean ± std. dev. of 7 runs, 100,000 loops each)\n"
     ]
    }
   ],
   "source": [
    "%timeit find_cycles_floyd(collatz_conjecture, 1023, 100_000)"
   ]
  },
  {
   "cell_type": "code",
   "execution_count": 33,
   "id": "ada23862-9d69-4ccb-9309-5ddfc1d07645",
   "metadata": {},
   "outputs": [],
   "source": [
    "offsets = [find_cycles_dict(collatz_conjecture, n, 100_000)[0] for n in range(2**8)]"
   ]
  },
  {
   "cell_type": "code",
   "execution_count": 34,
   "id": "bc472e54-ee9b-4331-bbf4-86028e002800",
   "metadata": {},
   "outputs": [
    {
     "data": {
      "image/png": "[encoded data removed]",
      "text/plain": [
       "<Figure size 640x480 with 1 Axes>"
      ]
     },
     "metadata": {},
     "output_type": "display_data"
    }
   ],
   "source": [
    "plt.plot(list(range(2**8)), offsets, '.');"
   ]
  },
  {
   "cell_type": "code",
   "execution_count": 69,
   "id": "7e4d214c-ba72-4007-98ba-dd7b61ed18e1",
   "metadata": {},
   "outputs": [],
   "source": [
    "def show_series(func, start_value, max_iters):\n",
    "    value = start_value\n",
    "    for _ in range(max_iters):\n",
    "        print(value)\n",
    "        value = func(value)"
   ]
  },
  {
   "cell_type": "markdown",
   "id": "17bc2eee-a0fd-441e-9701-b110a869e8ae",
   "metadata": {},
   "source": [
    "To better test and time the implmentations, you can define a function that generates functions with a given offset and cycle length."
   ]
  },
  {
   "cell_type": "code",
   "execution_count": 2,
   "id": "2a28f9ba-a284-441d-8c0f-8e7c7365af6f",
   "metadata": {},
   "outputs": [],
   "source": [
    "def generate_periodic_function(offset, length):\n",
    "    def internal(n):\n",
    "        if n < offset - 1:\n",
    "            return n + 1\n",
    "        return offset + ((n + 1 - offset) % length)\n",
    "    return internal"
   ]
  },
  {
   "cell_type": "code",
   "execution_count": 51,
   "id": "b34cb35a-9949-4187-94be-420196511c8c",
   "metadata": {},
   "outputs": [],
   "source": [
    "f = generate_periodic_function(5, 3)"
   ]
  },
  {
   "cell_type": "code",
   "execution_count": 52,
   "id": "2a7e97c2-92bb-4ef7-9771-b21f9f791fa5",
   "metadata": {},
   "outputs": [
    {
     "name": "stdout",
     "output_type": "stream",
     "text": [
      "1\n",
      "2\n",
      "3\n",
      "4\n",
      "5\n",
      "6\n",
      "7\n",
      "5\n",
      "6\n",
      "7\n",
      "5\n",
      "6\n",
      "7\n",
      "5\n",
      "6\n",
      "7\n",
      "5\n",
      "6\n",
      "7\n",
      "5\n"
     ]
    }
   ],
   "source": [
    "for n in range(20):\n",
    "    print(f(n))"
   ]
  },
  {
   "cell_type": "code",
   "execution_count": 53,
   "id": "fd92a91b-d1e7-4bf1-a7c9-7fb3b3d60f20",
   "metadata": {},
   "outputs": [
    {
     "data": {
      "text/plain": [
       "(5, 3)"
      ]
     },
     "execution_count": 53,
     "metadata": {},
     "output_type": "execute_result"
    }
   ],
   "source": [
    "find_cycles_dict(f, 0, 100)"
   ]
  },
  {
   "cell_type": "code",
   "execution_count": 37,
   "id": "8be3dec2-736c-4617-b7cd-e016770e28fd",
   "metadata": {},
   "outputs": [],
   "source": [
    "for offset in range(1_000):\n",
    "    for length in range(1, 50):\n",
    "        f = generate_periodic_function(offset, length)\n",
    "        assert (offset, length) == find_cycles_floyd(f, 0, 0)"
   ]
  },
  {
   "cell_type": "code",
   "execution_count": 38,
   "id": "a7e10960-0a9c-447d-8ba2-edfe1900bc19",
   "metadata": {},
   "outputs": [],
   "source": [
    "f = generate_periodic_function(10_000, 10_000)"
   ]
  },
  {
   "cell_type": "code",
   "execution_count": 39,
   "id": "d50975e5-ca15-45e0-a732-a4d7c84cc380",
   "metadata": {},
   "outputs": [
    {
     "name": "stdout",
     "output_type": "stream",
     "text": [
      "996 ms ± 15.4 ms per loop (mean ± std. dev. of 7 runs, 1 loop each)\n"
     ]
    }
   ],
   "source": [
    "%timeit find_cycles_naive(f, 0, 50_000)"
   ]
  },
  {
   "cell_type": "code",
   "execution_count": 40,
   "id": "1edbf13f-488e-4887-9629-5eef60d32482",
   "metadata": {},
   "outputs": [
    {
     "name": "stdout",
     "output_type": "stream",
     "text": [
      "2.23 ms ± 48.1 µs per loop (mean ± std. dev. of 7 runs, 100 loops each)\n"
     ]
    }
   ],
   "source": [
    "%timeit find_cycles_dict(f, 0, 50_000)"
   ]
  },
  {
   "cell_type": "code",
   "execution_count": 41,
   "id": "5aff5522-7d44-4a3f-a1ee-5812a6b7e1b2",
   "metadata": {},
   "outputs": [
    {
     "name": "stdout",
     "output_type": "stream",
     "text": [
      "4.52 ms ± 73 µs per loop (mean ± std. dev. of 7 runs, 100 loops each)\n"
     ]
    }
   ],
   "source": [
    "%timeit find_cycles_floyd(f, 0, 0)"
   ]
  },
  {
   "cell_type": "code",
   "execution_count": null,
   "id": "b720e76a-2691-4e2d-b6f1-95f720704127",
   "metadata": {},
   "outputs": [],
   "source": []
  }
 ],
 "metadata": {
  "kernelspec": {
   "display_name": "Python 3 (ipykernel)",
   "language": "python",
   "name": "python3"
  },
  "language_info": {
   "codemirror_mode": {
    "name": "ipython",
    "version": 3
   },
   "file_extension": ".py",
   "mimetype": "text/x-python",
   "name": "python",
   "nbconvert_exporter": "python",
   "pygments_lexer": "ipython3",
   "version": "3.12.3"
  }
 },
 "nbformat": 4,
 "nbformat_minor": 5
}
