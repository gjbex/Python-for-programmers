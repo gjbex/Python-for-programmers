{
 "cells": [
  {
   "cell_type": "code",
   "execution_count": 11,
   "id": "72050593-cd1e-4b99-bf85-7a748b813694",
   "metadata": {},
   "outputs": [],
   "source": [
    "def find_cycles_naive(func, start_value, max_iters):\n",
    "    history = [start_value]\n",
    "    for generation in range(1, 1 + max_iters):\n",
    "        value = func(history[-1])\n",
    "        if value in history:\n",
    "            offset = history.index(value)\n",
    "            return offset, generation - offset + 1\n",
    "        else:\n",
    "            history.append(value)\n",
    "    return max_iters, None"
   ]
  },
  {
   "cell_type": "code",
   "execution_count": 43,
   "id": "1973e2d5-f59d-439c-9bd3-b6381ac13299",
   "metadata": {},
   "outputs": [],
   "source": [
    "def collatz_conjecture(n):\n",
    "    return n//2 if n % 2 == 0 else 3*n + 1"
   ]
  },
  {
   "cell_type": "code",
   "execution_count": 49,
   "id": "8cf319fb-cc1a-49b7-a63e-97972ce768c7",
   "metadata": {},
   "outputs": [
    {
     "data": {
      "text/plain": [
       "(60, 3)"
      ]
     },
     "execution_count": 49,
     "metadata": {},
     "output_type": "execute_result"
    }
   ],
   "source": [
    "find_cycles_naive(collatz_conjecture, 1023, 100)"
   ]
  },
  {
   "cell_type": "code",
   "execution_count": 12,
   "id": "92990251-8f03-46cb-9206-e71274ec87ba",
   "metadata": {},
   "outputs": [],
   "source": [
    "def find_cycles_dict(func, start_value, max_iters):\n",
    "    history = {start_value: 0}\n",
    "    value = start_value\n",
    "    for generation in range(1, 1 + max_iters):\n",
    "        value = func(value)\n",
    "        if value in history:\n",
    "            offset = history[value]\n",
    "            return offset, generation - offset\n",
    "        else:\n",
    "            history[value] = generation\n",
    "    return max_iters, None"
   ]
  },
  {
   "cell_type": "code",
   "execution_count": 61,
   "id": "a7e3de97-3031-4aff-b799-fec419ba6173",
   "metadata": {
    "scrolled": true
   },
   "outputs": [
    {
     "data": {
      "text/plain": [
       "(60, 3)"
      ]
     },
     "execution_count": 61,
     "metadata": {},
     "output_type": "execute_result"
    }
   ],
   "source": [
    "find_cycles_dict(collatz_conjecture, 1023, 100)"
   ]
  },
  {
   "cell_type": "code",
   "execution_count": 13,
   "id": "aa224337-7847-41da-8859-d285c994c528",
   "metadata": {},
   "outputs": [],
   "source": [
    "def find_cycles_floyd(func, start_value, max_iters):\n",
    "    tortoise = func(start_value)\n",
    "    hare = func(tortoise)\n",
    "    while tortoise != hare:\n",
    "        tortoise = func(tortoise)\n",
    "        hare = func(func(hare))\n",
    "    offset = 0\n",
    "    tortoise = start_value\n",
    "    while tortoise != hare:\n",
    "        tortoise = func(tortoise)\n",
    "        hare = func(hare)\n",
    "        offset += 1\n",
    "    length = 1\n",
    "    hare = func(tortoise)\n",
    "    while tortoise != hare:\n",
    "        hare = func(hare)\n",
    "        length += 1\n",
    "    return offset, length"
   ]
  },
  {
   "cell_type": "code",
   "execution_count": 67,
   "id": "3639aefe-2e2b-4342-aebb-7736c64c8645",
   "metadata": {},
   "outputs": [
    {
     "data": {
      "text/plain": [
       "(60, 3)"
      ]
     },
     "execution_count": 67,
     "metadata": {},
     "output_type": "execute_result"
    }
   ],
   "source": [
    "find_cycles_floyd(collatz_conjecture, 1023, 100)"
   ]
  },
  {
   "cell_type": "code",
   "execution_count": 71,
   "id": "42eed8d2-3443-4636-840e-6731350a686b",
   "metadata": {},
   "outputs": [],
   "source": [
    "for n in range(1024):\n",
    "    naive_cycle = find_cycles_naive(collatz_conjecture, n, 100_000)\n",
    "    dict_cycle = find_cycles_dict(collatz_conjecture, n, 100_000)\n",
    "    floyd_cycle = find_cycles_floyd(collatz_conjecture, n, 100_000)\n",
    "    assert naive_cycle == dict_cycle\n",
    "    assert dict_cycle == floyd_cycle"
   ]
  },
  {
   "cell_type": "code",
   "execution_count": 69,
   "id": "7e4d214c-ba72-4007-98ba-dd7b61ed18e1",
   "metadata": {},
   "outputs": [],
   "source": [
    "def show_series(func, start_value, max_iters):\n",
    "    value = start_value\n",
    "    for _ in range(max_iters):\n",
    "        print(value)\n",
    "        value = func(value)"
   ]
  },
  {
   "cell_type": "code",
   "execution_count": 76,
   "id": "ee8d5f5c-1257-420e-9e5c-e78900da3c1b",
   "metadata": {},
   "outputs": [
    {
     "name": "stdout",
     "output_type": "stream",
     "text": [
      "17.2 µs ± 248 ns per loop (mean ± std. dev. of 7 runs, 100,000 loops each)\n"
     ]
    }
   ],
   "source": [
    "%timeit find_cycles_naive(collatz_conjecture, 1023, 100_000)"
   ]
  },
  {
   "cell_type": "code",
   "execution_count": 77,
   "id": "eec36b86-2c86-4eda-8700-066ce1d011de",
   "metadata": {},
   "outputs": [
    {
     "name": "stdout",
     "output_type": "stream",
     "text": [
      "6.46 µs ± 136 ns per loop (mean ± std. dev. of 7 runs, 100,000 loops each)\n"
     ]
    }
   ],
   "source": [
    "%timeit find_cycles_dict(collatz_conjecture, 1023, 100_000)"
   ]
  },
  {
   "cell_type": "code",
   "execution_count": 78,
   "id": "511e6192-4dde-4bd8-9ade-d7838b5eccff",
   "metadata": {},
   "outputs": [
    {
     "name": "stdout",
     "output_type": "stream",
     "text": [
      "15.7 µs ± 289 ns per loop (mean ± std. dev. of 7 runs, 100,000 loops each)\n"
     ]
    }
   ],
   "source": [
    "%timeit find_cycles_floyd(collatz_conjecture, 1023, 100_000)"
   ]
  },
  {
   "cell_type": "code",
   "execution_count": 80,
   "id": "ada23862-9d69-4ccb-9309-5ddfc1d07645",
   "metadata": {},
   "outputs": [],
   "source": [
    "offsets = [find_cycles_dict(collatz_conjecture, n, 100_000)[0] for n in range(2**20 - 1)]"
   ]
  },
  {
   "cell_type": "code",
   "execution_count": 50,
   "id": "2a28f9ba-a284-441d-8c0f-8e7c7365af6f",
   "metadata": {},
   "outputs": [],
   "source": [
    "def generate_periodic_function(offset, length):\n",
    "    def internal(n):\n",
    "        if n < offset - 1:\n",
    "            return n + 1\n",
    "        return offset + ((n + 1 - offset) % length)\n",
    "    return internal"
   ]
  },
  {
   "cell_type": "code",
   "execution_count": 51,
   "id": "b34cb35a-9949-4187-94be-420196511c8c",
   "metadata": {},
   "outputs": [],
   "source": [
    "f = generate_periodic_function(5, 3)"
   ]
  },
  {
   "cell_type": "code",
   "execution_count": 52,
   "id": "2a7e97c2-92bb-4ef7-9771-b21f9f791fa5",
   "metadata": {},
   "outputs": [
    {
     "name": "stdout",
     "output_type": "stream",
     "text": [
      "1\n",
      "2\n",
      "3\n",
      "4\n",
      "5\n",
      "6\n",
      "7\n",
      "5\n",
      "6\n",
      "7\n",
      "5\n",
      "6\n",
      "7\n",
      "5\n",
      "6\n",
      "7\n",
      "5\n",
      "6\n",
      "7\n",
      "5\n"
     ]
    }
   ],
   "source": [
    "for n in range(20):\n",
    "    print(f(n))"
   ]
  },
  {
   "cell_type": "code",
   "execution_count": 53,
   "id": "fd92a91b-d1e7-4bf1-a7c9-7fb3b3d60f20",
   "metadata": {},
   "outputs": [
    {
     "data": {
      "text/plain": [
       "(5, 3)"
      ]
     },
     "execution_count": 53,
     "metadata": {},
     "output_type": "execute_result"
    }
   ],
   "source": [
    "find_cycles_dict(f, 0, 100)"
   ]
  },
  {
   "cell_type": "code",
   "execution_count": 54,
   "id": "8be3dec2-736c-4617-b7cd-e016770e28fd",
   "metadata": {},
   "outputs": [],
   "source": [
    "for offset in range(10):\n",
    "    for length in range(1, 5):\n",
    "        f = generate_periodic_function(offset, length)\n",
    "        assert (offset, length) == find_cycles_floyd(f, 0, 0)"
   ]
  },
  {
   "cell_type": "code",
   "execution_count": null,
   "id": "a7e10960-0a9c-447d-8ba2-edfe1900bc19",
   "metadata": {},
   "outputs": [],
   "source": []
  }
 ],
 "metadata": {
  "kernelspec": {
   "display_name": "Python 3 (ipykernel)",
   "language": "python",
   "name": "python3"
  },
  "language_info": {
   "codemirror_mode": {
    "name": "ipython",
    "version": 3
   },
   "file_extension": ".py",
   "mimetype": "text/x-python",
   "name": "python",
   "nbconvert_exporter": "python",
   "pygments_lexer": "ipython3",
   "version": "3.12.3"
  }
 },
 "nbformat": 4,
 "nbformat_minor": 5
}
